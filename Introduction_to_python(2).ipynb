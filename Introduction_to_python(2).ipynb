{
 "cells": [
  {
   "cell_type": "markdown",
   "id": "313ac744",
   "metadata": {},
   "source": [
    "# Variables:"
   ]
  },
  {
   "cell_type": "code",
   "execution_count": null,
   "id": "6422d29e",
   "metadata": {},
   "outputs": [],
   "source": [
    "#Libraries-->Packages-->Modules--->Class-->Function-->variable"
   ]
  },
  {
   "cell_type": "code",
   "execution_count": null,
   "id": "a5dedd88",
   "metadata": {},
   "outputs": [],
   "source": [
    "1. Variable assignment\n",
    "data types [int, float, bool, string, complex, object, Nonetype]\n",
    "data structures[list,tuple,dict,set]\n",
    "2. operators\n",
    "Arthimetic operators, Logical operators, Membership operators,comparision operators\n",
    "3. conditonal statements\n",
    "4. looping statements\n",
    "5. funtions\n",
    "6. file operations\n",
    "7. Exception handling"
   ]
  },
  {
   "cell_type": "code",
   "execution_count": null,
   "id": "63ea0b5c",
   "metadata": {},
   "outputs": [],
   "source": [
    "# correct way of creating variable\n",
    "A = 10\n",
    "a = 10\n",
    "a1 = 20\n",
    "a_1 = 30\n",
    "_a = 40\n",
    "abcd = 50\n",
    "a_b_c_d = 60"
   ]
  },
  {
   "cell_type": "code",
   "execution_count": null,
   "id": "2b5a1fce",
   "metadata": {},
   "outputs": [],
   "source": [
    "# incorrect way of creating variable.\n",
    "1 = 10\n",
    "a b = 10\n",
    "class = 20"
   ]
  },
  {
   "cell_type": "code",
   "execution_count": null,
   "id": "3e465052",
   "metadata": {},
   "outputs": [],
   "source": [
    "import keyword\n",
    "print(keyword.kwlist)"
   ]
  },
  {
   "cell_type": "code",
   "execution_count": null,
   "id": "83bc31ce",
   "metadata": {},
   "outputs": [],
   "source": [
    "variable = 100"
   ]
  },
  {
   "cell_type": "code",
   "execution_count": null,
   "id": "05b39b22",
   "metadata": {},
   "outputs": [],
   "source": [
    "variable # only jupyter notebook."
   ]
  },
  {
   "cell_type": "code",
   "execution_count": null,
   "id": "7e766b51",
   "metadata": {},
   "outputs": [],
   "source": [
    "print(variable)"
   ]
  },
  {
   "cell_type": "code",
   "execution_count": null,
   "id": "d46b829c",
   "metadata": {},
   "outputs": [],
   "source": [
    "type(variable)"
   ]
  },
  {
   "cell_type": "code",
   "execution_count": null,
   "id": "0357cb66",
   "metadata": {},
   "outputs": [],
   "source": [
    "variable1 = 25.66\n",
    "print(variable1)"
   ]
  },
  {
   "cell_type": "code",
   "execution_count": null,
   "id": "2d56dde0",
   "metadata": {},
   "outputs": [],
   "source": [
    "type(variable1)"
   ]
  },
  {
   "cell_type": "code",
   "execution_count": null,
   "id": "b2e9b004",
   "metadata": {},
   "outputs": [],
   "source": [
    "variable2 = 10 + 6j\n",
    "print(variable2)"
   ]
  },
  {
   "cell_type": "code",
   "execution_count": null,
   "id": "c8678be3",
   "metadata": {},
   "outputs": [],
   "source": [
    "type(variable2)"
   ]
  },
  {
   "cell_type": "raw",
   "id": "3791e57a",
   "metadata": {},
   "source": [
    "Numerical data type in python: int, float, complex"
   ]
  },
  {
   "cell_type": "code",
   "execution_count": null,
   "id": "d6f310b5",
   "metadata": {},
   "outputs": [],
   "source": [
    "name = 'syeda'\n",
    "print(name)\n",
    "print(type(name))"
   ]
  },
  {
   "cell_type": "code",
   "execution_count": null,
   "id": "1a9a4701",
   "metadata": {},
   "outputs": [],
   "source": []
  },
  {
   "cell_type": "code",
   "execution_count": null,
   "id": "52250aa0",
   "metadata": {},
   "outputs": [],
   "source": []
  },
  {
   "cell_type": "code",
   "execution_count": null,
   "id": "0d3f8b0e",
   "metadata": {},
   "outputs": [],
   "source": [
    "var = 10\n",
    "var_1 = 10\n",
    "_ = 10"
   ]
  },
  {
   "cell_type": "code",
   "execution_count": null,
   "id": "330da69f",
   "metadata": {},
   "outputs": [],
   "source": [
    " var = 1\n",
    "1var = 10\n",
    "var@ = 20\n",
    "True = 40\n",
    "print() = 20"
   ]
  },
  {
   "cell_type": "code",
   "execution_count": null,
   "id": "88047487",
   "metadata": {},
   "outputs": [],
   "source": [
    "from keyword import kwlist\n",
    "print(kwlist)"
   ]
  },
  {
   "cell_type": "code",
   "execution_count": null,
   "id": "49f13556",
   "metadata": {},
   "outputs": [],
   "source": [
    "_var = 20\n",
    "print(_var)"
   ]
  },
  {
   "cell_type": "code",
   "execution_count": null,
   "id": "a4d1cc6b",
   "metadata": {},
   "outputs": [],
   "source": [
    "var1 = 20\n",
    "print(var1)"
   ]
  },
  {
   "cell_type": "code",
   "execution_count": null,
   "id": "c5e9b12a",
   "metadata": {},
   "outputs": [],
   "source": [
    "var_of_age = 30\n",
    "print(var_of_age)"
   ]
  },
  {
   "cell_type": "code",
   "execution_count": null,
   "id": "ccbb02ef",
   "metadata": {},
   "outputs": [],
   "source": [
    "VAR = 40\n",
    "print(VAR)"
   ]
  },
  {
   "cell_type": "code",
   "execution_count": null,
   "id": "663bf441",
   "metadata": {},
   "outputs": [],
   "source": [
    "Arthmetic operator -->\n",
    "add --> +\n",
    "sub --> -\n",
    "mul --> *\n",
    "div --> /\n",
    "power --> **\n",
    "reminder --> %\n",
    "floor divsion --> //"
   ]
  },
  {
   "cell_type": "code",
   "execution_count": null,
   "id": "85511a6b",
   "metadata": {},
   "outputs": [],
   "source": [
    "add = 10 + 20\n",
    "sub = 30 - 15\n",
    "mul = 2 * 5\n",
    "div = 50/10\n",
    "power = 2 ** 3\n",
    "remndr = 7%3\n",
    "FlrD = 7//3"
   ]
  },
  {
   "cell_type": "code",
   "execution_count": null,
   "id": "1d2670bc",
   "metadata": {},
   "outputs": [],
   "source": [
    "print('add:',add,'\\nsub:',sub,'\\nMult:',mul,'\\nDiv:',\n",
    "      div,'\\nPower:',power,'\\nReminder:',remndr,'\\nFloor:',FlrD,sep = '')"
   ]
  },
  {
   "cell_type": "markdown",
   "id": "487ab7b2",
   "metadata": {},
   "source": [
    "# Task1: create a age in int and weight in float variable, and use the print to given the message and operate with the arthemetic operatations."
   ]
  },
  {
   "cell_type": "markdown",
   "id": "a8347735",
   "metadata": {},
   "source": [
    "# Task2: create a name in str and num in int variable, and use the print to given the message and operate with the arthemetic operatations."
   ]
  },
  {
   "cell_type": "code",
   "execution_count": null,
   "id": "425234e4",
   "metadata": {},
   "outputs": [],
   "source": [
    "name = 'syeda'\n",
    "num = '2.5'\n",
    "# str + str --> concatination\n",
    "num +' '+ name "
   ]
  },
  {
   "cell_type": "code",
   "execution_count": null,
   "id": "d589d237",
   "metadata": {},
   "outputs": [],
   "source": [
    "# str * int --> multiplt times return word.\n",
    "name = 'syeda'\n",
    "num = 2\n",
    "num * name "
   ]
  },
  {
   "cell_type": "code",
   "execution_count": null,
   "id": "86741ed0",
   "metadata": {},
   "outputs": [],
   "source": [
    "number = None"
   ]
  },
  {
   "cell_type": "code",
   "execution_count": null,
   "id": "24db0d0d",
   "metadata": {},
   "outputs": [],
   "source": [
    "type(number)"
   ]
  },
  {
   "cell_type": "code",
   "execution_count": null,
   "id": "a3a0288a",
   "metadata": {},
   "outputs": [],
   "source": [
    "Bln = True\n",
    "type(Bln)"
   ]
  },
  {
   "cell_type": "code",
   "execution_count": null,
   "id": "7ee1997d",
   "metadata": {},
   "outputs": [],
   "source": [
    "BLn = False\n",
    "type(BLn)"
   ]
  },
  {
   "cell_type": "code",
   "execution_count": null,
   "id": "baeb6083",
   "metadata": {},
   "outputs": [],
   "source": [
    "False == 0"
   ]
  },
  {
   "cell_type": "code",
   "execution_count": null,
   "id": "8dad222b",
   "metadata": {},
   "outputs": [],
   "source": [
    "# data = [10,10,20.5,20.5,'t','t']"
   ]
  },
  {
   "cell_type": "markdown",
   "id": "6b333db7",
   "metadata": {},
   "source": [
    "# Data types\n",
    "1.Numerical\n",
    "int, float, complex\n",
    "\n",
    "2.Charecter\n",
    "string\n",
    "\n",
    "3.Nonetype\n",
    "None\n",
    "\n",
    "4.Bool\n",
    "True, False\n",
    "\n",
    "5. ALL\n",
    "Object"
   ]
  },
  {
   "cell_type": "code",
   "execution_count": null,
   "id": "c5e7e5a3",
   "metadata": {},
   "outputs": [],
   "source": [
    "operators\n",
    "AR operators --> +,-,*,**,/\n",
    "logical operators --> and, or , not\n",
    "membership operators -->  is, is not, in,not in\n",
    "Comparission operators --> ==, !=, >,<, >=,<="
   ]
  },
  {
   "cell_type": "code",
   "execution_count": null,
   "id": "9e1061f4",
   "metadata": {},
   "outputs": [],
   "source": [
    "var == 100000000 and add == 30\n"
   ]
  },
  {
   "cell_type": "code",
   "execution_count": null,
   "id": "360cb991",
   "metadata": {},
   "outputs": [],
   "source": [
    "var != 100000000 or add != 30"
   ]
  },
  {
   "cell_type": "code",
   "execution_count": null,
   "id": "7f6e0449",
   "metadata": {},
   "outputs": [],
   "source": [
    "not var == 25"
   ]
  },
  {
   "cell_type": "code",
   "execution_count": null,
   "id": "bc4e6e23",
   "metadata": {},
   "outputs": [],
   "source": [
    "type(var) is not str"
   ]
  },
  {
   "cell_type": "code",
   "execution_count": null,
   "id": "8e9d7e4c",
   "metadata": {},
   "outputs": [],
   "source": [
    "tst = [1,2,36,59]\n",
    "36 not in tst"
   ]
  },
  {
   "cell_type": "code",
   "execution_count": null,
   "id": "6796701f",
   "metadata": {},
   "outputs": [],
   "source": [
    "type(tst)"
   ]
  },
  {
   "cell_type": "markdown",
   "id": "8784d8f7",
   "metadata": {},
   "source": [
    "# Task2: create a age nad weight variable and use the comparission operators, and use the logical operators for two statemnets"
   ]
  },
  {
   "cell_type": "code",
   "execution_count": null,
   "id": "8b5736c7",
   "metadata": {},
   "outputs": [],
   "source": [
    "var27 = True"
   ]
  },
  {
   "cell_type": "code",
   "execution_count": null,
   "id": "245bde8c",
   "metadata": {},
   "outputs": [],
   "source": [
    "print(True)"
   ]
  },
  {
   "cell_type": "code",
   "execution_count": null,
   "id": "1bf62790",
   "metadata": {},
   "outputs": [],
   "source": [
    "False == 3"
   ]
  },
  {
   "cell_type": "code",
   "execution_count": null,
   "id": "b7cecec0",
   "metadata": {},
   "outputs": [],
   "source": [
    "a = 10"
   ]
  },
  {
   "cell_type": "code",
   "execution_count": null,
   "id": "7a5f7bd7",
   "metadata": {},
   "outputs": [],
   "source": [
    "a = 20"
   ]
  },
  {
   "cell_type": "code",
   "execution_count": null,
   "id": "2dd312ff",
   "metadata": {},
   "outputs": [],
   "source": [
    "a = None"
   ]
  },
  {
   "cell_type": "code",
   "execution_count": null,
   "id": "7c0e7a28",
   "metadata": {},
   "outputs": [],
   "source": [
    "a"
   ]
  },
  {
   "cell_type": "code",
   "execution_count": null,
   "id": "f8b2f1e4",
   "metadata": {},
   "outputs": [],
   "source": [
    "var = 100000000\n",
    "print(type(var))"
   ]
  },
  {
   "cell_type": "code",
   "execution_count": null,
   "id": "7204ce8e",
   "metadata": {},
   "outputs": [],
   "source": [
    "flt = 5.6\n",
    "print(type(flt))"
   ]
  },
  {
   "cell_type": "code",
   "execution_count": null,
   "id": "96c24601",
   "metadata": {},
   "outputs": [],
   "source": [
    "cmplt = 10+5j\n",
    "type(cmplt)"
   ]
  },
  {
   "cell_type": "code",
   "execution_count": null,
   "id": "a8d61391",
   "metadata": {},
   "outputs": [],
   "source": [
    "cmplt * 2"
   ]
  },
  {
   "cell_type": "code",
   "execution_count": null,
   "id": "ccd9b937",
   "metadata": {},
   "outputs": [],
   "source": [
    "string1 = 'Excelr' # \\t --> 1 tab or 4 spaces.\n",
    "string2 = \"we are learning \\npython's\\tprogramming\" # \\n --> go to new line\n",
    "string3 = '''The data science               \n",
    "course is going on,\n",
    "in the excelr solutions'''"
   ]
  },
  {
   "cell_type": "code",
   "execution_count": null,
   "id": "77ca4fc7",
   "metadata": {},
   "outputs": [],
   "source": [
    "print(string1)"
   ]
  },
  {
   "cell_type": "code",
   "execution_count": null,
   "id": "950dbe78",
   "metadata": {},
   "outputs": [],
   "source": [
    "print(string2)"
   ]
  },
  {
   "cell_type": "code",
   "execution_count": null,
   "id": "5e44a884",
   "metadata": {},
   "outputs": [],
   "source": [
    "print(string3)"
   ]
  },
  {
   "cell_type": "code",
   "execution_count": null,
   "id": "96205d03",
   "metadata": {},
   "outputs": [],
   "source": [
    "type(string3)"
   ]
  },
  {
   "cell_type": "code",
   "execution_count": null,
   "id": "04a68c8e",
   "metadata": {},
   "outputs": [],
   "source": [
    "data = True\n",
    "type(data)"
   ]
  },
  {
   "cell_type": "code",
   "execution_count": null,
   "id": "ed0db7d6",
   "metadata": {},
   "outputs": [],
   "source": [
    "Tree = None\n",
    "type(Tree)"
   ]
  },
  {
   "cell_type": "code",
   "execution_count": null,
   "id": "7065ef5c",
   "metadata": {},
   "outputs": [],
   "source": [
    "type(age)"
   ]
  },
  {
   "cell_type": "code",
   "execution_count": null,
   "id": "66ba9c1f",
   "metadata": {},
   "outputs": [],
   "source": [
    "weight = 68.9\n",
    "type(weight)"
   ]
  },
  {
   "cell_type": "code",
   "execution_count": null,
   "id": "fe78dca0",
   "metadata": {},
   "outputs": [],
   "source": [
    "name = 'syeda'\n",
    "type(name)"
   ]
  },
  {
   "cell_type": "code",
   "execution_count": null,
   "id": "b4694a88",
   "metadata": {},
   "outputs": [],
   "source": [
    "age_w = 68.9 + 23j\n",
    "type(age_w)"
   ]
  },
  {
   "cell_type": "code",
   "execution_count": null,
   "id": "f345d54f",
   "metadata": {},
   "outputs": [],
   "source": [
    "intg_wt = age + weight"
   ]
  },
  {
   "cell_type": "code",
   "execution_count": null,
   "id": "d74a3be7",
   "metadata": {},
   "outputs": [],
   "source": [
    "age_comp = age + age_w\n",
    "age_comp"
   ]
  },
  {
   "cell_type": "code",
   "execution_count": null,
   "id": "46f97a92",
   "metadata": {},
   "outputs": [],
   "source": [
    "st_cm = name + str(age_w)\n",
    "st_cm"
   ]
  },
  {
   "cell_type": "markdown",
   "id": "3d465bf9",
   "metadata": {},
   "source": [
    "# arithmetic operators"
   ]
  },
  {
   "cell_type": "code",
   "execution_count": null,
   "id": "c58ab291",
   "metadata": {},
   "outputs": [],
   "source": [
    "# +,*,-,/,%,//,**"
   ]
  },
  {
   "cell_type": "markdown",
   "id": "48c77974",
   "metadata": {},
   "source": [
    "# Q1. Assign two variables naming as age, weight. operate the arithmentic operations?"
   ]
  },
  {
   "cell_type": "markdown",
   "id": "2d4b234f",
   "metadata": {},
   "source": [
    "# Logical operators"
   ]
  },
  {
   "cell_type": "markdown",
   "id": "b23b0f9f",
   "metadata": {},
   "source": [
    "and, or, not,"
   ]
  },
  {
   "cell_type": "raw",
   "id": "d628208d",
   "metadata": {},
   "source": [
    "# Q2. Assign two variables naming as age, weight,weight1. operate the logical operations?"
   ]
  },
  {
   "cell_type": "code",
   "execution_count": null,
   "id": "ece832a7",
   "metadata": {},
   "outputs": [],
   "source": []
  },
  {
   "cell_type": "code",
   "execution_count": null,
   "id": "cd6bfe8d",
   "metadata": {},
   "outputs": [],
   "source": [
    "add =  age + weight\n",
    "sub =  age - weight\n",
    "mul =  age * weight\n",
    "div =  age / weight\n",
    "power =  age ** weight\n",
    "flor =  age // weight\n",
    "mod =  age % weight\n",
    "print(add)\n",
    "print(sub)\n",
    "print(mul)\n",
    "print(div)\n",
    "print(power)\n",
    "print(flor)\n",
    "print(mod)"
   ]
  },
  {
   "cell_type": "code",
   "execution_count": null,
   "id": "12475b73",
   "metadata": {},
   "outputs": [],
   "source": [
    "and or not"
   ]
  },
  {
   "cell_type": "code",
   "execution_count": null,
   "id": "146f040a",
   "metadata": {},
   "outputs": [],
   "source": [
    "age1 = 20\n",
    "weight1 = 50"
   ]
  },
  {
   "cell_type": "code",
   "execution_count": null,
   "id": "9ec1bd50",
   "metadata": {},
   "outputs": [],
   "source": [
    "age, age1"
   ]
  },
  {
   "cell_type": "code",
   "execution_count": null,
   "id": "22c1ed98",
   "metadata": {},
   "outputs": [],
   "source": [
    "#AND\n",
    "age == 20 and age1 != 50 "
   ]
  },
  {
   "cell_type": "code",
   "execution_count": null,
   "id": "f2883602",
   "metadata": {},
   "outputs": [],
   "source": [
    "age != 20 & weight != 50"
   ]
  },
  {
   "cell_type": "code",
   "execution_count": null,
   "id": "e4f404a3",
   "metadata": {},
   "outputs": [],
   "source": [
    "age == 20 or weight != 50"
   ]
  },
  {
   "cell_type": "code",
   "execution_count": null,
   "id": "ed54b09b",
   "metadata": {},
   "outputs": [],
   "source": [
    "not age != 80"
   ]
  },
  {
   "cell_type": "code",
   "execution_count": null,
   "id": "983ebdc7",
   "metadata": {},
   "outputs": [],
   "source": [
    "weight and weight1"
   ]
  },
  {
   "cell_type": "code",
   "execution_count": null,
   "id": "22ff2698",
   "metadata": {},
   "outputs": [],
   "source": [
    "age, weight"
   ]
  },
  {
   "cell_type": "code",
   "execution_count": null,
   "id": "bf930e75",
   "metadata": {},
   "outputs": [],
   "source": [
    "age == 20 and weight != 50"
   ]
  },
  {
   "cell_type": "code",
   "execution_count": null,
   "id": "b544fa91",
   "metadata": {},
   "outputs": [],
   "source": [
    "age == 20 or weight != 50"
   ]
  },
  {
   "cell_type": "code",
   "execution_count": null,
   "id": "d71adf8f",
   "metadata": {},
   "outputs": [],
   "source": [
    "not age != 20"
   ]
  },
  {
   "cell_type": "markdown",
   "id": "18c84f4a",
   "metadata": {},
   "source": [
    "# Comparision operators"
   ]
  },
  {
   "cell_type": "markdown",
   "id": "6418536a",
   "metadata": {},
   "source": [
    "==,!=,<,<=,>,>= [ output is in bool ]"
   ]
  },
  {
   "cell_type": "markdown",
   "id": "6a31b60f",
   "metadata": {},
   "source": [
    "# Memebership operators"
   ]
  },
  {
   "cell_type": "code",
   "execution_count": null,
   "id": "b0ba8be9",
   "metadata": {},
   "outputs": [],
   "source": [
    "# is, is not, in, not in"
   ]
  },
  {
   "cell_type": "code",
   "execution_count": null,
   "id": "36ce77db",
   "metadata": {},
   "outputs": [],
   "source": [
    "XYZ = [[21,22],0,24,26,5,10,15,18,19]\n",
    "type(XYZ)"
   ]
  },
  {
   "cell_type": "code",
   "execution_count": null,
   "id": "c7d32b58",
   "metadata": {},
   "outputs": [],
   "source": [
    "list is not type(XYZ)"
   ]
  },
  {
   "cell_type": "code",
   "execution_count": null,
   "id": "6427fd5c",
   "metadata": {},
   "outputs": [],
   "source": [
    "list is type(XYZ)"
   ]
  },
  {
   "cell_type": "code",
   "execution_count": null,
   "id": "59d4171f",
   "metadata": {},
   "outputs": [],
   "source": [
    "print(str is not type(XYZ))\n",
    "print(str is type(XYZ))"
   ]
  },
  {
   "cell_type": "code",
   "execution_count": null,
   "id": "88384282",
   "metadata": {},
   "outputs": [],
   "source": [
    "[21,22,0] in XYZ"
   ]
  },
  {
   "cell_type": "code",
   "execution_count": null,
   "id": "80b43567",
   "metadata": {},
   "outputs": [],
   "source": [
    "80  not in XYZ"
   ]
  },
  {
   "cell_type": "code",
   "execution_count": null,
   "id": "fc54e1c8",
   "metadata": {},
   "outputs": [],
   "source": [
    "Data types\n",
    "int, float, complex, string, bool,none, list, tuple, set, dictionary"
   ]
  },
  {
   "cell_type": "code",
   "execution_count": null,
   "id": "b537e506",
   "metadata": {},
   "outputs": [],
   "source": [
    "no_type = None\n",
    "type(no_type)"
   ]
  },
  {
   "cell_type": "code",
   "execution_count": null,
   "id": "4cefc580",
   "metadata": {},
   "outputs": [],
   "source": [
    "# defination of data science"
   ]
  },
  {
   "cell_type": "code",
   "execution_count": null,
   "id": "11d94c60",
   "metadata": {},
   "outputs": [],
   "source": [
    "data types = str, float, int, bool, complex"
   ]
  },
  {
   "cell_type": "code",
   "execution_count": null,
   "id": "66f798bf",
   "metadata": {},
   "outputs": [],
   "source": [
    "string = 'text'\n",
    "type(string)"
   ]
  },
  {
   "cell_type": "code",
   "execution_count": null,
   "id": "ddf20d2b",
   "metadata": {},
   "outputs": [],
   "source": [
    "string2 = \"today's data science class is about python.\"\n",
    "\n",
    "type(string2)"
   ]
  },
  {
   "cell_type": "code",
   "execution_count": null,
   "id": "7d80415d",
   "metadata": {},
   "outputs": [],
   "source": []
  },
  {
   "cell_type": "code",
   "execution_count": null,
   "id": "6f23563f",
   "metadata": {},
   "outputs": [],
   "source": []
  },
  {
   "cell_type": "code",
   "execution_count": null,
   "id": "a863ddd2",
   "metadata": {},
   "outputs": [],
   "source": []
  },
  {
   "cell_type": "code",
   "execution_count": null,
   "id": "8d323f4e",
   "metadata": {},
   "outputs": [],
   "source": []
  },
  {
   "cell_type": "code",
   "execution_count": null,
   "id": "52859515",
   "metadata": {},
   "outputs": [],
   "source": [
    "# defination of datas science\n",
    "data_science = '''data science is the study of data to extract meaningful insights for business. \n",
    "It is a multidisciplinary approach that combines principles and practices from the fields of mathematics, \n",
    "statistics, artificial intelligence, and computer engineering to analyze large amounts of data.'''"
   ]
  },
  {
   "cell_type": "code",
   "execution_count": null,
   "id": "3f14975e",
   "metadata": {},
   "outputs": [],
   "source": [
    "print(data_science)"
   ]
  },
  {
   "cell_type": "code",
   "execution_count": null,
   "id": "d28212c0",
   "metadata": {},
   "outputs": [],
   "source": [
    "type(data_science) # data type."
   ]
  },
  {
   "cell_type": "code",
   "execution_count": null,
   "id": "c4c19d2e",
   "metadata": {},
   "outputs": [],
   "source": [
    "len(data_science) # count of string."
   ]
  },
  {
   "cell_type": "code",
   "execution_count": null,
   "id": "25371777",
   "metadata": {},
   "outputs": [],
   "source": [
    "# function list --> string.+tab"
   ]
  },
  {
   "cell_type": "code",
   "execution_count": null,
   "id": "fc4a13f7",
   "metadata": {},
   "outputs": [],
   "source": [
    "data_science"
   ]
  },
  {
   "cell_type": "code",
   "execution_count": null,
   "id": "ffd58169",
   "metadata": {},
   "outputs": [],
   "source": [
    "data_science.capitalize()"
   ]
  },
  {
   "cell_type": "code",
   "execution_count": null,
   "id": "ade0749a",
   "metadata": {},
   "outputs": [],
   "source": [
    "data = 'SCIeNcE'\n",
    "data.casefold()"
   ]
  },
  {
   "cell_type": "code",
   "execution_count": null,
   "id": "4a55267e",
   "metadata": {},
   "outputs": [],
   "source": [
    "data.upper(),data.lower(), data.swapcase()"
   ]
  },
  {
   "cell_type": "code",
   "execution_count": null,
   "id": "4486e2ce",
   "metadata": {},
   "outputs": [],
   "source": [
    "data_science.startswith('D'), data_science.endswith('.')"
   ]
  },
  {
   "cell_type": "code",
   "execution_count": null,
   "id": "c43a4c96",
   "metadata": {},
   "outputs": [],
   "source": [
    "data_science.startswith('d'), data_science.endswith('.')"
   ]
  },
  {
   "cell_type": "code",
   "execution_count": null,
   "id": "ce123da1",
   "metadata": {},
   "outputs": [],
   "source": [
    "data.startswith('S'),data.endswith('e')"
   ]
  },
  {
   "cell_type": "code",
   "execution_count": null,
   "id": "fcfd0dd7",
   "metadata": {},
   "outputs": [],
   "source": [
    "data"
   ]
  },
  {
   "cell_type": "code",
   "execution_count": null,
   "id": "9847ff43",
   "metadata": {},
   "outputs": [],
   "source": [
    "data.ljust(10,'#'),data.rjust(10,'*'),data.center(12,'%'),data.removeprefix('S'),data.removesuffix('E')"
   ]
  },
  {
   "cell_type": "code",
   "execution_count": null,
   "id": "a69a5ac8",
   "metadata": {},
   "outputs": [],
   "source": [
    "data_science"
   ]
  },
  {
   "cell_type": "code",
   "execution_count": null,
   "id": "e92266e1",
   "metadata": {},
   "outputs": [],
   "source": [
    "data_science.count('d'), data_science.find('data'),data_science.index('data')"
   ]
  },
  {
   "cell_type": "code",
   "execution_count": null,
   "id": "3c44b673",
   "metadata": {},
   "outputs": [],
   "source": [
    "data_science.rfind('data')"
   ]
  },
  {
   "cell_type": "code",
   "execution_count": null,
   "id": "ffd33607",
   "metadata": {},
   "outputs": [],
   "source": [
    "# removing spaces\n",
    "data = '    science    '\n",
    "data.lstrip(),data.rstrip(),data.strip()"
   ]
  },
  {
   "cell_type": "code",
   "execution_count": null,
   "id": "07cef08e",
   "metadata": {},
   "outputs": [],
   "source": [
    "define = 'data,science,is,the,study,of data to extract meaningful insights for business'\n",
    "dfn = define.split(',')\n",
    "print(dfn)"
   ]
  },
  {
   "cell_type": "code",
   "execution_count": null,
   "id": "38447442",
   "metadata": {},
   "outputs": [],
   "source": [
    "data_science"
   ]
  },
  {
   "cell_type": "code",
   "execution_count": null,
   "id": "7974665e",
   "metadata": {},
   "outputs": [],
   "source": [
    "data_science.replace('data','information')"
   ]
  },
  {
   "cell_type": "code",
   "execution_count": null,
   "id": "a6aac4b6",
   "metadata": {},
   "outputs": [],
   "source": [
    "one = 'abc123'\n",
    "two = 'abdc'\n",
    "three = '123'\n",
    "four = '103'"
   ]
  },
  {
   "cell_type": "code",
   "execution_count": null,
   "id": "b0be9959",
   "metadata": {},
   "outputs": [],
   "source": [
    "one.isalnum(),two.isalpha(),three.isdigit(),four.isdecimal()"
   ]
  },
  {
   "cell_type": "code",
   "execution_count": null,
   "id": "8dcb2564",
   "metadata": {},
   "outputs": [],
   "source": [
    "data"
   ]
  },
  {
   "cell_type": "code",
   "execution_count": null,
   "id": "1e11f37c",
   "metadata": {},
   "outputs": [],
   "source": [
    "data.islower(),data.isupper(),data.istitle(),data.isnumeric(),data.isprintable()"
   ]
  },
  {
   "cell_type": "code",
   "execution_count": null,
   "id": "9f407652",
   "metadata": {},
   "outputs": [],
   "source": [
    "name = 'samreen'\n",
    "print('My name is {}'.format(name))"
   ]
  },
  {
   "cell_type": "code",
   "execution_count": null,
   "id": "91b10b15",
   "metadata": {},
   "outputs": [],
   "source": [
    "age = 40\n",
    "wight = 56.9"
   ]
  },
  {
   "cell_type": "code",
   "execution_count": null,
   "id": "071a853e",
   "metadata": {},
   "outputs": [],
   "source": [
    "statment = 'My age is {} and my weight is {}'\n",
    "print(statment.format(age,wight))"
   ]
  },
  {
   "cell_type": "code",
   "execution_count": null,
   "id": "2b214a0c",
   "metadata": {},
   "outputs": [],
   "source": [
    "data_science"
   ]
  },
  {
   "cell_type": "code",
   "execution_count": null,
   "id": "1cf25b8f",
   "metadata": {},
   "outputs": [],
   "source": [
    "data_science[0:10:2]"
   ]
  },
  {
   "cell_type": "code",
   "execution_count": null,
   "id": "3971a578",
   "metadata": {},
   "outputs": [],
   "source": [
    "data_science[-5:-1]"
   ]
  },
  {
   "cell_type": "code",
   "execution_count": null,
   "id": "353d9f89",
   "metadata": {},
   "outputs": [],
   "source": [
    "data_science[10:-1]"
   ]
  },
  {
   "cell_type": "markdown",
   "id": "5cb18961",
   "metadata": {},
   "source": [
    "# input function"
   ]
  },
  {
   "cell_type": "code",
   "execution_count": null,
   "id": "0958b885",
   "metadata": {},
   "outputs": [],
   "source": [
    "age = input()"
   ]
  },
  {
   "cell_type": "code",
   "execution_count": null,
   "id": "fb9eab63",
   "metadata": {},
   "outputs": [],
   "source": [
    "print(age)"
   ]
  },
  {
   "cell_type": "code",
   "execution_count": null,
   "id": "497b44fa",
   "metadata": {},
   "outputs": [],
   "source": [
    "type(age)"
   ]
  },
  {
   "cell_type": "code",
   "execution_count": null,
   "id": "b620697b",
   "metadata": {},
   "outputs": [],
   "source": [
    "wt = int(input())"
   ]
  },
  {
   "cell_type": "code",
   "execution_count": null,
   "id": "7fc785f0",
   "metadata": {},
   "outputs": [],
   "source": [
    "print(wt)"
   ]
  },
  {
   "cell_type": "code",
   "execution_count": null,
   "id": "c49e82d3",
   "metadata": {},
   "outputs": [],
   "source": [
    "type(wt)"
   ]
  },
  {
   "cell_type": "code",
   "execution_count": null,
   "id": "80560e20",
   "metadata": {},
   "outputs": [],
   "source": [
    "flt = float(input())\n",
    "print(flt)\n",
    "type(flt)"
   ]
  },
  {
   "cell_type": "code",
   "execution_count": null,
   "id": "b6a20ac2",
   "metadata": {},
   "outputs": [],
   "source": [
    "data"
   ]
  },
  {
   "cell_type": "code",
   "execution_count": null,
   "id": "93a73bea",
   "metadata": {},
   "outputs": [],
   "source": [
    "data_science.replace('extract','Remove')"
   ]
  },
  {
   "cell_type": "code",
   "execution_count": null,
   "id": "b23b31fa",
   "metadata": {},
   "outputs": [],
   "source": [
    "data_science_splitted[3]"
   ]
  },
  {
   "cell_type": "code",
   "execution_count": null,
   "id": "02e3f3f8",
   "metadata": {},
   "outputs": [],
   "source": [
    "data_science_splitted[0:12]"
   ]
  },
  {
   "cell_type": "code",
   "execution_count": null,
   "id": "fcf3ea2b",
   "metadata": {},
   "outputs": [],
   "source": [
    "data_science[0:18]"
   ]
  },
  {
   "cell_type": "code",
   "execution_count": null,
   "id": "7ad2fc0b",
   "metadata": {},
   "outputs": [],
   "source": [
    "help(str.center)"
   ]
  },
  {
   "cell_type": "code",
   "execution_count": null,
   "id": "10c7297c",
   "metadata": {},
   "outputs": [],
   "source": [
    "data_science_splitted[0].center(10,'#')"
   ]
  },
  {
   "cell_type": "code",
   "execution_count": null,
   "id": "e0ceba7f",
   "metadata": {},
   "outputs": [],
   "source": [
    "data_science_splitted[0].ljust(10,'#')"
   ]
  },
  {
   "cell_type": "code",
   "execution_count": null,
   "id": "c43f1fba",
   "metadata": {},
   "outputs": [],
   "source": [
    "data_science_splitted[0].rjust(10,'#')"
   ]
  },
  {
   "cell_type": "code",
   "execution_count": null,
   "id": "a3374223",
   "metadata": {},
   "outputs": [],
   "source": [
    "help(str.format)"
   ]
  },
  {
   "cell_type": "code",
   "execution_count": null,
   "id": "f05865cd",
   "metadata": {},
   "outputs": [],
   "source": [
    "age = int(input('Enter your age: '))\n",
    "age_info = 'My age is {}'.format(age)"
   ]
  },
  {
   "cell_type": "code",
   "execution_count": null,
   "id": "78083eda",
   "metadata": {},
   "outputs": [],
   "source": [
    "print(age_info)"
   ]
  },
  {
   "cell_type": "code",
   "execution_count": null,
   "id": "b18f5029",
   "metadata": {},
   "outputs": [],
   "source": [
    "daat = 'The given age is'"
   ]
  },
  {
   "cell_type": "code",
   "execution_count": null,
   "id": "338d3b7a",
   "metadata": {},
   "outputs": [],
   "source": [
    "f'{daat} {age}'"
   ]
  },
  {
   "cell_type": "code",
   "execution_count": null,
   "id": "d44f5703",
   "metadata": {},
   "outputs": [],
   "source": [
    "print(f'{daat},{age}')"
   ]
  },
  {
   "cell_type": "code",
   "execution_count": null,
   "id": "549c7df3",
   "metadata": {},
   "outputs": [],
   "source": [
    "name = input('Please enter your name: ')\n",
    "print(f'My name is {name}')"
   ]
  },
  {
   "cell_type": "code",
   "execution_count": null,
   "id": "a34842c2",
   "metadata": {},
   "outputs": [],
   "source": [
    "age = int(input('Please enter your age: '))\n",
    "print(f'My age is {age}')"
   ]
  },
  {
   "cell_type": "code",
   "execution_count": null,
   "id": "4f86161c",
   "metadata": {},
   "outputs": [],
   "source": [
    "type(age)"
   ]
  },
  {
   "cell_type": "code",
   "execution_count": null,
   "id": "a18fca73",
   "metadata": {},
   "outputs": [],
   "source": [
    "print(f'My age is {int(input())}')"
   ]
  },
  {
   "cell_type": "code",
   "execution_count": null,
   "id": "0744ccf6",
   "metadata": {},
   "outputs": [],
   "source": [
    "# indexing starting with [0,1,2....]"
   ]
  },
  {
   "cell_type": "code",
   "execution_count": null,
   "id": "1790f19d",
   "metadata": {},
   "outputs": [],
   "source": [
    "data = 'Datascience'"
   ]
  },
  {
   "cell_type": "code",
   "execution_count": null,
   "id": "c5711155",
   "metadata": {},
   "outputs": [],
   "source": [
    "data[0],data[1],data[2]"
   ]
  },
  {
   "cell_type": "code",
   "execution_count": null,
   "id": "4458ad09",
   "metadata": {},
   "outputs": [],
   "source": [
    "data[0:4]"
   ]
  },
  {
   "cell_type": "code",
   "execution_count": null,
   "id": "ade6b988",
   "metadata": {},
   "outputs": [],
   "source": [
    "data[4:10]"
   ]
  },
  {
   "cell_type": "code",
   "execution_count": null,
   "id": "1ab5b5b6",
   "metadata": {},
   "outputs": [],
   "source": [
    "data[4:]"
   ]
  },
  {
   "cell_type": "code",
   "execution_count": null,
   "id": "b9c3ec56",
   "metadata": {},
   "outputs": [],
   "source": [
    "data[start:end:step]"
   ]
  },
  {
   "cell_type": "code",
   "execution_count": null,
   "id": "f052102d",
   "metadata": {},
   "outputs": [],
   "source": [
    "data[0:11:3]"
   ]
  },
  {
   "cell_type": "code",
   "execution_count": null,
   "id": "79062f57",
   "metadata": {},
   "outputs": [],
   "source": [
    "data[10]"
   ]
  },
  {
   "cell_type": "code",
   "execution_count": null,
   "id": "0acd955f",
   "metadata": {},
   "outputs": [],
   "source": [
    "len(data)"
   ]
  },
  {
   "cell_type": "code",
   "execution_count": null,
   "id": "fd120b19",
   "metadata": {},
   "outputs": [],
   "source": []
  },
  {
   "cell_type": "code",
   "execution_count": null,
   "id": "71544917",
   "metadata": {},
   "outputs": [],
   "source": [
    "data[0],data[1],data[2]"
   ]
  },
  {
   "cell_type": "code",
   "execution_count": null,
   "id": "1862d6a7",
   "metadata": {},
   "outputs": [],
   "source": [
    "data[0].strip(), data[1].strip('.'),data[2].strip('#')"
   ]
  },
  {
   "cell_type": "code",
   "execution_count": null,
   "id": "a7d58834",
   "metadata": {},
   "outputs": [],
   "source": [
    "data[0].rstrip(), data[1].rstrip('.'),data[2].rstrip('#')"
   ]
  },
  {
   "cell_type": "code",
   "execution_count": null,
   "id": "6483512f",
   "metadata": {},
   "outputs": [],
   "source": [
    "data[0].lstrip(), data[1].lstrip('.'),data[2].lstrip('#')"
   ]
  },
  {
   "cell_type": "code",
   "execution_count": null,
   "id": "e4bc1812",
   "metadata": {},
   "outputs": [],
   "source": [
    "flt = 50.3\n",
    "type(flt)"
   ]
  },
  {
   "cell_type": "code",
   "execution_count": null,
   "id": "a9f7ac48",
   "metadata": {},
   "outputs": [],
   "source": [
    "bl = True\n",
    "type(bl)"
   ]
  },
  {
   "cell_type": "code",
   "execution_count": null,
   "id": "0965bd81",
   "metadata": {},
   "outputs": [],
   "source": [
    "cml = 10j + 10\n",
    "type(cml)"
   ]
  },
  {
   "cell_type": "code",
   "execution_count": null,
   "id": "aa4c9067",
   "metadata": {},
   "outputs": [],
   "source": [
    "intt = int(flt)\n",
    "float(intt)"
   ]
  },
  {
   "cell_type": "code",
   "execution_count": null,
   "id": "53c4b056",
   "metadata": {},
   "outputs": [],
   "source": [
    "str(intt)"
   ]
  },
  {
   "cell_type": "code",
   "execution_count": null,
   "id": "697e3bb8",
   "metadata": {},
   "outputs": [],
   "source": [
    "str(flt)"
   ]
  },
  {
   "cell_type": "code",
   "execution_count": null,
   "id": "05aec1ed",
   "metadata": {},
   "outputs": [],
   "source": [
    "bool(flt)"
   ]
  },
  {
   "cell_type": "code",
   "execution_count": null,
   "id": "36365b35",
   "metadata": {},
   "outputs": [],
   "source": [
    "b = True\n",
    "complex(b)"
   ]
  },
  {
   "cell_type": "code",
   "execution_count": null,
   "id": "401834e7",
   "metadata": {},
   "outputs": [],
   "source": []
  },
  {
   "cell_type": "markdown",
   "id": "7baf0593",
   "metadata": {},
   "source": [
    "# String manipulation"
   ]
  },
  {
   "cell_type": "code",
   "execution_count": null,
   "id": "d738769c",
   "metadata": {},
   "outputs": [],
   "source": [
    "# Defination of data science\n",
    "data_science = '''DATA science combines math and statistics, specialized programming, advanced analytics,\"\n",
    "artificial intelligence (AI), and \\tmachine learning with specific subject matter expertise to\n",
    "uncover \\tactionable insights hidden in an organization's data.'''"
   ]
  },
  {
   "cell_type": "code",
   "execution_count": null,
   "id": "b7a3a6e6",
   "metadata": {},
   "outputs": [],
   "source": [
    "data_science.capitalize()"
   ]
  },
  {
   "cell_type": "code",
   "execution_count": null,
   "id": "1cf56bac",
   "metadata": {},
   "outputs": [],
   "source": [
    "data_science.upper()"
   ]
  },
  {
   "cell_type": "code",
   "execution_count": null,
   "id": "780304aa",
   "metadata": {},
   "outputs": [],
   "source": [
    "data_science.lower()"
   ]
  },
  {
   "cell_type": "markdown",
   "id": "fbc972c2",
   "metadata": {},
   "source": [
    "variables"
   ]
  },
  {
   "cell_type": "code",
   "execution_count": null,
   "id": "fff3fe4d",
   "metadata": {},
   "outputs": [],
   "source": [
    "data_science.casefold()"
   ]
  },
  {
   "cell_type": "code",
   "execution_count": null,
   "id": "f6c88c9b",
   "metadata": {},
   "outputs": [],
   "source": [
    "data_science.center(5,' ')"
   ]
  },
  {
   "cell_type": "code",
   "execution_count": null,
   "id": "481df854",
   "metadata": {},
   "outputs": [],
   "source": [
    "en = data_science.encode(encoding='ASCII', errors='strict')"
   ]
  },
  {
   "cell_type": "code",
   "execution_count": null,
   "id": "effe3e64",
   "metadata": {},
   "outputs": [],
   "source": [
    "en"
   ]
  },
  {
   "cell_type": "code",
   "execution_count": null,
   "id": "9f45a650",
   "metadata": {},
   "outputs": [],
   "source": [
    "data_science.endswith('/'), data_science.startswith('D')"
   ]
  },
  {
   "cell_type": "code",
   "execution_count": null,
   "id": "23287f9c",
   "metadata": {},
   "outputs": [],
   "source": [
    "indexing = 0... D->0, A-> 1,T->2,A->3"
   ]
  },
  {
   "cell_type": "code",
   "execution_count": null,
   "id": "fb4e991a",
   "metadata": {},
   "outputs": [],
   "source": [
    "len(data_science)"
   ]
  },
  {
   "cell_type": "code",
   "execution_count": null,
   "id": "86ceeb90",
   "metadata": {},
   "outputs": [],
   "source": [
    "data_science.count('a')"
   ]
  },
  {
   "cell_type": "code",
   "execution_count": null,
   "id": "cc25690d",
   "metadata": {},
   "outputs": [],
   "source": [
    "data_science.index('math')"
   ]
  },
  {
   "cell_type": "code",
   "execution_count": null,
   "id": "0e4a799e",
   "metadata": {},
   "outputs": [],
   "source": [
    "data_science.find('math')"
   ]
  },
  {
   "cell_type": "code",
   "execution_count": null,
   "id": "0952b802",
   "metadata": {},
   "outputs": [],
   "source": [
    "dt_split= data_science.split()\n",
    "dt_split"
   ]
  },
  {
   "cell_type": "code",
   "execution_count": null,
   "id": "3572224c",
   "metadata": {},
   "outputs": [],
   "source": [
    "dt_split[0].center(10,'0')"
   ]
  },
  {
   "cell_type": "code",
   "execution_count": null,
   "id": "ea3f59db",
   "metadata": {},
   "outputs": [],
   "source": [
    "dt_split[0].rjust(10,'0')"
   ]
  },
  {
   "cell_type": "code",
   "execution_count": null,
   "id": "fbcb512d",
   "metadata": {},
   "outputs": [],
   "source": [
    "dt_split[0].rjust(10,'0')[0].ljust(10,'0')"
   ]
  },
  {
   "cell_type": "code",
   "execution_count": null,
   "id": "c0ae1c47",
   "metadata": {},
   "outputs": [],
   "source": [
    "dt_split[12].strip('()')"
   ]
  },
  {
   "cell_type": "code",
   "execution_count": null,
   "id": "ecfd1699",
   "metadata": {},
   "outputs": [],
   "source": [
    "dt_split[12].lstrip('()')"
   ]
  },
  {
   "cell_type": "code",
   "execution_count": null,
   "id": "7dcea35e",
   "metadata": {},
   "outputs": [],
   "source": [
    "dt_split[12].rstrip(',')"
   ]
  },
  {
   "cell_type": "code",
   "execution_count": null,
   "id": "489dcf22",
   "metadata": {},
   "outputs": [],
   "source": [
    "str1 = ',data,'"
   ]
  },
  {
   "cell_type": "code",
   "execution_count": null,
   "id": "8a19c2ba",
   "metadata": {},
   "outputs": [],
   "source": [
    "str1.rstrip(',')"
   ]
  },
  {
   "cell_type": "code",
   "execution_count": null,
   "id": "9101ee04",
   "metadata": {},
   "outputs": [],
   "source": [
    "str2 = \"data, data,and ,data, data is everywhere, data science depends on data.\""
   ]
  },
  {
   "cell_type": "code",
   "execution_count": null,
   "id": "9c9e5539",
   "metadata": {},
   "outputs": [],
   "source": [
    "str2.replace('data','science')"
   ]
  },
  {
   "cell_type": "code",
   "execution_count": null,
   "id": "bc073864",
   "metadata": {},
   "outputs": [],
   "source": [
    "data_science.expandtabs(tabsize=30)"
   ]
  },
  {
   "cell_type": "code",
   "execution_count": null,
   "id": "7e62e778",
   "metadata": {},
   "outputs": [],
   "source": [
    "len(data_science)"
   ]
  },
  {
   "cell_type": "code",
   "execution_count": null,
   "id": "399d7b6c",
   "metadata": {},
   "outputs": [],
   "source": [
    "data_science.count('t')"
   ]
  },
  {
   "cell_type": "code",
   "execution_count": null,
   "id": "35aa4dda",
   "metadata": {},
   "outputs": [],
   "source": [
    "data_science.find('a')"
   ]
  },
  {
   "cell_type": "code",
   "execution_count": null,
   "id": "02c9e93c",
   "metadata": {},
   "outputs": [],
   "source": [
    "data_science.index('t')"
   ]
  },
  {
   "cell_type": "code",
   "execution_count": null,
   "id": "9f611fa2",
   "metadata": {},
   "outputs": [],
   "source": [
    "data_science"
   ]
  },
  {
   "cell_type": "code",
   "execution_count": null,
   "id": "cfe0b87b",
   "metadata": {},
   "outputs": [],
   "source": [
    "data_science.split(sep=',')"
   ]
  },
  {
   "cell_type": "code",
   "execution_count": null,
   "id": "dfad7b56",
   "metadata": {},
   "outputs": [],
   "source": [
    "tt = data_science.split()"
   ]
  },
  {
   "cell_type": "code",
   "execution_count": null,
   "id": "dfc6075e",
   "metadata": {},
   "outputs": [],
   "source": [
    "print(tt)"
   ]
  },
  {
   "cell_type": "code",
   "execution_count": null,
   "id": "2a0cbb91",
   "metadata": {},
   "outputs": [],
   "source": [
    "tt[0]"
   ]
  },
  {
   "cell_type": "code",
   "execution_count": null,
   "id": "8ea1b4da",
   "metadata": {},
   "outputs": [],
   "source": [
    "tt[0].center(10,' '), tt[0].rjust(10,'#'),     tt[0].ljust(10,'#')"
   ]
  },
  {
   "cell_type": "code",
   "execution_count": null,
   "id": "e8138acd",
   "metadata": {},
   "outputs": [],
   "source": [
    "r = 'EXCELR'"
   ]
  },
  {
   "cell_type": "code",
   "execution_count": null,
   "id": "17263c38",
   "metadata": {},
   "outputs": [],
   "source": [
    "data_science"
   ]
  },
  {
   "cell_type": "code",
   "execution_count": null,
   "id": "23b9411c",
   "metadata": {},
   "outputs": [],
   "source": [
    "data_science.replace('data',r)"
   ]
  },
  {
   "cell_type": "code",
   "execution_count": null,
   "id": "e617aec3",
   "metadata": {},
   "outputs": [],
   "source": [
    "ff = data_science.swapcase()"
   ]
  },
  {
   "cell_type": "code",
   "execution_count": null,
   "id": "4a0db6d2",
   "metadata": {},
   "outputs": [],
   "source": [
    "ff"
   ]
  },
  {
   "cell_type": "code",
   "execution_count": null,
   "id": "6b8a41f3",
   "metadata": {},
   "outputs": [],
   "source": [
    "ff.swapcase()"
   ]
  },
  {
   "cell_type": "code",
   "execution_count": null,
   "id": "e3dca5ac",
   "metadata": {},
   "outputs": [],
   "source": [
    "t = ff.swapcase()\n",
    "t"
   ]
  },
  {
   "cell_type": "code",
   "execution_count": null,
   "id": "403bc76d",
   "metadata": {},
   "outputs": [],
   "source": [
    "tt[2].upper()"
   ]
  },
  {
   "cell_type": "code",
   "execution_count": null,
   "id": "5e67d5cf",
   "metadata": {},
   "outputs": [],
   "source": [
    "str, int, char, float, double, bool, complex, list, dict, tuple"
   ]
  },
  {
   "cell_type": "code",
   "execution_count": null,
   "id": "6327c248",
   "metadata": {},
   "outputs": [],
   "source": [
    "type(data_science)"
   ]
  },
  {
   "cell_type": "code",
   "execution_count": null,
   "id": "cafdcfb3",
   "metadata": {},
   "outputs": [],
   "source": [
    "age = \n",
    "age."
   ]
  },
  {
   "cell_type": "code",
   "execution_count": null,
   "id": "8d4ad50c",
   "metadata": {},
   "outputs": [],
   "source": [
    "weight = 56.5\n",
    "type(weight)"
   ]
  },
  {
   "cell_type": "code",
   "execution_count": null,
   "id": "ed992d3c",
   "metadata": {},
   "outputs": [],
   "source": [
    "age_w = 10j + 50\n",
    "age_w.real"
   ]
  },
  {
   "cell_type": "markdown",
   "id": "c37ca18c",
   "metadata": {},
   "source": [
    "# Type casting--> convertion of data type                "
   ]
  },
  {
   "cell_type": "code",
   "execution_count": null,
   "id": "1130298c",
   "metadata": {},
   "outputs": [],
   "source": [
    "int(),float(),complex(),str(),bool() = True, False,object()"
   ]
  },
  {
   "cell_type": "code",
   "execution_count": null,
   "id": "617c66cd",
   "metadata": {},
   "outputs": [],
   "source": [
    "age = 25\n",
    "print(age)\n",
    "print(type(age))"
   ]
  },
  {
   "cell_type": "code",
   "execution_count": null,
   "id": "0f160eb5",
   "metadata": {},
   "outputs": [],
   "source": [
    "age_flt = float(age)\n",
    "print(age_flt)\n",
    "print(type(age_flt))"
   ]
  },
  {
   "cell_type": "code",
   "execution_count": null,
   "id": "f3588804",
   "metadata": {},
   "outputs": [],
   "source": [
    "num = 56.7\n",
    "num_int = int(num)\n",
    "print(num_int)\n",
    "print(type(num_int))"
   ]
  },
  {
   "cell_type": "code",
   "execution_count": null,
   "id": "66ed79ab",
   "metadata": {},
   "outputs": [],
   "source": [
    "weight = '56.3'\n",
    "print(weight)\n",
    "print(type(weight))"
   ]
  },
  {
   "cell_type": "code",
   "execution_count": null,
   "id": "423a9c65",
   "metadata": {},
   "outputs": [],
   "source": [
    "weight_int = int(weight)\n",
    "print(weight_int)\n",
    "print(type(weight_int))"
   ]
  },
  {
   "cell_type": "code",
   "execution_count": null,
   "id": "7e1659e5",
   "metadata": {},
   "outputs": [],
   "source": [
    "weight_flt = float(weight)\n",
    "weight_flt"
   ]
  },
  {
   "cell_type": "code",
   "execution_count": null,
   "id": "37f8fdc3",
   "metadata": {},
   "outputs": [],
   "source": [
    "weight_cmp = complex(weight)\n",
    "weight_cmp"
   ]
  },
  {
   "cell_type": "code",
   "execution_count": null,
   "id": "1462e1b6",
   "metadata": {},
   "outputs": [],
   "source": [
    "cmp = 10+6j\n",
    "type(cmp)"
   ]
  },
  {
   "cell_type": "code",
   "execution_count": null,
   "id": "d37463de",
   "metadata": {},
   "outputs": [],
   "source": [
    "float(cmp)"
   ]
  },
  {
   "cell_type": "code",
   "execution_count": null,
   "id": "f5b25140",
   "metadata": {},
   "outputs": [],
   "source": [
    "int(cmp)"
   ]
  },
  {
   "cell_type": "code",
   "execution_count": null,
   "id": "ec4b8d43",
   "metadata": {},
   "outputs": [],
   "source": [
    "weight_str = str(weight)\n",
    "weight_str"
   ]
  },
  {
   "cell_type": "code",
   "execution_count": null,
   "id": "197226f1",
   "metadata": {},
   "outputs": [],
   "source": [
    "num = '56.9'\n",
    "float(num)"
   ]
  },
  {
   "cell_type": "code",
   "execution_count": null,
   "id": "3c8d6f87",
   "metadata": {},
   "outputs": [],
   "source": [
    "name = 'a10'\n",
    "name_int = int(name)"
   ]
  },
  {
   "cell_type": "code",
   "execution_count": null,
   "id": "241bb683",
   "metadata": {},
   "outputs": [],
   "source": [
    "weight1 = int(weight)\n",
    "print(weight1)"
   ]
  },
  {
   "cell_type": "code",
   "execution_count": null,
   "id": "ec9a6641",
   "metadata": {},
   "outputs": [],
   "source": [
    "weight1 = complex(weight)\n",
    "print(weight1)"
   ]
  },
  {
   "cell_type": "code",
   "execution_count": null,
   "id": "44e5dafe",
   "metadata": {},
   "outputs": [],
   "source": [
    "t3 = '12'\n",
    "type(int(t3))"
   ]
  },
  {
   "cell_type": "code",
   "execution_count": null,
   "id": "4fd94699",
   "metadata": {},
   "outputs": [],
   "source": [
    "data_science1 ='10'"
   ]
  },
  {
   "cell_type": "code",
   "execution_count": null,
   "id": "96a473e8",
   "metadata": {},
   "outputs": [],
   "source": [
    "type(data_science1)"
   ]
  },
  {
   "cell_type": "code",
   "execution_count": null,
   "id": "e7d3457e",
   "metadata": {},
   "outputs": [],
   "source": [
    "dt1 = int(data_science1)\n",
    "print('converted to string to integer',dt1,type(dt1))"
   ]
  },
  {
   "cell_type": "markdown",
   "id": "29101501",
   "metadata": {},
   "source": [
    "# Task 1: create a two variable, marks1 in floating and marks2 in string type, and Arithmetic operators."
   ]
  },
  {
   "cell_type": "code",
   "execution_count": null,
   "id": "268d1f77",
   "metadata": {},
   "outputs": [],
   "source": [
    "int()\n",
    "str()\n",
    "float()\n",
    "complex()\n",
    "bool()\n",
    "list()\n",
    "dict()\n",
    "tuple()\n",
    "set()"
   ]
  },
  {
   "cell_type": "code",
   "execution_count": null,
   "id": "ecfaa2b4",
   "metadata": {},
   "outputs": [],
   "source": [
    "f = 10.6\n",
    "s = 's'\n",
    "f * s"
   ]
  },
  {
   "cell_type": "code",
   "execution_count": null,
   "id": "947c78f3",
   "metadata": {},
   "outputs": [],
   "source": [
    "age = 56.0\n",
    "type(int(age))"
   ]
  },
  {
   "cell_type": "code",
   "execution_count": null,
   "id": "015cfc97",
   "metadata": {},
   "outputs": [],
   "source": [
    "weight = 'datsc' + '2'\n",
    "weight\n"
   ]
  },
  {
   "cell_type": "markdown",
   "id": "955d9a24",
   "metadata": {},
   "source": [
    "# Indexing nd sclicing"
   ]
  },
  {
   "cell_type": "code",
   "execution_count": null,
   "id": "66b9fc0f",
   "metadata": {},
   "outputs": [],
   "source": [
    "data_science"
   ]
  },
  {
   "cell_type": "code",
   "execution_count": null,
   "id": "9ee0fca2",
   "metadata": {},
   "outputs": [],
   "source": [
    "data_science[start: end: step]"
   ]
  },
  {
   "cell_type": "code",
   "execution_count": null,
   "id": "14e1adbe",
   "metadata": {},
   "outputs": [],
   "source": [
    "len(data_science)"
   ]
  },
  {
   "cell_type": "code",
   "execution_count": null,
   "id": "1051e6ea",
   "metadata": {},
   "outputs": [],
   "source": [
    "data_science[0:12:5]"
   ]
  },
  {
   "cell_type": "code",
   "execution_count": null,
   "id": "2cbcc48c",
   "metadata": {},
   "outputs": [],
   "source": [
    "data_science[-5:-1:2]"
   ]
  },
  {
   "cell_type": "code",
   "execution_count": null,
   "id": "263e35a7",
   "metadata": {},
   "outputs": [],
   "source": [
    "data_science[5:]"
   ]
  },
  {
   "cell_type": "code",
   "execution_count": null,
   "id": "adcfad55",
   "metadata": {},
   "outputs": [],
   "source": [
    "data_science[5::6]"
   ]
  },
  {
   "cell_type": "code",
   "execution_count": null,
   "id": "4d0bf731",
   "metadata": {},
   "outputs": [],
   "source": [
    "data_science[:-1:6]"
   ]
  },
  {
   "cell_type": "code",
   "execution_count": null,
   "id": "dfa6cf88",
   "metadata": {},
   "outputs": [],
   "source": [
    "ization's data."
   ]
  },
  {
   "cell_type": "code",
   "execution_count": null,
   "id": "916a749c",
   "metadata": {},
   "outputs": [],
   "source": [
    "data_science[-15:-10:-2]"
   ]
  },
  {
   "cell_type": "code",
   "execution_count": null,
   "id": "e74981e9",
   "metadata": {},
   "outputs": [],
   "source": [
    "data_science[:-1]"
   ]
  },
  {
   "cell_type": "code",
   "execution_count": null,
   "id": "b2be0f5f",
   "metadata": {},
   "outputs": [],
   "source": [
    "data_science[10:50]"
   ]
  },
  {
   "cell_type": "code",
   "execution_count": null,
   "id": "26be9a29",
   "metadata": {},
   "outputs": [],
   "source": [
    "# data science combines math and statistics, specialized \\tprog"
   ]
  },
  {
   "cell_type": "code",
   "execution_count": null,
   "id": "65a74eb3",
   "metadata": {},
   "outputs": [],
   "source": [
    "data_science[::]"
   ]
  },
  {
   "cell_type": "code",
   "execution_count": null,
   "id": "f707027a",
   "metadata": {},
   "outputs": [],
   "source": [
    "data_science[-5:-1:2]"
   ]
  },
  {
   "cell_type": "code",
   "execution_count": null,
   "id": "d6db5f7a",
   "metadata": {},
   "outputs": [],
   "source": [
    "data_science[-10:]"
   ]
  },
  {
   "cell_type": "markdown",
   "id": "b5939254",
   "metadata": {},
   "source": [
    "accessing index:\n",
    "[start:End:Step]\n"
   ]
  },
  {
   "cell_type": "code",
   "execution_count": null,
   "id": "014eab6a",
   "metadata": {},
   "outputs": [],
   "source": [
    "data_science"
   ]
  },
  {
   "cell_type": "code",
   "execution_count": null,
   "id": "7ecc470f",
   "metadata": {},
   "outputs": [],
   "source": [
    "data_science[-10:-1]"
   ]
  },
  {
   "cell_type": "code",
   "execution_count": null,
   "id": "d3bc1de8",
   "metadata": {},
   "outputs": [],
   "source": [
    "data_science[:5:]"
   ]
  },
  {
   "cell_type": "code",
   "execution_count": null,
   "id": "68a87059",
   "metadata": {},
   "outputs": [],
   "source": [
    "data_science[::6]"
   ]
  },
  {
   "cell_type": "code",
   "execution_count": null,
   "id": "ebf51044",
   "metadata": {},
   "outputs": [],
   "source": [
    "print(data_science)"
   ]
  },
  {
   "cell_type": "markdown",
   "id": "e9416c91",
   "metadata": {},
   "source": [
    "# formating using format\n"
   ]
  },
  {
   "cell_type": "code",
   "execution_count": null,
   "id": "53088273",
   "metadata": {},
   "outputs": [],
   "source": [
    "formating--> {},%,.format(), f string"
   ]
  },
  {
   "cell_type": "code",
   "execution_count": null,
   "id": "f55a89f2",
   "metadata": {},
   "outputs": [],
   "source": [
    "str.format()"
   ]
  },
  {
   "cell_type": "code",
   "execution_count": null,
   "id": "b853ee7b",
   "metadata": {},
   "outputs": [],
   "source": [
    "x = 'sam'"
   ]
  },
  {
   "cell_type": "code",
   "execution_count": null,
   "id": "db70ecb8",
   "metadata": {},
   "outputs": [],
   "source": [
    "print(f'my name is {x}, my sisters name ia also {x}, everybody haveing a name of age')"
   ]
  },
  {
   "cell_type": "code",
   "execution_count": null,
   "id": "fcfa645f",
   "metadata": {},
   "outputs": [],
   "source": [
    "print('my name is {}, and my age is {} years'.format(x, age))"
   ]
  },
  {
   "cell_type": "code",
   "execution_count": null,
   "id": "29a7c996",
   "metadata": {},
   "outputs": [],
   "source": []
  },
  {
   "cell_type": "code",
   "execution_count": null,
   "id": "92e0534d",
   "metadata": {},
   "outputs": [],
   "source": [
    "statment = 'my age is {} years, my weight is {}kg.'"
   ]
  },
  {
   "cell_type": "code",
   "execution_count": null,
   "id": "2bb7e76d",
   "metadata": {},
   "outputs": [],
   "source": [
    "statment.format(weight,age)"
   ]
  },
  {
   "cell_type": "code",
   "execution_count": null,
   "id": "041e685d",
   "metadata": {},
   "outputs": [],
   "source": [
    "statment1 = f'My age is {age}, my weight is {weight}.{age},{age + 10}'\n",
    "statment1"
   ]
  },
  {
   "cell_type": "code",
   "execution_count": null,
   "id": "ad15f595",
   "metadata": {},
   "outputs": [],
   "source": [
    "input()"
   ]
  },
  {
   "cell_type": "markdown",
   "id": "08e58aae",
   "metadata": {},
   "source": [
    "# User input funciton\n",
    "input()"
   ]
  },
  {
   "cell_type": "code",
   "execution_count": null,
   "id": "51c8bbd2",
   "metadata": {},
   "outputs": [],
   "source": [
    "Y = input()"
   ]
  },
  {
   "cell_type": "code",
   "execution_count": null,
   "id": "37451238",
   "metadata": {},
   "outputs": [],
   "source": [
    "type(Y)"
   ]
  },
  {
   "cell_type": "code",
   "execution_count": null,
   "id": "8dc5830c",
   "metadata": {},
   "outputs": [],
   "source": [
    "Z = int(input())\n",
    "print(Z)"
   ]
  },
  {
   "cell_type": "code",
   "execution_count": null,
   "id": "6ad3fb07",
   "metadata": {},
   "outputs": [],
   "source": [
    "T = input('Enter your name: ')\n",
    "print(T)"
   ]
  },
  {
   "cell_type": "code",
   "execution_count": null,
   "id": "09715500",
   "metadata": {},
   "outputs": [],
   "source": [
    "Z = int(input())"
   ]
  },
  {
   "cell_type": "code",
   "execution_count": null,
   "id": "e11254ed",
   "metadata": {},
   "outputs": [],
   "source": [
    "print(type(Z))"
   ]
  },
  {
   "cell_type": "code",
   "execution_count": null,
   "id": "dd1b03e5",
   "metadata": {},
   "outputs": [],
   "source": [
    "x1 = input('Please give your age int intger: ')"
   ]
  },
  {
   "cell_type": "code",
   "execution_count": null,
   "id": "7d74b7dd",
   "metadata": {},
   "outputs": [],
   "source": [
    "x1"
   ]
  },
  {
   "cell_type": "code",
   "execution_count": null,
   "id": "a1606440",
   "metadata": {},
   "outputs": [],
   "source": [
    "y = f'my age is two times of {x1}'\n",
    "y"
   ]
  },
  {
   "cell_type": "code",
   "execution_count": null,
   "id": "700994aa",
   "metadata": {},
   "outputs": [],
   "source": [
    "s = f'Data science is the study of data{input()} to extract meaningful insights for business.{input()}'"
   ]
  },
  {
   "cell_type": "code",
   "execution_count": null,
   "id": "600c74b8",
   "metadata": {},
   "outputs": [],
   "source": [
    "s"
   ]
  },
  {
   "cell_type": "code",
   "execution_count": null,
   "id": "d38b5e17",
   "metadata": {},
   "outputs": [],
   "source": [
    "student_details = 'On an average my students atendence is {}, and absence is {}'.format(\n",
    "                                                                {input('please give the present attendece: ')},\n",
    "                                                                {input(\"please give the absent atendence: \")})\n",
    "print(student_details)"
   ]
  },
  {
   "cell_type": "code",
   "execution_count": null,
   "id": "9c08b657",
   "metadata": {},
   "outputs": [],
   "source": [
    "print(int(student_details))"
   ]
  },
  {
   "cell_type": "code",
   "execution_count": null,
   "id": "35a4bc82",
   "metadata": {},
   "outputs": [],
   "source": [
    "a = int(input('enter the value'))"
   ]
  },
  {
   "cell_type": "code",
   "execution_count": null,
   "id": "87ad62a7",
   "metadata": {},
   "outputs": [],
   "source": [
    "import math\n",
    "math.pi,math.e"
   ]
  },
  {
   "cell_type": "code",
   "execution_count": null,
   "id": "82427a5d",
   "metadata": {},
   "outputs": [],
   "source": [
    "d = math.sqrt((x2-x1)**2 + (y2-y1)**2)\n",
    "d"
   ]
  },
  {
   "cell_type": "code",
   "execution_count": null,
   "id": "608a83db",
   "metadata": {},
   "outputs": [],
   "source": [
    "(x1,x2) = 10,15\n",
    "(y1,y2) = 5,10"
   ]
  },
  {
   "cell_type": "raw",
   "id": "a0bbb8ef",
   "metadata": {},
   "source": [
    "## Task 2: create a 3 a variables with r, B,h, taking value by the user input, and calculate the \n",
    "valume spear --> v = 4/3 * pi * r^3 \n",
    "area of triangle --> A = 1/2 bh\n",
    "distance of two points --> d = sqrt((x2 - x1)^2 + (y2 - y1)^2))\n",
    "Slope of line --> m = (y2 - y1) / (x2 - x1)"
   ]
  },
  {
   "cell_type": "code",
   "execution_count": null,
   "id": "d1cc7fb1",
   "metadata": {},
   "outputs": [],
   "source": [
    "import math\n",
    "r = int(input('Give the radius: '))\n",
    "V = round(4/3 * math.pi * (r**3),2)\n",
    "Volume = f'The volume of the spear is {V}'\n",
    "print(Volume)"
   ]
  },
  {
   "cell_type": "code",
   "execution_count": null,
   "id": "b98a3f1f",
   "metadata": {},
   "outputs": [],
   "source": [
    "b = int(input('Give the breadth: '))\n",
    "h = int(input('Give the hight of triangle: '))\n",
    "area_of_triangle = 1/2 * (b*h)\n",
    "print(f'The area of the traiangle for the given bradth: {b} and hight: {h} is {area_of_triangle}')"
   ]
  },
  {
   "cell_type": "code",
   "execution_count": null,
   "id": "a442c907",
   "metadata": {},
   "outputs": [],
   "source": [
    "(x1,x2) = 10,15\n",
    "(y1,y2) = 5,10"
   ]
  },
  {
   "cell_type": "code",
   "execution_count": null,
   "id": "1165b158",
   "metadata": {},
   "outputs": [],
   "source": [
    "distance = math.sqrt(((x2 - x1)**2 + (y2 - y1)**2))\n",
    "print(f'the Distance of given coordinates are {round(distance,2)}')\n",
    "m = (y2 - y1) / (x2 - x1)\n",
    "print(f'The slope of the coordinates is {m}')"
   ]
  },
  {
   "cell_type": "code",
   "execution_count": null,
   "id": "430ea28b",
   "metadata": {},
   "outputs": [],
   "source": []
  },
  {
   "cell_type": "markdown",
   "id": "6ee91644",
   "metadata": {},
   "source": [
    "# string concatination"
   ]
  },
  {
   "cell_type": "code",
   "execution_count": null,
   "id": "4a4ad7ba",
   "metadata": {},
   "outputs": [],
   "source": [
    "statment1 = 'My DS class is at 3 pm'\n",
    "statment2 =  'The strength is on an average 40'"
   ]
  },
  {
   "cell_type": "code",
   "execution_count": null,
   "id": "a07cee13",
   "metadata": {},
   "outputs": [],
   "source": [
    "statment1 + statment2"
   ]
  },
  {
   "cell_type": "code",
   "execution_count": null,
   "id": "2080a55c",
   "metadata": {},
   "outputs": [],
   "source": [
    "d = statment1 +'. '+ statment2\n",
    "d"
   ]
  },
  {
   "cell_type": "code",
   "execution_count": null,
   "id": "dda61f9e",
   "metadata": {},
   "outputs": [],
   "source": [
    "print('sam'.join('12'))"
   ]
  },
  {
   "cell_type": "code",
   "execution_count": null,
   "id": "216f53a0",
   "metadata": {},
   "outputs": [],
   "source": [
    "print(statment1.join('*****'))"
   ]
  },
  {
   "cell_type": "code",
   "execution_count": null,
   "id": "cf736626",
   "metadata": {},
   "outputs": [],
   "source": [
    "len(statment1[0:10])"
   ]
  },
  {
   "cell_type": "code",
   "execution_count": null,
   "id": "5937f3e0",
   "metadata": {},
   "outputs": [],
   "source": [
    "len(statment2)"
   ]
  },
  {
   "cell_type": "code",
   "execution_count": null,
   "id": "437b3271",
   "metadata": {},
   "outputs": [],
   "source": [
    "age"
   ]
  },
  {
   "cell_type": "code",
   "execution_count": null,
   "id": "6cdfbfb1",
   "metadata": {},
   "outputs": [],
   "source": [
    "statment1.format(age)"
   ]
  },
  {
   "cell_type": "code",
   "execution_count": null,
   "id": "834abf46",
   "metadata": {},
   "outputs": [],
   "source": [
    "str.format(), \n",
    "f'',input(),len(),type(),\n",
    "math.pi(),math.sqrt(),\n",
    "print(),int(),float(),str(),pow()\n",
    "min(),max(),sum()"
   ]
  },
  {
   "cell_type": "code",
   "execution_count": null,
   "id": "312465f4",
   "metadata": {},
   "outputs": [],
   "source": [
    "import math\n",
    "dir(math.tan.__doc__)"
   ]
  },
  {
   "cell_type": "code",
   "execution_count": null,
   "id": "34bfde68",
   "metadata": {},
   "outputs": [],
   "source": [
    "name = input(\"Please enter the string: \")\n",
    "print(f'The Length of name variable is: {len(name)}')"
   ]
  },
  {
   "cell_type": "markdown",
   "id": "39558666",
   "metadata": {},
   "source": [
    "# List, Dict, Tuple, set"
   ]
  },
  {
   "cell_type": "markdown",
   "id": "f5ba1ad6",
   "metadata": {},
   "source": [
    "list creates using [], it can store int, float, str, time, --> all type of the data type."
   ]
  },
  {
   "cell_type": "code",
   "execution_count": null,
   "id": "1579fb36",
   "metadata": {},
   "outputs": [],
   "source": [
    "list1 = []"
   ]
  },
  {
   "cell_type": "code",
   "execution_count": null,
   "id": "b12d1969",
   "metadata": {},
   "outputs": [],
   "source": [
    "type(list1)"
   ]
  },
  {
   "cell_type": "code",
   "execution_count": null,
   "id": "e1ecb64c",
   "metadata": {},
   "outputs": [],
   "source": [
    "list1 = list()\n",
    "type(list1)"
   ]
  },
  {
   "cell_type": "code",
   "execution_count": null,
   "id": "243c2c47",
   "metadata": {},
   "outputs": [],
   "source": [
    "List1 = [10,11,12,13,14,15,16,15]"
   ]
  },
  {
   "cell_type": "code",
   "execution_count": null,
   "id": "82288919",
   "metadata": {},
   "outputs": [],
   "source": [
    "type(List1)"
   ]
  },
  {
   "cell_type": "code",
   "execution_count": null,
   "id": "c863fd78",
   "metadata": {},
   "outputs": [],
   "source": [
    "print(List1)"
   ]
  },
  {
   "cell_type": "code",
   "execution_count": null,
   "id": "77f25fe1",
   "metadata": {},
   "outputs": [],
   "source": [
    "List2 = [10,11.2,'excelr',10j+12,True]"
   ]
  },
  {
   "cell_type": "code",
   "execution_count": null,
   "id": "36d85864",
   "metadata": {},
   "outputs": [],
   "source": [
    "type(List2)"
   ]
  },
  {
   "cell_type": "code",
   "execution_count": null,
   "id": "60ee8ce9",
   "metadata": {},
   "outputs": [],
   "source": [
    "print(List2)"
   ]
  },
  {
   "cell_type": "code",
   "execution_count": null,
   "id": "52d60565",
   "metadata": {},
   "outputs": [],
   "source": [
    "List1"
   ]
  },
  {
   "cell_type": "code",
   "execution_count": null,
   "id": "7044aa17",
   "metadata": {},
   "outputs": [],
   "source": [
    "type(List1[0])"
   ]
  },
  {
   "cell_type": "code",
   "execution_count": null,
   "id": "b356d75c",
   "metadata": {},
   "outputs": [],
   "source": [
    "type(List2[0]),type(List2[1]),type(List2[2]),type(List2[3]),type(List2[4])"
   ]
  },
  {
   "cell_type": "code",
   "execution_count": null,
   "id": "fc9fbf09",
   "metadata": {},
   "outputs": [],
   "source": [
    "# list and int using *\n",
    "List1 * 2"
   ]
  },
  {
   "cell_type": "code",
   "execution_count": null,
   "id": "1ff88743",
   "metadata": {},
   "outputs": [],
   "source": [
    "#list to list -> +\n",
    "List1 + List2"
   ]
  },
  {
   "cell_type": "code",
   "execution_count": null,
   "id": "51eb5faf",
   "metadata": {},
   "outputs": [],
   "source": [
    "len(List1),len(List2)"
   ]
  },
  {
   "cell_type": "code",
   "execution_count": null,
   "id": "74e82727",
   "metadata": {},
   "outputs": [],
   "source": [
    "sum(List1)"
   ]
  },
  {
   "cell_type": "code",
   "execution_count": null,
   "id": "e236d9f7",
   "metadata": {},
   "outputs": [],
   "source": [
    "List1"
   ]
  },
  {
   "cell_type": "code",
   "execution_count": null,
   "id": "cb0f6e5d",
   "metadata": {},
   "outputs": [],
   "source": [
    "List1.append(16)"
   ]
  },
  {
   "cell_type": "code",
   "execution_count": null,
   "id": "e4a45b3a",
   "metadata": {},
   "outputs": [],
   "source": [
    "List1.append([17,18])"
   ]
  },
  {
   "cell_type": "code",
   "execution_count": null,
   "id": "d89c13a5",
   "metadata": {},
   "outputs": [],
   "source": [
    "List1"
   ]
  },
  {
   "cell_type": "code",
   "execution_count": null,
   "id": "0189e7c9",
   "metadata": {},
   "outputs": [],
   "source": [
    "List1.extend([19,20,21])"
   ]
  },
  {
   "cell_type": "code",
   "execution_count": null,
   "id": "0cbde557",
   "metadata": {},
   "outputs": [],
   "source": [
    "List1"
   ]
  },
  {
   "cell_type": "code",
   "execution_count": null,
   "id": "c583e34f",
   "metadata": {},
   "outputs": [],
   "source": [
    "List1.insert(7,17)"
   ]
  },
  {
   "cell_type": "code",
   "execution_count": null,
   "id": "a8d59268",
   "metadata": {},
   "outputs": [],
   "source": [
    "List1"
   ]
  },
  {
   "cell_type": "code",
   "execution_count": null,
   "id": "bd64a60f",
   "metadata": {},
   "outputs": [],
   "source": [
    "List3 = List1.copy()\n",
    "List3"
   ]
  },
  {
   "cell_type": "code",
   "execution_count": null,
   "id": "9f7f8757",
   "metadata": {},
   "outputs": [],
   "source": [
    "List1.count(10),List1.count(15),List1.count(16)"
   ]
  },
  {
   "cell_type": "code",
   "execution_count": null,
   "id": "4fc96260",
   "metadata": {},
   "outputs": [],
   "source": [
    "List1.index(10),List1.index(15),List1[:-1].index(15)"
   ]
  },
  {
   "cell_type": "code",
   "execution_count": null,
   "id": "19f3ef8b",
   "metadata": {},
   "outputs": [],
   "source": [
    "List1.index(16),List1[:-1].index(16)"
   ]
  },
  {
   "cell_type": "code",
   "execution_count": null,
   "id": "4ab56064",
   "metadata": {},
   "outputs": [],
   "source": [
    "List1.index([17,18])"
   ]
  },
  {
   "cell_type": "code",
   "execution_count": null,
   "id": "fc84bd8b",
   "metadata": {},
   "outputs": [],
   "source": [
    "List1.reverse()"
   ]
  },
  {
   "cell_type": "code",
   "execution_count": null,
   "id": "60ddf5ac",
   "metadata": {},
   "outputs": [],
   "source": [
    "List1"
   ]
  },
  {
   "cell_type": "code",
   "execution_count": null,
   "id": "e11718ac",
   "metadata": {},
   "outputs": [],
   "source": [
    "List1.pop(3)"
   ]
  },
  {
   "cell_type": "code",
   "execution_count": null,
   "id": "3db66f5e",
   "metadata": {},
   "outputs": [],
   "source": [
    "List1.sort()"
   ]
  },
  {
   "cell_type": "code",
   "execution_count": null,
   "id": "70a68e6b",
   "metadata": {},
   "outputs": [],
   "source": [
    "print(List1)"
   ]
  },
  {
   "cell_type": "code",
   "execution_count": null,
   "id": "726b7768",
   "metadata": {},
   "outputs": [],
   "source": [
    "List1.sort(reverse=True)"
   ]
  },
  {
   "cell_type": "code",
   "execution_count": null,
   "id": "13db9646",
   "metadata": {},
   "outputs": [],
   "source": [
    "print(List1)"
   ]
  },
  {
   "cell_type": "code",
   "execution_count": null,
   "id": "bbdb8836",
   "metadata": {},
   "outputs": [],
   "source": [
    "List1.remove(16)"
   ]
  },
  {
   "cell_type": "code",
   "execution_count": null,
   "id": "c74b7a00",
   "metadata": {},
   "outputs": [],
   "source": [
    "List1"
   ]
  },
  {
   "cell_type": "code",
   "execution_count": null,
   "id": "67697b1b",
   "metadata": {},
   "outputs": [],
   "source": [
    "List3.clear()"
   ]
  },
  {
   "cell_type": "code",
   "execution_count": null,
   "id": "5c7be15e",
   "metadata": {},
   "outputs": [],
   "source": [
    "List3"
   ]
  },
  {
   "cell_type": "code",
   "execution_count": null,
   "id": "8f9dd7ea",
   "metadata": {},
   "outputs": [],
   "source": []
  },
  {
   "cell_type": "code",
   "execution_count": null,
   "id": "e45d3d20",
   "metadata": {},
   "outputs": [],
   "source": [
    "List1[:-1]"
   ]
  },
  {
   "cell_type": "code",
   "execution_count": null,
   "id": "30e6da3d",
   "metadata": {},
   "outputs": [],
   "source": [
    "type(List2[4])"
   ]
  },
  {
   "cell_type": "code",
   "execution_count": null,
   "id": "84461332",
   "metadata": {},
   "outputs": [],
   "source": [
    "List1.append(17)"
   ]
  },
  {
   "cell_type": "code",
   "execution_count": null,
   "id": "07f7ef73",
   "metadata": {},
   "outputs": [],
   "source": [
    "List1"
   ]
  },
  {
   "cell_type": "code",
   "execution_count": null,
   "id": "5df18afa",
   "metadata": {},
   "outputs": [],
   "source": [
    "List1.append([18,19])"
   ]
  },
  {
   "cell_type": "code",
   "execution_count": null,
   "id": "65c508d0",
   "metadata": {},
   "outputs": [],
   "source": [
    "List1"
   ]
  },
  {
   "cell_type": "code",
   "execution_count": null,
   "id": "8b7c7588",
   "metadata": {},
   "outputs": [],
   "source": [
    "18,19 in List1"
   ]
  },
  {
   "cell_type": "code",
   "execution_count": null,
   "id": "dfd94e0f",
   "metadata": {},
   "outputs": [],
   "source": [
    "List3 = List1.copy()\n",
    "List3"
   ]
  },
  {
   "cell_type": "code",
   "execution_count": null,
   "id": "3990480a",
   "metadata": {},
   "outputs": [],
   "source": [
    "List3.count([18,19])"
   ]
  },
  {
   "cell_type": "code",
   "execution_count": null,
   "id": "237455f4",
   "metadata": {},
   "outputs": [],
   "source": [
    "List3.extend([21,22,23])"
   ]
  },
  {
   "cell_type": "code",
   "execution_count": null,
   "id": "0d04c009",
   "metadata": {},
   "outputs": [],
   "source": [
    "List3"
   ]
  },
  {
   "cell_type": "code",
   "execution_count": null,
   "id": "a944ecb4",
   "metadata": {},
   "outputs": [],
   "source": [
    "List3.index(15)"
   ]
  },
  {
   "cell_type": "code",
   "execution_count": null,
   "id": "f3106471",
   "metadata": {},
   "outputs": [],
   "source": [
    "List1.insert(5,90)"
   ]
  },
  {
   "cell_type": "code",
   "execution_count": null,
   "id": "6c538303",
   "metadata": {},
   "outputs": [],
   "source": [
    "List3.insert(0,9)\n",
    "List3"
   ]
  },
  {
   "cell_type": "code",
   "execution_count": null,
   "id": "02840638",
   "metadata": {},
   "outputs": [],
   "source": [
    "List3.pop(3)"
   ]
  },
  {
   "cell_type": "code",
   "execution_count": null,
   "id": "dea6dafd",
   "metadata": {},
   "outputs": [],
   "source": [
    "List1.pop(2)"
   ]
  },
  {
   "cell_type": "code",
   "execution_count": null,
   "id": "b868db72",
   "metadata": {},
   "outputs": [],
   "source": [
    "List1"
   ]
  },
  {
   "cell_type": "code",
   "execution_count": null,
   "id": "f7afaab4",
   "metadata": {},
   "outputs": [],
   "source": [
    "List1.remove(15)"
   ]
  },
  {
   "cell_type": "code",
   "execution_count": null,
   "id": "c6825eb6",
   "metadata": {},
   "outputs": [],
   "source": [
    "List1"
   ]
  },
  {
   "cell_type": "code",
   "execution_count": null,
   "id": "f754be9d",
   "metadata": {},
   "outputs": [],
   "source": [
    "List1.clear()"
   ]
  },
  {
   "cell_type": "code",
   "execution_count": null,
   "id": "d987e3c6",
   "metadata": {},
   "outputs": [],
   "source": [
    "List1"
   ]
  },
  {
   "cell_type": "code",
   "execution_count": null,
   "id": "d8be704a",
   "metadata": {},
   "outputs": [],
   "source": [
    "List3.reverse()\n",
    "List3"
   ]
  },
  {
   "cell_type": "code",
   "execution_count": null,
   "id": "a47c5bba",
   "metadata": {},
   "outputs": [],
   "source": [
    "st = [10,23,25,1,0,6,8]\n",
    "st.sort(reverse=True)\n",
    "st"
   ]
  },
  {
   "cell_type": "code",
   "execution_count": null,
   "id": "be1fc3bd",
   "metadata": {},
   "outputs": [],
   "source": [
    "# Arthemetic operator --> +,-,*,/,**,%\n",
    "# logical operator --> and, or, not\n",
    "# membership operator --> is, is not, in, not in\n",
    "# assignment operator --> ==, !=, >,< ,<=,>="
   ]
  },
  {
   "cell_type": "code",
   "execution_count": null,
   "id": "022919b5",
   "metadata": {},
   "outputs": [],
   "source": [
    "List3[0] = 25"
   ]
  },
  {
   "cell_type": "code",
   "execution_count": null,
   "id": "0aa89860",
   "metadata": {},
   "outputs": [],
   "source": [
    "List3[6] = 100"
   ]
  },
  {
   "cell_type": "code",
   "execution_count": null,
   "id": "94170dab",
   "metadata": {},
   "outputs": [],
   "source": [
    "len(List3)"
   ]
  },
  {
   "cell_type": "code",
   "execution_count": null,
   "id": "08b1bc9b",
   "metadata": {},
   "outputs": [],
   "source": [
    "# List3[17]"
   ]
  },
  {
   "cell_type": "code",
   "execution_count": null,
   "id": "de4c9e8a",
   "metadata": {},
   "outputs": [],
   "source": [
    "List2, List3"
   ]
  },
  {
   "cell_type": "code",
   "execution_count": null,
   "id": "921097d2",
   "metadata": {},
   "outputs": [],
   "source": [
    "List3 + List2"
   ]
  },
  {
   "cell_type": "code",
   "execution_count": null,
   "id": "f29d6501",
   "metadata": {},
   "outputs": [],
   "source": [
    "List3 * 3"
   ]
  },
  {
   "cell_type": "code",
   "execution_count": null,
   "id": "f80b1663",
   "metadata": {},
   "outputs": [],
   "source": [
    "sum(List3)"
   ]
  },
  {
   "cell_type": "code",
   "execution_count": null,
   "id": "132bcb1f",
   "metadata": {},
   "outputs": [],
   "source": [
    "len(List3)"
   ]
  },
  {
   "cell_type": "code",
   "execution_count": null,
   "id": "888676d8",
   "metadata": {},
   "outputs": [],
   "source": [
    "avg = sum(List3)/ len(List3)"
   ]
  },
  {
   "cell_type": "code",
   "execution_count": null,
   "id": "4a4808da",
   "metadata": {},
   "outputs": [],
   "source": [
    "round(avg,2)"
   ]
  },
  {
   "cell_type": "code",
   "execution_count": null,
   "id": "9747b3a0",
   "metadata": {},
   "outputs": [],
   "source": [
    "min(List3),max(List3)"
   ]
  },
  {
   "cell_type": "code",
   "execution_count": null,
   "id": "0f2968db",
   "metadata": {},
   "outputs": [],
   "source": [
    "# calculate avarage marks of students.\n",
    "marks = [85,96,78,60,89,75]\n",
    "avg_marks = sum(marks)/len(marks)\n",
    "print(f'The average marks is {round(avg_marks,2)}%')"
   ]
  },
  {
   "cell_type": "code",
   "execution_count": null,
   "id": "b55837eb",
   "metadata": {},
   "outputs": [],
   "source": [
    "L2 = ['Excelr','data','science','text','book']"
   ]
  },
  {
   "cell_type": "code",
   "execution_count": null,
   "id": "7cf18b08",
   "metadata": {},
   "outputs": [],
   "source": [
    "type(L2[0])"
   ]
  },
  {
   "cell_type": "code",
   "execution_count": null,
   "id": "829e4b00",
   "metadata": {},
   "outputs": [],
   "source": [
    "L2[1] = L2[1].upper()\n",
    "L2"
   ]
  },
  {
   "cell_type": "code",
   "execution_count": null,
   "id": "205cf6cd",
   "metadata": {},
   "outputs": [],
   "source": [
    "L2[0] = L2[0].swapcase()\n",
    "L2"
   ]
  },
  {
   "cell_type": "code",
   "execution_count": null,
   "id": "28a39d40",
   "metadata": {},
   "outputs": [],
   "source": [
    "for i in L2:\n",
    "    print(i.startswith('S'))"
   ]
  },
  {
   "cell_type": "code",
   "execution_count": null,
   "id": "4f37588b",
   "metadata": {},
   "outputs": [],
   "source": [
    "16 --> 20, 90-->30"
   ]
  },
  {
   "cell_type": "code",
   "execution_count": null,
   "id": "fc007674",
   "metadata": {},
   "outputs": [],
   "source": [
    "mul_lst = [[10,20,30,[0,1,2]],[15,16,20],[80,90,40]]"
   ]
  },
  {
   "cell_type": "code",
   "execution_count": null,
   "id": "d3be2fb8",
   "metadata": {},
   "outputs": [],
   "source": [
    "type(mul_lst[2])"
   ]
  },
  {
   "cell_type": "code",
   "execution_count": null,
   "id": "eb5fc35b",
   "metadata": {},
   "outputs": [],
   "source": [
    "mul_lst[0][3][0] = 10"
   ]
  },
  {
   "cell_type": "code",
   "execution_count": null,
   "id": "af91a2de",
   "metadata": {},
   "outputs": [],
   "source": [
    "mul_lst[1][1] = 20"
   ]
  },
  {
   "cell_type": "code",
   "execution_count": null,
   "id": "35dd8618",
   "metadata": {},
   "outputs": [],
   "source": [
    "mul_lst[2][1] = 30"
   ]
  },
  {
   "cell_type": "code",
   "execution_count": null,
   "id": "cca4c1ed",
   "metadata": {},
   "outputs": [],
   "source": [
    "mul_lst"
   ]
  },
  {
   "cell_type": "code",
   "execution_count": null,
   "id": "c49c1478",
   "metadata": {},
   "outputs": [],
   "source": [
    "mul_lst[0][3][0]"
   ]
  },
  {
   "cell_type": "code",
   "execution_count": null,
   "id": "abf78d1a",
   "metadata": {},
   "outputs": [],
   "source": [
    "L2.pop(-2)"
   ]
  },
  {
   "cell_type": "code",
   "execution_count": null,
   "id": "c52a52a0",
   "metadata": {},
   "outputs": [],
   "source": [
    "type(L2[2])"
   ]
  },
  {
   "cell_type": "code",
   "execution_count": null,
   "id": "d34e3e5a",
   "metadata": {},
   "outputs": [],
   "source": [
    "type(L2[3])"
   ]
  },
  {
   "cell_type": "code",
   "execution_count": null,
   "id": "350cb4d8",
   "metadata": {},
   "outputs": [],
   "source": [
    "L2[1] = 'Excelr'"
   ]
  },
  {
   "cell_type": "code",
   "execution_count": null,
   "id": "7530adca",
   "metadata": {},
   "outputs": [],
   "source": [
    "L2"
   ]
  },
  {
   "cell_type": "code",
   "execution_count": null,
   "id": "4385a0c1",
   "metadata": {},
   "outputs": [],
   "source": [
    "L2[2] = 4+5j"
   ]
  },
  {
   "cell_type": "code",
   "execution_count": null,
   "id": "0e1bdd4a",
   "metadata": {},
   "outputs": [],
   "source": [
    "L2[2] = "
   ]
  },
  {
   "cell_type": "code",
   "execution_count": null,
   "id": "ff79815d",
   "metadata": {},
   "outputs": [],
   "source": [
    "L2"
   ]
  },
  {
   "cell_type": "raw",
   "id": "0606e1e7",
   "metadata": {},
   "source": [
    "# Data structers\n",
    "1) String\n",
    "2) List\n",
    "3) Set\n",
    "4) Tuple\n",
    "5) Dictionary"
   ]
  },
  {
   "cell_type": "raw",
   "id": "cb050a41",
   "metadata": {},
   "source": [
    "String : Slicing, joining, Concatination,Access,Updation,Deletion, iterating, casting."
   ]
  },
  {
   "cell_type": "markdown",
   "id": "6654b3c9",
   "metadata": {},
   "source": [
    "List: Slicing, access, Updation ,Deleting, iterating, casting."
   ]
  },
  {
   "cell_type": "markdown",
   "id": "771b363e",
   "metadata": {},
   "source": [
    "tuple: Slicing, Access, iterate, Casting."
   ]
  },
  {
   "cell_type": "markdown",
   "id": "b4a1b908",
   "metadata": {},
   "source": [
    "Set: Iterate, Casting, deletion, Set operation(Union, diffrence, Intersection)"
   ]
  },
  {
   "cell_type": "markdown",
   "id": "2d4c165f",
   "metadata": {},
   "source": [
    "Dict : Slicing using fucntion, Access elements using(functions), Deleting , iterating, casting(only useing fuctiion)"
   ]
  },
  {
   "cell_type": "code",
   "execution_count": null,
   "id": "0c0f745f",
   "metadata": {},
   "outputs": [],
   "source": []
  },
  {
   "cell_type": "code",
   "execution_count": null,
   "id": "214c5700",
   "metadata": {},
   "outputs": [],
   "source": [
    "L1 = [10,11,12,13,14,15,16,15]\n",
    "L2 =  [11,15,18,19,16,17,12]\n",
    "L3 = [10,10.2,'Excelr',10j+1,True,False]"
   ]
  },
  {
   "cell_type": "code",
   "execution_count": null,
   "id": "a54d10dc",
   "metadata": {},
   "outputs": [],
   "source": [
    "print(type(L1))\n",
    "print(type(L2))\n",
    "print(type(L3))"
   ]
  },
  {
   "cell_type": "code",
   "execution_count": null,
   "id": "812ced4b",
   "metadata": {},
   "outputs": [],
   "source": [
    "L1 + L2"
   ]
  },
  {
   "cell_type": "code",
   "execution_count": null,
   "id": "2e2e740a",
   "metadata": {},
   "outputs": [],
   "source": [
    "L1 != L2, 15 in L1"
   ]
  },
  {
   "cell_type": "code",
   "execution_count": null,
   "id": "71ac8843",
   "metadata": {},
   "outputs": [],
   "source": [
    "'Excelr' in L3"
   ]
  },
  {
   "cell_type": "markdown",
   "id": "0e8f0840",
   "metadata": {},
   "source": [
    "[start : end : step]"
   ]
  },
  {
   "cell_type": "code",
   "execution_count": null,
   "id": "1c7a3e04",
   "metadata": {},
   "outputs": [],
   "source": [
    "L1 + L2"
   ]
  },
  {
   "cell_type": "code",
   "execution_count": null,
   "id": "f99a5aca",
   "metadata": {},
   "outputs": [],
   "source": [
    "L1 + L3"
   ]
  },
  {
   "cell_type": "code",
   "execution_count": null,
   "id": "a54486cd",
   "metadata": {},
   "outputs": [],
   "source": [
    "L1"
   ]
  },
  {
   "cell_type": "code",
   "execution_count": null,
   "id": "7ae1085d",
   "metadata": {},
   "outputs": [],
   "source": [
    "L1*2"
   ]
  },
  {
   "cell_type": "code",
   "execution_count": null,
   "id": "4bcd764f",
   "metadata": {},
   "outputs": [],
   "source": [
    "L1 * L2"
   ]
  },
  {
   "cell_type": "code",
   "execution_count": null,
   "id": "d5529cdc",
   "metadata": {},
   "outputs": [],
   "source": [
    "print(L1[0] / 3)\n",
    "     \n",
    "     \n",
    "     "
   ]
  },
  {
   "cell_type": "code",
   "execution_count": null,
   "id": "59fe655f",
   "metadata": {},
   "outputs": [],
   "source": [
    "L1, L2"
   ]
  },
  {
   "cell_type": "code",
   "execution_count": null,
   "id": "fc9f7451",
   "metadata": {},
   "outputs": [],
   "source": [
    "L1[7] = L2"
   ]
  },
  {
   "cell_type": "code",
   "execution_count": null,
   "id": "952d22fc",
   "metadata": {},
   "outputs": [],
   "source": [
    "L1"
   ]
  },
  {
   "cell_type": "code",
   "execution_count": null,
   "id": "cd7f13ba",
   "metadata": {},
   "outputs": [],
   "source": [
    "L1[7].append(18)"
   ]
  },
  {
   "cell_type": "code",
   "execution_count": null,
   "id": "6ff33ff1",
   "metadata": {},
   "outputs": [],
   "source": [
    "L1"
   ]
  },
  {
   "cell_type": "code",
   "execution_count": null,
   "id": "ded08676",
   "metadata": {},
   "outputs": [],
   "source": []
  },
  {
   "cell_type": "code",
   "execution_count": null,
   "id": "de11c3df",
   "metadata": {},
   "outputs": [],
   "source": [
    "L4 = L1.copy()\n",
    "L4"
   ]
  },
  {
   "cell_type": "code",
   "execution_count": null,
   "id": "9b3256ce",
   "metadata": {},
   "outputs": [],
   "source": [
    "L4"
   ]
  },
  {
   "cell_type": "code",
   "execution_count": null,
   "id": "311ef054",
   "metadata": {},
   "outputs": [],
   "source": [
    "L3"
   ]
  },
  {
   "cell_type": "code",
   "execution_count": null,
   "id": "16a83d15",
   "metadata": {},
   "outputs": [],
   "source": [
    "L1.count(19)"
   ]
  },
  {
   "cell_type": "code",
   "execution_count": null,
   "id": "c46b064f",
   "metadata": {},
   "outputs": [],
   "source": [
    "L2"
   ]
  },
  {
   "cell_type": "code",
   "execution_count": null,
   "id": "962e3ee9",
   "metadata": {},
   "outputs": [],
   "source": [
    "L3.extend(L2)"
   ]
  },
  {
   "cell_type": "code",
   "execution_count": null,
   "id": "2afa2f41",
   "metadata": {},
   "outputs": [],
   "source": [
    "L3"
   ]
  },
  {
   "cell_type": "code",
   "execution_count": null,
   "id": "fe871897",
   "metadata": {},
   "outputs": [],
   "source": [
    "len(L3)"
   ]
  },
  {
   "cell_type": "code",
   "execution_count": null,
   "id": "b99ee831",
   "metadata": {},
   "outputs": [],
   "source": [
    "L2"
   ]
  },
  {
   "cell_type": "code",
   "execution_count": null,
   "id": "2fbe04ed",
   "metadata": {},
   "outputs": [],
   "source": [
    "L2.index(19)"
   ]
  },
  {
   "cell_type": "code",
   "execution_count": null,
   "id": "5f4315aa",
   "metadata": {},
   "outputs": [],
   "source": [
    "L2.insert(2,20)"
   ]
  },
  {
   "cell_type": "code",
   "execution_count": null,
   "id": "2dcc10aa",
   "metadata": {},
   "outputs": [],
   "source": [
    "L2"
   ]
  },
  {
   "cell_type": "code",
   "execution_count": null,
   "id": "66cb092b",
   "metadata": {},
   "outputs": [],
   "source": [
    "L2.pop()"
   ]
  },
  {
   "cell_type": "code",
   "execution_count": null,
   "id": "ca81c81e",
   "metadata": {},
   "outputs": [],
   "source": [
    "L2"
   ]
  },
  {
   "cell_type": "code",
   "execution_count": null,
   "id": "910fc120",
   "metadata": {},
   "outputs": [],
   "source": [
    "L2.remove(15)"
   ]
  },
  {
   "cell_type": "code",
   "execution_count": null,
   "id": "1cc0bf6f",
   "metadata": {},
   "outputs": [],
   "source": [
    "L2"
   ]
  },
  {
   "cell_type": "code",
   "execution_count": null,
   "id": "5d2cad5c",
   "metadata": {},
   "outputs": [],
   "source": [
    "L2.reverse()"
   ]
  },
  {
   "cell_type": "code",
   "execution_count": null,
   "id": "fb0ca97a",
   "metadata": {},
   "outputs": [],
   "source": [
    "L2"
   ]
  },
  {
   "cell_type": "code",
   "execution_count": null,
   "id": "67aa22fb",
   "metadata": {},
   "outputs": [],
   "source": [
    "L3.remove(19)"
   ]
  },
  {
   "cell_type": "code",
   "execution_count": null,
   "id": "e1d502cf",
   "metadata": {},
   "outputs": [],
   "source": [
    "L3"
   ]
  },
  {
   "cell_type": "code",
   "execution_count": null,
   "id": "22427c70",
   "metadata": {},
   "outputs": [],
   "source": [
    "L2.sort(reverse=True)\n"
   ]
  },
  {
   "cell_type": "code",
   "execution_count": null,
   "id": "e479936a",
   "metadata": {},
   "outputs": [],
   "source": [
    "L1,L2,L3"
   ]
  },
  {
   "cell_type": "code",
   "execution_count": null,
   "id": "7766a63f",
   "metadata": {},
   "outputs": [],
   "source": [
    "L1.clear()"
   ]
  },
  {
   "cell_type": "code",
   "execution_count": null,
   "id": "8be54044",
   "metadata": {},
   "outputs": [],
   "source": [
    "L1"
   ]
  },
  {
   "cell_type": "code",
   "execution_count": null,
   "id": "238a9644",
   "metadata": {},
   "outputs": [],
   "source": [
    "L2"
   ]
  },
  {
   "cell_type": "code",
   "execution_count": null,
   "id": "7d6ee435",
   "metadata": {},
   "outputs": [],
   "source": [
    "L2.append([10,11,15,18,19])"
   ]
  },
  {
   "cell_type": "code",
   "execution_count": null,
   "id": "015c94f5",
   "metadata": {},
   "outputs": [],
   "source": [
    "L2"
   ]
  },
  {
   "cell_type": "code",
   "execution_count": null,
   "id": "2e5facb0",
   "metadata": {},
   "outputs": [],
   "source": [
    "L2[7][0] = 15"
   ]
  },
  {
   "cell_type": "code",
   "execution_count": null,
   "id": "38750ffa",
   "metadata": {},
   "outputs": [],
   "source": [
    "L4 = [8,9,[10,15,14,[5,4,6,[9,10,11]]],[12,17,18],[13,18,19]]"
   ]
  },
  {
   "cell_type": "code",
   "execution_count": null,
   "id": "5e5469a8",
   "metadata": {},
   "outputs": [],
   "source": [
    "L4[2][3][3][1]"
   ]
  },
  {
   "cell_type": "code",
   "execution_count": null,
   "id": "1665da7d",
   "metadata": {},
   "outputs": [],
   "source": [
    "L4[2][1] = 11"
   ]
  },
  {
   "cell_type": "code",
   "execution_count": null,
   "id": "da928d67",
   "metadata": {},
   "outputs": [],
   "source": [
    "L4"
   ]
  },
  {
   "cell_type": "code",
   "execution_count": null,
   "id": "6f97df07",
   "metadata": {},
   "outputs": [],
   "source": [
    "L4[3][2] = 20"
   ]
  },
  {
   "cell_type": "code",
   "execution_count": null,
   "id": "ee228f01",
   "metadata": {},
   "outputs": [],
   "source": []
  },
  {
   "cell_type": "code",
   "execution_count": null,
   "id": "ba08133a",
   "metadata": {},
   "outputs": [],
   "source": [
    "L4[1][1] = 80"
   ]
  },
  {
   "cell_type": "code",
   "execution_count": null,
   "id": "0b06fc69",
   "metadata": {},
   "outputs": [],
   "source": [
    "L4"
   ]
  },
  {
   "cell_type": "code",
   "execution_count": null,
   "id": "dcfb6ee2",
   "metadata": {},
   "outputs": [],
   "source": [
    "Extract 0 and 0, change the value to 11,12"
   ]
  },
  {
   "cell_type": "code",
   "execution_count": null,
   "id": "ce161ad5",
   "metadata": {},
   "outputs": [],
   "source": [
    "L7 = [[[10,0,0],[5,4,6]],[12,17,18],[13,18,19]]"
   ]
  },
  {
   "cell_type": "code",
   "execution_count": null,
   "id": "9f12ad1a",
   "metadata": {},
   "outputs": [],
   "source": [
    "marks = [[90,63,80,75,65,98],[95,64,88,76,65,99]]"
   ]
  },
  {
   "cell_type": "code",
   "execution_count": null,
   "id": "a546383b",
   "metadata": {},
   "outputs": [],
   "source": [
    "avg0 = sum(marks[1])/ len(marks[1])\n",
    "print(avg0)"
   ]
  },
  {
   "cell_type": "code",
   "execution_count": null,
   "id": "c6d367ff",
   "metadata": {},
   "outputs": [],
   "source": [
    "marks[0].sort()"
   ]
  },
  {
   "cell_type": "code",
   "execution_count": null,
   "id": "a7aeab69",
   "metadata": {},
   "outputs": [],
   "source": [
    "marks[0][-1],marks[0][-2]"
   ]
  },
  {
   "cell_type": "code",
   "execution_count": null,
   "id": "926c6ed6",
   "metadata": {},
   "outputs": [],
   "source": [
    "1. write uppercase for vivek,\n",
    "2. write lowercase for Jugaib\n",
    "3. write capitalize case for jagadish\n",
    "4. split the name for preethi usha\n",
    "5. add prefix for stephy, miss"
   ]
  },
  {
   "cell_type": "code",
   "execution_count": null,
   "id": "59d5f072",
   "metadata": {},
   "outputs": [],
   "source": [
    "names = ['vivek','JuhAiB','JAGADISH','PREETHI USHA','STEPHY']"
   ]
  },
  {
   "cell_type": "markdown",
   "id": "e18be287",
   "metadata": {},
   "source": [
    "# Task: create a marks variable with 2 diffrent list data, \n",
    "# then calculate the avearge, use f string to get print the output"
   ]
  },
  {
   "cell_type": "markdown",
   "id": "ac410c43",
   "metadata": {},
   "source": [
    "# Task: create list of string as name, conver to uppercase and update the variable."
   ]
  },
  {
   "cell_type": "code",
   "execution_count": null,
   "id": "cd6ddb46",
   "metadata": {},
   "outputs": [],
   "source": [
    "name = ['Excelr','data']"
   ]
  },
  {
   "cell_type": "code",
   "execution_count": null,
   "id": "6f68dd31",
   "metadata": {},
   "outputs": [],
   "source": [
    "name[0] = name[0].upper()"
   ]
  },
  {
   "cell_type": "code",
   "execution_count": null,
   "id": "b10a5740",
   "metadata": {},
   "outputs": [],
   "source": [
    "name"
   ]
  },
  {
   "cell_type": "code",
   "execution_count": null,
   "id": "9b44b7e8",
   "metadata": {},
   "outputs": [],
   "source": [
    "L7[0][0][2] = 20"
   ]
  },
  {
   "cell_type": "code",
   "execution_count": null,
   "id": "517bbd00",
   "metadata": {},
   "outputs": [],
   "source": [
    "L7[2][1] = 5"
   ]
  },
  {
   "cell_type": "code",
   "execution_count": null,
   "id": "c251e2e1",
   "metadata": {},
   "outputs": [],
   "source": [
    "L7"
   ]
  },
  {
   "cell_type": "markdown",
   "id": "7111185a",
   "metadata": {},
   "source": [
    "# Task2:  create a list of ages, calculate the max of age?  if i increase age as 10 times, then what is age?"
   ]
  },
  {
   "cell_type": "code",
   "execution_count": null,
   "id": "70503a4e",
   "metadata": {},
   "outputs": [],
   "source": [
    "age = [15,53,54,67,87,23]\n",
    "age.sort()\n",
    "highest_age = age[-1]*10\n",
    "print(age)\n",
    "print(highest_age)"
   ]
  },
  {
   "cell_type": "code",
   "execution_count": null,
   "id": "62f1d3c9",
   "metadata": {},
   "outputs": [],
   "source": [
    "max(age) * 10"
   ]
  },
  {
   "cell_type": "markdown",
   "id": "0e3f9731",
   "metadata": {},
   "source": [
    "# Tuple"
   ]
  },
  {
   "cell_type": "markdown",
   "id": "0ec656b0",
   "metadata": {},
   "source": [
    "# Tuple --> (), without braces,immutable."
   ]
  },
  {
   "cell_type": "code",
   "execution_count": null,
   "id": "3d142b6e",
   "metadata": {},
   "outputs": [],
   "source": [
    "tup = ()"
   ]
  },
  {
   "cell_type": "code",
   "execution_count": null,
   "id": "ad7622ed",
   "metadata": {},
   "outputs": [],
   "source": [
    "tup = 1,2,3,6"
   ]
  },
  {
   "cell_type": "code",
   "execution_count": null,
   "id": "036498ce",
   "metadata": {},
   "outputs": [],
   "source": [
    "type(tup)"
   ]
  },
  {
   "cell_type": "code",
   "execution_count": null,
   "id": "1824c1d4",
   "metadata": {},
   "outputs": [],
   "source": [
    "tup = tuple([1,2,3])\n",
    "type(tup)"
   ]
  },
  {
   "cell_type": "code",
   "execution_count": null,
   "id": "ffe97e25",
   "metadata": {},
   "outputs": [],
   "source": [
    "tup1 = 10,20,30\n",
    "type(tup1)"
   ]
  },
  {
   "cell_type": "code",
   "execution_count": null,
   "id": "723bbffc",
   "metadata": {},
   "outputs": [],
   "source": [
    "tup2 = tuple([10,20,300])"
   ]
  },
  {
   "cell_type": "code",
   "execution_count": null,
   "id": "c1931142",
   "metadata": {},
   "outputs": [],
   "source": [
    "type(tup2)"
   ]
  },
  {
   "cell_type": "code",
   "execution_count": null,
   "id": "87ecc6a7",
   "metadata": {},
   "outputs": [],
   "source": [
    "T1 = (10,'Excelr',10j+1,11,12)"
   ]
  },
  {
   "cell_type": "code",
   "execution_count": null,
   "id": "11f2688c",
   "metadata": {},
   "outputs": [],
   "source": [
    "T1.count(10), T1.index(11)"
   ]
  },
  {
   "cell_type": "code",
   "execution_count": null,
   "id": "570ea4b9",
   "metadata": {},
   "outputs": [],
   "source": [
    "T1[0] = 20"
   ]
  },
  {
   "cell_type": "code",
   "execution_count": null,
   "id": "634085da",
   "metadata": {},
   "outputs": [],
   "source": [
    "T1 = list(T1)\n",
    "type(T1)"
   ]
  },
  {
   "cell_type": "code",
   "execution_count": null,
   "id": "7d2e4419",
   "metadata": {},
   "outputs": [],
   "source": [
    "T1[0] = 15"
   ]
  },
  {
   "cell_type": "code",
   "execution_count": null,
   "id": "44b1ae02",
   "metadata": {},
   "outputs": [],
   "source": [
    "T1"
   ]
  },
  {
   "cell_type": "code",
   "execution_count": null,
   "id": "e2fc456f",
   "metadata": {},
   "outputs": [],
   "source": [
    "T1 = tuple(T1)\n",
    "type(T1)"
   ]
  },
  {
   "cell_type": "code",
   "execution_count": null,
   "id": "ffa12a25",
   "metadata": {},
   "outputs": [],
   "source": [
    "T1"
   ]
  },
  {
   "cell_type": "code",
   "execution_count": null,
   "id": "d96e7397",
   "metadata": {},
   "outputs": [],
   "source": [
    "T1[1].upper()"
   ]
  },
  {
   "cell_type": "code",
   "execution_count": null,
   "id": "448f6f73",
   "metadata": {},
   "outputs": [],
   "source": []
  },
  {
   "cell_type": "code",
   "execution_count": null,
   "id": "595d3d69",
   "metadata": {},
   "outputs": [],
   "source": [
    "T2 = (10,14,15,'hi',10j+1)"
   ]
  },
  {
   "cell_type": "code",
   "execution_count": null,
   "id": "07882a28",
   "metadata": {},
   "outputs": [],
   "source": [
    "type(T2)"
   ]
  },
  {
   "cell_type": "code",
   "execution_count": null,
   "id": "a8b5c455",
   "metadata": {},
   "outputs": [],
   "source": [
    "T2.count(15)"
   ]
  },
  {
   "cell_type": "code",
   "execution_count": null,
   "id": "d54f154e",
   "metadata": {},
   "outputs": [],
   "source": [
    "T2.index(15)"
   ]
  },
  {
   "cell_type": "code",
   "execution_count": null,
   "id": "26ecb88a",
   "metadata": {},
   "outputs": [],
   "source": [
    "T4 = list(T2)\n",
    "type(T4),T4"
   ]
  },
  {
   "cell_type": "code",
   "execution_count": null,
   "id": "884279c8",
   "metadata": {},
   "outputs": [],
   "source": [
    "T4[3] = 18\n",
    "T2 = tuple(T4)\n",
    "print(T2)"
   ]
  },
  {
   "cell_type": "code",
   "execution_count": null,
   "id": "66088496",
   "metadata": {},
   "outputs": [],
   "source": [
    "t3 = ()\n",
    "type(t3)"
   ]
  },
  {
   "cell_type": "code",
   "execution_count": null,
   "id": "7cdcccd7",
   "metadata": {},
   "outputs": [],
   "source": [
    "T1.count(10)"
   ]
  },
  {
   "cell_type": "code",
   "execution_count": null,
   "id": "669af9ba",
   "metadata": {},
   "outputs": [],
   "source": [
    "T2.index(14)"
   ]
  },
  {
   "cell_type": "code",
   "execution_count": null,
   "id": "242fc7e6",
   "metadata": {},
   "outputs": [],
   "source": [
    "T1 = (1,'@',3,'5',6,'4')"
   ]
  },
  {
   "cell_type": "code",
   "execution_count": null,
   "id": "f4bee968",
   "metadata": {},
   "outputs": [],
   "source": [
    "T3 = ('one',2,'Three',4)"
   ]
  },
  {
   "cell_type": "code",
   "execution_count": null,
   "id": "9c89649b",
   "metadata": {},
   "outputs": [],
   "source": [
    "T4 = list(T3)"
   ]
  },
  {
   "cell_type": "code",
   "execution_count": null,
   "id": "91076181",
   "metadata": {},
   "outputs": [],
   "source": [
    "type(T4)\n",
    "print(T4)"
   ]
  },
  {
   "cell_type": "code",
   "execution_count": null,
   "id": "bf581350",
   "metadata": {},
   "outputs": [],
   "source": [
    "T4[0] = 'ONE'"
   ]
  },
  {
   "cell_type": "code",
   "execution_count": null,
   "id": "b19f60c9",
   "metadata": {},
   "outputs": [],
   "source": [
    "T4"
   ]
  },
  {
   "cell_type": "code",
   "execution_count": null,
   "id": "6a96be1e",
   "metadata": {},
   "outputs": [],
   "source": [
    "T3 = tuple(T4)"
   ]
  },
  {
   "cell_type": "code",
   "execution_count": null,
   "id": "a8c098b2",
   "metadata": {},
   "outputs": [],
   "source": [
    "type(T3)"
   ]
  },
  {
   "cell_type": "code",
   "execution_count": null,
   "id": "c9855057",
   "metadata": {},
   "outputs": [],
   "source": [
    "T3"
   ]
  },
  {
   "cell_type": "markdown",
   "id": "a352e926",
   "metadata": {},
   "source": [
    "T3"
   ]
  },
  {
   "cell_type": "code",
   "execution_count": null,
   "id": "56c71813",
   "metadata": {},
   "outputs": [],
   "source": [
    "T3[2] = 2+20j\n"
   ]
  },
  {
   "cell_type": "code",
   "execution_count": null,
   "id": "90a5cf57",
   "metadata": {},
   "outputs": [],
   "source": [
    "T3"
   ]
  },
  {
   "cell_type": "code",
   "execution_count": null,
   "id": "ca1f3dbd",
   "metadata": {},
   "outputs": [],
   "source": [
    "T3 = tuple(T2)"
   ]
  },
  {
   "cell_type": "code",
   "execution_count": null,
   "id": "26660749",
   "metadata": {},
   "outputs": [],
   "source": [
    "type(T3)"
   ]
  },
  {
   "cell_type": "markdown",
   "id": "eb19eee8",
   "metadata": {},
   "source": [
    "# set"
   ]
  },
  {
   "cell_type": "code",
   "execution_count": null,
   "id": "a5cd495a",
   "metadata": {},
   "outputs": [],
   "source": [
    "# It can be created {},set()"
   ]
  },
  {
   "cell_type": "code",
   "execution_count": null,
   "id": "af0a1bfc",
   "metadata": {},
   "outputs": [],
   "source": [
    "Set = {}\n",
    "type(Set)"
   ]
  },
  {
   "cell_type": "code",
   "execution_count": null,
   "id": "5836cbd3",
   "metadata": {},
   "outputs": [],
   "source": [
    "del set"
   ]
  },
  {
   "cell_type": "code",
   "execution_count": null,
   "id": "8d8dc32c",
   "metadata": {},
   "outputs": [],
   "source": []
  },
  {
   "cell_type": "code",
   "execution_count": null,
   "id": "cdc372fd",
   "metadata": {},
   "outputs": [],
   "source": [
    "Set = set()\n",
    "type(Set)"
   ]
  },
  {
   "cell_type": "code",
   "execution_count": 13,
   "id": "e6585908",
   "metadata": {},
   "outputs": [
    {
     "data": {
      "text/plain": [
       "set"
      ]
     },
     "execution_count": 13,
     "metadata": {},
     "output_type": "execute_result"
    }
   ],
   "source": [
    "S1 = set({101,102,88,105,108,110,99,110,101})\n",
    "type(S1)"
   ]
  },
  {
   "cell_type": "code",
   "execution_count": 14,
   "id": "c0a510c7",
   "metadata": {},
   "outputs": [
    {
     "name": "stdout",
     "output_type": "stream",
     "text": [
      "{99, 101, 102, 88, 105, 108, 110}\n"
     ]
    }
   ],
   "source": [
    "print(S1)"
   ]
  },
  {
   "cell_type": "code",
   "execution_count": 5,
   "id": "20ecad21",
   "metadata": {},
   "outputs": [
    {
     "data": {
      "text/plain": [
       "{'a', 'c', 'd', 'e', 'o'}"
      ]
     },
     "execution_count": 5,
     "metadata": {},
     "output_type": "execute_result"
    }
   ],
   "source": [
    "string_set = {'a','c','d','a','e','o'}\n",
    "string_set"
   ]
  },
  {
   "cell_type": "code",
   "execution_count": 6,
   "id": "8431bc72",
   "metadata": {},
   "outputs": [
    {
     "data": {
      "text/plain": [
       "{88, 99, 101, 110, 201, 202, 205, 208, 210}"
      ]
     },
     "execution_count": 6,
     "metadata": {},
     "output_type": "execute_result"
    }
   ],
   "source": [
    "S2 = {201,202,205,208,210,99,88,110,101}\n",
    "S2"
   ]
  },
  {
   "cell_type": "code",
   "execution_count": 16,
   "id": "02cb94f3",
   "metadata": {},
   "outputs": [
    {
     "data": {
      "text/plain": [
       "{88, 99, 101, 102, 105, 108, 110}"
      ]
     },
     "execution_count": 16,
     "metadata": {},
     "output_type": "execute_result"
    }
   ],
   "source": [
    "S1"
   ]
  },
  {
   "cell_type": "code",
   "execution_count": 19,
   "id": "a6319cf9",
   "metadata": {},
   "outputs": [],
   "source": [
    "S1.add(111)"
   ]
  },
  {
   "cell_type": "code",
   "execution_count": 20,
   "id": "45ddc73d",
   "metadata": {},
   "outputs": [
    {
     "data": {
      "text/plain": [
       "{88, 99, 101, 102, 105, 108, 110, 111}"
      ]
     },
     "execution_count": 20,
     "metadata": {},
     "output_type": "execute_result"
    }
   ],
   "source": [
    "S1"
   ]
  },
  {
   "cell_type": "code",
   "execution_count": 21,
   "id": "53c98d08",
   "metadata": {},
   "outputs": [
    {
     "data": {
      "text/plain": [
       "{88, 99, 101, 102, 105, 108, 110, 111}"
      ]
     },
     "execution_count": 21,
     "metadata": {},
     "output_type": "execute_result"
    }
   ],
   "source": [
    "S3 = S1.copy()\n",
    "S3"
   ]
  },
  {
   "cell_type": "code",
   "execution_count": 22,
   "id": "43835292",
   "metadata": {},
   "outputs": [
    {
     "data": {
      "text/plain": [
       "({88, 99, 101, 102, 105, 108, 110, 111},\n",
       " {88, 99, 101, 102, 105, 108, 110, 111})"
      ]
     },
     "execution_count": 22,
     "metadata": {},
     "output_type": "execute_result"
    }
   ],
   "source": [
    "S1,S3"
   ]
  },
  {
   "cell_type": "code",
   "execution_count": 24,
   "id": "ba9cde94",
   "metadata": {},
   "outputs": [
    {
     "data": {
      "text/plain": [
       "101"
      ]
     },
     "execution_count": 24,
     "metadata": {},
     "output_type": "execute_result"
    }
   ],
   "source": [
    "S1.pop()"
   ]
  },
  {
   "cell_type": "code",
   "execution_count": 25,
   "id": "0a4470ba",
   "metadata": {},
   "outputs": [],
   "source": [
    "S1.remove(88)"
   ]
  },
  {
   "cell_type": "code",
   "execution_count": 27,
   "id": "6b93e014",
   "metadata": {},
   "outputs": [
    {
     "data": {
      "text/plain": [
       "102"
      ]
     },
     "execution_count": 27,
     "metadata": {},
     "output_type": "execute_result"
    }
   ],
   "source": [
    "S1.pop()"
   ]
  },
  {
   "cell_type": "code",
   "execution_count": 28,
   "id": "2d7eba0c",
   "metadata": {},
   "outputs": [],
   "source": [
    "S1.update({88,99,102,101})"
   ]
  },
  {
   "cell_type": "code",
   "execution_count": 29,
   "id": "996f95b5",
   "metadata": {},
   "outputs": [
    {
     "data": {
      "text/plain": [
       "{88, 99, 101, 102, 105, 108, 110, 111}"
      ]
     },
     "execution_count": 29,
     "metadata": {},
     "output_type": "execute_result"
    }
   ],
   "source": [
    "S1"
   ]
  },
  {
   "cell_type": "code",
   "execution_count": 34,
   "id": "5f62ceb2",
   "metadata": {},
   "outputs": [
    {
     "data": {
      "text/plain": [
       "({88, 99, 101, 102, 105, 108, 110, 111},\n",
       " {88, 99, 101, 110, 201, 202, 205, 208, 210},\n",
       " {88, 99, 101, 102, 105, 108, 110, 111})"
      ]
     },
     "execution_count": 34,
     "metadata": {},
     "output_type": "execute_result"
    }
   ],
   "source": [
    "S1,S2,S3"
   ]
  },
  {
   "cell_type": "code",
   "execution_count": 33,
   "id": "cf0b9925",
   "metadata": {},
   "outputs": [
    {
     "data": {
      "text/plain": [
       "{102, 105, 108, 111}"
      ]
     },
     "execution_count": 33,
     "metadata": {},
     "output_type": "execute_result"
    }
   ],
   "source": [
    "S3.difference(S2)"
   ]
  },
  {
   "cell_type": "code",
   "execution_count": 35,
   "id": "8573c97c",
   "metadata": {},
   "outputs": [],
   "source": [
    "S3.difference_update(S2)"
   ]
  },
  {
   "cell_type": "code",
   "execution_count": 36,
   "id": "900f71a6",
   "metadata": {},
   "outputs": [
    {
     "data": {
      "text/plain": [
       "({88, 99, 101, 102, 105, 108, 110, 111},\n",
       " {88, 99, 101, 110, 201, 202, 205, 208, 210},\n",
       " {102, 105, 108, 111})"
      ]
     },
     "execution_count": 36,
     "metadata": {},
     "output_type": "execute_result"
    }
   ],
   "source": [
    "S1,S2,S3"
   ]
  },
  {
   "cell_type": "code",
   "execution_count": 37,
   "id": "24d6eeb9",
   "metadata": {},
   "outputs": [
    {
     "data": {
      "text/plain": [
       "{88, 99, 101, 110}"
      ]
     },
     "execution_count": 37,
     "metadata": {},
     "output_type": "execute_result"
    }
   ],
   "source": [
    "S1.intersection(S2)"
   ]
  },
  {
   "cell_type": "code",
   "execution_count": 38,
   "id": "72441544",
   "metadata": {},
   "outputs": [
    {
     "data": {
      "text/plain": [
       "set()"
      ]
     },
     "execution_count": 38,
     "metadata": {},
     "output_type": "execute_result"
    }
   ],
   "source": [
    "S3.intersection(S2)"
   ]
  },
  {
   "cell_type": "code",
   "execution_count": 39,
   "id": "3fedf707",
   "metadata": {},
   "outputs": [],
   "source": [
    "S1.intersection_update(S2)"
   ]
  },
  {
   "cell_type": "code",
   "execution_count": 40,
   "id": "d3e6be36",
   "metadata": {},
   "outputs": [
    {
     "data": {
      "text/plain": [
       "({88, 99, 101, 110},\n",
       " {88, 99, 101, 110, 201, 202, 205, 208, 210},\n",
       " {102, 105, 108, 111})"
      ]
     },
     "execution_count": 40,
     "metadata": {},
     "output_type": "execute_result"
    }
   ],
   "source": [
    "S1,S2,S3"
   ]
  },
  {
   "cell_type": "code",
   "execution_count": 41,
   "id": "378bf2e3",
   "metadata": {},
   "outputs": [
    {
     "data": {
      "text/plain": [
       "{201, 202, 205, 208, 210}"
      ]
     },
     "execution_count": 41,
     "metadata": {},
     "output_type": "execute_result"
    }
   ],
   "source": [
    "S1.symmetric_difference(S2)"
   ]
  },
  {
   "cell_type": "code",
   "execution_count": 42,
   "id": "c4a7bc9c",
   "metadata": {},
   "outputs": [
    {
     "data": {
      "text/plain": [
       "{88, 99, 101, 102, 105, 108, 110, 111, 201, 202, 205, 208, 210}"
      ]
     },
     "execution_count": 42,
     "metadata": {},
     "output_type": "execute_result"
    }
   ],
   "source": [
    "S3.union(S2)"
   ]
  },
  {
   "cell_type": "code",
   "execution_count": null,
   "id": "8fc4eca8",
   "metadata": {},
   "outputs": [],
   "source": []
  },
  {
   "cell_type": "code",
   "execution_count": null,
   "id": "5f2c238b",
   "metadata": {},
   "outputs": [],
   "source": []
  },
  {
   "cell_type": "code",
   "execution_count": null,
   "id": "35584358",
   "metadata": {},
   "outputs": [],
   "source": []
  },
  {
   "cell_type": "code",
   "execution_count": null,
   "id": "21bf1a14",
   "metadata": {},
   "outputs": [],
   "source": []
  },
  {
   "cell_type": "code",
   "execution_count": null,
   "id": "9aae665a",
   "metadata": {},
   "outputs": [],
   "source": []
  },
  {
   "cell_type": "code",
   "execution_count": null,
   "id": "c2d05dba",
   "metadata": {},
   "outputs": [],
   "source": [
    "print(S3.difference(S2))\n",
    "print(S3)"
   ]
  },
  {
   "cell_type": "code",
   "execution_count": null,
   "id": "0312699e",
   "metadata": {},
   "outputs": [],
   "source": [
    "S3.difference_update(S2)\n",
    "print(S3)"
   ]
  },
  {
   "cell_type": "code",
   "execution_count": null,
   "id": "0c21c087",
   "metadata": {},
   "outputs": [],
   "source": [
    "S1,S3,S2"
   ]
  },
  {
   "cell_type": "code",
   "execution_count": null,
   "id": "b96d4393",
   "metadata": {},
   "outputs": [],
   "source": [
    "S1.update({112,113})"
   ]
  },
  {
   "cell_type": "code",
   "execution_count": null,
   "id": "b2a65f5c",
   "metadata": {},
   "outputs": [],
   "source": [
    "S1"
   ]
  },
  {
   "cell_type": "code",
   "execution_count": null,
   "id": "bf33ff0a",
   "metadata": {},
   "outputs": [],
   "source": [
    "S1.discard(88)"
   ]
  },
  {
   "cell_type": "code",
   "execution_count": null,
   "id": "254ae9f6",
   "metadata": {},
   "outputs": [],
   "source": [
    "S1.pop()"
   ]
  },
  {
   "cell_type": "code",
   "execution_count": null,
   "id": "93b965ce",
   "metadata": {},
   "outputs": [],
   "source": [
    "S1.remove(102)"
   ]
  },
  {
   "cell_type": "code",
   "execution_count": null,
   "id": "28271f52",
   "metadata": {},
   "outputs": [],
   "source": [
    "S1 = {1,2,3,4,5,6,7}"
   ]
  },
  {
   "cell_type": "code",
   "execution_count": null,
   "id": "c6f5f0ee",
   "metadata": {},
   "outputs": [],
   "source": [
    "S1.discard({1,2,3,4,5,6,7})"
   ]
  },
  {
   "cell_type": "code",
   "execution_count": 43,
   "id": "34452305",
   "metadata": {},
   "outputs": [
    {
     "name": "stdout",
     "output_type": "stream",
     "text": [
      "None\n"
     ]
    }
   ],
   "source": [
    "a = {0,1,2}\n",
    "b = a.discard(0)\n",
    "print(b)"
   ]
  },
  {
   "cell_type": "code",
   "execution_count": null,
   "id": "0682ecc6",
   "metadata": {},
   "outputs": [],
   "source": [
    "a.discard(1)"
   ]
  },
  {
   "cell_type": "code",
   "execution_count": null,
   "id": "93f2c250",
   "metadata": {},
   "outputs": [],
   "source": [
    "S3,S2,S1"
   ]
  },
  {
   "cell_type": "code",
   "execution_count": null,
   "id": "2afdad87",
   "metadata": {},
   "outputs": [],
   "source": [
    "S4 = S1.copy()\n",
    "S4.update({8,9,10})"
   ]
  },
  {
   "cell_type": "code",
   "execution_count": 44,
   "id": "ffa7d16f",
   "metadata": {},
   "outputs": [],
   "source": [
    "A = {1,2,3,4,5,6,7}\n",
    "B = {1,2,3}"
   ]
  },
  {
   "cell_type": "code",
   "execution_count": 45,
   "id": "a91fa206",
   "metadata": {},
   "outputs": [
    {
     "data": {
      "text/plain": [
       "(True, True)"
      ]
     },
     "execution_count": 45,
     "metadata": {},
     "output_type": "execute_result"
    }
   ],
   "source": [
    "A.issuperset(B),B.issubset(A)"
   ]
  },
  {
   "cell_type": "code",
   "execution_count": 46,
   "id": "c677e9cf",
   "metadata": {},
   "outputs": [
    {
     "data": {
      "text/plain": [
       "(False, False)"
      ]
     },
     "execution_count": 46,
     "metadata": {},
     "output_type": "execute_result"
    }
   ],
   "source": [
    "A.issubset(B),B.issuperset(A)"
   ]
  },
  {
   "cell_type": "code",
   "execution_count": 47,
   "id": "4a29e265",
   "metadata": {
    "collapsed": true,
    "jupyter": {
     "outputs_hidden": true
    }
   },
   "outputs": [
    {
     "ename": "TypeError",
     "evalue": "'set' object is not subscriptable",
     "output_type": "error",
     "traceback": [
      "\u001b[1;31m---------------------------------------------------------------------------\u001b[0m",
      "\u001b[1;31mTypeError\u001b[0m                                 Traceback (most recent call last)",
      "Cell \u001b[1;32mIn[47], line 1\u001b[0m\n\u001b[1;32m----> 1\u001b[0m S2[\u001b[38;5;241m0\u001b[39m]\n",
      "\u001b[1;31mTypeError\u001b[0m: 'set' object is not subscriptable"
     ]
    }
   ],
   "source": [
    "S2[0]"
   ]
  },
  {
   "cell_type": "code",
   "execution_count": null,
   "id": "630c249b",
   "metadata": {},
   "outputs": [],
   "source": [
    "S2.symmetric_difference(S1)"
   ]
  },
  {
   "cell_type": "code",
   "execution_count": null,
   "id": "1ce249d8",
   "metadata": {},
   "outputs": [],
   "source": [
    "S2.union(S1)"
   ]
  },
  {
   "cell_type": "markdown",
   "id": "55bc8e8c",
   "metadata": {},
   "source": [
    "Slicing : No\n",
    "Access: No\n",
    "Update: Yes funtion\n",
    "Delete:yes \n",
    "cast:yes\n"
   ]
  },
  {
   "cell_type": "code",
   "execution_count": null,
   "id": "2808e3a7",
   "metadata": {},
   "outputs": [],
   "source": [
    "S1.add(112)"
   ]
  },
  {
   "cell_type": "code",
   "execution_count": null,
   "id": "1724cff1",
   "metadata": {},
   "outputs": [],
   "source": [
    "S1.add(87)"
   ]
  },
  {
   "cell_type": "code",
   "execution_count": null,
   "id": "7e219ba0",
   "metadata": {},
   "outputs": [],
   "source": [
    "S1"
   ]
  },
  {
   "cell_type": "code",
   "execution_count": null,
   "id": "eb508ef3",
   "metadata": {},
   "outputs": [],
   "source": [
    "S3 = S1.copy()\n",
    "S3"
   ]
  },
  {
   "cell_type": "code",
   "execution_count": null,
   "id": "33c02d41",
   "metadata": {},
   "outputs": [],
   "source": [
    "S3.clear()\n",
    "S3"
   ]
  },
  {
   "cell_type": "code",
   "execution_count": null,
   "id": "94c29720",
   "metadata": {},
   "outputs": [],
   "source": [
    "S1.pop()"
   ]
  },
  {
   "cell_type": "code",
   "execution_count": null,
   "id": "e510f60b",
   "metadata": {},
   "outputs": [],
   "source": [
    "S1.remove(105)"
   ]
  },
  {
   "cell_type": "code",
   "execution_count": null,
   "id": "60a300cf",
   "metadata": {},
   "outputs": [],
   "source": [
    "S1.update({113,114,115})"
   ]
  },
  {
   "cell_type": "code",
   "execution_count": null,
   "id": "94788774",
   "metadata": {},
   "outputs": [],
   "source": [
    "S1,S2"
   ]
  },
  {
   "cell_type": "code",
   "execution_count": null,
   "id": "a46c298c",
   "metadata": {},
   "outputs": [],
   "source": [
    "diff_S1 = S1.difference(S2)\n",
    "diff_S1"
   ]
  },
  {
   "cell_type": "code",
   "execution_count": null,
   "id": "3ab9e1bd",
   "metadata": {},
   "outputs": [],
   "source": [
    "S1.difference_update(S2)"
   ]
  },
  {
   "cell_type": "code",
   "execution_count": null,
   "id": "2e6f1a5d",
   "metadata": {},
   "outputs": [],
   "source": [
    "S1"
   ]
  },
  {
   "cell_type": "code",
   "execution_count": null,
   "id": "cf9136fd",
   "metadata": {},
   "outputs": [],
   "source": [
    "S1"
   ]
  },
  {
   "cell_type": "code",
   "execution_count": null,
   "id": "e1815abb",
   "metadata": {},
   "outputs": [],
   "source": [
    "S1.discard(102)"
   ]
  },
  {
   "cell_type": "code",
   "execution_count": null,
   "id": "7858c6df",
   "metadata": {},
   "outputs": [],
   "source": [
    "S1.discard(108)"
   ]
  },
  {
   "cell_type": "code",
   "execution_count": null,
   "id": "93634fb8",
   "metadata": {},
   "outputs": [],
   "source": [
    "S3 = {88, 99, 101, 110, 201}"
   ]
  },
  {
   "cell_type": "code",
   "execution_count": null,
   "id": "63566eb9",
   "metadata": {},
   "outputs": [],
   "source": [
    "S3,S2"
   ]
  },
  {
   "cell_type": "code",
   "execution_count": null,
   "id": "ef8d9f34",
   "metadata": {},
   "outputs": [],
   "source": [
    "S3.intersection(S2)"
   ]
  },
  {
   "cell_type": "code",
   "execution_count": null,
   "id": "fd705283",
   "metadata": {},
   "outputs": [],
   "source": [
    "S2.intersection_update(S3)"
   ]
  },
  {
   "cell_type": "code",
   "execution_count": null,
   "id": "9d24e11b",
   "metadata": {},
   "outputs": [],
   "source": [
    "S3,S2"
   ]
  },
  {
   "cell_type": "code",
   "execution_count": null,
   "id": "75c4c658",
   "metadata": {},
   "outputs": [],
   "source": [
    "{1,2,3,{1,2,3}}"
   ]
  },
  {
   "cell_type": "code",
   "execution_count": null,
   "id": "1e67f1b0",
   "metadata": {},
   "outputs": [],
   "source": [
    "s1 ,s2= set(),set()"
   ]
  },
  {
   "cell_type": "code",
   "execution_count": null,
   "id": "6171c551",
   "metadata": {},
   "outputs": [],
   "source": [
    "s1.isdisjoint(s2)"
   ]
  },
  {
   "cell_type": "code",
   "execution_count": null,
   "id": "712bf3e1",
   "metadata": {},
   "outputs": [],
   "source": [
    "S2.isdisjoint(S3)"
   ]
  },
  {
   "cell_type": "code",
   "execution_count": null,
   "id": "6e82a890",
   "metadata": {},
   "outputs": [],
   "source": [
    "d1 = {1,2,3,6}\n",
    "d2 = {6}"
   ]
  },
  {
   "cell_type": "code",
   "execution_count": null,
   "id": "4e270bb0",
   "metadata": {},
   "outputs": [],
   "source": [
    "d1.issubset(d2)"
   ]
  },
  {
   "cell_type": "code",
   "execution_count": null,
   "id": "280df175",
   "metadata": {},
   "outputs": [],
   "source": [
    "S3.issubset(S2)"
   ]
  },
  {
   "cell_type": "code",
   "execution_count": null,
   "id": "3f307664",
   "metadata": {},
   "outputs": [],
   "source": [
    "S2.issuperset(S3)"
   ]
  },
  {
   "cell_type": "code",
   "execution_count": null,
   "id": "439a7089",
   "metadata": {},
   "outputs": [],
   "source": [
    "S3 = {10,20}"
   ]
  },
  {
   "cell_type": "code",
   "execution_count": null,
   "id": "82a74d41",
   "metadata": {},
   "outputs": [],
   "source": [
    "S1,S2"
   ]
  },
  {
   "cell_type": "code",
   "execution_count": null,
   "id": "4428b49c",
   "metadata": {},
   "outputs": [],
   "source": [
    "S5 = S1.discard(S2)"
   ]
  },
  {
   "cell_type": "code",
   "execution_count": null,
   "id": "d035307a",
   "metadata": {},
   "outputs": [],
   "source": [
    "S5"
   ]
  },
  {
   "cell_type": "code",
   "execution_count": null,
   "id": "abc09d1d",
   "metadata": {},
   "outputs": [],
   "source": [
    "S5 = S3.discard(S2)"
   ]
  },
  {
   "cell_type": "code",
   "execution_count": null,
   "id": "c4b0ea9f",
   "metadata": {},
   "outputs": [],
   "source": [
    "S5."
   ]
  },
  {
   "cell_type": "code",
   "execution_count": null,
   "id": "b2f77fec",
   "metadata": {},
   "outputs": [],
   "source": [
    "S1,S2"
   ]
  },
  {
   "cell_type": "code",
   "execution_count": null,
   "id": "291c5c69",
   "metadata": {},
   "outputs": [],
   "source": [
    "S2.pop()"
   ]
  },
  {
   "cell_type": "code",
   "execution_count": null,
   "id": "7abcf94f",
   "metadata": {},
   "outputs": [],
   "source": [
    "S2.remove(88)"
   ]
  },
  {
   "cell_type": "code",
   "execution_count": null,
   "id": "1ff87815",
   "metadata": {},
   "outputs": [],
   "source": [
    "S2,S3"
   ]
  },
  {
   "cell_type": "code",
   "execution_count": null,
   "id": "6dd13368",
   "metadata": {},
   "outputs": [],
   "source": [
    "S2.symmetric_difference(S3)"
   ]
  },
  {
   "cell_type": "code",
   "execution_count": null,
   "id": "9417b297",
   "metadata": {},
   "outputs": [],
   "source": [
    "S2.symmetric_difference_update(S3)"
   ]
  },
  {
   "cell_type": "code",
   "execution_count": null,
   "id": "8e04c1ba",
   "metadata": {},
   "outputs": [],
   "source": [
    "S1.intersection_update(S2)"
   ]
  },
  {
   "cell_type": "code",
   "execution_count": null,
   "id": "93a1df45",
   "metadata": {},
   "outputs": [],
   "source": [
    "S2.union(S3)"
   ]
  },
  {
   "cell_type": "code",
   "execution_count": null,
   "id": "66a665ea",
   "metadata": {},
   "outputs": [],
   "source": [
    "S1.update({15})"
   ]
  },
  {
   "cell_type": "code",
   "execution_count": null,
   "id": "c918f027",
   "metadata": {},
   "outputs": [],
   "source": [
    "S1.update(S2)"
   ]
  },
  {
   "cell_type": "code",
   "execution_count": null,
   "id": "708f2126",
   "metadata": {},
   "outputs": [],
   "source": [
    "S1"
   ]
  },
  {
   "cell_type": "code",
   "execution_count": null,
   "id": "44d6dec5",
   "metadata": {},
   "outputs": [],
   "source": [
    "S1.difference_update(S2)"
   ]
  },
  {
   "cell_type": "code",
   "execution_count": null,
   "id": "f0c28a55",
   "metadata": {},
   "outputs": [],
   "source": [
    "S1"
   ]
  },
  {
   "cell_type": "code",
   "execution_count": null,
   "id": "2d61ff16",
   "metadata": {},
   "outputs": [],
   "source": [
    "S1.discard(102)"
   ]
  },
  {
   "cell_type": "code",
   "execution_count": null,
   "id": "ed7bcd74",
   "metadata": {},
   "outputs": [],
   "source": [
    "S1"
   ]
  },
  {
   "cell_type": "code",
   "execution_count": null,
   "id": "bd97139c",
   "metadata": {},
   "outputs": [],
   "source": [
    "S2,S3,S1"
   ]
  },
  {
   "cell_type": "code",
   "execution_count": null,
   "id": "a0ee5bd2",
   "metadata": {},
   "outputs": [],
   "source": [
    "s6 = S1.intersection(S2)\n",
    "s6"
   ]
  },
  {
   "cell_type": "code",
   "execution_count": null,
   "id": "f6e2e242",
   "metadata": {},
   "outputs": [],
   "source": [
    "S3 = {1,2,3,4}\n",
    "S4 = {5,6,7}\n",
    "S5 = {1,2,3,4,6,9}"
   ]
  },
  {
   "cell_type": "code",
   "execution_count": null,
   "id": "740b5b86",
   "metadata": {},
   "outputs": [],
   "source": [
    "S3.isdisjoint(S4)"
   ]
  },
  {
   "cell_type": "code",
   "execution_count": null,
   "id": "b75053f8",
   "metadata": {},
   "outputs": [],
   "source": [
    "S1.isdisjoint(S2)"
   ]
  },
  {
   "cell_type": "code",
   "execution_count": null,
   "id": "7dae52c7",
   "metadata": {},
   "outputs": [],
   "source": [
    "S3.issubset(S5)"
   ]
  },
  {
   "cell_type": "code",
   "execution_count": null,
   "id": "225d7fb9",
   "metadata": {},
   "outputs": [],
   "source": [
    "S4.issubset(S5)"
   ]
  },
  {
   "cell_type": "code",
   "execution_count": null,
   "id": "f985a4a9",
   "metadata": {},
   "outputs": [],
   "source": [
    "S5.issuperset(S3)"
   ]
  },
  {
   "cell_type": "code",
   "execution_count": null,
   "id": "0ba2b035",
   "metadata": {},
   "outputs": [],
   "source": [
    "S3.issuperset(S5)"
   ]
  },
  {
   "cell_type": "code",
   "execution_count": null,
   "id": "bd9bd78c",
   "metadata": {},
   "outputs": [],
   "source": [
    "S4.pop()"
   ]
  },
  {
   "cell_type": "code",
   "execution_count": null,
   "id": "f0f8ebdb",
   "metadata": {},
   "outputs": [],
   "source": [
    "S4"
   ]
  },
  {
   "cell_type": "code",
   "execution_count": null,
   "id": "c5074886",
   "metadata": {},
   "outputs": [],
   "source": [
    "S4.pop()"
   ]
  },
  {
   "cell_type": "code",
   "execution_count": null,
   "id": "01265565",
   "metadata": {},
   "outputs": [],
   "source": [
    "S5.remove(3)"
   ]
  },
  {
   "cell_type": "code",
   "execution_count": null,
   "id": "ac07203d",
   "metadata": {},
   "outputs": [],
   "source": [
    "S5,S4,S3"
   ]
  },
  {
   "cell_type": "code",
   "execution_count": null,
   "id": "d632858c",
   "metadata": {},
   "outputs": [],
   "source": [
    "S3.pop()"
   ]
  },
  {
   "cell_type": "code",
   "execution_count": null,
   "id": "20052744",
   "metadata": {},
   "outputs": [],
   "source": [
    "S3.pop()"
   ]
  },
  {
   "cell_type": "code",
   "execution_count": null,
   "id": "dab4cb08",
   "metadata": {},
   "outputs": [],
   "source": [
    "S3"
   ]
  },
  {
   "cell_type": "code",
   "execution_count": null,
   "id": "b8403796",
   "metadata": {},
   "outputs": [],
   "source": [
    "S5.remove(9)"
   ]
  },
  {
   "cell_type": "code",
   "execution_count": null,
   "id": "b07913a8",
   "metadata": {},
   "outputs": [],
   "source": [
    "S5.symmetric_difference(S3)"
   ]
  },
  {
   "cell_type": "code",
   "execution_count": null,
   "id": "809c78ad",
   "metadata": {},
   "outputs": [],
   "source": [
    "S5.symmetric_difference_update(S3)"
   ]
  },
  {
   "cell_type": "code",
   "execution_count": null,
   "id": "60ef88ce",
   "metadata": {},
   "outputs": [],
   "source": [
    "S5.union(S4)"
   ]
  },
  {
   "cell_type": "code",
   "execution_count": null,
   "id": "2b53c8df",
   "metadata": {},
   "outputs": [],
   "source": [
    "S5.update(S3)"
   ]
  },
  {
   "cell_type": "code",
   "execution_count": null,
   "id": "bdd2998e",
   "metadata": {},
   "outputs": [],
   "source": [
    "S5"
   ]
  },
  {
   "cell_type": "code",
   "execution_count": null,
   "id": "045da8c5",
   "metadata": {},
   "outputs": [],
   "source": [
    "S7 = set(S1)"
   ]
  },
  {
   "cell_type": "code",
   "execution_count": null,
   "id": "0fb337e5",
   "metadata": {},
   "outputs": [],
   "source": [
    "S7"
   ]
  },
  {
   "cell_type": "code",
   "execution_count": null,
   "id": "d47aa3e0",
   "metadata": {},
   "outputs": [],
   "source": [
    "S1.issuperset(S7)"
   ]
  },
  {
   "cell_type": "code",
   "execution_count": null,
   "id": "b786229e",
   "metadata": {},
   "outputs": [],
   "source": [
    "S2.pop()"
   ]
  },
  {
   "cell_type": "code",
   "execution_count": null,
   "id": "2b9b1748",
   "metadata": {},
   "outputs": [],
   "source": [
    "S1,S2"
   ]
  },
  {
   "cell_type": "code",
   "execution_count": null,
   "id": "de83b494",
   "metadata": {},
   "outputs": [],
   "source": [
    "S1.symmetric_difference(S2)"
   ]
  },
  {
   "cell_type": "code",
   "execution_count": null,
   "id": "f76ffe34",
   "metadata": {},
   "outputs": [],
   "source": [
    "S1,S2"
   ]
  },
  {
   "cell_type": "code",
   "execution_count": null,
   "id": "92fbdd50",
   "metadata": {},
   "outputs": [],
   "source": [
    "S1.symmetric_difference_update(S2)"
   ]
  },
  {
   "cell_type": "code",
   "execution_count": null,
   "id": "e8eadb03",
   "metadata": {},
   "outputs": [],
   "source": [
    "S1,S2"
   ]
  },
  {
   "cell_type": "code",
   "execution_count": null,
   "id": "60afd13c",
   "metadata": {},
   "outputs": [],
   "source": [
    "S1.union(S2)"
   ]
  },
  {
   "cell_type": "code",
   "execution_count": null,
   "id": "9eaf203e",
   "metadata": {},
   "outputs": [],
   "source": [
    "S1.update([102])"
   ]
  },
  {
   "cell_type": "code",
   "execution_count": null,
   "id": "76f6f034",
   "metadata": {},
   "outputs": [],
   "source": [
    "S1"
   ]
  },
  {
   "cell_type": "code",
   "execution_count": null,
   "id": "516b09cc",
   "metadata": {},
   "outputs": [],
   "source": [
    "type(S1)"
   ]
  },
  {
   "cell_type": "markdown",
   "id": "740aec12",
   "metadata": {},
   "source": [
    "# Dictionary"
   ]
  },
  {
   "cell_type": "code",
   "execution_count": 50,
   "id": "3dab35ac",
   "metadata": {},
   "outputs": [
    {
     "data": {
      "text/plain": [
       "(dict, dict)"
      ]
     },
     "execution_count": 50,
     "metadata": {},
     "output_type": "execute_result"
    }
   ],
   "source": [
    "d = {}\n",
    "d1 = dict()\n",
    "type(d),type(d1)"
   ]
  },
  {
   "cell_type": "code",
   "execution_count": 51,
   "id": "e23da491",
   "metadata": {},
   "outputs": [],
   "source": [
    "# Slicing : no\n",
    "# Access: No using index\n",
    "# {key:value,key1:value1}\n",
    "\n",
    "Dict1 = {\n",
    "         1:'S1',\n",
    "         2:'S2', \n",
    "         3:'S3', \n",
    "         4:'S4'\n",
    "}\n",
    "        "
   ]
  },
  {
   "cell_type": "code",
   "execution_count": 52,
   "id": "1ec5aa99",
   "metadata": {},
   "outputs": [
    {
     "data": {
      "text/plain": [
       "dict"
      ]
     },
     "execution_count": 52,
     "metadata": {},
     "output_type": "execute_result"
    }
   ],
   "source": [
    "type(Dict1)"
   ]
  },
  {
   "cell_type": "code",
   "execution_count": 53,
   "id": "5e25f9d1",
   "metadata": {},
   "outputs": [
    {
     "name": "stdout",
     "output_type": "stream",
     "text": [
      "{1: 'S1', 2: 'S2', 3: 'S3', 4: 'S4'}\n"
     ]
    }
   ],
   "source": [
    "print(Dict1)"
   ]
  },
  {
   "cell_type": "code",
   "execution_count": 54,
   "id": "843c429a",
   "metadata": {},
   "outputs": [
    {
     "data": {
      "text/plain": [
       "dict_keys([1, 2, 3, 4])"
      ]
     },
     "execution_count": 54,
     "metadata": {},
     "output_type": "execute_result"
    }
   ],
   "source": [
    "Dict1.keys()"
   ]
  },
  {
   "cell_type": "code",
   "execution_count": 55,
   "id": "bb2b1575",
   "metadata": {},
   "outputs": [
    {
     "data": {
      "text/plain": [
       "dict_values(['S1', 'S2', 'S3', 'S4'])"
      ]
     },
     "execution_count": 55,
     "metadata": {},
     "output_type": "execute_result"
    }
   ],
   "source": [
    "Dict1.values()"
   ]
  },
  {
   "cell_type": "code",
   "execution_count": 56,
   "id": "f8976947",
   "metadata": {},
   "outputs": [
    {
     "data": {
      "text/plain": [
       "dict_items([(1, 'S1'), (2, 'S2'), (3, 'S3'), (4, 'S4')])"
      ]
     },
     "execution_count": 56,
     "metadata": {},
     "output_type": "execute_result"
    }
   ],
   "source": [
    "Dict1.items()"
   ]
  },
  {
   "cell_type": "code",
   "execution_count": 58,
   "id": "d254a4d3",
   "metadata": {},
   "outputs": [
    {
     "data": {
      "text/plain": [
       "'S3'"
      ]
     },
     "execution_count": 58,
     "metadata": {},
     "output_type": "execute_result"
    }
   ],
   "source": [
    "Dict1.get(3)"
   ]
  },
  {
   "cell_type": "code",
   "execution_count": 60,
   "id": "6ba60237",
   "metadata": {},
   "outputs": [
    {
     "data": {
      "text/plain": [
       "'S4'"
      ]
     },
     "execution_count": 60,
     "metadata": {},
     "output_type": "execute_result"
    }
   ],
   "source": [
    "Dict1[4], # Dict1.keyname"
   ]
  },
  {
   "cell_type": "code",
   "execution_count": 61,
   "id": "e7ff5a22",
   "metadata": {},
   "outputs": [
    {
     "data": {
      "text/plain": [
       "'S4'"
      ]
     },
     "execution_count": 61,
     "metadata": {},
     "output_type": "execute_result"
    }
   ],
   "source": [
    "Dict1.pop(4)"
   ]
  },
  {
   "cell_type": "code",
   "execution_count": 62,
   "id": "6ce45a9e",
   "metadata": {},
   "outputs": [
    {
     "data": {
      "text/plain": [
       "{1: 'S1', 2: 'S2', 3: 'S3'}"
      ]
     },
     "execution_count": 62,
     "metadata": {},
     "output_type": "execute_result"
    }
   ],
   "source": [
    "Dict1"
   ]
  },
  {
   "cell_type": "code",
   "execution_count": 63,
   "id": "460d4ac2",
   "metadata": {},
   "outputs": [
    {
     "data": {
      "text/plain": [
       "(3, 'S3')"
      ]
     },
     "execution_count": 63,
     "metadata": {},
     "output_type": "execute_result"
    }
   ],
   "source": [
    "Dict1.popitem()"
   ]
  },
  {
   "cell_type": "code",
   "execution_count": 64,
   "id": "fc89a947",
   "metadata": {},
   "outputs": [
    {
     "data": {
      "text/plain": [
       "{1: 'S1', 2: 'S2'}"
      ]
     },
     "execution_count": 64,
     "metadata": {},
     "output_type": "execute_result"
    }
   ],
   "source": [
    "Dict1"
   ]
  },
  {
   "cell_type": "code",
   "execution_count": 65,
   "id": "44134e09",
   "metadata": {},
   "outputs": [],
   "source": [
    "Dict1.update({4:'S4'})"
   ]
  },
  {
   "cell_type": "code",
   "execution_count": 66,
   "id": "024bd7fa",
   "metadata": {},
   "outputs": [
    {
     "data": {
      "text/plain": [
       "{1: 'S1', 2: 'S2', 4: 'S4'}"
      ]
     },
     "execution_count": 66,
     "metadata": {},
     "output_type": "execute_result"
    }
   ],
   "source": [
    "Dict1"
   ]
  },
  {
   "cell_type": "code",
   "execution_count": 77,
   "id": "3ca081e8",
   "metadata": {},
   "outputs": [],
   "source": [
    "Dict2 = {5:'S1',6:'D2',7:'D3',8:'D4'}"
   ]
  },
  {
   "cell_type": "code",
   "execution_count": 78,
   "id": "2cae7047",
   "metadata": {},
   "outputs": [],
   "source": [
    "Dict2[5] = 'D1'"
   ]
  },
  {
   "cell_type": "code",
   "execution_count": 79,
   "id": "294423f8",
   "metadata": {},
   "outputs": [
    {
     "data": {
      "text/plain": [
       "{5: 'D1', 6: 'D2', 7: 'D3', 8: 'D4'}"
      ]
     },
     "execution_count": 79,
     "metadata": {},
     "output_type": "execute_result"
    }
   ],
   "source": [
    "Dict2"
   ]
  },
  {
   "cell_type": "code",
   "execution_count": 80,
   "id": "f70dff9c",
   "metadata": {},
   "outputs": [],
   "source": [
    "Dict2[5] = ['D1','D2','D3']\n",
    "Dict2[6] = ('T1','T2','T3')\n",
    "Dict2[7] = (10,20,30)\n",
    "Dict2[8] = {10.5,11.5,6.3}"
   ]
  },
  {
   "cell_type": "code",
   "execution_count": 89,
   "id": "dc882268",
   "metadata": {},
   "outputs": [
    {
     "data": {
      "text/plain": [
       "'D3'"
      ]
     },
     "execution_count": 89,
     "metadata": {},
     "output_type": "execute_result"
    }
   ],
   "source": [
    "Dict2[5][2]"
   ]
  },
  {
   "cell_type": "code",
   "execution_count": 90,
   "id": "6197910f",
   "metadata": {},
   "outputs": [],
   "source": [
    "Dict2[5][2] = 'D55555'"
   ]
  },
  {
   "cell_type": "code",
   "execution_count": 91,
   "id": "38667f43",
   "metadata": {
    "collapsed": true,
    "jupyter": {
     "outputs_hidden": true
    }
   },
   "outputs": [
    {
     "data": {
      "text/plain": [
       "{5: ['D1', 'D2', 'D55555'],\n",
       " 6: ('T1', 'T2', 'T3'),\n",
       " 7: (10, 20, 30),\n",
       " 8: {6.3, 10.5, 11.5}}"
      ]
     },
     "execution_count": 91,
     "metadata": {},
     "output_type": "execute_result"
    }
   ],
   "source": [
    "Dict2"
   ]
  },
  {
   "cell_type": "code",
   "execution_count": null,
   "id": "8bce9c68",
   "metadata": {},
   "outputs": [],
   "source": [
    "Dict2[5][1] = 'DD'"
   ]
  },
  {
   "cell_type": "code",
   "execution_count": null,
   "id": "535d1069",
   "metadata": {},
   "outputs": [],
   "source": [
    "Dict2[8][0] = 20"
   ]
  },
  {
   "cell_type": "code",
   "execution_count": 92,
   "id": "cea119af",
   "metadata": {},
   "outputs": [],
   "source": [
    "Student_info = {\n",
    "               'Student_ID':[1,2,3,4,5,6,7,8,9,10],\n",
    "                'Students_ame':['shashank','jay','rahul','azhar','aqib','aditya','swati','kavya','rachana','lakshmi'],\n",
    "                'Marks':[80,90,75,86,78,59,63,82,45,78],\n",
    "                 'age':[21,22,26,25,28,29,27,26,24,23]\n",
    "               }"
   ]
  },
  {
   "cell_type": "code",
   "execution_count": 93,
   "id": "6441cae0",
   "metadata": {
    "collapsed": true,
    "jupyter": {
     "outputs_hidden": true
    }
   },
   "outputs": [
    {
     "name": "stdout",
     "output_type": "stream",
     "text": [
      "{'Student_ID': [1, 2, 3, 4, 5, 6, 7, 8, 9, 10], 'Students_ame': ['shashank', 'jay', 'rahul', 'azhar', 'aqib', 'aditya', 'swati', 'kavya', 'rachana', 'lakshmi'], 'Marks': [80, 90, 75, 86, 78, 59, 63, 82, 45, 78], 'age': [21, 22, 26, 25, 28, 29, 27, 26, 24, 23]}\n"
     ]
    }
   ],
   "source": [
    "print(Student_info)"
   ]
  },
  {
   "cell_type": "code",
   "execution_count": 94,
   "id": "1e87aeba",
   "metadata": {},
   "outputs": [
    {
     "data": {
      "text/plain": [
       "dict"
      ]
     },
     "execution_count": 94,
     "metadata": {},
     "output_type": "execute_result"
    }
   ],
   "source": [
    "type(Student_info)"
   ]
  },
  {
   "cell_type": "code",
   "execution_count": 117,
   "id": "2d205a43",
   "metadata": {},
   "outputs": [
    {
     "name": "stdout",
     "output_type": "stream",
     "text": [
      "The higest marks is gained by jay,the marks is 90\n"
     ]
    }
   ],
   "source": [
    "ID = Student_info['Marks'].index(max(Student_info['Marks']))\n",
    "name = Student_info['Students_ame'][ID]\n",
    "result = 'The higest marks is gained by {},the marks is {}'.format(name,max(Student_info['Marks']))\n",
    "print(result)"
   ]
  },
  {
   "cell_type": "code",
   "execution_count": null,
   "id": "561e5819",
   "metadata": {},
   "outputs": [],
   "source": []
  },
  {
   "cell_type": "code",
   "execution_count": null,
   "id": "1bc315b5",
   "metadata": {},
   "outputs": [],
   "source": []
  },
  {
   "cell_type": "code",
   "execution_count": null,
   "id": "81d43af5",
   "metadata": {},
   "outputs": [],
   "source": []
  },
  {
   "cell_type": "code",
   "execution_count": null,
   "id": "85a13dd7",
   "metadata": {},
   "outputs": [],
   "source": []
  },
  {
   "cell_type": "code",
   "execution_count": 95,
   "id": "e55e9571",
   "metadata": {},
   "outputs": [
    {
     "data": {
      "text/plain": [
       "dict_keys(['Student_ID', 'Students_ame', 'Marks', 'age'])"
      ]
     },
     "execution_count": 95,
     "metadata": {},
     "output_type": "execute_result"
    }
   ],
   "source": [
    "Student_info.keys()"
   ]
  },
  {
   "cell_type": "code",
   "execution_count": 104,
   "id": "ed3ddd6b",
   "metadata": {},
   "outputs": [
    {
     "data": {
      "text/plain": [
       "73.6"
      ]
     },
     "execution_count": 104,
     "metadata": {},
     "output_type": "execute_result"
    }
   ],
   "source": [
    "sum(Student_info['Marks'])/len(Student_info['Marks'])"
   ]
  },
  {
   "cell_type": "code",
   "execution_count": 101,
   "id": "7a078b62",
   "metadata": {},
   "outputs": [
    {
     "data": {
      "text/plain": [
       "[21, 22, 26, 25, 28, 29, 27, 26, 24, 23]"
      ]
     },
     "execution_count": 101,
     "metadata": {},
     "output_type": "execute_result"
    }
   ],
   "source": [
    "Student_info['age']"
   ]
  },
  {
   "cell_type": "code",
   "execution_count": null,
   "id": "b7e51ff2",
   "metadata": {},
   "outputs": [],
   "source": [
    "type(Student_info['Student_ID'])"
   ]
  },
  {
   "cell_type": "code",
   "execution_count": null,
   "id": "8e85ff17",
   "metadata": {},
   "outputs": [],
   "source": [
    "type(Student_info['Student_ID'][0])"
   ]
  },
  {
   "cell_type": "code",
   "execution_count": null,
   "id": "9c58c39b",
   "metadata": {},
   "outputs": [],
   "source": [
    "avg_marks_class = sum(Student_info['Marks'])/len(Student_info['Marks'])\n",
    "avg_marks_class"
   ]
  },
  {
   "cell_type": "code",
   "execution_count": null,
   "id": "7135af3e",
   "metadata": {},
   "outputs": [],
   "source": [
    "'shashank','jay','rahul','azhar','aqib',"
   ]
  },
  {
   "cell_type": "code",
   "execution_count": null,
   "id": "1ead4f90",
   "metadata": {},
   "outputs": [],
   "source": [
    "# multi dictionary\n",
    "data = {\n",
    "    'st1':{'Name':'shashank',\n",
    "    '],\n",
    "    'marks': [80,90,60'age': 25,\n",
    "    'course':['DA','DS','DE]},\n",
    "    \n",
    "    'st2':{'Name':'jay',\n",
    "    'age': 27,\n",
    "    'course':['DA','DS','DE'],\n",
    "    'marks': [80,80,60]},\n",
    "    \n",
    "    'st3': {'Name':'rahul',\n",
    "    'age': 25,\n",
    "    'course':['DA','DS','DE'],\n",
    "    'marks': [80,90,60]}\n",
    "    \n",
    "}"
   ]
  },
  {
   "cell_type": "code",
   "execution_count": null,
   "id": "91b9c701",
   "metadata": {},
   "outputs": [],
   "source": [
    "avg_st1 = sum(data['st1']['marks'])/len(data['st1']['marks'])\n",
    "print(avg_st1)"
   ]
  },
  {
   "cell_type": "code",
   "execution_count": 135,
   "id": "6817cabb",
   "metadata": {},
   "outputs": [
    {
     "data": {
      "text/plain": [
       "[80, 90, 60]"
      ]
     },
     "execution_count": 135,
     "metadata": {},
     "output_type": "execute_result"
    }
   ],
   "source": [
    "data_list[0]['marks']"
   ]
  },
  {
   "cell_type": "code",
   "execution_count": 132,
   "id": "1c615b40",
   "metadata": {},
   "outputs": [],
   "source": [
    "data_list = [\n",
    "    {'Name':'shashank',\n",
    "    'age': 25,\n",
    "    'course':['DA','DS','DE'],\n",
    "    'marks': [80,90,60]},\n",
    "    \n",
    "    {'Name':'jay',\n",
    "    'age': 27,\n",
    "    'course':['DA','DS','DE'],\n",
    "    'marks': [80,80,60]},\n",
    "    \n",
    "    {'Name':'rahul',\n",
    "    'age': 25,\n",
    "    'course':['DA','DS','DE'],\n",
    "    'marks': [80,90,60]}\n",
    "    \n",
    "]"
   ]
  },
  {
   "cell_type": "code",
   "execution_count": 136,
   "id": "49ad6dc1",
   "metadata": {},
   "outputs": [
    {
     "name": "stdout",
     "output_type": "stream",
     "text": [
      "76.66666666666667\n"
     ]
    }
   ],
   "source": [
    "avg_shashank = sum(data_list[0]['marks'])/len(data_list[0]['marks'])\n",
    "print(avg_shashank)"
   ]
  },
  {
   "cell_type": "code",
   "execution_count": null,
   "id": "af60c752",
   "metadata": {},
   "outputs": [],
   "source": []
  },
  {
   "cell_type": "code",
   "execution_count": null,
   "id": "d3c16fd3",
   "metadata": {},
   "outputs": [],
   "source": []
  },
  {
   "cell_type": "code",
   "execution_count": null,
   "id": "2cac1067",
   "metadata": {},
   "outputs": [],
   "source": [
    "Conditional staments\n",
    "--> if\n",
    "--> if else\n",
    "--> if elif else"
   ]
  },
  {
   "cell_type": "code",
   "execution_count": null,
   "id": "082a1ac5",
   "metadata": {},
   "outputs": [],
   "source": [
    "# syntax\n",
    "if condition:\n",
    "    stetments"
   ]
  },
  {
   "cell_type": "code",
   "execution_count": 1,
   "id": "89a93979",
   "metadata": {},
   "outputs": [],
   "source": [
    "a = 10\n",
    "b = 15"
   ]
  },
  {
   "cell_type": "code",
   "execution_count": 2,
   "id": "59c955de-179a-47ab-94dd-84e78c2841c5",
   "metadata": {},
   "outputs": [
    {
     "data": {
      "text/plain": [
       "(False, False, False)"
      ]
     },
     "execution_count": 2,
     "metadata": {},
     "output_type": "execute_result"
    }
   ],
   "source": [
    "a == b, a > b, a>=b"
   ]
  },
  {
   "cell_type": "code",
   "execution_count": 3,
   "id": "c0c0629e",
   "metadata": {},
   "outputs": [
    {
     "data": {
      "text/plain": [
       "(True, True, True)"
      ]
     },
     "execution_count": 3,
     "metadata": {},
     "output_type": "execute_result"
    }
   ],
   "source": [
    "a!=b, a < b, a <= b"
   ]
  },
  {
   "cell_type": "code",
   "execution_count": 4,
   "id": "4cc6e9df",
   "metadata": {},
   "outputs": [
    {
     "name": "stdout",
     "output_type": "stream",
     "text": [
      "a is not equal\n"
     ]
    }
   ],
   "source": [
    "if a!=b:\n",
    "    print('a is not equal')"
   ]
  },
  {
   "cell_type": "code",
   "execution_count": 5,
   "id": "792782ac",
   "metadata": {},
   "outputs": [],
   "source": [
    "if (a==b):\n",
    "    print('a is not equal')"
   ]
  },
  {
   "cell_type": "code",
   "execution_count": 6,
   "id": "6a9d0bf5-f187-48aa-b038-222b7ae508dd",
   "metadata": {},
   "outputs": [
    {
     "data": {
      "text/plain": [
       "(10, 15)"
      ]
     },
     "execution_count": 6,
     "metadata": {},
     "output_type": "execute_result"
    }
   ],
   "source": [
    "a,b"
   ]
  },
  {
   "cell_type": "code",
   "execution_count": 7,
   "id": "1fdba548-6d16-4b0d-b8c2-c491407a0082",
   "metadata": {},
   "outputs": [
    {
     "name": "stdout",
     "output_type": "stream",
     "text": [
      "a is less then b\n"
     ]
    }
   ],
   "source": [
    "if a < b:\n",
    "    print('a is less then b')\n",
    "    "
   ]
  },
  {
   "cell_type": "code",
   "execution_count": 8,
   "id": "387aa10b-32f1-4ac2-b47f-2959dc7d83c7",
   "metadata": {},
   "outputs": [
    {
     "name": "stdout",
     "output_type": "stream",
     "text": [
      "a is less then or equal to b\n"
     ]
    }
   ],
   "source": [
    "if a<=b:\n",
    "    print('a is less then or equal to b')"
   ]
  },
  {
   "cell_type": "code",
   "execution_count": 10,
   "id": "364ef1c6-38c0-45ad-af9c-778e34f3fbc9",
   "metadata": {},
   "outputs": [
    {
     "name": "stdout",
     "output_type": "stream",
     "text": [
      "a is less then b\n"
     ]
    }
   ],
   "source": [
    "if a>=b:\n",
    "    print('a is greater then or equal to b')\n",
    "else:\n",
    "    print('a is less then b')"
   ]
  },
  {
   "cell_type": "code",
   "execution_count": 13,
   "id": "adc66176-05df-403f-acc2-d913ffe85c78",
   "metadata": {},
   "outputs": [
    {
     "name": "stdout",
     "output_type": "stream",
     "text": [
      "a is less then b\n"
     ]
    }
   ],
   "source": [
    "if a==b:\n",
    "    print('a and b is equal')\n",
    "elif a>b:\n",
    "    print('a and b is not equal ')\n",
    "elif a<b:\n",
    "    print('a is less then b')\n",
    "else:\n",
    "    print(' a and b is somthing else')"
   ]
  },
  {
   "cell_type": "code",
   "execution_count": null,
   "id": "ffcdc947-58da-4eda-b5cf-62ae9b8cd902",
   "metadata": {},
   "outputs": [],
   "source": [
    "logical operators\n",
    "and \n",
    "t t = t\n",
    "t f = f\n",
    "f t = f\n",
    "f f = f\n",
    "\n",
    "or \n",
    "t t = t\n",
    "t f = t\n",
    "f t = t\n",
    "f f = f\n",
    "\n",
    "not \n",
    "t = f\n",
    "f = t\n"
   ]
  },
  {
   "cell_type": "code",
   "execution_count": 14,
   "id": "7ff53638-7f2c-4047-9db0-e775f386313d",
   "metadata": {},
   "outputs": [
    {
     "name": "stdout",
     "output_type": "stream",
     "text": [
      "any one is true\n"
     ]
    }
   ],
   "source": [
    "if a == b or a<b or a !=b: \n",
    "    print('any one is true')"
   ]
  },
  {
   "cell_type": "code",
   "execution_count": 17,
   "id": "e7434041-5886-4fef-887c-f43b3b9fddb7",
   "metadata": {},
   "outputs": [],
   "source": [
    "if a == b and a<b and a !=b: \n",
    "    print('any one is true')"
   ]
  },
  {
   "cell_type": "code",
   "execution_count": 18,
   "id": "dd46f7ac-a6df-4f2f-b59d-ad1af6e45de4",
   "metadata": {},
   "outputs": [
    {
     "name": "stdout",
     "output_type": "stream",
     "text": [
      " a is not equal\n"
     ]
    }
   ],
   "source": [
    "if not a==b:\n",
    "    print(' a is not equal')"
   ]
  },
  {
   "cell_type": "code",
   "execution_count": null,
   "id": "1eceec15-bc7c-45cb-ac49-813ca28a620e",
   "metadata": {},
   "outputs": [],
   "source": [
    "#1. calculate the even number, check the condition for the given number\n"
   ]
  },
  {
   "cell_type": "code",
   "execution_count": 19,
   "id": "02f6cb85-a1b8-4b62-a4aa-83eb65569d23",
   "metadata": {},
   "outputs": [
    {
     "name": "stdin",
     "output_type": "stream",
     "text": [
      "Enter the value:  3\n"
     ]
    }
   ],
   "source": [
    "n = int(input('Enter the value: '))"
   ]
  },
  {
   "cell_type": "code",
   "execution_count": 26,
   "id": "24deb04f-bdcb-4726-ba31-c9bfca629705",
   "metadata": {},
   "outputs": [
    {
     "name": "stdin",
     "output_type": "stream",
     "text": [
      "Enter the value:  5\n"
     ]
    },
    {
     "name": "stdout",
     "output_type": "stream",
     "text": [
      "5, The given is odd\n"
     ]
    }
   ],
   "source": [
    "n = int(input('Enter the value: '))\n",
    "if n%2 == 0:\n",
    "    print(f'{n}, The given number is even')\n",
    "else:\n",
    "    print(f'{n}, The given is odd')"
   ]
  },
  {
   "cell_type": "code",
   "execution_count": null,
   "id": "abfaeb36-cca8-47b3-b9b1-9a7928e45395",
   "metadata": {},
   "outputs": [],
   "source": [
    "#2. check the user age is eligilbe for voting are not."
   ]
  },
  {
   "cell_type": "code",
   "execution_count": null,
   "id": "1d1c8feb-6f75-43f1-868e-ff9230445b3c",
   "metadata": {},
   "outputs": [],
   "source": [
    "#3. marks = [56,65,80,75,90,89], calculate the avergae, check condition\n",
    "# if > 90 print as A grade\n",
    "# if > 70 and < 90 print B grade\n",
    "# if >50 and <70 print C garde\n",
    "# if <50 print pass"
   ]
  },
  {
   "cell_type": "code",
   "execution_count": 44,
   "id": "16477490-3bdb-48c2-a121-9f25bb019f17",
   "metadata": {},
   "outputs": [
    {
     "name": "stdout",
     "output_type": "stream",
     "text": [
      "90.0\n",
      "A grade\n"
     ]
    }
   ],
   "source": [
    "marks = [90,90,90,90,90,90]\n",
    "avg_mrk=round(sum(marks)/len(marks),2)\n",
    "print(avg_mrk)\n",
    "if avg_mrk>=90:\n",
    "    print('A grade')\n",
    "elif avg_mrk>=70 and avg_mrk<90:\n",
    "    print('B garde')\n",
    "elif avg_mrk>=50 and avg_mrk<70:\n",
    "    print('Bc garde')\n",
    "elif avg_mrk<50:\n",
    "    print('Pass')"
   ]
  },
  {
   "cell_type": "code",
   "execution_count": 131,
   "id": "0411b85b",
   "metadata": {},
   "outputs": [
    {
     "name": "stdout",
     "output_type": "stream",
     "text": [
      "a and b value is not equal\n"
     ]
    }
   ],
   "source": [
    "if a==b:\n",
    "    print(a,b)\n",
    "else:\n",
    "    print('a and b value is not equal')"
   ]
  },
  {
   "cell_type": "code",
   "execution_count": null,
   "id": "661d06f1",
   "metadata": {},
   "outputs": [],
   "source": [
    "avg_shashank = sum(data_list[0]['marks'])/len(data_list[0]['marks'])\n",
    "print(avg_shashank)"
   ]
  },
  {
   "cell_type": "code",
   "execution_count": 142,
   "id": "b28bce8d",
   "metadata": {},
   "outputs": [
    {
     "name": "stdout",
     "output_type": "stream",
     "text": [
      "shashank 76.66666666666667 Passed\n"
     ]
    }
   ],
   "source": [
    "if avg_shashank > 50:\n",
    "    print(data_list[0]['Name'],avg_shashank,'Passed')\n",
    "else:\n",
    "    print('Failed')"
   ]
  },
  {
   "cell_type": "code",
   "execution_count": 145,
   "id": "3a224755",
   "metadata": {},
   "outputs": [
    {
     "name": "stdout",
     "output_type": "stream",
     "text": [
      "jay 73.33333333333333 Passed\n"
     ]
    }
   ],
   "source": [
    "avg_jay = sum(data_list[1]['marks'])/len(data_list[1]['marks'])\n",
    "if avg_jay > 50:\n",
    "    print(data_list[1]['Name'],avg_jay,'Passed')\n",
    "else:\n",
    "    print('Failed')\n"
   ]
  },
  {
   "cell_type": "code",
   "execution_count": null,
   "id": "24c1d28b",
   "metadata": {},
   "outputs": [],
   "source": []
  },
  {
   "cell_type": "code",
   "execution_count": null,
   "id": "bf4f4d1c",
   "metadata": {},
   "outputs": [],
   "source": [
    "avg_shashank < 80"
   ]
  },
  {
   "cell_type": "code",
   "execution_count": null,
   "id": "592f953c",
   "metadata": {},
   "outputs": [],
   "source": [
    "if avg_shashank > 80:\n",
    "    print('A grade')"
   ]
  },
  {
   "cell_type": "code",
   "execution_count": 45,
   "id": "ebbd933e",
   "metadata": {},
   "outputs": [
    {
     "name": "stdout",
     "output_type": "stream",
     "text": [
      "B grade\n"
     ]
    }
   ],
   "source": [
    "if avg_mrk < 80:\n",
    "    print('A grade')\n",
    "else:\n",
    "    print('B grade')"
   ]
  },
  {
   "cell_type": "raw",
   "id": "f1022d87",
   "metadata": {},
   "source": [
    "# ternory operator\n",
    "output if condition else ouput"
   ]
  },
  {
   "cell_type": "code",
   "execution_count": 46,
   "id": "f25263ca",
   "metadata": {},
   "outputs": [
    {
     "name": "stdout",
     "output_type": "stream",
     "text": [
      "A grade\n"
     ]
    }
   ],
   "source": [
    "# ternory operator\n",
    "Grade = 'A grade' if avg_mrk > 80 else 'B grade'\n",
    "print(Grade)"
   ]
  },
  {
   "cell_type": "code",
   "execution_count": null,
   "id": "53a05338-e7fb-44d4-9b7d-5e26518b494b",
   "metadata": {},
   "outputs": [],
   "source": [
    "# nested if statments\n",
    "if condition:\n",
    "    if condtion:\n",
    "        if condition:\n",
    "            statment\n",
    "        else:\n",
    "            statments"
   ]
  },
  {
   "cell_type": "code",
   "execution_count": 47,
   "id": "944e599f-e7dc-4966-a7f7-df69b4029e75",
   "metadata": {},
   "outputs": [
    {
     "name": "stdout",
     "output_type": "stream",
     "text": [
      "56\n"
     ]
    }
   ],
   "source": [
    "data = [12,13,15,16]\n",
    "if type(data) is list:\n",
    "    if type(data[0]) is int:\n",
    "        sum_data = sum(data)\n",
    "        print(sum_data)\n",
    "    else:\n",
    "        print('The given values are not int')"
   ]
  },
  {
   "cell_type": "code",
   "execution_count": null,
   "id": "3ea3863b-a5c0-496f-9cfb-75a6533b6565",
   "metadata": {},
   "outputs": [],
   "source": [
    "name = {'agna','kuncham','rakshan','sahal','agna','kuncham','rakshan','sahal'}\n",
    "check the given data is set and the string, extract the 1st value, make is as upper case."
   ]
  },
  {
   "cell_type": "code",
   "execution_count": 51,
   "id": "0ab98e60-6f83-4678-8fc8-35847de5e21a",
   "metadata": {},
   "outputs": [
    {
     "name": "stdout",
     "output_type": "stream",
     "text": [
      "SAHAL\n"
     ]
    }
   ],
   "source": [
    "name = {'agna','kuncham','rakshan','sahal','agna','kuncham','rakshan','sahal'}\n",
    "\n",
    "if type(name) is set:\n",
    "    name = list(name)\n",
    "    if type(name[0]) is str:\n",
    "        uper = name[0].upper()\n",
    "        print(uper)\n",
    "    else:\n",
    "        print('the changes cannt do')"
   ]
  },
  {
   "cell_type": "markdown",
   "id": "e763423f-160f-4c4d-aecd-4d9eb2c9f1cc",
   "metadata": {},
   "source": [
    "# looping statments"
   ]
  },
  {
   "cell_type": "code",
   "execution_count": null,
   "id": "ec3cbccc-ca35-4e98-a35a-85111de49c30",
   "metadata": {},
   "outputs": [],
   "source": [
    "#  --> for, while\n",
    "for i in range(0,10):\n",
    "    print(i)"
   ]
  },
  {
   "cell_type": "code",
   "execution_count": 53,
   "id": "83b41f21-062d-4949-b33f-a22e5c2f2e0e",
   "metadata": {
    "scrolled": true
   },
   "outputs": [
    {
     "name": "stdout",
     "output_type": "stream",
     "text": [
      "1\n",
      "2\n",
      "3\n",
      "4\n",
      "5\n",
      "6\n",
      "7\n",
      "8\n",
      "9\n",
      "10\n"
     ]
    }
   ],
   "source": [
    "for i in range(1,11):\n",
    "    print(i)"
   ]
  },
  {
   "cell_type": "code",
   "execution_count": 54,
   "id": "9bb0ed6b-6c55-4788-874b-121f80b224ac",
   "metadata": {
    "scrolled": true
   },
   "outputs": [
    {
     "name": "stdout",
     "output_type": "stream",
     "text": [
      "1\n",
      "2\n",
      "3\n",
      "4\n",
      "5\n",
      "6\n",
      "7\n",
      "8\n",
      "9\n",
      "10\n"
     ]
    }
   ],
   "source": [
    "for i in range(0,10):\n",
    "    print(i+1)"
   ]
  },
  {
   "cell_type": "code",
   "execution_count": 55,
   "id": "72e174e6-bb7c-4d96-afa0-a21bd0b887cf",
   "metadata": {},
   "outputs": [],
   "source": [
    "l = [10,15,16,18,19]\n",
    "t = (10,15,16,17,18)\n",
    "name = {1,5,6,9,8,5,6}"
   ]
  },
  {
   "cell_type": "code",
   "execution_count": 56,
   "id": "7c99caed-7291-44a6-92a0-574b8d2a081b",
   "metadata": {
    "scrolled": true
   },
   "outputs": [
    {
     "name": "stdout",
     "output_type": "stream",
     "text": [
      "10\n",
      "15\n",
      "16\n",
      "18\n",
      "19\n"
     ]
    }
   ],
   "source": [
    "for i in l:\n",
    "    print(i)"
   ]
  },
  {
   "cell_type": "code",
   "execution_count": 58,
   "id": "0d136096-5ee2-439e-a616-8a03e5fdeac5",
   "metadata": {
    "scrolled": true
   },
   "outputs": [
    {
     "name": "stdout",
     "output_type": "stream",
     "text": [
      "10\n",
      "15\n",
      "16\n",
      "17\n",
      "18\n"
     ]
    }
   ],
   "source": [
    "for i in t:\n",
    "    print(i)"
   ]
  },
  {
   "cell_type": "code",
   "execution_count": 59,
   "id": "37998da4-aafc-4b68-948b-49669b834a78",
   "metadata": {
    "scrolled": true
   },
   "outputs": [
    {
     "name": "stdout",
     "output_type": "stream",
     "text": [
      "1\n",
      "5\n",
      "6\n",
      "8\n",
      "9\n"
     ]
    }
   ],
   "source": [
    "for i in name:\n",
    "    print(i)"
   ]
  },
  {
   "cell_type": "code",
   "execution_count": 62,
   "id": "193c2db2-0a6a-4967-9fde-4931c4f47fcb",
   "metadata": {},
   "outputs": [],
   "source": [
    "dit = {1:'a',\n",
    "      2:'b',\n",
    "      3:'c',\n",
    "      4:'d'}"
   ]
  },
  {
   "cell_type": "code",
   "execution_count": 67,
   "id": "abf51b80-85ee-4a63-979e-e8142ee021e3",
   "metadata": {
    "scrolled": true
   },
   "outputs": [
    {
     "name": "stdout",
     "output_type": "stream",
     "text": [
      "1\n",
      "2\n",
      "3\n",
      "4\n"
     ]
    }
   ],
   "source": [
    "for i in dit.keys():\n",
    "    print(i)"
   ]
  },
  {
   "cell_type": "code",
   "execution_count": 68,
   "id": "b3154bd1-721c-4a31-8329-4d191e5f34df",
   "metadata": {
    "scrolled": true
   },
   "outputs": [
    {
     "name": "stdout",
     "output_type": "stream",
     "text": [
      "a\n",
      "b\n",
      "c\n",
      "d\n"
     ]
    }
   ],
   "source": [
    "for i in dit.values():\n",
    "    print(i)"
   ]
  },
  {
   "cell_type": "code",
   "execution_count": 66,
   "id": "c048dc20-2d10-4a59-95e9-092824873e44",
   "metadata": {
    "scrolled": true
   },
   "outputs": [
    {
     "name": "stdout",
     "output_type": "stream",
     "text": [
      "(1, 'a')\n",
      "(2, 'b')\n",
      "(3, 'c')\n",
      "(4, 'd')\n"
     ]
    }
   ],
   "source": [
    "for i in dit.items():\n",
    "    print(i)"
   ]
  },
  {
   "cell_type": "code",
   "execution_count": 79,
   "id": "72215d4b-2669-47ed-b04c-363cd9c818b5",
   "metadata": {},
   "outputs": [],
   "source": [
    "data_list = [\n",
    "    {'Name':'shashank',\n",
    "    'age': 25,\n",
    "    'course':['DA','DS','DE'],\n",
    "    'marks': [80,90,60]},\n",
    "    {'Name':'jay',\n",
    "    'age': 27,\n",
    "    'course':['DA','DS','DE'],\n",
    "    'marks': [80,80,60]},   \n",
    "    {'Name':'rahul',\n",
    "    'age': 25,\n",
    "    'course':['DA','DS','DE'],\n",
    "    'marks': [80,90,60]}\n",
    "]"
   ]
  },
  {
   "cell_type": "code",
   "execution_count": 81,
   "id": "4d4c3672-89f4-4630-abde-c5e36e012745",
   "metadata": {},
   "outputs": [
    {
     "name": "stdout",
     "output_type": "stream",
     "text": [
      "shashank 76.66666666666667 B grade\n",
      "jay 73.33333333333333 B grade\n",
      "rahul 76.66666666666667 B grade\n"
     ]
    }
   ],
   "source": [
    "for i in data_list:\n",
    "    name = i['Name']\n",
    "    mark = i['marks']\n",
    "    avg_marks = sum(mark)/len(mark)\n",
    "    if avg_marks>=90:\n",
    "        print(name,avg_marks,'A grade')\n",
    "    elif avg_marks>=70 and avg_marks<90:\n",
    "        print(name,avg_marks,'B grade')\n",
    "    elif avg_marks>=50 and avg_marks<70:\n",
    "        print(name,avg_marks,'C grade')\n",
    "    elif avg_marks<50:\n",
    "        print(name,avg_marks,'Pass')"
   ]
  },
  {
   "cell_type": "code",
   "execution_count": 152,
   "id": "5cb58061",
   "metadata": {},
   "outputs": [
    {
     "name": "stdout",
     "output_type": "stream",
     "text": [
      "all above statment is false\n"
     ]
    }
   ],
   "source": [
    "a=10\n",
    "if a == 15:\n",
    "    print('a is equal to 15')\n",
    "elif a == 14:\n",
    "    print('a is 14')\n",
    "elif a != 10:\n",
    "    print('a is 10 now')\n",
    "else:\n",
    "    print('all above statment is false')"
   ]
  },
  {
   "cell_type": "code",
   "execution_count": 155,
   "id": "ed5da5d3",
   "metadata": {},
   "outputs": [
    {
     "name": "stdout",
     "output_type": "stream",
     "text": [
      "Enter the average marks: 90\n",
      "A+ grade\n"
     ]
    }
   ],
   "source": [
    "avg_marks = int(input('Enter the average marks: '))\n",
    "if avg_marks > 80:\n",
    "    print('A+ grade')\n",
    "elif avg_marks <= 80 and avg_marks >60:\n",
    "    print('A grade')\n",
    "elif avg_marks <= 60 and avg_marks >40:\n",
    "    print('B grade')\n",
    "elif avg_marks <= 40 and avg_marks >35:\n",
    "    print('C grade')\n",
    "else:\n",
    "    print('Fail') "
   ]
  },
  {
   "cell_type": "code",
   "execution_count": 160,
   "id": "b7dc95a2",
   "metadata": {},
   "outputs": [
    {
     "name": "stdout",
     "output_type": "stream",
     "text": [
      "shashank 76.66666666666667 A grade\n"
     ]
    }
   ],
   "source": [
    "if data_list[0]['Name'] == 'shashank':  \n",
    "    avg_jay = sum(data_list[0]['marks'])/len(data_list[0]['marks'])\n",
    "    name = data_list[0]['Name']\n",
    "    if avg_jay >80:\n",
    "        print(name,avg_jay,'A+ grade')\n",
    "    elif avg_jay <= 80 and avg_jay >60:\n",
    "        print(name,avg_jay,'A grade')\n",
    "    elif avg_jay <= 60 and avg_jay >40:\n",
    "        print(name,avg_jay,'B grade')\n",
    "    elif avg_jay <= 40 and avg_jay >35:\n",
    "        print(name,avg_jay,'C grade')\n",
    "    else:\n",
    "        print(name,avg_jay,'Fail')\n",
    "else:\n",
    "    print('The student is absent')\n",
    "    "
   ]
  },
  {
   "cell_type": "code",
   "execution_count": null,
   "id": "1f7fb6f2",
   "metadata": {},
   "outputs": [],
   "source": [
    "# ternory operator\n",
    "Grade = 'A grade' if avg_shashank < 80 else 'B grade'\n",
    "print(Grade)"
   ]
  },
  {
   "cell_type": "code",
   "execution_count": 161,
   "id": "34a8d23e",
   "metadata": {},
   "outputs": [
    {
     "data": {
      "text/plain": [
       "range(0, 10)"
      ]
     },
     "execution_count": 161,
     "metadata": {},
     "output_type": "execute_result"
    }
   ],
   "source": [
    "range(0,10)"
   ]
  },
  {
   "cell_type": "code",
   "execution_count": null,
   "id": "b0f98721",
   "metadata": {},
   "outputs": [],
   "source": [
    "# for and while\n",
    "for i in range():\n",
    "    statments"
   ]
  },
  {
   "cell_type": "code",
   "execution_count": 174,
   "id": "2b2c4f60",
   "metadata": {
    "collapsed": true,
    "jupyter": {
     "outputs_hidden": true
    }
   },
   "outputs": [
    {
     "name": "stdout",
     "output_type": "stream",
     "text": [
      "1\n",
      "2\n",
      "3\n",
      "4\n",
      "5\n",
      "6\n",
      "7\n",
      "8\n",
      "9\n",
      "10\n"
     ]
    }
   ],
   "source": [
    "for i in range(1,11):\n",
    "    print(i)"
   ]
  },
  {
   "cell_type": "code",
   "execution_count": 177,
   "id": "c9bcde4c",
   "metadata": {
    "collapsed": true,
    "jupyter": {
     "outputs_hidden": true
    }
   },
   "outputs": [
    {
     "name": "stdout",
     "output_type": "stream",
     "text": [
      "10\n",
      "20\n",
      "50\n",
      "6\n",
      "70\n",
      "50\n"
     ]
    }
   ],
   "source": [
    "marks = [10,20,50,6,70,50]\n",
    "for i in marks:\n",
    "    print(i)"
   ]
  },
  {
   "cell_type": "code",
   "execution_count": 197,
   "id": "d8bdadea",
   "metadata": {},
   "outputs": [
    {
     "data": {
      "text/plain": [
       "[{'Name': 'shashank',\n",
       "  'age': 25,\n",
       "  'course': ['DA', 'DS', 'DE'],\n",
       "  'marks': [80, 90, 60]},\n",
       " {'Name': 'jay',\n",
       "  'age': 27,\n",
       "  'course': ['DA', 'DS', 'DE'],\n",
       "  'marks': [80, 80, 60]},\n",
       " {'Name': 'rahul',\n",
       "  'age': 25,\n",
       "  'course': ['DA', 'DS', 'DE'],\n",
       "  'marks': [80, 90, 60]}]"
      ]
     },
     "execution_count": 197,
     "metadata": {},
     "output_type": "execute_result"
    }
   ],
   "source": [
    "data_list"
   ]
  },
  {
   "cell_type": "code",
   "execution_count": 182,
   "id": "00059dce",
   "metadata": {
    "collapsed": true,
    "jupyter": {
     "outputs_hidden": true
    }
   },
   "outputs": [
    {
     "name": "stdout",
     "output_type": "stream",
     "text": [
      "['DA', 'DS', 'DE']\n",
      "['DA', 'DS', 'DE']\n",
      "['DA', 'DS', 'DE']\n"
     ]
    }
   ],
   "source": [
    "for i in data_list:\n",
    "    print(i['course'])"
   ]
  },
  {
   "cell_type": "code",
   "execution_count": 183,
   "id": "672c859e",
   "metadata": {},
   "outputs": [
    {
     "data": {
      "text/plain": [
       "3"
      ]
     },
     "execution_count": 183,
     "metadata": {},
     "output_type": "execute_result"
    }
   ],
   "source": [
    "len(data_list)"
   ]
  },
  {
   "cell_type": "code",
   "execution_count": 189,
   "id": "d02c2a02",
   "metadata": {
    "collapsed": true,
    "jupyter": {
     "outputs_hidden": true
    }
   },
   "outputs": [
    {
     "name": "stdout",
     "output_type": "stream",
     "text": [
      "shashank\n",
      "jay\n",
      "rahul\n"
     ]
    }
   ],
   "source": [
    "for i in range(0,len(data_list)): # 0,1,2\n",
    "    print(data_list[i]['Name'])"
   ]
  },
  {
   "cell_type": "code",
   "execution_count": 186,
   "id": "f6b169b5",
   "metadata": {
    "collapsed": true,
    "jupyter": {
     "outputs_hidden": true
    }
   },
   "outputs": [
    {
     "name": "stdout",
     "output_type": "stream",
     "text": [
      "10\n",
      "9\n",
      "8\n",
      "7\n",
      "6\n",
      "5\n",
      "4\n",
      "3\n",
      "2\n",
      "1\n"
     ]
    }
   ],
   "source": [
    "for i in range(10,0,-1):\n",
    "    print(i)"
   ]
  },
  {
   "cell_type": "code",
   "execution_count": 192,
   "id": "5cf1c702",
   "metadata": {
    "collapsed": true,
    "jupyter": {
     "outputs_hidden": true
    }
   },
   "outputs": [
    {
     "name": "stdout",
     "output_type": "stream",
     "text": [
      "2\n",
      "1\n",
      "0\n"
     ]
    }
   ],
   "source": [
    "for i in range(2,-1,-1):\n",
    "    print(i)"
   ]
  },
  {
   "cell_type": "code",
   "execution_count": 194,
   "id": "a7363bf4",
   "metadata": {
    "collapsed": true,
    "jupyter": {
     "outputs_hidden": true
    }
   },
   "outputs": [
    {
     "name": "stdout",
     "output_type": "stream",
     "text": [
      "rahul\n",
      "jay\n",
      "shashank\n"
     ]
    }
   ],
   "source": [
    "for i in range(2,-1,-1):\n",
    "    print(data_list[i]['Name'])"
   ]
  },
  {
   "cell_type": "code",
   "execution_count": 196,
   "id": "54b18d53",
   "metadata": {},
   "outputs": [
    {
     "name": "stdout",
     "output_type": "stream",
     "text": [
      "shashank: 76.67% --> A grade\n",
      "jay: 73.33% --> A grade\n",
      "rahul: 76.67% --> A grade\n"
     ]
    }
   ],
   "source": [
    "for i in data_list:\n",
    "    averages = round(sum(i['marks'])/len(i['marks']),2)\n",
    "    name = i['Name']\n",
    "    if averages >80:\n",
    "        print(f'{name}: {averages}% --> A+ grade')\n",
    "    elif avg_jay <= 80 and avg_jay >60:\n",
    "        print(f'{name}: {averages}% --> A grade')\n",
    "    elif avg_jay <= 60 and avg_jay >40:\n",
    "        print(f'{name}: {averages}% --> B grade')\n",
    "    elif avg_jay <= 40 and avg_jay >35:\n",
    "        print(f'{name}: {averages}% --> C grade')\n",
    "    else:\n",
    "        print(f'{name}: {averages}% --> Fail')"
   ]
  },
  {
   "cell_type": "code",
   "execution_count": null,
   "id": "d56f170b",
   "metadata": {},
   "outputs": [],
   "source": []
  },
  {
   "cell_type": "code",
   "execution_count": null,
   "id": "30cc490a",
   "metadata": {},
   "outputs": [],
   "source": [
    "print(Student_info)"
   ]
  },
  {
   "cell_type": "code",
   "execution_count": null,
   "id": "2d933170",
   "metadata": {},
   "outputs": [],
   "source": [
    "sum(Student_info['IQ'])/len(Student_info['IQ'])"
   ]
  },
  {
   "cell_type": "code",
   "execution_count": null,
   "id": "eac6b04a",
   "metadata": {},
   "outputs": [],
   "source": [
    "avg_IQ = round(sum(Student_info['IQ'])/len(Student_info['IQ']),2)\n",
    "avg_IQ"
   ]
  },
  {
   "cell_type": "code",
   "execution_count": null,
   "id": "3a9e2974",
   "metadata": {},
   "outputs": [],
   "source": [
    "if 'jay' in Student_info['name']:\n",
    "    IQ_jay = Student_info['IQ'][1] > 120\n",
    "    print(IQ_jay)"
   ]
  },
  {
   "cell_type": "code",
   "execution_count": null,
   "id": "63d642ca",
   "metadata": {},
   "outputs": [],
   "source": [
    "STUDENTS_details = {\n",
    "                         'ID1':{'name': 'sam',\n",
    "                                'age': 25,\n",
    "                                'sub':['s1','s2','s3','s4','s5','s6'],\n",
    "                                'marks': [60,40,50,80,90]},\n",
    "                    \n",
    "                   'ID2': {'name': 'pam',\n",
    "                           'age': 25,\n",
    "                           'sub':['s1','s2','s3','s4','s5','s6'],\n",
    "                           'marks': [60,40,50,80,90]},\n",
    "                   }"
   ]
  },
  {
   "cell_type": "code",
   "execution_count": null,
   "id": "46a111c2",
   "metadata": {},
   "outputs": [],
   "source": [
    "STUDENTS_details['ID1']['sub']"
   ]
  },
  {
   "cell_type": "code",
   "execution_count": null,
   "id": "9507271a",
   "metadata": {},
   "outputs": [],
   "source": [
    "STUDENTS_details = [\n",
    "                        {'name': 'sam',\n",
    "                                'age': 25,\n",
    "                                'sub':['s1','s2','s3','s4','s5','s6'],\n",
    "                                'marks': [60,40,50,80,90]},\n",
    "                    \n",
    "               {'name': 'pam',\n",
    "                           'age': 25,\n",
    "                           'sub':['s1','s2','s3','s4','s5','s6'],\n",
    "                           'marks': [60,40,50,80,90]},\n",
    "     {'name': 'pam',\n",
    "                           'age': 25,\n",
    "                           'sub':['s1','s2','s3','s4','s5','s6'],\n",
    "                           'marks': [60,40,50,80,90]},\n",
    "     {'name': 'pam',\n",
    "                           'age': 25,\n",
    "                           'sub':['s1','s2','s3','s4','s5','s6'],\n",
    "                           'marks': [60,40,50,80,90]},\n",
    "     {'name': 'pam',\n",
    "                           'age': 25,\n",
    "                           'sub':['s1','s2','s3','s4','s5','s6'],\n",
    "                           'marks': [60,40,50,80,90]},\n",
    "]"
   ]
  },
  {
   "cell_type": "code",
   "execution_count": null,
   "id": "8ad3e43a",
   "metadata": {},
   "outputs": [],
   "source": [
    "STUDENTS_details[0]['name']"
   ]
  },
  {
   "cell_type": "code",
   "execution_count": null,
   "id": "c67ed099",
   "metadata": {},
   "outputs": [],
   "source": [
    "st1_avg_marks = sum(STUDENTS_details[0]['marks'])/len(STUDENTS_details[0]['marks'])\n",
    "st1_avg_marks"
   ]
  },
  {
   "cell_type": "code",
   "execution_count": null,
   "id": "d9592f48",
   "metadata": {},
   "outputs": [],
   "source": [
    "STUDENTS_details[0]['name'],STUDENTS_details[0]['marks']\n",
    "\n",
    "Task 3: calculate the avergae of the marks.\n",
    "    average marks = sum(marks)/number of marks.\n",
    "    "
   ]
  },
  {
   "attachments": {
    "Screenshot%202023-08-17%20174644.png": {
     "image/png": "[encoded data removed]"
    }
   },
   "cell_type": "markdown",
   "id": "1e215140",
   "metadata": {},
   "source": [
    "Task2: create a dictionary with marks, name, age, subjects with 10 names and 6 subjects. ![Screenshot%202023-08-17%20174644.png](attachment:Screenshot%202023-08-17%20174644.png)"
   ]
  },
  {
   "cell_type": "raw",
   "id": "0a0b6527",
   "metadata": {},
   "source": [
    "# Conditional Statments:\n",
    "IF,\n",
    "IF else,\n",
    "If...elif...else,\n",
    "ternary operator(value if true if condition else value is false)"
   ]
  },
  {
   "cell_type": "raw",
   "id": "ae37516e",
   "metadata": {},
   "source": [
    "Q1: Check the given user input is even/odd?\n",
    "Q2: Check the users age is eligible for voting are not? \n",
    "Q3: Check the given user input is prime number?\n",
    "Q4: Give the fair price of given age of user eg: \n",
    "    if age is 5 price wil be 10, \n",
    "    if age is 6-15 price will be 15,\n",
    "    greater than 15 will have 20 price.\n",
    "Q5: Create a marksheet with grades of marks.\n",
    "    90+ -- A grade\n",
    "    70+ -- B grade\n",
    "    50+ -- C grade\n",
    "    30+ -- D grade\n",
    "    >30 -- fail."
   ]
  },
  {
   "cell_type": "code",
   "execution_count": null,
   "id": "2ee371bb",
   "metadata": {},
   "outputs": [],
   "source": [
    "x = int(input())\n",
    "if x%2 ==0:\n",
    "    print('even')\n",
    "else:\n",
    "    print('odd')"
   ]
  },
  {
   "cell_type": "code",
   "execution_count": null,
   "id": "54015ca0",
   "metadata": {},
   "outputs": [],
   "source": [
    "num = 5\n",
    "if num == 1:\n",
    "    print(num, \"is not a prime number\")\n",
    "elif num > 1:\n",
    "   # check for factors\n",
    "   for i in range(2,num):\n",
    "        if (num % i) == 0:\n",
    "            print(num,\"is not a prime number\")\n",
    "            print(i,\"times\",num//i,\"is\",num)\n",
    "            break\n",
    "        else:\n",
    "            print(num,\"is a prime number\")\n",
    "       \n",
    "# if input number is less than\n",
    "# or equal to 1, it is not prime\n",
    "else:\n",
    "    print(num,\"is not a prime number\")"
   ]
  },
  {
   "cell_type": "code",
   "execution_count": null,
   "id": "fb8e56b1",
   "metadata": {},
   "outputs": [],
   "source": [
    "if condition:\n",
    "    statement"
   ]
  },
  {
   "cell_type": "code",
   "execution_count": null,
   "id": "a8a9a881",
   "metadata": {},
   "outputs": [],
   "source": [
    "age = 8\n",
    "if age == 8:\n",
    "    print('age is  8')"
   ]
  },
  {
   "cell_type": "code",
   "execution_count": null,
   "id": "424949ef",
   "metadata": {},
   "outputs": [],
   "source": [
    "if age > 8:\n",
    "    print('age is greater then 8')"
   ]
  },
  {
   "cell_type": "code",
   "execution_count": null,
   "id": "9b2d622f",
   "metadata": {},
   "outputs": [],
   "source": [
    "ages = [5,4,6,9,8]\n",
    "if 10 in ages:\n",
    "    sum_age = max(ages)\n",
    "    print(sum_age)"
   ]
  },
  {
   "cell_type": "code",
   "execution_count": null,
   "id": "15d41143",
   "metadata": {},
   "outputs": [],
   "source": [
    "weight = 58"
   ]
  },
  {
   "cell_type": "code",
   "execution_count": null,
   "id": "e24ec63a",
   "metadata": {},
   "outputs": [],
   "source": [
    "age, weight"
   ]
  },
  {
   "cell_type": "code",
   "execution_count": null,
   "id": "93c34e35",
   "metadata": {},
   "outputs": [],
   "source": [
    "if age < 5 or weight >= 50:\n",
    "    BMI = age * weight\n",
    "    print(BMI)"
   ]
  },
  {
   "cell_type": "code",
   "execution_count": null,
   "id": "3584e370",
   "metadata": {},
   "outputs": [],
   "source": [
    "if not age < 5 :\n",
    "    BMI = age * weight\n",
    "    print(BMI)"
   ]
  },
  {
   "cell_type": "code",
   "execution_count": null,
   "id": "105d1d5e",
   "metadata": {},
   "outputs": [],
   "source": [
    "if len(STUDENTS_details) == 10:\n",
    "    st1 = STUDENTS_details[0]['name']\n",
    "    st2 = STUDENTS_details[1]['name']\n",
    "    st3 = STUDENTS_details[2]['name']\n",
    "    st4 = STUDENTS_details[3]['name']\n",
    "    st5 = STUDENTS_details[4]['name']\n",
    "    print(st1,st2,st3,st4,st5)\n",
    "else:\n",
    "    print('there are less then 10 students in data')\n"
   ]
  },
  {
   "cell_type": "code",
   "execution_count": null,
   "id": "010520cd",
   "metadata": {},
   "outputs": [],
   "source": []
  },
  {
   "cell_type": "code",
   "execution_count": null,
   "id": "b8164c07",
   "metadata": {},
   "outputs": [],
   "source": []
  },
  {
   "cell_type": "code",
   "execution_count": null,
   "id": "4ee3535d",
   "metadata": {},
   "outputs": [],
   "source": [
    "#if : \n",
    "A = 10\n",
    "B = 20\n",
    "if A == B:\n",
    "    print('A is less then B') \n",
    "else:\n",
    "    print('A and B is not equal')"
   ]
  },
  {
   "cell_type": "code",
   "execution_count": null,
   "id": "7be30bf1",
   "metadata": {},
   "outputs": [],
   "source": [
    "if A != B or B != A:\n",
    "    print('A is less then B')\n",
    "else:\n",
    "    print('A is not less then B')"
   ]
  },
  {
   "cell_type": "code",
   "execution_count": null,
   "id": "d20d2ddd",
   "metadata": {},
   "outputs": [],
   "source": [
    "Student_info['key1']['IQ']"
   ]
  },
  {
   "cell_type": "code",
   "execution_count": null,
   "id": "0a61080a",
   "metadata": {},
   "outputs": [],
   "source": [
    "Student_info['key1']['name']"
   ]
  },
  {
   "cell_type": "code",
   "execution_count": null,
   "id": "0cdbc20f",
   "metadata": {},
   "outputs": [],
   "source": [
    "### True staemnet\n",
    "if 'aditya1' in Student_info['key1']['name']:\n",
    "    avg = sum(Student_info['key1']['IQ'])/len(Student_info['key1']['IQ'])\n",
    "    print(avg)\n",
    "else:\n",
    "    avg_1 = sum(Student_info['key1']['IQ'])/len(Student_info['key1']['IQ'])\n",
    "    print(round(avg_1,2))\n",
    "   "
   ]
  },
  {
   "cell_type": "code",
   "execution_count": null,
   "id": "9f6f6ee7",
   "metadata": {},
   "outputs": [],
   "source": [
    "A,B"
   ]
  },
  {
   "cell_type": "code",
   "execution_count": null,
   "id": "b94cfc62",
   "metadata": {},
   "outputs": [],
   "source": [
    "if st1_avg_marks >= 60:\n",
    "    print('students 1 gets the marks as - A grade')"
   ]
  },
  {
   "cell_type": "code",
   "execution_count": null,
   "id": "f3ebd025",
   "metadata": {},
   "outputs": [],
   "source": [
    "A,B"
   ]
  },
  {
   "cell_type": "code",
   "execution_count": null,
   "id": "64ee098a",
   "metadata": {},
   "outputs": [],
   "source": [
    "if A != 10 or B == 20:\n",
    "    print('Both statemments are True')"
   ]
  },
  {
   "cell_type": "code",
   "execution_count": null,
   "id": "dcf97484",
   "metadata": {},
   "outputs": [],
   "source": [
    "==,!=,>=,<=,><\n",
    "AND, OR ,NOT\n"
   ]
  },
  {
   "cell_type": "code",
   "execution_count": null,
   "id": "e87a44d7",
   "metadata": {},
   "outputs": [],
   "source": [
    "A=40\n",
    "B = 20"
   ]
  },
  {
   "cell_type": "markdown",
   "id": "ec660475",
   "metadata": {},
   "source": [
    "# IF and Else statements"
   ]
  },
  {
   "cell_type": "code",
   "execution_count": null,
   "id": "9f21f98e",
   "metadata": {},
   "outputs": [],
   "source": [
    "if A == 40:\n",
    "    print(A)\n",
    "else:\n",
    "    print('The above statemnets is false')"
   ]
  },
  {
   "cell_type": "code",
   "execution_count": null,
   "id": "28361658",
   "metadata": {},
   "outputs": [],
   "source": [
    "if A != 40:\n",
    "    print(A)\n",
    "else:\n",
    "    print('The above statemnets is false')"
   ]
  },
  {
   "cell_type": "code",
   "execution_count": null,
   "id": "427aea63",
   "metadata": {},
   "outputs": [],
   "source": [
    "if STUDENTS_details[0]['age'] >= 18:\n",
    "    print('Eligible for exmination')\n",
    "else:\n",
    "    print('Not Eligible for exmination')"
   ]
  },
  {
   "cell_type": "code",
   "execution_count": null,
   "id": "67f60379",
   "metadata": {},
   "outputs": [],
   "source": [
    "if A == 10:\n",
    "    A = A+10\n",
    "else:\n",
    "    print('The above statemnets is false')"
   ]
  },
  {
   "cell_type": "code",
   "execution_count": null,
   "id": "c7ef747b",
   "metadata": {},
   "outputs": [],
   "source": [
    "A"
   ]
  },
  {
   "cell_type": "code",
   "execution_count": null,
   "id": "5e371125",
   "metadata": {},
   "outputs": [],
   "source": [
    "Student_info['key2']['name'][2]"
   ]
  },
  {
   "cell_type": "code",
   "execution_count": null,
   "id": "988c8bcc",
   "metadata": {},
   "outputs": [],
   "source": [
    "if type(Student_info['key2']['name']) == list:\n",
    "    st1 = Student_info['key2']['name'][2]\n",
    "    print(f'The 1st student is {st1}')\n",
    "else:\n",
    "    print('The 1st student list is not mentioned')"
   ]
  },
  {
   "cell_type": "code",
   "execution_count": null,
   "id": "43821e24",
   "metadata": {},
   "outputs": [],
   "source": [
    "if type(STUDENTS_details[0]['marks']) == tuple:\n",
    "    avg_marks = sum(STUDENTS_details[0]['marks'])/len(STUDENTS_details[0]['marks'])\n",
    "    print(f'The average marks of 1st students is {avg_marks}')\n",
    "else:\n",
    "    print('the given data is not in the type tuple')"
   ]
  },
  {
   "cell_type": "code",
   "execution_count": null,
   "id": "f38f90b2",
   "metadata": {},
   "outputs": [],
   "source": [
    "if A>B:\n",
    "    print('A is greater then B')\n",
    "else:\n",
    "    print('A is smaller then B')"
   ]
  },
  {
   "cell_type": "code",
   "execution_count": null,
   "id": "eb453f77",
   "metadata": {},
   "outputs": [],
   "source": [
    "if A<B:\n",
    "    print('A is Smaller then B')\n",
    "else:\n",
    "    print('A is greater then B')"
   ]
  },
  {
   "cell_type": "raw",
   "id": "14e8d922",
   "metadata": {},
   "source": [
    "==, !=, <= ,>="
   ]
  },
  {
   "cell_type": "code",
   "execution_count": null,
   "id": "f6fe09f9",
   "metadata": {},
   "outputs": [],
   "source": [
    "# if using logical statement.( and, or, not)"
   ]
  },
  {
   "cell_type": "code",
   "execution_count": null,
   "id": "fa2dc9b3",
   "metadata": {},
   "outputs": [],
   "source": [
    "A == 10 and B != 20"
   ]
  },
  {
   "cell_type": "code",
   "execution_count": null,
   "id": "986bc322",
   "metadata": {},
   "outputs": [],
   "source": [
    "if A < 8 and B >10:\n",
    "    print(' Both the statement are true')"
   ]
  },
  {
   "cell_type": "code",
   "execution_count": null,
   "id": "c9939e29",
   "metadata": {},
   "outputs": [],
   "source": [
    "if A > 8 and B == 10:\n",
    "    print(' Both the statement are true')\n",
    "else: \n",
    "    print(' One statment is false')"
   ]
  },
  {
   "cell_type": "code",
   "execution_count": null,
   "id": "575bd51d",
   "metadata": {},
   "outputs": [],
   "source": [
    "if A < 8 or B == 10:\n",
    "    print(' Both the statement are true')\n",
    "else: \n",
    "    print(' One statment is false')"
   ]
  },
  {
   "cell_type": "code",
   "execution_count": null,
   "id": "1d3aa543",
   "metadata": {},
   "outputs": [],
   "source": [
    "Age = int(input('Please enter your age:'))\n",
    "if Age >= 21:\n",
    "    print('Eligible for interview')\n",
    "else:\n",
    "    print('Not Eligilble for interview')"
   ]
  },
  {
   "cell_type": "code",
   "execution_count": null,
   "id": "92a7c639",
   "metadata": {},
   "outputs": [],
   "source": [
    "if Age >= 20:\n",
    "    X = int(input('Please enter the Age:'))\n",
    "    Name = input('please Enter your name:')\n",
    "    print(f'The given name and age is,{Name} and {X}')\n",
    "else:\n",
    "    print('Age is not eligible')"
   ]
  },
  {
   "cell_type": "code",
   "execution_count": null,
   "id": "191fd216",
   "metadata": {},
   "outputs": [],
   "source": []
  },
  {
   "cell_type": "code",
   "execution_count": null,
   "id": "8ea7e35a",
   "metadata": {},
   "outputs": [],
   "source": []
  },
  {
   "cell_type": "code",
   "execution_count": null,
   "id": "4d543751",
   "metadata": {},
   "outputs": [],
   "source": []
  },
  {
   "cell_type": "code",
   "execution_count": null,
   "id": "6d15577c",
   "metadata": {},
   "outputs": [],
   "source": [
    "if not A == 10:\n",
    "    print(' Both the statement are true')\n",
    "else: \n",
    "    print(' One statment is false')"
   ]
  },
  {
   "cell_type": "markdown",
   "id": "0589be1c",
   "metadata": {},
   "source": [
    "# if, elif, else"
   ]
  },
  {
   "cell_type": "code",
   "execution_count": null,
   "id": "c531fd6a",
   "metadata": {},
   "outputs": [],
   "source": [
    "A = 10\n",
    "B = 20"
   ]
  },
  {
   "cell_type": "code",
   "execution_count": null,
   "id": "6ce14d69",
   "metadata": {},
   "outputs": [],
   "source": [
    "if condition:\n",
    "    statement\n",
    "elif condition:\n",
    "    statment\n",
    "elif condtion:\n",
    "    statemnet"
   ]
  },
  {
   "cell_type": "code",
   "execution_count": null,
   "id": "0ceccc3d",
   "metadata": {},
   "outputs": [],
   "source": [
    "A "
   ]
  },
  {
   "cell_type": "code",
   "execution_count": null,
   "id": "7a858ec0",
   "metadata": {},
   "outputs": [],
   "source": [
    "A = 10\n",
    "if A == 40:\n",
    "    print('A is 40')\n",
    "elif A >10:\n",
    "    print('A is 10')\n",
    "elif A == 20:\n",
    "    print('A3 is not 40')\n",
    "elif A < 10:\n",
    "    print('A1 is not 40')\n",
    "else:\n",
    "    print('nothing true above statements')"
   ]
  },
  {
   "cell_type": "code",
   "execution_count": null,
   "id": "9b6747ec",
   "metadata": {},
   "outputs": [],
   "source": [
    "marks = [95,80,60,70,75,65]\n",
    "percentage = round(sum(marks)/len(marks),2)\n",
    "percentage"
   ]
  },
  {
   "cell_type": "code",
   "execution_count": null,
   "id": "a81e4e7d",
   "metadata": {},
   "outputs": [],
   "source": [
    "if percentage > 90:\n",
    "    print(f'The percentage is {percentage} : A GRADE')\n",
    "elif percentage < 90 and percentage >= 70:\n",
    "    print(f'The percentage is {percentage} : B GRADE')\n",
    "elif percentage < 70 and percentage >= 50:\n",
    "    print(f'The percentage is {percentage} : C GRADE')\n",
    "elif percentage < 50 and percentage >= 35:\n",
    "    print(f'The percentage is {percentage} : D GRADE')\n",
    "else:\n",
    "    print(f'The percentage is {percentage} : Fail')"
   ]
  },
  {
   "cell_type": "code",
   "execution_count": null,
   "id": "953aa5ce",
   "metadata": {},
   "outputs": [],
   "source": [
    "if  A == 8:\n",
    "    print(' 1st statement is true')\n",
    "elif B == 20:\n",
    "    print('the second statement is true')\n",
    "else: \n",
    "    print('statements is false')"
   ]
  },
  {
   "cell_type": "code",
   "execution_count": null,
   "id": "f42239d6",
   "metadata": {},
   "outputs": [],
   "source": [
    "x = int(input('please enter your age:'))\n",
    "if x >= 20:\n",
    "    y = input('enter again the age:')\n",
    "    print(y)\n",
    "    z = input('enter again the 2nd age')\n",
    "    print(z)\n",
    "else:\n",
    "    print('exit')"
   ]
  },
  {
   "cell_type": "code",
   "execution_count": null,
   "id": "d9af6410",
   "metadata": {},
   "outputs": [],
   "source": [
    "hights = [20.5,15.6,18.9,102.6,18.6]\n",
    "\n",
    "if 10 in hights or 18.9 in hights:\n",
    "    avg_hight = sum(hights)/len(hights)\n",
    "    print(f'average hight is {round(avg_hight)}')\n",
    "    "
   ]
  },
  {
   "cell_type": "raw",
   "id": "cbbb7ed9",
   "metadata": {},
   "source": [
    "Q3: Create a marksheet with grades of marks.\n",
    "    90+ -- A grade\n",
    "    70+ -- B grade\n",
    "    50+ -- C grade\n",
    "    30+ -- D grade\n",
    "    >30 -- fail."
   ]
  },
  {
   "cell_type": "code",
   "execution_count": null,
   "id": "bd01ee1b",
   "metadata": {},
   "outputs": [],
   "source": [
    "marks = [50,80,90,70,80]\n",
    "avge_marks = sum(marks)/len(marks)\n",
    "if avge_marks >= 90:\n",
    "    print('A grade')"
   ]
  },
  {
   "cell_type": "code",
   "execution_count": null,
   "id": "76f08b3d",
   "metadata": {},
   "outputs": [],
   "source": [
    "marks = list(input('enter the values:'))\n",
    "print(marks)"
   ]
  },
  {
   "cell_type": "code",
   "execution_count": null,
   "id": "5db3420e",
   "metadata": {},
   "outputs": [],
   "source": [
    "marks.split(',')"
   ]
  },
  {
   "cell_type": "markdown",
   "id": "64f9c64a",
   "metadata": {},
   "source": [
    "# Ternory operator"
   ]
  },
  {
   "cell_type": "code",
   "execution_count": null,
   "id": "7e6cf8ed",
   "metadata": {},
   "outputs": [],
   "source": [
    "# ternary operator\n",
    "var = value_if_true if condition else value_if_flase "
   ]
  },
  {
   "cell_type": "code",
   "execution_count": null,
   "id": "d5909ade",
   "metadata": {},
   "outputs": [],
   "source": [
    "age = 10\n",
    "weight = 50"
   ]
  },
  {
   "cell_type": "code",
   "execution_count": null,
   "id": "a95555fa",
   "metadata": {},
   "outputs": [],
   "source": [
    "if age == weight:\n",
    "    price = 10\n",
    "    print(price)\n",
    "else:\n",
    "    price = 20\n",
    "    print(price)"
   ]
  },
  {
   "cell_type": "code",
   "execution_count": null,
   "id": "3799a5eb",
   "metadata": {},
   "outputs": [],
   "source": [
    "price1 = 10 if age != weight else 20\n",
    "price1"
   ]
  },
  {
   "cell_type": "code",
   "execution_count": null,
   "id": "cc9daf0d",
   "metadata": {},
   "outputs": [],
   "source": [
    "price1 = 'price is very high' if age < weight else 20\n",
    "price1"
   ]
  },
  {
   "cell_type": "code",
   "execution_count": null,
   "id": "71bddb48",
   "metadata": {},
   "outputs": [],
   "source": [
    "price2 = 5 if int(input('Enter the age: ')) < 15 else 20\n",
    "print(price2)"
   ]
  },
  {
   "cell_type": "markdown",
   "id": "903a0bdd",
   "metadata": {},
   "source": [
    "# Looping statments\n",
    "## For, while."
   ]
  },
  {
   "cell_type": "markdown",
   "id": "2727a4f1",
   "metadata": {},
   "source": [
    "# For loops"
   ]
  },
  {
   "cell_type": "code",
   "execution_count": null,
   "id": "ddb87575",
   "metadata": {},
   "outputs": [],
   "source": [
    "# manual looping\n",
    "num = [10,11,12,13,14,15,16,17]\n",
    "# print(num * 2)\n",
    "print(num[0]*2)\n",
    "print(num[1]*2)\n",
    "print(num[2]*2)"
   ]
  },
  {
   "cell_type": "code",
   "execution_count": null,
   "id": "bcd4fec2",
   "metadata": {},
   "outputs": [],
   "source": [
    "num = [10,11,12,13,14,15,16,17]\n",
    "for i in num:\n",
    "    print(i / 2)"
   ]
  },
  {
   "cell_type": "code",
   "execution_count": null,
   "id": "5545dc5a",
   "metadata": {},
   "outputs": [],
   "source": [
    "numbers = [1,2,3,4,5,6,7,8,9,10]\n",
    "for i in numbers:\n",
    "    print(i*i)"
   ]
  },
  {
   "cell_type": "code",
   "execution_count": null,
   "id": "72698d72",
   "metadata": {},
   "outputs": [],
   "source": [
    "for i in numbers:\n",
    "    print(i**3)"
   ]
  },
  {
   "cell_type": "markdown",
   "id": "6566cac4",
   "metadata": {},
   "source": [
    "# range function: range[start, end, step]"
   ]
  },
  {
   "cell_type": "code",
   "execution_count": null,
   "id": "02f055c9",
   "metadata": {},
   "outputs": [],
   "source": [
    "range(10)"
   ]
  },
  {
   "cell_type": "code",
   "execution_count": null,
   "id": "2f5876ac",
   "metadata": {},
   "outputs": [],
   "source": [
    "for i in range(10):\n",
    "    print(i)"
   ]
  },
  {
   "cell_type": "code",
   "execution_count": null,
   "id": "bd59c992",
   "metadata": {},
   "outputs": [],
   "source": [
    "for i in range(1,11):\n",
    "    print(i)"
   ]
  },
  {
   "cell_type": "code",
   "execution_count": null,
   "id": "570c5b43",
   "metadata": {},
   "outputs": [],
   "source": [
    "for i in range(10):\n",
    "    print(i+1)"
   ]
  },
  {
   "cell_type": "code",
   "execution_count": null,
   "id": "dbfe5a32",
   "metadata": {},
   "outputs": [],
   "source": [
    "for i in range(1,11): #[1,2,3,4,5,6,7,8,9,10]\n",
    "    print(i*3)"
   ]
  },
  {
   "cell_type": "code",
   "execution_count": null,
   "id": "b99520e4",
   "metadata": {},
   "outputs": [],
   "source": [
    "for i in range(1,11):\n",
    "    print(i*2)"
   ]
  },
  {
   "cell_type": "code",
   "execution_count": null,
   "id": "809b7e29",
   "metadata": {},
   "outputs": [],
   "source": [
    "for i in range(1,6,4): #[1,2,3,4,5]\n",
    "    print(i)"
   ]
  },
  {
   "cell_type": "code",
   "execution_count": 84,
   "id": "e96c4b10-2c9a-4e8c-8e5c-e9ff1520a184",
   "metadata": {},
   "outputs": [],
   "source": [
    "student_marks = [\n",
    "    {'name':'sam',\n",
    "    'age':25,\n",
    "    'subjects':['Maths','science','CS','Statistics','Phyisics','Bio'],\n",
    "    'Marks':[60,70,80,90,70,60]},\n",
    "    \n",
    "    {'name':10,\n",
    "    'age':26,\n",
    "    'subjects':['Maths','science','CS','Statistics','Phyisics','Bio'],\n",
    "    'Marks':[60,70,80,80,70,60]},\n",
    "                 \n",
    "    {'name':'sss',\n",
    "    'age':27,\n",
    "    'subjects':['Maths','science','CS','Statistics','Phyisics','Bio'],\n",
    "    'Marks':[60,50,80,70,70,60]}\n",
    "                ]"
   ]
  },
  {
   "cell_type": "markdown",
   "id": "a94aa4af",
   "metadata": {},
   "source": [
    "# Break statement"
   ]
  },
  {
   "cell_type": "code",
   "execution_count": 92,
   "id": "02b57efa",
   "metadata": {
    "scrolled": true
   },
   "outputs": [
    {
     "name": "stdout",
     "output_type": "stream",
     "text": [
      "1\n",
      "2\n",
      "3\n",
      "4\n"
     ]
    }
   ],
   "source": [
    "for i in range(1,10):\n",
    "    if i == 5:\n",
    "        break \n",
    "    print(i)"
   ]
  },
  {
   "cell_type": "code",
   "execution_count": 88,
   "id": "d2c885bf-f029-4219-9a3f-025fedfdb59a",
   "metadata": {},
   "outputs": [
    {
     "name": "stdout",
     "output_type": "stream",
     "text": [
      "{'name': 'sam', 'age': 25, 'subjects': ['Maths', 'science', 'CS', 'Statistics', 'Phyisics', 'Bio'], 'Marks': [60, 70, 80, 90, 70, 60]}\n"
     ]
    }
   ],
   "source": [
    "for i in student_marks:\n",
    "    if type(i['name']) == int:\n",
    "        break\n",
    "    print(i)"
   ]
  },
  {
   "cell_type": "markdown",
   "id": "ea7ce722",
   "metadata": {},
   "source": [
    "# Continue statement"
   ]
  },
  {
   "cell_type": "code",
   "execution_count": 90,
   "id": "17ca0582",
   "metadata": {
    "scrolled": true
   },
   "outputs": [
    {
     "name": "stdout",
     "output_type": "stream",
     "text": [
      "1\n",
      "2\n",
      "3\n",
      "4\n",
      "5\n",
      "6\n",
      "i is 7 now\n",
      "8\n",
      "9\n",
      "10\n"
     ]
    }
   ],
   "source": [
    "for i in range(1,11):\n",
    "    if i == 7:\n",
    "        print('i is 7 now')\n",
    "        continue\n",
    "    print(i)"
   ]
  },
  {
   "cell_type": "code",
   "execution_count": 91,
   "id": "b5580c37-42b1-4233-b6a2-8112b98c1728",
   "metadata": {
    "scrolled": true
   },
   "outputs": [
    {
     "name": "stdout",
     "output_type": "stream",
     "text": [
      "{'name': 'sam', 'age': 25, 'subjects': ['Maths', 'science', 'CS', 'Statistics', 'Phyisics', 'Bio'], 'Marks': [60, 70, 80, 90, 70, 60]}\n",
      "{'name': 'sss', 'age': 27, 'subjects': ['Maths', 'science', 'CS', 'Statistics', 'Phyisics', 'Bio'], 'Marks': [60, 50, 80, 70, 70, 60]}\n"
     ]
    }
   ],
   "source": [
    "for i in student_marks:\n",
    "    if type(i['name']) == int:\n",
    "        continue\n",
    "    print(i)"
   ]
  },
  {
   "cell_type": "markdown",
   "id": "83eadefa",
   "metadata": {},
   "source": [
    "# pass statement"
   ]
  },
  {
   "cell_type": "code",
   "execution_count": 93,
   "id": "46eee712",
   "metadata": {
    "scrolled": true
   },
   "outputs": [
    {
     "name": "stdout",
     "output_type": "stream",
     "text": [
      "1\n",
      "2\n",
      "3\n",
      "4\n",
      "5\n",
      "6\n",
      "7\n",
      "8\n",
      "9\n",
      "10\n"
     ]
    }
   ],
   "source": [
    "for i in range(1,11):  \n",
    "    if i == 5:\n",
    "        pass\n",
    "    print(i)  "
   ]
  },
  {
   "cell_type": "code",
   "execution_count": 198,
   "id": "01c40507",
   "metadata": {},
   "outputs": [],
   "source": [
    "student_marks = [\n",
    "    {'name':'sam',\n",
    "    'age':25,\n",
    "    'subjects':['Maths','science','CS','Statistics','Phyisics','Bio'],\n",
    "    'Marks':[60,70,80,90,70,60]},\n",
    "    \n",
    "    {'name':'fam',\n",
    "    'age':26,\n",
    "    'subjects':['Maths','science','CS','Statistics','Phyisics','Bio'],\n",
    "    'Marks':[60,70,80,80,70,60]},\n",
    "                 \n",
    "    {'name':'sss',\n",
    "    'age':27,\n",
    "    'subjects':['Maths','science','CS','Statistics','Phyisics','Bio'],\n",
    "    'Marks':[60,50,80,70,70,60]}\n",
    "                ]"
   ]
  },
  {
   "cell_type": "code",
   "execution_count": 199,
   "id": "6ce62716",
   "metadata": {},
   "outputs": [
    {
     "data": {
      "text/plain": [
       "{'name': 'fam',\n",
       " 'age': 26,\n",
       " 'subjects': ['Maths', 'science', 'CS', 'Statistics', 'Phyisics', 'Bio'],\n",
       " 'Marks': [60, 70, 80, 80, 70, 60]}"
      ]
     },
     "execution_count": 199,
     "metadata": {},
     "output_type": "execute_result"
    }
   ],
   "source": [
    "student_marks[1]"
   ]
  },
  {
   "cell_type": "code",
   "execution_count": 200,
   "id": "be2843f6",
   "metadata": {},
   "outputs": [
    {
     "data": {
      "text/plain": [
       "65.0"
      ]
     },
     "execution_count": 200,
     "metadata": {},
     "output_type": "execute_result"
    }
   ],
   "source": [
    "average = round(sum(student_marks[2]['Marks'])/len(student_marks[2]['Marks']),2)\n",
    "average"
   ]
  },
  {
   "cell_type": "code",
   "execution_count": 201,
   "id": "516d9382",
   "metadata": {},
   "outputs": [
    {
     "name": "stdout",
     "output_type": "stream",
     "text": [
      "Results:sam: 71.67\n",
      "Results:fam: 70.0\n",
      "Results:sss: 65.0\n"
     ]
    }
   ],
   "source": [
    "for i in range(len(student_marks)):\n",
    "    average = round(sum(student_marks[i]['Marks'])/len(student_marks[i]['Marks']),2)\n",
    "    name = student_marks[i]['name']\n",
    "    print(f'Results:{name}: {average}')"
   ]
  },
  {
   "cell_type": "code",
   "execution_count": 202,
   "id": "f747bbcc",
   "metadata": {},
   "outputs": [
    {
     "name": "stdout",
     "output_type": "stream",
     "text": [
      "name sam Average marks 71.67\n",
      "B grade\n",
      "name fam Average marks 70.0\n",
      "B grade\n",
      "name sss Average marks 65.0\n",
      "C grade\n"
     ]
    }
   ],
   "source": [
    "for i in range(len(student_marks)):\n",
    "    avg = round(sum(student_marks[i]['Marks'])/len(student_marks[i]['Marks']),2)\n",
    "    print('name {} Average marks {}'.format(student_marks[i]['name'], avg))\n",
    "    if avg >= 90:\n",
    "        print('A grade')\n",
    "    elif avg <90 and avg >= 70:\n",
    "        print('B grade')\n",
    "    elif avg < 70 and avg >= 50:\n",
    "        print('C grade')\n",
    "    elif avg <50 and avg >=30:\n",
    "        print('D grade')\n",
    "    else:\n",
    "        print('Fail')"
   ]
  },
  {
   "cell_type": "code",
   "execution_count": null,
   "id": "9c8a2cea",
   "metadata": {},
   "outputs": [],
   "source": [
    "for i in range(len(student_marks)):\n",
    "    name_upper = student_marks[i]['name'].upper()\n",
    "    print(name_upper)"
   ]
  },
  {
   "cell_type": "code",
   "execution_count": null,
   "id": "8098ace3",
   "metadata": {},
   "outputs": [],
   "source": [
    "import statistics as st\n",
    "st.mean(student_marks[0]['Marks'])"
   ]
  },
  {
   "cell_type": "code",
   "execution_count": null,
   "id": "ac27bfde",
   "metadata": {},
   "outputs": [],
   "source": [
    "st.stdev([120,15,16])"
   ]
  },
  {
   "cell_type": "code",
   "execution_count": null,
   "id": "76d472ec",
   "metadata": {},
   "outputs": [],
   "source": [
    "i = 2\n",
    "i = i + 2\n",
    "print(i)"
   ]
  },
  {
   "cell_type": "code",
   "execution_count": null,
   "id": "c81270cd",
   "metadata": {},
   "outputs": [],
   "source": [
    "i = i + 2#  i += 2\n",
    "print(i)"
   ]
  },
  {
   "cell_type": "markdown",
   "id": "121ef066",
   "metadata": {},
   "source": [
    "increament and decreament operator using for loop +=, -=, *=, /="
   ]
  },
  {
   "cell_type": "code",
   "execution_count": 95,
   "id": "1a7c9b94",
   "metadata": {
    "scrolled": true
   },
   "outputs": [
    {
     "name": "stdout",
     "output_type": "stream",
     "text": [
      "2\n",
      "3\n",
      "4\n",
      "5\n",
      "6\n",
      "7\n"
     ]
    }
   ],
   "source": [
    "# Increment of values.\n",
    "for i in range(0,6): #-->0,1,2,3,4,5\n",
    "    i+=2  #--> i = i+1\n",
    "    print(i)"
   ]
  },
  {
   "cell_type": "code",
   "execution_count": 97,
   "id": "cbea4ed1-375c-424a-a776-0c0ef308e1e8",
   "metadata": {
    "scrolled": true
   },
   "outputs": [
    {
     "name": "stdout",
     "output_type": "stream",
     "text": [
      "5\n",
      "4\n",
      "3\n",
      "2\n",
      "1\n"
     ]
    }
   ],
   "source": [
    "# decrementing of values\n",
    "for i in range(6,1,-1): #-->6,5,4,3,2,1\n",
    "    i-=1  #--> i = i+1\n",
    "    print(i)"
   ]
  },
  {
   "cell_type": "code",
   "execution_count": 100,
   "id": "a64dd61a",
   "metadata": {
    "scrolled": true
   },
   "outputs": [
    {
     "name": "stdout",
     "output_type": "stream",
     "text": [
      "3\n",
      "6\n",
      "9\n",
      "12\n",
      "15\n",
      "18\n",
      "21\n",
      "24\n",
      "27\n",
      "30\n"
     ]
    }
   ],
   "source": [
    "# multiplication\n",
    "for i in range(1,11):\n",
    "    i*=3 # --> i = i*2\n",
    "    print(i)"
   ]
  },
  {
   "cell_type": "code",
   "execution_count": 207,
   "id": "c1cac084",
   "metadata": {
    "collapsed": true,
    "jupyter": {
     "outputs_hidden": true
    }
   },
   "outputs": [
    {
     "name": "stdout",
     "output_type": "stream",
     "text": [
      "9\n",
      "8\n",
      "7\n",
      "6\n",
      "5\n",
      "4\n",
      "3\n",
      "2\n",
      "1\n",
      "0\n"
     ]
    }
   ],
   "source": [
    "# Decrementation\n",
    "for a in range(10,0,-1):\n",
    "    a -= 1\n",
    "    print(a)"
   ]
  },
  {
   "cell_type": "code",
   "execution_count": null,
   "id": "12eacd96",
   "metadata": {},
   "outputs": [],
   "source": [
    "# multiplication\n",
    "for i in range(1,11):\n",
    "    i*=2\n",
    "    print(i)"
   ]
  },
  {
   "cell_type": "code",
   "execution_count": 208,
   "id": "e7536f33",
   "metadata": {
    "collapsed": true,
    "jupyter": {
     "outputs_hidden": true
    }
   },
   "outputs": [
    {
     "name": "stdout",
     "output_type": "stream",
     "text": [
      "Give a table for:5\n",
      "5\n",
      "10\n",
      "15\n",
      "20\n",
      "25\n",
      "30\n",
      "35\n",
      "40\n",
      "45\n",
      "50\n"
     ]
    }
   ],
   "source": [
    "n = int(input('Give a table for:' ))\n",
    "for i in range(1,11):\n",
    "    i *= n\n",
    "    print(i)              "
   ]
  },
  {
   "cell_type": "code",
   "execution_count": 101,
   "id": "f730be63-2d97-487b-a54b-cbb0c93d980c",
   "metadata": {},
   "outputs": [
    {
     "data": {
      "text/plain": [
       "10"
      ]
     },
     "execution_count": 101,
     "metadata": {},
     "output_type": "execute_result"
    }
   ],
   "source": [
    "0+1+2+3+4"
   ]
  },
  {
   "cell_type": "code",
   "execution_count": 103,
   "id": "c4587b59",
   "metadata": {},
   "outputs": [
    {
     "name": "stdout",
     "output_type": "stream",
     "text": [
      "total sum of natural number 10\n"
     ]
    }
   ],
   "source": [
    "# sum of the values\n",
    "sum1 = 0 # --> global variable\n",
    "for k in range(5):#[0,1,2,3,4]\n",
    "    sum1 += k # sum1 = sum1 + 2\n",
    "    m = 10 # --> m local varuable\n",
    "print('total sum of natural number',sum1)"
   ]
  },
  {
   "cell_type": "code",
   "execution_count": 104,
   "id": "5fa20a2a-12b2-4876-9305-3a1b719bcdd5",
   "metadata": {},
   "outputs": [
    {
     "name": "stdout",
     "output_type": "stream",
     "text": [
      "31\n"
     ]
    }
   ],
   "source": [
    "data = [1,5,6,9,10] # sum()\n",
    "add = 0\n",
    "for i in data:\n",
    "    add += i\n",
    "print(add)\n",
    "    "
   ]
  },
  {
   "cell_type": "code",
   "execution_count": 105,
   "id": "ba9c00a8-316f-415c-9d76-3ab1b80ff827",
   "metadata": {},
   "outputs": [
    {
     "name": "stdout",
     "output_type": "stream",
     "text": [
      "5\n"
     ]
    }
   ],
   "source": [
    "data = [1,5,6,9,10] # len()\n",
    "Len = 0\n",
    "for i in data:\n",
    "    Len += 1\n",
    "print(Len)"
   ]
  },
  {
   "cell_type": "code",
   "execution_count": 109,
   "id": "27a1f081-5201-4902-a6ed-858a0387467e",
   "metadata": {},
   "outputs": [
    {
     "data": {
      "text/plain": [
       "55"
      ]
     },
     "execution_count": 109,
     "metadata": {},
     "output_type": "execute_result"
    }
   ],
   "source": [
    "1**2 + 2**2 +3**2 +4**2 + 5**2"
   ]
  },
  {
   "cell_type": "code",
   "execution_count": 106,
   "id": "f0a4b7f4-b85f-46b1-aaf7-efaae7a96b0c",
   "metadata": {},
   "outputs": [
    {
     "name": "stdout",
     "output_type": "stream",
     "text": [
      "55\n"
     ]
    }
   ],
   "source": [
    "sos = 0\n",
    "for i in range(1,6):\n",
    "    sos += i ** 2\n",
    "print(sos)    "
   ]
  },
  {
   "cell_type": "markdown",
   "id": "43f23bb8",
   "metadata": {},
   "source": [
    "### sum of integer"
   ]
  },
  {
   "cell_type": "code",
   "execution_count": 111,
   "id": "af5bc272",
   "metadata": {},
   "outputs": [
    {
     "name": "stdout",
     "output_type": "stream",
     "text": [
      "46.833333333333336\n"
     ]
    }
   ],
   "source": [
    "sum1 = [30,56,78,49,52,16]\n",
    "sum2 = 0\n",
    "count = 0\n",
    "for i in sum1:\n",
    "    sum2 += i\n",
    "    count += 1\n",
    "average = sum2 / count\n",
    "print(average)"
   ]
  },
  {
   "cell_type": "code",
   "execution_count": 215,
   "id": "9c0fa6e3",
   "metadata": {},
   "outputs": [
    {
     "data": {
      "text/plain": [
       "[0, 1, 2, 3, 4, 5]"
      ]
     },
     "execution_count": 215,
     "metadata": {},
     "output_type": "execute_result"
    }
   ],
   "source": [
    "sum1"
   ]
  },
  {
   "cell_type": "code",
   "execution_count": 217,
   "id": "0a24d664",
   "metadata": {},
   "outputs": [
    {
     "name": "stdout",
     "output_type": "stream",
     "text": [
      "225\n"
     ]
    }
   ],
   "source": [
    "# 1^2 + 2^2 + 3^2+......n^2\n",
    "total = 0\n",
    "for i in sum1:\n",
    "    total = total + i ** 3\n",
    "print(total)"
   ]
  },
  {
   "cell_type": "markdown",
   "id": "c57ee86c",
   "metadata": {},
   "source": [
    "### product of values"
   ]
  },
  {
   "cell_type": "code",
   "execution_count": 119,
   "id": "af31fde4",
   "metadata": {},
   "outputs": [
    {
     "name": "stdout",
     "output_type": "stream",
     "text": [
      "the 6 factorial is: 720\n"
     ]
    }
   ],
   "source": [
    "prod1 = 1\n",
    "for k in range(1,7):\n",
    "    prod1 *= k\n",
    "#     print(prod1)\n",
    "print('the 6 factorial is:',prod1)"
   ]
  },
  {
   "cell_type": "code",
   "execution_count": 120,
   "id": "e3114ee4",
   "metadata": {
    "scrolled": true
   },
   "outputs": [
    {
     "name": "stdout",
     "output_type": "stream",
     "text": [
      "1\n",
      "4\n",
      "9\n",
      "16\n",
      "25\n",
      "36\n",
      "49\n",
      "64\n",
      "81\n",
      "100\n",
      "the square of given values are: 100\n"
     ]
    }
   ],
   "source": [
    "# squared of values\n",
    "prod1 = 1\n",
    "for k in range(1,11):\n",
    "    prod1 = k * k\n",
    "    print(prod1)\n",
    "print('the square of given values are:',prod1)"
   ]
  },
  {
   "cell_type": "code",
   "execution_count": null,
   "id": "3877d6e5",
   "metadata": {},
   "outputs": [],
   "source": [
    "2*4*5*6"
   ]
  },
  {
   "cell_type": "code",
   "execution_count": null,
   "id": "82b064f5",
   "metadata": {},
   "outputs": [],
   "source": [
    "v = [2,4,5,6]\n",
    "u = 1\n",
    "for k in v:\n",
    "    u *= k\n",
    "print(u)"
   ]
  },
  {
   "cell_type": "code",
   "execution_count": null,
   "id": "53a92bdf",
   "metadata": {},
   "outputs": [],
   "source": [
    "num = [10,11,12,13,14,15,16,17,20,26,25,28,29]\n",
    "len(num)"
   ]
  },
  {
   "cell_type": "code",
   "execution_count": null,
   "id": "1f373a57",
   "metadata": {},
   "outputs": [],
   "source": [
    "count = 0\n",
    "for i in num:\n",
    "    count = count + 1\n",
    "print(count)"
   ]
  },
  {
   "cell_type": "code",
   "execution_count": 122,
   "id": "f219cb3d",
   "metadata": {},
   "outputs": [],
   "source": [
    "names = ['babu','Ajay','akshay','chinmay','mahalakshmi','muskan','naveen',None,\n",
    "         'spoorthi','ramnathan','suraj','babu','Ajay','akshay','chinmay','mahalakshmi',None,\n",
    "         'muskan','ramnathan','suraj','babu','Ajay','akshay','chinmay','mahalakshmi','muskan','naveen','spoorthi']"
   ]
  },
  {
   "cell_type": "code",
   "execution_count": 229,
   "id": "0c7bdc05",
   "metadata": {},
   "outputs": [
    {
     "data": {
      "text/plain": [
       "2"
      ]
     },
     "execution_count": 229,
     "metadata": {},
     "output_type": "execute_result"
    }
   ],
   "source": []
  },
  {
   "cell_type": "raw",
   "id": "ecc74994",
   "metadata": {},
   "source": [
    "total names = 28\n",
    "unique names = 10"
   ]
  },
  {
   "cell_type": "code",
   "execution_count": 123,
   "id": "c06bd999",
   "metadata": {},
   "outputs": [
    {
     "name": "stdout",
     "output_type": "stream",
     "text": [
      "28\n"
     ]
    }
   ],
   "source": [
    "# len(names)\n",
    "k =0 \n",
    "for i in names:\n",
    "    k += 1\n",
    "print(k)    "
   ]
  },
  {
   "cell_type": "code",
   "execution_count": 124,
   "id": "33f7ffee",
   "metadata": {},
   "outputs": [
    {
     "name": "stdout",
     "output_type": "stream",
     "text": [
      "10\n"
     ]
    }
   ],
   "source": [
    "# len(set(names))\n",
    "k = 0\n",
    "for i in set(names):\n",
    "    if type(i) == str:\n",
    "        k += 1\n",
    "print(k)"
   ]
  },
  {
   "cell_type": "code",
   "execution_count": null,
   "id": "4a35287f",
   "metadata": {},
   "outputs": [],
   "source": []
  },
  {
   "cell_type": "code",
   "execution_count": null,
   "id": "7527ba85",
   "metadata": {},
   "outputs": [],
   "source": [
    "count = 0\n",
    "for i in names:\n",
    "    count = count + 1\n",
    "print(count)"
   ]
  },
  {
   "cell_type": "code",
   "execution_count": null,
   "id": "fb237087",
   "metadata": {},
   "outputs": [],
   "source": [
    "count = 0\n",
    "for i in set(names):\n",
    "    count = count + 1\n",
    "print(count)"
   ]
  },
  {
   "cell_type": "code",
   "execution_count": 233,
   "id": "51167412",
   "metadata": {},
   "outputs": [
    {
     "name": "stdout",
     "output_type": "stream",
     "text": [
      "There is NA value\n",
      "7\n"
     ]
    }
   ],
   "source": [
    "count = 0\n",
    "for i in names:\n",
    "    if i == None:\n",
    "        print('There is NA value')\n",
    "        break\n",
    "    else:\n",
    "        count = count + 1\n",
    "print(count)"
   ]
  },
  {
   "cell_type": "code",
   "execution_count": null,
   "id": "ff5a0343",
   "metadata": {},
   "outputs": [],
   "source": [
    "num = [10,11,12,13,14,15,16,17] # 10^2,11^2.....\n",
    "for i in num:\n",
    "    print(i*i)\n"
   ]
  },
  {
   "cell_type": "code",
   "execution_count": null,
   "id": "9d9c8e41",
   "metadata": {},
   "outputs": [],
   "source": [
    "num = [10,11,12,13,14,15,16,17] # 10^3,11^3.....\n",
    "for i in num:\n",
    "    print(i*i*i)"
   ]
  },
  {
   "cell_type": "code",
   "execution_count": null,
   "id": "fd0953e8",
   "metadata": {},
   "outputs": [],
   "source": [
    "a=[1,2,3,4,5,6,7,8,9,10]\n",
    "b=int(input(\"Enter which table do you need: \"))\n",
    "c=[]\n",
    "for i in range(0,len(a)):\n",
    "    j = b*a[i]\n",
    "    c.append(j)\n",
    "    print(b*a[i])\n",
    "    \n",
    "    #print(\"{0} * {1}=\".format(b,a[i]),b*a[i])"
   ]
  },
  {
   "cell_type": "markdown",
   "id": "26641c67",
   "metadata": {},
   "source": [
    "# nested for loop"
   ]
  },
  {
   "cell_type": "code",
   "execution_count": 130,
   "id": "e60c57b8",
   "metadata": {
    "scrolled": true
   },
   "outputs": [
    {
     "name": "stdout",
     "output_type": "stream",
     "text": [
      "001\n",
      "101\n",
      "201\n"
     ]
    }
   ],
   "source": [
    "i = 2\n",
    "j = 3\n",
    "for k in range(j):\n",
    "    print(k,end='')\n",
    "    for m in range(i):\n",
    "        print(m,end ='')\n",
    "    print()"
   ]
  },
  {
   "cell_type": "code",
   "execution_count": null,
   "id": "8081b405",
   "metadata": {},
   "outputs": [],
   "source": [
    "# nested for loop\n",
    "n = [int(input('Enter the value to print the table: '))]\n",
    "for i in n:\n",
    "    for j in range(1,11): ## 1--10\n",
    "        mul = i*j\n",
    "        print(mul)\n",
    "      "
   ]
  },
  {
   "cell_type": "code",
   "execution_count": null,
   "id": "e50d361a",
   "metadata": {},
   "outputs": [],
   "source": [
    "for i in range(5):\n",
    "    print(i,i,sep = '-->',end = ' ' )\n",
    "    for j in range(5):\n",
    "        print(j, end = '')\n",
    "    print()"
   ]
  },
  {
   "cell_type": "code",
   "execution_count": 240,
   "id": "20550c11",
   "metadata": {
    "collapsed": true,
    "jupyter": {
     "outputs_hidden": true
    }
   },
   "outputs": [
    {
     "name": "stdout",
     "output_type": "stream",
     "text": [
      "tomato--#11\n",
      "brinjal--#12\n",
      "spinach--#13\n",
      "cucumber--#14\n",
      "pumpkin--#15\n"
     ]
    }
   ],
   "source": [
    "Veggies = ['tomato','brinjal','spinach','cucumber','pumpkin']\n",
    "for i in range(len(Veggies)):\n",
    "    Veggies[i] += f'--#1{i+1}'\n",
    "    print(Veggies[i])"
   ]
  },
  {
   "cell_type": "code",
   "execution_count": null,
   "id": "51fbd9d6",
   "metadata": {},
   "outputs": [],
   "source": [
    "'tomato' +' #11'"
   ]
  },
  {
   "cell_type": "markdown",
   "id": "98fc0617",
   "metadata": {},
   "source": [
    "# patterns using loop"
   ]
  },
  {
   "cell_type": "raw",
   "id": "c3fef630",
   "metadata": {},
   "source": [
    "1\n",
    "1,2\n",
    "1,2,3\n",
    "1,2,3,4\n",
    "1,2,3,4,5"
   ]
  },
  {
   "cell_type": "code",
   "execution_count": 141,
   "id": "2847b10f",
   "metadata": {
    "scrolled": true
   },
   "outputs": [
    {
     "name": "stdout",
     "output_type": "stream",
     "text": [
      "1 \n",
      "1 2 \n",
      "1 2 3 \n",
      "1 2 3 4 \n",
      "1 2 3 4 5 \n"
     ]
    }
   ],
   "source": [
    "# create a pattern\n",
    "n = 5\n",
    "for i in range(1,6): # 0,1,2,3,4\n",
    "    for m in range(1,i+1):\n",
    "        print(m,end = ' ')\n",
    "    print()"
   ]
  },
  {
   "cell_type": "code",
   "execution_count": 142,
   "id": "f0ba53be",
   "metadata": {
    "scrolled": true
   },
   "outputs": [
    {
     "name": "stdout",
     "output_type": "stream",
     "text": [
      "1 \n",
      "2 2 \n",
      "3 3 3 \n",
      "4 4 4 4 \n",
      "5 5 5 5 5 \n"
     ]
    }
   ],
   "source": [
    "# create a pattern\n",
    "n = 5\n",
    "for i in range(n): # 0,1,2,3,4\n",
    "    for m in range(i+1):\n",
    "        print(i+1,end = ' ')\n",
    "    print()"
   ]
  },
  {
   "cell_type": "code",
   "execution_count": 143,
   "id": "9c716648",
   "metadata": {
    "scrolled": true
   },
   "outputs": [
    {
     "name": "stdout",
     "output_type": "stream",
     "text": [
      "1 2 3 4 5 \n",
      "1 2 3 4 \n",
      "1 2 3 \n",
      "1 2 \n",
      "1 \n"
     ]
    }
   ],
   "source": [
    "# create a reverse pattern\n",
    "n = 5\n",
    "for n in range(n,0,-1):\n",
    "    for m in range(n):\n",
    "        print(m+1,end = ' ')\n",
    "    print()"
   ]
  },
  {
   "cell_type": "code",
   "execution_count": 144,
   "id": "264edd5b",
   "metadata": {
    "scrolled": true
   },
   "outputs": [
    {
     "name": "stdout",
     "output_type": "stream",
     "text": [
      "1 \n",
      "1 2 \n",
      "1 2 3 \n",
      "1 2 3 4 \n",
      "1 2 3 4 5 \n",
      "1 2 3 4 5 6 \n",
      "1 2 3 4 5 \n",
      "1 2 3 4 \n",
      "1 2 3 \n",
      "1 2 \n",
      "1 \n"
     ]
    }
   ],
   "source": [
    "n = 5\n",
    "for i in range(n):\n",
    "    for m in range(i+1):\n",
    "        print(m+1,end = ' ')\n",
    "    print()\n",
    "for n in range(n+1,0,-1):\n",
    "    for m in range(n):\n",
    "        print(m+1,end = ' ')\n",
    "    print()"
   ]
  },
  {
   "cell_type": "code",
   "execution_count": 155,
   "id": "72024a7c-c520-4317-b2bb-b75b61d998fc",
   "metadata": {
    "scrolled": true
   },
   "outputs": [
    {
     "name": "stdout",
     "output_type": "stream",
     "text": [
      "1 \n",
      "2 1 \n",
      "1 2 \n",
      "2 1 \n",
      "1 2 3 \n",
      "2 1 \n",
      "1 2 3 4 \n",
      "2 1 \n",
      "1 2 3 4 5 \n",
      "2 1 \n",
      "1 2 3 4 5 6 \n",
      "2 1 \n",
      "1 2 3 4 5 6 7 \n",
      "2 1 \n",
      "1 2 3 4 5 6 7 8 \n",
      "2 1 \n",
      "1 2 3 4 5 6 7 8 9 \n",
      "2 1 \n",
      "1 2 3 4 5 6 7 8 9 10 \n",
      "2 1 \n",
      "1 2 3 4 5 6 7 8 9 10 11 \n",
      "2 1 \n",
      "1 2 3 4 5 6 7 8 9 10 11 12 \n",
      "2 1 \n",
      "1 2 3 4 5 6 7 8 9 10 11 12 13 \n",
      "2 1 \n"
     ]
    }
   ],
   "source": [
    "for i in range(13):\n",
    "    for m in range(i+1):\n",
    "        print(m+1,end = ' ')\n",
    "    print()\n",
    "    for n in range(n+1,0,-1):\n",
    "            print(n,end = ' ')\n",
    "    print()"
   ]
  },
  {
   "cell_type": "code",
   "execution_count": 256,
   "id": "972b04e5",
   "metadata": {
    "collapsed": true,
    "jupyter": {
     "outputs_hidden": true
    }
   },
   "outputs": [
    {
     "name": "stdout",
     "output_type": "stream",
     "text": [
      "* --> 1\n",
      "\n",
      "* * --> 2\n",
      "\n",
      "* * * --> 3\n",
      "\n",
      "* * * * --> 4\n",
      "\n",
      "* * * * * --> 5\n",
      "\n",
      "* * * * * * --> 6\n",
      "\n",
      "* * * * * * * --> 7\n",
      "\n",
      "* * * * * * * * --> 8\n",
      "\n",
      "* * * * * * * * * --> 9\n",
      "\n",
      "* * * * * * * * * * --> 10\n",
      "\n"
     ]
    }
   ],
   "source": [
    "#1,2,3,4,5,6,9,10\n",
    "for i in range(1,11):\n",
    "    for j in range(i):\n",
    "        print('*',end = ' ')\n",
    "    print('-->',i)\n",
    "    print()"
   ]
  },
  {
   "cell_type": "markdown",
   "id": "afa6f274",
   "metadata": {},
   "source": [
    "# TASK6: calculate the descriptive statistics(mean, median, mode, var, std, sk, kurtosis.)\n",
    "# utilize the statistics module.[[40,43,19,17,18,53,17],[19,16,17,12,18,70,80,60]]"
   ]
  },
  {
   "cell_type": "code",
   "execution_count": null,
   "id": "3a8f0ff6",
   "metadata": {},
   "outputs": [],
   "source": [
    "data = [[40,43,19,17,18,53,17],[19,16,17,12,18,70,80,60]]"
   ]
  },
  {
   "cell_type": "code",
   "execution_count": null,
   "id": "3cba0112",
   "metadata": {},
   "outputs": [],
   "source": [
    "import statistics as st\n",
    "import scipy.stats as sc\n",
    "for i in data:\n",
    "    avg = sum(i)/len(i)\n",
    "    median = st.median(i)\n",
    "    skw = sc.skew(i)\n",
    "    kut = sc.kurtosis(i)\n",
    "    result = {'Mean':avg,\n",
    "             'Median': median,\n",
    "             'Skewness':skw,\n",
    "              'kurtosis':kut\n",
    "             }\n",
    "    print(result)"
   ]
  },
  {
   "cell_type": "code",
   "execution_count": null,
   "id": "48ef4420",
   "metadata": {},
   "outputs": [],
   "source": [
    "!pip install scipy"
   ]
  },
  {
   "cell_type": "code",
   "execution_count": null,
   "id": "b19ca4fb",
   "metadata": {},
   "outputs": [],
   "source": [
    "data[0].sort()"
   ]
  },
  {
   "cell_type": "code",
   "execution_count": null,
   "id": "f5420c01",
   "metadata": {},
   "outputs": [],
   "source": [
    "data[0]"
   ]
  },
  {
   "cell_type": "code",
   "execution_count": null,
   "id": "31921044",
   "metadata": {},
   "outputs": [],
   "source": [
    "len(data[0])/2"
   ]
  },
  {
   "cell_type": "code",
   "execution_count": null,
   "id": "82636444",
   "metadata": {},
   "outputs": [],
   "source": []
  },
  {
   "cell_type": "code",
   "execution_count": null,
   "id": "0824fa04",
   "metadata": {},
   "outputs": [],
   "source": []
  },
  {
   "cell_type": "code",
   "execution_count": null,
   "id": "014a1b25",
   "metadata": {},
   "outputs": [],
   "source": []
  },
  {
   "cell_type": "code",
   "execution_count": null,
   "id": "9b50235e",
   "metadata": {},
   "outputs": [],
   "source": []
  },
  {
   "cell_type": "code",
   "execution_count": null,
   "id": "51a46840",
   "metadata": {},
   "outputs": [],
   "source": [
    "!pip install scipy"
   ]
  },
  {
   "cell_type": "code",
   "execution_count": null,
   "id": "f428baf1",
   "metadata": {},
   "outputs": [],
   "source": [
    "import statistics as st\n",
    "from scipy.stats import skew, kurtosis "
   ]
  },
  {
   "cell_type": "code",
   "execution_count": null,
   "id": "cb6c856b",
   "metadata": {},
   "outputs": [],
   "source": [
    "import statistics as st\n",
    "from scipy.stats import skew, kurtosis \n",
    "\n",
    "l= [[40,43,19,17,18,53,17],[19,16,17,12,18,70,80,60]]\n",
    "\n",
    "for i in range(len(l)):\n",
    "    mean = round(st.mean(l[i]))\n",
    "    medain = round(st.median(l[i]))\n",
    "    mode = st.mode(l[i])\n",
    "    var = round(st.variance(l[i]))\n",
    "    std = round(st.stdev(l[i]))\n",
    "    sk = round(skew(l[i]))\n",
    "    kurt = round(kurtosis(l[i]))\n",
    "\n",
    "    print(f'{i}', {'Mean':mean,\n",
    "                   'Median':medain,\n",
    "                   'Mode':mode,\n",
    "                   'Variance':var,\n",
    "                   'STD':std,\n",
    "                   'Skewness':sk,\n",
    "                   'Kurtosis':kurt})"
   ]
  },
  {
   "cell_type": "code",
   "execution_count": null,
   "id": "5f73524e",
   "metadata": {},
   "outputs": [],
   "source": [
    "!pip install numpy"
   ]
  },
  {
   "cell_type": "code",
   "execution_count": null,
   "id": "91a528e6",
   "metadata": {},
   "outputs": [],
   "source": [
    "import statistics as st"
   ]
  },
  {
   "cell_type": "markdown",
   "id": "7cc4b8ad",
   "metadata": {},
   "source": [
    "# while loop"
   ]
  },
  {
   "cell_type": "code",
   "execution_count": null,
   "id": "4aa3cb2c",
   "metadata": {},
   "outputs": [],
   "source": [
    "1. initilization\n",
    "2. condition\n",
    "3. increment/decrement"
   ]
  },
  {
   "cell_type": "code",
   "execution_count": 157,
   "id": "32c01a4b",
   "metadata": {
    "scrolled": true
   },
   "outputs": [
    {
     "name": "stdout",
     "output_type": "stream",
     "text": [
      "1\n",
      "2\n",
      "3\n",
      "4\n",
      "5\n",
      "6\n",
      "7\n",
      "8\n",
      "9\n",
      "10\n",
      "11\n",
      "12\n"
     ]
    }
   ],
   "source": [
    "i = 0\n",
    "while(i<=11):\n",
    "    # print(i)\n",
    "    i +=1\n",
    "    print(i)"
   ]
  },
  {
   "cell_type": "code",
   "execution_count": 158,
   "id": "f8a8433a",
   "metadata": {
    "scrolled": true
   },
   "outputs": [
    {
     "name": "stdout",
     "output_type": "stream",
     "text": [
      "10\n",
      "9\n",
      "8\n",
      "7\n",
      "6\n",
      "5\n",
      "4\n",
      "3\n",
      "2\n",
      "1\n",
      "0\n"
     ]
    }
   ],
   "source": [
    "i = 10\n",
    "while(i>=0):\n",
    "    print(i)\n",
    "    i -= 1 # i = i-1"
   ]
  },
  {
   "cell_type": "code",
   "execution_count": 162,
   "id": "65094b00",
   "metadata": {
    "scrolled": true
   },
   "outputs": [
    {
     "name": "stdout",
     "output_type": "stream",
     "text": [
      "1 \n",
      "2 2 \n",
      "3 3 3 \n",
      "4 4 4 4 \n",
      "5 5 5 5 5 \n"
     ]
    }
   ],
   "source": [
    "# # Nested while loop(patterns)\n",
    "i = 1\n",
    "while (i <= 5):\n",
    "    j = 1\n",
    "    while (j <= i):\n",
    "        print(i, end = ' ')\n",
    "        j = j+1\n",
    "#         i = i+1\n",
    "    print()\n",
    "    i = i+1"
   ]
  },
  {
   "cell_type": "code",
   "execution_count": 7,
   "id": "e157e44f",
   "metadata": {},
   "outputs": [
    {
     "name": "stdout",
     "output_type": "stream",
     "text": [
      "1 \n",
      "2 2 \n",
      "3 3 3 \n",
      "4 4 4 4 \n",
      "5 5 5 5 5 \n"
     ]
    }
   ],
   "source": [
    "i = 1\n",
    "while i<= 5:\n",
    "    j = 1\n",
    "    while j<=i:\n",
    "        print(i, end = ' ')\n",
    "        j = j+1\n",
    "    print()\n",
    "    i = i+1"
   ]
  },
  {
   "cell_type": "code",
   "execution_count": 8,
   "id": "64cdcd5c",
   "metadata": {},
   "outputs": [
    {
     "name": "stdout",
     "output_type": "stream",
     "text": [
      "1 \n",
      "1 2 \n",
      "1 2 3 \n",
      "1 2 3 4 \n",
      "1 2 3 4 5 \n"
     ]
    }
   ],
   "source": [
    "i = 1\n",
    "while i<= 5:\n",
    "    j = 1\n",
    "    while j<=i:\n",
    "        print(j, end = ' ')\n",
    "        j = j+1\n",
    "    print()\n",
    "    i = i+1"
   ]
  },
  {
   "cell_type": "code",
   "execution_count": 164,
   "id": "9004b669",
   "metadata": {
    "scrolled": true
   },
   "outputs": [
    {
     "name": "stdout",
     "output_type": "stream",
     "text": [
      "    * \n",
      "   * * \n",
      "  * * * \n",
      " * * * * \n",
      "* * * * * \n"
     ]
    }
   ],
   "source": [
    "i = 1 \n",
    "while (i <= 5):\n",
    "    j = 1 \n",
    "    while j <= 5-i:\n",
    "        print(' ',end = '')\n",
    "        j = j+1\n",
    "    k = 1 \n",
    "    while k <= i:\n",
    "        print('*',end = ' ')\n",
    "        k = k+1\n",
    "    print()\n",
    "    i = i+1"
   ]
  },
  {
   "cell_type": "code",
   "execution_count": 166,
   "id": "8f0ebcf6",
   "metadata": {
    "scrolled": true
   },
   "outputs": [
    {
     "name": "stdout",
     "output_type": "stream",
     "text": [
      "* * * * * \n",
      " * * * * \n",
      "  * * * \n",
      "   * * \n",
      "    * \n",
      "     \n"
     ]
    }
   ],
   "source": [
    "i = 5\n",
    "while i >= 0:\n",
    "    j = 1 # 2 <= 3\n",
    "    while j <= 5-i:\n",
    "        print(' ',end = '')\n",
    "        j = j+1\n",
    "    k = 1 # 2 <= 2\n",
    "    while k <= i:\n",
    "        print('*',end = ' ')\n",
    "        k = k+1\n",
    "    print()\n",
    "    i = i-1"
   ]
  },
  {
   "cell_type": "code",
   "execution_count": 167,
   "id": "dbcc213d",
   "metadata": {
    "scrolled": true
   },
   "outputs": [
    {
     "name": "stdout",
     "output_type": "stream",
     "text": [
      "    * \n",
      "   * * \n",
      "  * * * \n",
      " * * * * \n",
      "* * * * * \n",
      " * * * * \n",
      "  * * * \n",
      "   * * \n",
      "    * \n",
      "     \n"
     ]
    }
   ],
   "source": [
    "i = 1 \n",
    "while (i <= 5):\n",
    "    j = 1 # 2 <= 3\n",
    "    while j <= 5-i:\n",
    "        print(' ',end = '')\n",
    "        j = j+1\n",
    "    k = 1 # 2 <= 2\n",
    "    while k <= i:\n",
    "        print('*',end = ' ')\n",
    "        k = k+1\n",
    "    print()\n",
    "    i = i+1\n",
    "i = 4\n",
    "while i >= 0:\n",
    "    j = 1 # 2 <= 3\n",
    "    while j <= 5-i:\n",
    "        print(' ',end = '')\n",
    "        j = j+1\n",
    "    k = 1 # 2 <= 2\n",
    "    while k <= i:\n",
    "        print('*',end = ' ')\n",
    "        k = k+1\n",
    "    print()\n",
    "    i = i-1"
   ]
  },
  {
   "cell_type": "code",
   "execution_count": 14,
   "id": "a65d4595",
   "metadata": {},
   "outputs": [
    {
     "name": "stdout",
     "output_type": "stream",
     "text": [
      "    1 \n",
      "   2 2 \n",
      "  3 3 3 \n",
      " 4 4 4 4 \n",
      "5 5 5 5 5 \n"
     ]
    }
   ],
   "source": [
    "i = 1\n",
    "while i<= 5:\n",
    "    j = 1\n",
    "    while j<=5-i:\n",
    "        print(' ',end = '')\n",
    "        j = j+1\n",
    "    k = 1\n",
    "    while k<=i:\n",
    "        print(i, end = ' ')\n",
    "        k = k+1\n",
    "    print()\n",
    "    i = i+1"
   ]
  },
  {
   "cell_type": "code",
   "execution_count": 15,
   "id": "dba1ffb5",
   "metadata": {},
   "outputs": [
    {
     "name": "stdout",
     "output_type": "stream",
     "text": [
      "    5 \n",
      "   4 4 \n",
      "  3 3 3 \n",
      " 2 2 2 2 \n",
      "1 1 1 1 1 \n"
     ]
    }
   ],
   "source": [
    "i = 1\n",
    "while i<= 5:\n",
    "    j = 1\n",
    "    while j<=5-i:\n",
    "        print(' ',end = '')\n",
    "        j = j+1\n",
    "    k = 1\n",
    "    while k<=i:\n",
    "        print(j, end = ' ')\n",
    "        k = k+1\n",
    "    print()\n",
    "    i = i+1"
   ]
  },
  {
   "cell_type": "code",
   "execution_count": 168,
   "id": "229d2191",
   "metadata": {},
   "outputs": [
    {
     "name": "stdin",
     "output_type": "stream",
     "text": [
      " 6\n"
     ]
    },
    {
     "name": "stdout",
     "output_type": "stream",
     "text": [
      "     1 \n",
      "    1 2 \n",
      "   1 2 3 \n",
      "  1 2 3 4 \n",
      " 1 2 3 4 5 \n",
      "1 2 3 4 5 6 \n"
     ]
    }
   ],
   "source": [
    "i = 1\n",
    "n = int(input())\n",
    "while i<= n:\n",
    "    j = 1\n",
    "    while j<=n-i:\n",
    "        print(' ',end = '')\n",
    "        j = j+1\n",
    "    k = 1\n",
    "    while k<=i:\n",
    "        print(k, end = ' ')\n",
    "        k = k+1\n",
    "    print()\n",
    "    i = i+1"
   ]
  },
  {
   "cell_type": "code",
   "execution_count": 272,
   "id": "16acfaf3",
   "metadata": {},
   "outputs": [
    {
     "name": "stdout",
     "output_type": "stream",
     "text": [
      "     \n",
      "    * \n",
      "   * * \n",
      "  * * * \n",
      " * * * * \n"
     ]
    }
   ],
   "source": [
    "for i in range(5):\n",
    "    b = 1\n",
    "    for b in range(5-i):\n",
    "        print(' ',end= '')\n",
    "    j = 1\n",
    "    for j in range(i):\n",
    "        print('*',end = ' ')\n",
    "        j = j+1\n",
    "    print()"
   ]
  },
  {
   "cell_type": "code",
   "execution_count": null,
   "id": "fb18a20b-6d12-40c7-8de7-fec5cb65fddd",
   "metadata": {},
   "outputs": [],
   "source": [
    "# interview questions\n",
    "1.\tTake input from the user in one line and the output should be a list.\n",
    "2.\tWrite a python program to print only the integers from the given list \n",
    "input : l=[['a','b','c'],[[4],1,2,'c']]\n",
    "output : 4,1,2\n",
    "\n",
    "3.Write a program to check whether any given 2 strings have the same characters.\n",
    "\tInput : S1 = cat\n",
    "\t\tS2 = tac\n",
    "4. write a program to find the duplicates,\n",
    "data = [1,1,2,3,6,6]\n",
    "output = [1,6]"
   ]
  },
  {
   "cell_type": "code",
   "execution_count": 177,
   "id": "896e2339-3ca0-4804-8e7e-092e66d2f371",
   "metadata": {},
   "outputs": [
    {
     "name": "stdin",
     "output_type": "stream",
     "text": [
      " 1,5,6,3\n"
     ]
    }
   ],
   "source": [
    "data = list(input().split(','))"
   ]
  },
  {
   "cell_type": "code",
   "execution_count": 178,
   "id": "b2c54e94-8788-4b70-9d0e-5ef068496950",
   "metadata": {},
   "outputs": [
    {
     "data": {
      "text/plain": [
       "['1', '5', '6', '3']"
      ]
     },
     "execution_count": 178,
     "metadata": {},
     "output_type": "execute_result"
    }
   ],
   "source": [
    "data"
   ]
  },
  {
   "cell_type": "code",
   "execution_count": 183,
   "id": "00913415-85c1-470b-9921-1872a4aa509b",
   "metadata": {},
   "outputs": [
    {
     "name": "stdout",
     "output_type": "stream",
     "text": [
      "[4, 1, 2]\n"
     ]
    }
   ],
   "source": [
    "l=[['a','b','c'],[[4],1,2,'c']]\n",
    "D = []\n",
    "for i in l:\n",
    "    for j in i:\n",
    "        if type(j) == list:\n",
    "            for k in j:\n",
    "                if type(k) == int:\n",
    "                    D.append(k)\n",
    "                    # print(k)\n",
    "        elif type(j) == int:\n",
    "            D.append(j)\n",
    "print(D)"
   ]
  },
  {
   "cell_type": "markdown",
   "id": "603f0bcc",
   "metadata": {},
   "source": [
    "# Functions"
   ]
  },
  {
   "cell_type": "markdown",
   "id": "76804cac-277f-43fc-8850-e388e5f18cd5",
   "metadata": {},
   "source": [
    "print, input, type, range, sum, min, max, len, abs......................."
   ]
  },
  {
   "cell_type": "code",
   "execution_count": 17,
   "id": "10301444",
   "metadata": {},
   "outputs": [
    {
     "name": "stdout",
     "output_type": "stream",
     "text": [
      "Help on built-in function abs in module builtins:\n",
      "\n",
      "abs(x, /)\n",
      "    Return the absolute value of the argument.\n",
      "\n"
     ]
    }
   ],
   "source": [
    "help(abs)"
   ]
  },
  {
   "cell_type": "code",
   "execution_count": 19,
   "id": "a422d9a3",
   "metadata": {},
   "outputs": [
    {
     "name": "stdout",
     "output_type": "stream",
     "text": [
      "Help on method raw_input in module ipykernel.kernelbase:\n",
      "\n",
      "raw_input(prompt='') method of ipykernel.ipkernel.IPythonKernel instance\n",
      "    Forward raw_input to frontends\n",
      "    \n",
      "    Raises\n",
      "    ------\n",
      "    StdinNotImplementedError if active frontend doesn't support stdin.\n",
      "\n"
     ]
    }
   ],
   "source": [
    "help(input)"
   ]
  },
  {
   "cell_type": "code",
   "execution_count": 275,
   "id": "7d666a2e",
   "metadata": {
    "collapsed": true,
    "jupyter": {
     "outputs_hidden": true
    }
   },
   "outputs": [
    {
     "name": "stdout",
     "output_type": "stream",
     "text": [
      "Help on method raw_input in module ipykernel.kernelbase:\n",
      "\n",
      "raw_input(prompt='') method of ipykernel.ipkernel.IPythonKernel instance\n",
      "    Forward raw_input to frontends\n",
      "    \n",
      "    Raises\n",
      "    ------\n",
      "    StdinNotImplementedError if active frontend doesn't support stdin.\n",
      "\n"
     ]
    }
   ],
   "source": [
    "help(input)"
   ]
  },
  {
   "cell_type": "code",
   "execution_count": 20,
   "id": "2da5d974",
   "metadata": {
    "collapsed": true,
    "jupyter": {
     "outputs_hidden": true
    }
   },
   "outputs": [
    {
     "name": "stdout",
     "output_type": "stream",
     "text": [
      "Help on function mean in module numpy:\n",
      "\n",
      "mean(a, axis=None, dtype=None, out=None, keepdims=<no value>, *, where=<no value>)\n",
      "    Compute the arithmetic mean along the specified axis.\n",
      "    \n",
      "    Returns the average of the array elements.  The average is taken over\n",
      "    the flattened array by default, otherwise over the specified axis.\n",
      "    `float64` intermediate and return values are used for integer inputs.\n",
      "    \n",
      "    Parameters\n",
      "    ----------\n",
      "    a : array_like\n",
      "        Array containing numbers whose mean is desired. If `a` is not an\n",
      "        array, a conversion is attempted.\n",
      "    axis : None or int or tuple of ints, optional\n",
      "        Axis or axes along which the means are computed. The default is to\n",
      "        compute the mean of the flattened array.\n",
      "    \n",
      "        .. versionadded:: 1.7.0\n",
      "    \n",
      "        If this is a tuple of ints, a mean is performed over multiple axes,\n",
      "        instead of a single axis or all the axes as before.\n",
      "    dtype : data-type, optional\n",
      "        Type to use in computing the mean.  For integer inputs, the default\n",
      "        is `float64`; for floating point inputs, it is the same as the\n",
      "        input dtype.\n",
      "    out : ndarray, optional\n",
      "        Alternate output array in which to place the result.  The default\n",
      "        is ``None``; if provided, it must have the same shape as the\n",
      "        expected output, but the type will be cast if necessary.\n",
      "        See :ref:`ufuncs-output-type` for more details.\n",
      "    \n",
      "    keepdims : bool, optional\n",
      "        If this is set to True, the axes which are reduced are left\n",
      "        in the result as dimensions with size one. With this option,\n",
      "        the result will broadcast correctly against the input array.\n",
      "    \n",
      "        If the default value is passed, then `keepdims` will not be\n",
      "        passed through to the `mean` method of sub-classes of\n",
      "        `ndarray`, however any non-default value will be.  If the\n",
      "        sub-class' method does not implement `keepdims` any\n",
      "        exceptions will be raised.\n",
      "    \n",
      "    where : array_like of bool, optional\n",
      "        Elements to include in the mean. See `~numpy.ufunc.reduce` for details.\n",
      "    \n",
      "        .. versionadded:: 1.20.0\n",
      "    \n",
      "    Returns\n",
      "    -------\n",
      "    m : ndarray, see dtype parameter above\n",
      "        If `out=None`, returns a new array containing the mean values,\n",
      "        otherwise a reference to the output array is returned.\n",
      "    \n",
      "    See Also\n",
      "    --------\n",
      "    average : Weighted average\n",
      "    std, var, nanmean, nanstd, nanvar\n",
      "    \n",
      "    Notes\n",
      "    -----\n",
      "    The arithmetic mean is the sum of the elements along the axis divided\n",
      "    by the number of elements.\n",
      "    \n",
      "    Note that for floating-point input, the mean is computed using the\n",
      "    same precision the input has.  Depending on the input data, this can\n",
      "    cause the results to be inaccurate, especially for `float32` (see\n",
      "    example below).  Specifying a higher-precision accumulator using the\n",
      "    `dtype` keyword can alleviate this issue.\n",
      "    \n",
      "    By default, `float16` results are computed using `float32` intermediates\n",
      "    for extra precision.\n",
      "    \n",
      "    Examples\n",
      "    --------\n",
      "    >>> a = np.array([[1, 2], [3, 4]])\n",
      "    >>> np.mean(a)\n",
      "    2.5\n",
      "    >>> np.mean(a, axis=0)\n",
      "    array([2., 3.])\n",
      "    >>> np.mean(a, axis=1)\n",
      "    array([1.5, 3.5])\n",
      "    \n",
      "    In single precision, `mean` can be inaccurate:\n",
      "    \n",
      "    >>> a = np.zeros((2, 512*512), dtype=np.float32)\n",
      "    >>> a[0, :] = 1.0\n",
      "    >>> a[1, :] = 0.1\n",
      "    >>> np.mean(a)\n",
      "    0.54999924\n",
      "    \n",
      "    Computing the mean in float64 is more accurate:\n",
      "    \n",
      "    >>> np.mean(a, dtype=np.float64)\n",
      "    0.55000000074505806 # may vary\n",
      "    \n",
      "    Specifying a where argument:\n",
      "    \n",
      "    >>> a = np.array([[5, 9, 13], [14, 10, 12], [11, 15, 19]])\n",
      "    >>> np.mean(a)\n",
      "    12.0\n",
      "    >>> np.mean(a, where=[[True], [False], [False]])\n",
      "    9.0\n",
      "\n"
     ]
    }
   ],
   "source": [
    "import numpy as np\n",
    "help(np.mean)"
   ]
  },
  {
   "cell_type": "code",
   "execution_count": 22,
   "id": "79c9ab45",
   "metadata": {
    "collapsed": true,
    "jupyter": {
     "outputs_hidden": true
    }
   },
   "outputs": [
    {
     "data": {
      "text/plain": [
       "['__doc__',\n",
       " '__loader__',\n",
       " '__name__',\n",
       " '__package__',\n",
       " '__spec__',\n",
       " 'acos',\n",
       " 'acosh',\n",
       " 'asin',\n",
       " 'asinh',\n",
       " 'atan',\n",
       " 'atan2',\n",
       " 'atanh',\n",
       " 'cbrt',\n",
       " 'ceil',\n",
       " 'comb',\n",
       " 'copysign',\n",
       " 'cos',\n",
       " 'cosh',\n",
       " 'degrees',\n",
       " 'dist',\n",
       " 'e',\n",
       " 'erf',\n",
       " 'erfc',\n",
       " 'exp',\n",
       " 'exp2',\n",
       " 'expm1',\n",
       " 'fabs',\n",
       " 'factorial',\n",
       " 'floor',\n",
       " 'fmod',\n",
       " 'frexp',\n",
       " 'fsum',\n",
       " 'gamma',\n",
       " 'gcd',\n",
       " 'hypot',\n",
       " 'inf',\n",
       " 'isclose',\n",
       " 'isfinite',\n",
       " 'isinf',\n",
       " 'isnan',\n",
       " 'isqrt',\n",
       " 'lcm',\n",
       " 'ldexp',\n",
       " 'lgamma',\n",
       " 'log',\n",
       " 'log10',\n",
       " 'log1p',\n",
       " 'log2',\n",
       " 'modf',\n",
       " 'nan',\n",
       " 'nextafter',\n",
       " 'perm',\n",
       " 'pi',\n",
       " 'pow',\n",
       " 'prod',\n",
       " 'radians',\n",
       " 'remainder',\n",
       " 'sin',\n",
       " 'sinh',\n",
       " 'sqrt',\n",
       " 'tan',\n",
       " 'tanh',\n",
       " 'tau',\n",
       " 'trunc',\n",
       " 'ulp']"
      ]
     },
     "execution_count": 22,
     "metadata": {},
     "output_type": "execute_result"
    }
   ],
   "source": [
    "dir(np.math)"
   ]
  },
  {
   "cell_type": "code",
   "execution_count": null,
   "id": "2fc32f34",
   "metadata": {},
   "outputs": [],
   "source": [
    "def function_name():\n",
    "    statements\n",
    "    return"
   ]
  },
  {
   "cell_type": "code",
   "execution_count": 277,
   "id": "c79c31da",
   "metadata": {},
   "outputs": [],
   "source": [
    "def hello():\n",
    "    print('hello world')"
   ]
  },
  {
   "cell_type": "code",
   "execution_count": 278,
   "id": "a870e412",
   "metadata": {},
   "outputs": [
    {
     "name": "stdout",
     "output_type": "stream",
     "text": [
      "hello world\n"
     ]
    }
   ],
   "source": [
    "# calling a function\n",
    "hello()"
   ]
  },
  {
   "cell_type": "code",
   "execution_count": null,
   "id": "0aa46036",
   "metadata": {},
   "outputs": [],
   "source": [
    "# functions\n",
    "\n",
    "Defining a Python function\n",
    "\n",
    "def greet():\n",
    "    \"\"\" Display a greeting to users \"\"\"\n",
    "    print('Hi')\n",
    "1) Function definition\n",
    "\n",
    "A function definition starts with the def keyword and the name of the function (greet)\n",
    "\n",
    "2) Function body\n",
    "All the indented lines that follow the function definition make up the function’s body\n",
    "\n",
    "Calling a function\n",
    "greet()"
   ]
  },
  {
   "cell_type": "code",
   "execution_count": 279,
   "id": "73bc85bb",
   "metadata": {},
   "outputs": [
    {
     "data": {
      "text/plain": [
       "5"
      ]
     },
     "execution_count": 279,
     "metadata": {},
     "output_type": "execute_result"
    }
   ],
   "source": [
    "sum([2,3])"
   ]
  },
  {
   "cell_type": "code",
   "execution_count": 23,
   "id": "299085c0",
   "metadata": {},
   "outputs": [],
   "source": [
    "# adding a fucntion\n",
    "def addition(a,b):\n",
    "    c = a+b\n",
    "    print(c)"
   ]
  },
  {
   "cell_type": "code",
   "execution_count": 34,
   "id": "1b8e1c8d",
   "metadata": {},
   "outputs": [
    {
     "name": "stdout",
     "output_type": "stream",
     "text": [
      "1020\n"
     ]
    }
   ],
   "source": [
    "addition('10','20')"
   ]
  },
  {
   "cell_type": "code",
   "execution_count": 32,
   "id": "4d6e33b2",
   "metadata": {},
   "outputs": [
    {
     "name": "stdout",
     "output_type": "stream",
     "text": [
      "140.6\n"
     ]
    }
   ],
   "source": [
    "addition(50,90.6)"
   ]
  },
  {
   "cell_type": "code",
   "execution_count": 26,
   "id": "6b3712b9",
   "metadata": {
    "collapsed": true,
    "jupyter": {
     "outputs_hidden": true
    }
   },
   "outputs": [
    {
     "ename": "TypeError",
     "evalue": "addition() missing 1 required positional argument: 'b'",
     "output_type": "error",
     "traceback": [
      "\u001b[1;31m---------------------------------------------------------------------------\u001b[0m",
      "\u001b[1;31mTypeError\u001b[0m                                 Traceback (most recent call last)",
      "Cell \u001b[1;32mIn[26], line 1\u001b[0m\n\u001b[1;32m----> 1\u001b[0m addition(\u001b[38;5;241m10\u001b[39m)\n",
      "\u001b[1;31mTypeError\u001b[0m: addition() missing 1 required positional argument: 'b'"
     ]
    }
   ],
   "source": [
    "addition(10)"
   ]
  },
  {
   "cell_type": "code",
   "execution_count": 27,
   "id": "b3b1c3f1",
   "metadata": {},
   "outputs": [],
   "source": [
    "def subtraction(a,b):\n",
    "    c = a-b\n",
    "    print(c)"
   ]
  },
  {
   "cell_type": "code",
   "execution_count": 28,
   "id": "b8b937b6",
   "metadata": {},
   "outputs": [
    {
     "name": "stdout",
     "output_type": "stream",
     "text": [
      "-10\n"
     ]
    }
   ],
   "source": [
    "subtraction(50,60)"
   ]
  },
  {
   "cell_type": "code",
   "execution_count": 29,
   "id": "54c4ee89",
   "metadata": {},
   "outputs": [
    {
     "name": "stdout",
     "output_type": "stream",
     "text": [
      "3\n"
     ]
    }
   ],
   "source": [
    "subtraction(9,6)"
   ]
  },
  {
   "cell_type": "code",
   "execution_count": 30,
   "id": "9e64b7a4",
   "metadata": {},
   "outputs": [],
   "source": [
    "def multiplication(a,b):\n",
    "    c = a * b\n",
    "    print(c)"
   ]
  },
  {
   "cell_type": "code",
   "execution_count": 31,
   "id": "41fece0f",
   "metadata": {},
   "outputs": [
    {
     "name": "stdout",
     "output_type": "stream",
     "text": [
      "24\n"
     ]
    }
   ],
   "source": [
    "multiplication(8,3)"
   ]
  },
  {
   "cell_type": "code",
   "execution_count": 288,
   "id": "d0010c18",
   "metadata": {},
   "outputs": [],
   "source": [
    "def square(a):\n",
    "    c = a ** 2\n",
    "    return c"
   ]
  },
  {
   "cell_type": "code",
   "execution_count": 289,
   "id": "218681ab",
   "metadata": {},
   "outputs": [
    {
     "data": {
      "text/plain": [
       "81"
      ]
     },
     "execution_count": 289,
     "metadata": {},
     "output_type": "execute_result"
    }
   ],
   "source": [
    "square(9)"
   ]
  },
  {
   "cell_type": "code",
   "execution_count": 290,
   "id": "09999be8",
   "metadata": {},
   "outputs": [
    {
     "name": "stdout",
     "output_type": "stream",
     "text": [
      "89\n",
      "-51\n",
      "20\n"
     ]
    },
    {
     "data": {
      "text/plain": [
       "25"
      ]
     },
     "execution_count": 290,
     "metadata": {},
     "output_type": "execute_result"
    }
   ],
   "source": [
    "addition(19,70)\n",
    "subtraction(19,70)\n",
    "multiplication(4,5)\n",
    "square(5)"
   ]
  },
  {
   "cell_type": "code",
   "execution_count": null,
   "id": "f54af199",
   "metadata": {},
   "outputs": [],
   "source": []
  },
  {
   "cell_type": "code",
   "execution_count": null,
   "id": "867b567e",
   "metadata": {},
   "outputs": [],
   "source": []
  },
  {
   "cell_type": "code",
   "execution_count": null,
   "id": "2a22fb7d",
   "metadata": {},
   "outputs": [],
   "source": []
  },
  {
   "cell_type": "code",
   "execution_count": null,
   "id": "76cb1682",
   "metadata": {},
   "outputs": [],
   "source": []
  },
  {
   "cell_type": "code",
   "execution_count": 36,
   "id": "29ca8cbe",
   "metadata": {},
   "outputs": [],
   "source": [
    "def Arthmetic_op(a,b):\n",
    "    add = a+b\n",
    "    sub = a-b\n",
    "    div = a/b\n",
    "    mul = a * b\n",
    "    sqr_a = a ** 2\n",
    "    sqr_b = b**2\n",
    "    result = {'add':add,\n",
    "             'sub':sub,\n",
    "             'div':div,\n",
    "             'mul':mul,\n",
    "             'sqr_a':sqr_a,\n",
    "             'sqr_b':sqr_b}\n",
    "    print(result)"
   ]
  },
  {
   "cell_type": "code",
   "execution_count": 37,
   "id": "43c4af23",
   "metadata": {},
   "outputs": [
    {
     "name": "stdout",
     "output_type": "stream",
     "text": [
      "{'add': 15, 'sub': 5, 'div': 2.0, 'mul': 50, 'sqr_a': 100, 'sqr_b': 25}\n"
     ]
    }
   ],
   "source": [
    "Arthmetic_op(a = 10,b = 5)"
   ]
  },
  {
   "cell_type": "code",
   "execution_count": 293,
   "id": "98d3cccc",
   "metadata": {},
   "outputs": [
    {
     "ename": "TypeError",
     "evalue": "Arthmetic_op() missing 1 required positional argument: 'b'",
     "output_type": "error",
     "traceback": [
      "\u001b[1;31m---------------------------------------------------------------------------\u001b[0m",
      "\u001b[1;31mTypeError\u001b[0m                                 Traceback (most recent call last)",
      "Cell \u001b[1;32mIn[293], line 1\u001b[0m\n\u001b[1;32m----> 1\u001b[0m Arthmetic_op(\u001b[38;5;241m10\u001b[39m)\n",
      "\u001b[1;31mTypeError\u001b[0m: Arthmetic_op() missing 1 required positional argument: 'b'"
     ]
    }
   ],
   "source": [
    "Arthmetic_op(10)"
   ]
  },
  {
   "cell_type": "code",
   "execution_count": 49,
   "id": "9b2a2be7",
   "metadata": {},
   "outputs": [],
   "source": [
    "# defualt arguments\n",
    "def student_name(name, prefix = 'Mrs'):\n",
    "    return f'{name} {prefix}'"
   ]
  },
  {
   "cell_type": "code",
   "execution_count": 50,
   "id": "0f8cd045",
   "metadata": {},
   "outputs": [
    {
     "data": {
      "text/plain": [
       "'syeda Mrs'"
      ]
     },
     "execution_count": 50,
     "metadata": {},
     "output_type": "execute_result"
    }
   ],
   "source": [
    "student_name('syeda','Miss')\n",
    "student_name('syeda')"
   ]
  },
  {
   "cell_type": "code",
   "execution_count": 44,
   "id": "21d8ae79",
   "metadata": {},
   "outputs": [],
   "source": [
    "# calculating a final price after discount.\n",
    "def discounted_price(price, discount = 5):\n",
    "    discount1 = round(price * discount/100,2)\n",
    "    total_price = price - discount1\n",
    "    return f'Discount: {discount}%,\\nFinal Price:{total_price}'  "
   ]
  },
  {
   "cell_type": "code",
   "execution_count": 47,
   "id": "a89032ce",
   "metadata": {},
   "outputs": [
    {
     "data": {
      "text/plain": [
       "'Discount: 5%,\\nFinal Price:1425.0'"
      ]
     },
     "execution_count": 47,
     "metadata": {},
     "output_type": "execute_result"
    }
   ],
   "source": [
    "discounted_price(1500)"
   ]
  },
  {
   "cell_type": "code",
   "execution_count": 48,
   "id": "c4abd97b",
   "metadata": {},
   "outputs": [
    {
     "data": {
      "text/plain": [
       "'Discount: 15%,\\nFinal Price:1275.0'"
      ]
     },
     "execution_count": 48,
     "metadata": {},
     "output_type": "execute_result"
    }
   ],
   "source": [
    "discounted_price(1500,15)"
   ]
  },
  {
   "cell_type": "code",
   "execution_count": null,
   "id": "037db17a",
   "metadata": {},
   "outputs": [],
   "source": [
    "square(80)"
   ]
  },
  {
   "cell_type": "code",
   "execution_count": null,
   "id": "1eb8476a",
   "metadata": {},
   "outputs": [],
   "source": [
    "# two positional arguments\n",
    "def add(a,b):\n",
    "    c = a + b\n",
    "    return c"
   ]
  },
  {
   "cell_type": "code",
   "execution_count": null,
   "id": "ac6b230e",
   "metadata": {},
   "outputs": [],
   "source": [
    "add(15,85)"
   ]
  },
  {
   "cell_type": "code",
   "execution_count": null,
   "id": "89d5a56e",
   "metadata": {},
   "outputs": [],
   "source": [
    "def percentage_mark(avg, perc = 100):\n",
    "    per = (avg // 10) * perc\n",
    "    return per"
   ]
  },
  {
   "cell_type": "code",
   "execution_count": null,
   "id": "22018def",
   "metadata": {},
   "outputs": [],
   "source": [
    "percentage_mark(perc = 10,avg = 20)"
   ]
  },
  {
   "cell_type": "code",
   "execution_count": null,
   "id": "20359736",
   "metadata": {},
   "outputs": [],
   "source": [
    "def get_net_price(a, price, discount = 0.15):\n",
    "    return a+ price * (1-discount)"
   ]
  },
  {
   "cell_type": "code",
   "execution_count": null,
   "id": "a9e7b383",
   "metadata": {},
   "outputs": [],
   "source": [
    "get_net_price(150,500,0.25)"
   ]
  },
  {
   "cell_type": "code",
   "execution_count": null,
   "id": "9d3b4f1a",
   "metadata": {},
   "outputs": [],
   "source": [
    "valume spear --> v = 4 * pi * r^3/3 \n",
    "area of triangle --> A = 1/2 bh"
   ]
  },
  {
   "cell_type": "markdown",
   "id": "487eb4c7",
   "metadata": {},
   "source": [
    "# create a function \n",
    "1. valume spear --> v = 4/3 * pi * r^3 \n",
    "2. area of triangle --> A = 1/2 bh\n",
    "3. distance of two points --> d = sqrt((x2 - x1)^2 + (y2 - y1)^2))\n",
    "4. Slope of line --> m = (y2 - y1) / (x2 - x1)"
   ]
  },
  {
   "cell_type": "code",
   "execution_count": 51,
   "id": "617b05a5",
   "metadata": {},
   "outputs": [
    {
     "data": {
      "text/plain": [
       "3.141592653589793"
      ]
     },
     "execution_count": 51,
     "metadata": {},
     "output_type": "execute_result"
    }
   ],
   "source": [
    "import math\n",
    "math.pi"
   ]
  },
  {
   "cell_type": "code",
   "execution_count": 53,
   "id": "107af6a6",
   "metadata": {},
   "outputs": [],
   "source": [
    "import math\n",
    "def volume_sphere(r,pi=math.pi):\n",
    "    v = 4/3*(pi * r ** 3)\n",
    "    return v"
   ]
  },
  {
   "cell_type": "code",
   "execution_count": null,
   "id": "c1d643b2",
   "metadata": {},
   "outputs": [],
   "source": []
  },
  {
   "cell_type": "code",
   "execution_count": 302,
   "id": "f6e4f0b4",
   "metadata": {},
   "outputs": [
    {
     "data": {
      "text/plain": [
       "86"
      ]
     },
     "execution_count": 302,
     "metadata": {},
     "output_type": "execute_result"
    }
   ],
   "source": [
    "#Python functions with multiple parameters\n",
    "sum([15,16,17,18,20])"
   ]
  },
  {
   "cell_type": "code",
   "execution_count": 54,
   "id": "666e71e4",
   "metadata": {},
   "outputs": [
    {
     "name": "stdout",
     "output_type": "stream",
     "text": [
      "70\n"
     ]
    }
   ],
   "source": [
    "add = 0\n",
    "v = [10,20,30,10]\n",
    "for i in v:\n",
    "    add += i\n",
    "print(add)"
   ]
  },
  {
   "cell_type": "code",
   "execution_count": 318,
   "id": "e078b5cf",
   "metadata": {},
   "outputs": [
    {
     "name": "stdout",
     "output_type": "stream",
     "text": [
      "-60\n"
     ]
    }
   ],
   "source": [
    "add = 1\n",
    "v = [10,20,30,10]\n",
    "for i in v:\n",
    "    add = _\n",
    "    add -= i\n",
    "print(add)\n",
    "# print(add)"
   ]
  },
  {
   "cell_type": "code",
   "execution_count": 319,
   "id": "2288eb1e",
   "metadata": {},
   "outputs": [
    {
     "name": "stdout",
     "output_type": "stream",
     "text": [
      "60000\n"
     ]
    }
   ],
   "source": [
    "add = 1\n",
    "v = [10,20,30,10]\n",
    "for i in v:\n",
    "    add *= i\n",
    "print(add)"
   ]
  },
  {
   "cell_type": "code",
   "execution_count": 320,
   "id": "b3497dfd",
   "metadata": {},
   "outputs": [
    {
     "data": {
      "text/plain": [
       "60000"
      ]
     },
     "execution_count": 320,
     "metadata": {},
     "output_type": "execute_result"
    }
   ],
   "source": [
    "10 *20*30*10"
   ]
  },
  {
   "cell_type": "code",
   "execution_count": null,
   "id": "01c4816d",
   "metadata": {},
   "outputs": [],
   "source": []
  },
  {
   "cell_type": "code",
   "execution_count": 55,
   "id": "79202944",
   "metadata": {},
   "outputs": [],
   "source": [
    "def summation(v):\n",
    "    SUM = 0\n",
    "    for i in v:\n",
    "        SUM += i\n",
    "    return SUM    "
   ]
  },
  {
   "cell_type": "code",
   "execution_count": 56,
   "id": "f97688af",
   "metadata": {},
   "outputs": [
    {
     "data": {
      "text/plain": [
       "216"
      ]
     },
     "execution_count": 56,
     "metadata": {},
     "output_type": "execute_result"
    }
   ],
   "source": [
    "V = [15,18,19,12,30,50,60,12]\n",
    "summation(V)"
   ]
  },
  {
   "cell_type": "code",
   "execution_count": 306,
   "id": "3a7e1db5",
   "metadata": {},
   "outputs": [],
   "source": [
    "import SummaryData as sd"
   ]
  },
  {
   "cell_type": "code",
   "execution_count": 307,
   "id": "732b5f89",
   "metadata": {},
   "outputs": [
    {
     "name": "stdout",
     "output_type": "stream",
     "text": [
      "{'add': 30, 'sub': -10, 'div': 0.5, 'mul': 200, 'sqr_a': 100, 'sqr_b': 400}\n"
     ]
    }
   ],
   "source": [
    "sd.Arthmetic_op(10,20)"
   ]
  },
  {
   "cell_type": "code",
   "execution_count": null,
   "id": "21ba085b",
   "metadata": {},
   "outputs": [],
   "source": [
    "marks = "
   ]
  },
  {
   "cell_type": "code",
   "execution_count": null,
   "id": "904b867f",
   "metadata": {},
   "outputs": [],
   "source": []
  },
  {
   "cell_type": "markdown",
   "id": "4ad0c83f",
   "metadata": {},
   "source": [
    "# *args --> many arguments"
   ]
  },
  {
   "cell_type": "code",
   "execution_count": 57,
   "id": "dc95c31c",
   "metadata": {},
   "outputs": [],
   "source": [
    "def many_value(*a):\n",
    "    print(*a)"
   ]
  },
  {
   "cell_type": "code",
   "execution_count": 58,
   "id": "3b590f10",
   "metadata": {},
   "outputs": [
    {
     "name": "stdout",
     "output_type": "stream",
     "text": [
      "20 10 20 30\n"
     ]
    }
   ],
   "source": [
    "many_value(20,10,20,30)"
   ]
  },
  {
   "cell_type": "code",
   "execution_count": 59,
   "id": "91edb524",
   "metadata": {},
   "outputs": [
    {
     "name": "stdout",
     "output_type": "stream",
     "text": [
      "1 2 3 6\n"
     ]
    }
   ],
   "source": [
    "many_value(1,2,3,6)"
   ]
  },
  {
   "cell_type": "code",
   "execution_count": 60,
   "id": "cf509e50",
   "metadata": {},
   "outputs": [],
   "source": [
    "def many_values(b,*a):\n",
    "    return a,b"
   ]
  },
  {
   "cell_type": "code",
   "execution_count": 61,
   "id": "d6c008d2",
   "metadata": {},
   "outputs": [
    {
     "data": {
      "text/plain": [
       "((5, 6, 7, 8, 9), 2)"
      ]
     },
     "execution_count": 61,
     "metadata": {},
     "output_type": "execute_result"
    }
   ],
   "source": [
    "many_values(2,5,6,7,8,9)"
   ]
  },
  {
   "cell_type": "code",
   "execution_count": 336,
   "id": "39a98d65",
   "metadata": {},
   "outputs": [],
   "source": [
    "a,b,*c = 10,11,12,15,18,19,12,13 # tuple unpacking"
   ]
  },
  {
   "cell_type": "code",
   "execution_count": 337,
   "id": "ffe491fd",
   "metadata": {},
   "outputs": [
    {
     "name": "stdout",
     "output_type": "stream",
     "text": [
      "10\n"
     ]
    },
    {
     "data": {
      "text/plain": [
       "(None, 11, [12, 15, 18, 19, 12, 13])"
      ]
     },
     "execution_count": 337,
     "metadata": {},
     "output_type": "execute_result"
    }
   ],
   "source": [
    "print(a),b,c"
   ]
  },
  {
   "cell_type": "code",
   "execution_count": null,
   "id": "6f272e69",
   "metadata": {},
   "outputs": [],
   "source": [
    "many_values(1,2,3,5,6,9,8,10,12,13,15)"
   ]
  },
  {
   "cell_type": "markdown",
   "id": "aba8bc9e",
   "metadata": {},
   "source": [
    "# **kwargs --> many key word arguments"
   ]
  },
  {
   "cell_type": "code",
   "execution_count": 62,
   "id": "a2302544",
   "metadata": {},
   "outputs": [],
   "source": [
    "def fun(a=10, b = 20,c = None, d = False):\n",
    "    return fun"
   ]
  },
  {
   "cell_type": "code",
   "execution_count": 63,
   "id": "342baa33",
   "metadata": {
    "collapsed": true,
    "jupyter": {
     "outputs_hidden": true
    }
   },
   "outputs": [
    {
     "data": {
      "text/plain": [
       "<function __main__.fun(a=10, b=20, c=None, d=False)>"
      ]
     },
     "execution_count": 63,
     "metadata": {},
     "output_type": "execute_result"
    }
   ],
   "source": [
    "fun()"
   ]
  },
  {
   "cell_type": "code",
   "execution_count": 65,
   "id": "5a8b3ef2",
   "metadata": {},
   "outputs": [],
   "source": [
    "def fun(**kwargs):\n",
    "    return kwargs"
   ]
  },
  {
   "cell_type": "code",
   "execution_count": 66,
   "id": "c78f3f5f",
   "metadata": {
    "collapsed": true,
    "jupyter": {
     "outputs_hidden": true
    }
   },
   "outputs": [
    {
     "data": {
      "text/plain": [
       "{'a': 10, 'b': 20, 'c': None, 'd': False}"
      ]
     },
     "execution_count": 66,
     "metadata": {},
     "output_type": "execute_result"
    }
   ],
   "source": [
    "fun(a=10, b = 20,c = None, d = False)"
   ]
  },
  {
   "cell_type": "code",
   "execution_count": 67,
   "id": "8cb35fb1",
   "metadata": {},
   "outputs": [],
   "source": [
    "def kwargs(**a):\n",
    "    print(a)"
   ]
  },
  {
   "cell_type": "code",
   "execution_count": 69,
   "id": "503bd170",
   "metadata": {
    "collapsed": true,
    "jupyter": {
     "outputs_hidden": true
    }
   },
   "outputs": [
    {
     "name": "stdout",
     "output_type": "stream",
     "text": [
      "{'a': 10, 'b': 20, 'c': 10, 'd': 20}\n"
     ]
    }
   ],
   "source": [
    "kwargs(a=10, b = 20,c = 10,d = 20)"
   ]
  },
  {
   "cell_type": "code",
   "execution_count": null,
   "id": "9fdf1fc5",
   "metadata": {},
   "outputs": [],
   "source": [
    "# ways writing arguments.\n",
    "def funtionname(Positional argumnets, Defualt Arguments ,*args, **kwargs):\n",
    "    statements\n",
    "    \n",
    "def fun(x,y,z = True, k = 10,*args,**kwargs):\n",
    "    statement"
   ]
  },
  {
   "cell_type": "code",
   "execution_count": null,
   "id": "7e743489",
   "metadata": {},
   "outputs": [],
   "source": []
  },
  {
   "cell_type": "code",
   "execution_count": 73,
   "id": "48b49f16",
   "metadata": {},
   "outputs": [
    {
     "name": "stdout",
     "output_type": "stream",
     "text": [
      "Help on function linear_regression in module statistics:\n",
      "\n",
      "linear_regression(x, y, /, *, proportional=False)\n",
      "    Slope and intercept for simple linear regression.\n",
      "    \n",
      "    Return the slope and intercept of simple linear regression\n",
      "    parameters estimated using ordinary least squares. Simple linear\n",
      "    regression describes relationship between an independent variable\n",
      "    *x* and a dependent variable *y* in terms of a linear function:\n",
      "    \n",
      "        y = slope * x + intercept + noise\n",
      "    \n",
      "    where *slope* and *intercept* are the regression parameters that are\n",
      "    estimated, and noise represents the variability of the data that was\n",
      "    not explained by the linear regression (it is equal to the\n",
      "    difference between predicted and actual values of the dependent\n",
      "    variable).\n",
      "    \n",
      "    The parameters are returned as a named tuple.\n",
      "    \n",
      "    >>> x = [1, 2, 3, 4, 5]\n",
      "    >>> noise = NormalDist().samples(5, seed=42)\n",
      "    >>> y = [3 * x[i] + 2 + noise[i] for i in range(5)]\n",
      "    >>> linear_regression(x, y)  #doctest: +ELLIPSIS\n",
      "    LinearRegression(slope=3.09078914170..., intercept=1.75684970486...)\n",
      "    \n",
      "    If *proportional* is true, the independent variable *x* and the\n",
      "    dependent variable *y* are assumed to be directly proportional.\n",
      "    The data is fit to a line passing through the origin.\n",
      "    \n",
      "    Since the *intercept* will always be 0.0, the underlying linear\n",
      "    function simplifies to:\n",
      "    \n",
      "        y = slope * x + noise\n",
      "    \n",
      "    >>> y = [3 * x[i] + noise[i] for i in range(5)]\n",
      "    >>> linear_regression(x, y, proportional=True)  #doctest: +ELLIPSIS\n",
      "    LinearRegression(slope=3.02447542484..., intercept=0.0)\n",
      "\n"
     ]
    }
   ],
   "source": [
    "import statistics as st\n",
    "help(st.linear_regression)"
   ]
  },
  {
   "cell_type": "code",
   "execution_count": null,
   "id": "0a399de1",
   "metadata": {},
   "outputs": [],
   "source": [
    "sum(10,30,14)"
   ]
  },
  {
   "cell_type": "code",
   "execution_count": null,
   "id": "931c5b91",
   "metadata": {},
   "outputs": [],
   "source": [
    "def greet(greet,name = 'excelr'):\n",
    "    print('hi')"
   ]
  },
  {
   "cell_type": "code",
   "execution_count": null,
   "id": "18f2b4fb",
   "metadata": {},
   "outputs": [],
   "source": [
    "Python default parameters in functions\n",
    "\n",
    "def function_name(param1, param2=value2, param3=value3, ...):\n",
    "\n",
    "When you define a function, you can specify a default value for each parameter\n",
    "\n",
    "def greet(name, message='Hi'):\n",
    "    return f\"{message} {name}\""
   ]
  },
  {
   "cell_type": "markdown",
   "id": "3833436b",
   "metadata": {},
   "source": [
    "Lambda function:\n",
    "Python lambda expressions allow you to define anonymous functions.\n",
    "\n",
    "Anonymous functions are functions without names. The anonymous functions are useful when you need to use them once.\n",
    "lambda parameters: expression\n",
    "\n",
    "def anonymous(parameters):\n",
    "    return expression"
   ]
  },
  {
   "cell_type": "code",
   "execution_count": 349,
   "id": "8b575b88",
   "metadata": {},
   "outputs": [],
   "source": [
    "# docstring\n",
    "# help(print)\n",
    "\n",
    "def add(a, b):\n",
    "    \"Return the sum of two arguments\"\n",
    "    return a + b"
   ]
  },
  {
   "cell_type": "code",
   "execution_count": 350,
   "id": "044a2b9e",
   "metadata": {},
   "outputs": [
    {
     "name": "stdout",
     "output_type": "stream",
     "text": [
      "Help on function add in module __main__:\n",
      "\n",
      "add(a, b)\n",
      "    Return the sum of two arguments\n",
      "\n"
     ]
    }
   ],
   "source": [
    "help(add)"
   ]
  },
  {
   "cell_type": "code",
   "execution_count": 351,
   "id": "2c5ff1cc",
   "metadata": {},
   "outputs": [],
   "source": [
    "def add(a, b):\n",
    "    \"\"\" Add two arguments\n",
    "    Arguments:\n",
    "        a: an integer\n",
    "        b: an integer\n",
    "        \n",
    "    Returns:\n",
    "        The sum of the two arguments\n",
    "    \"\"\"\n",
    "    return a + b"
   ]
  },
  {
   "cell_type": "code",
   "execution_count": 353,
   "id": "380ab51e",
   "metadata": {},
   "outputs": [
    {
     "name": "stdout",
     "output_type": "stream",
     "text": [
      "Help on function add in module __main__:\n",
      "\n",
      "add(a, b)\n",
      "    Add two arguments\n",
      "    Arguments:\n",
      "        a: an integer\n",
      "        b: an integer\n",
      "        \n",
      "    Returns:\n",
      "        The sum of the two arguments\n",
      "\n"
     ]
    },
    {
     "data": {
      "text/plain": [
       "(None,\n",
       " ' Add two arguments\\n    Arguments:\\n        a: an integer\\n        b: an integer\\n        \\n    Returns:\\n        The sum of the two arguments\\n    ')"
      ]
     },
     "execution_count": 353,
     "metadata": {},
     "output_type": "execute_result"
    }
   ],
   "source": [
    "help(add), add.__doc__"
   ]
  },
  {
   "cell_type": "code",
   "execution_count": 355,
   "id": "c9580f2d",
   "metadata": {},
   "outputs": [
    {
     "name": "stdout",
     "output_type": "stream",
     "text": [
      "{'add': 10, 'sub': -2, 'div': 0.6666666666666666, 'mul': 24, 'sqr_a': 16, 'sqr_b': 36}\n"
     ]
    }
   ],
   "source": [
    "import SummaryData as sd\n",
    "sd.Arthmetic_op(4,6)"
   ]
  },
  {
   "cell_type": "code",
   "execution_count": null,
   "id": "a46a97b4",
   "metadata": {},
   "outputs": [],
   "source": []
  },
  {
   "cell_type": "code",
   "execution_count": null,
   "id": "e3569bd2",
   "metadata": {},
   "outputs": [],
   "source": [
    "Parameters, arguments, keyword_arguments, default_paremets,docs_strings."
   ]
  },
  {
   "cell_type": "code",
   "execution_count": null,
   "id": "83b42203",
   "metadata": {},
   "outputs": [],
   "source": [
    "def message():\n",
    "    print('hello there')"
   ]
  },
  {
   "cell_type": "code",
   "execution_count": null,
   "id": "82195af7",
   "metadata": {},
   "outputs": [],
   "source": [
    "#Passing information to Python functions\n",
    "\n",
    "def greeting(name): # name is parameter.\n",
    "    print(f\"Hello good evening {name}\")"
   ]
  },
  {
   "cell_type": "code",
   "execution_count": null,
   "id": "d3c656ed",
   "metadata": {},
   "outputs": [],
   "source": [
    "greeting(name = 'sam')"
   ]
  },
  {
   "cell_type": "code",
   "execution_count": null,
   "id": "49b41586",
   "metadata": {},
   "outputs": [],
   "source": [
    "mess = greeting('sam')\n",
    "print(mess)"
   ]
  },
  {
   "cell_type": "code",
   "execution_count": null,
   "id": "a9ddff73",
   "metadata": {},
   "outputs": [],
   "source": [
    "Parameters vs. Arguments\n",
    "\n",
    "A parameter is a piece of information that a function needs. And you specify the parameter in the function definition\n",
    "\n",
    "greet() function has a parameter called name\n",
    "\n",
    "An argument is a piece of data that you pass into the function.\n",
    "\n",
    "the text string 'sam' or the variable jane is the function argument"
   ]
  },
  {
   "cell_type": "code",
   "execution_count": null,
   "id": "1f926487",
   "metadata": {},
   "outputs": [],
   "source": [
    "#Returning a value\n",
    "To return a value from a function, you use the return statement inside the function body.\n"
   ]
  },
  {
   "cell_type": "code",
   "execution_count": null,
   "id": "2cf28e8f",
   "metadata": {},
   "outputs": [],
   "source": [
    "def greeting(name):\n",
    "    return f\"Hi {name}\""
   ]
  },
  {
   "cell_type": "code",
   "execution_count": null,
   "id": "2e24b312",
   "metadata": {},
   "outputs": [],
   "source": [
    "def add(a,b):\n",
    "    return a+b"
   ]
  },
  {
   "cell_type": "code",
   "execution_count": null,
   "id": "a641b224",
   "metadata": {},
   "outputs": [],
   "source": [
    "add(b = 10,a = 15)"
   ]
  },
  {
   "cell_type": "code",
   "execution_count": null,
   "id": "e16dec49",
   "metadata": {},
   "outputs": [],
   "source": [
    "Print() --> function, return is keyword."
   ]
  },
  {
   "cell_type": "code",
   "execution_count": null,
   "id": "437b7cbb",
   "metadata": {},
   "outputs": [],
   "source": [
    "greeting(name = 'lilly')"
   ]
  },
  {
   "cell_type": "code",
   "execution_count": null,
   "id": "37218e05",
   "metadata": {},
   "outputs": [],
   "source": [
    "defualt parameters -- > \n",
    "print()"
   ]
  },
  {
   "cell_type": "code",
   "execution_count": null,
   "id": "e5e1ca01",
   "metadata": {},
   "outputs": [],
   "source": [
    "sum(10,20)"
   ]
  },
  {
   "cell_type": "markdown",
   "id": "3b1cfcd5",
   "metadata": {},
   "source": [
    "Python default parameters"
   ]
  },
  {
   "cell_type": "code",
   "execution_count": null,
   "id": "1689cc38",
   "metadata": {},
   "outputs": [],
   "source": [
    "def function_name(param1, param2=value2, param3=value3, ...):"
   ]
  },
  {
   "cell_type": "code",
   "execution_count": null,
   "id": "658943b8",
   "metadata": {},
   "outputs": [],
   "source": [
    "def greet(name, message='Hi'):\n",
    "    return f\"{message} {name}\""
   ]
  },
  {
   "cell_type": "code",
   "execution_count": null,
   "id": "02caedcc",
   "metadata": {},
   "outputs": [],
   "source": [
    "greet('sam')"
   ]
  },
  {
   "cell_type": "markdown",
   "id": "6aa3014c",
   "metadata": {},
   "source": [
    "Python keyword arguments\n",
    "\n",
    "fn(parameter1=value1,parameter2=value2)"
   ]
  },
  {
   "cell_type": "code",
   "execution_count": null,
   "id": "7d17f18c",
   "metadata": {},
   "outputs": [],
   "source": [
    "def get_net_price(a,b, price, discount):\n",
    "    return a+ price * (1-discount)\n",
    "*args\n",
    "**kwargs"
   ]
  },
  {
   "cell_type": "code",
   "execution_count": null,
   "id": "e9c53030",
   "metadata": {},
   "outputs": [],
   "source": [
    "net_price = get_net_price(a = 10, b = 8, price=100, discount=0.1)\n",
    "net_price"
   ]
  },
  {
   "cell_type": "code",
   "execution_count": null,
   "id": "acd4be27",
   "metadata": {},
   "outputs": [],
   "source": [
    "get_net_price(b = 10, price=100, discount=0.1)"
   ]
  },
  {
   "cell_type": "code",
   "execution_count": null,
   "id": "2ab3592b",
   "metadata": {},
   "outputs": [],
   "source": [
    "get_net_price(price = 100,discount=0.01)"
   ]
  },
  {
   "cell_type": "code",
   "execution_count": null,
   "id": "ad923b4d",
   "metadata": {},
   "outputs": [],
   "source": [
    "# keyword arguments and defualt parameters\n",
    "def get_net_price(price, tax=0.07, discount=0.05):\n",
    "    return price * (1 + tax - discount)"
   ]
  },
  {
   "cell_type": "markdown",
   "id": "5d9c2c54",
   "metadata": {},
   "source": [
    "# create a function wich gives the values for 1-10 eg: num(10) --> \n",
    "# create a function for BMI calculation.\n",
    "# create a function to calculate mean, median, mode.\n",
    "# create a function for calculator."
   ]
  },
  {
   "cell_type": "code",
   "execution_count": null,
   "id": "e462e230",
   "metadata": {},
   "outputs": [],
   "source": [
    "def BMI(w,h):\n",
    "    return ((w/(h*h)*10000))"
   ]
  },
  {
   "cell_type": "code",
   "execution_count": null,
   "id": "d4316c2f",
   "metadata": {},
   "outputs": [],
   "source": [
    "BMI(82,6)"
   ]
  },
  {
   "cell_type": "code",
   "execution_count": null,
   "id": "b94ba4c4",
   "metadata": {},
   "outputs": [],
   "source": [
    "def num(n):\n",
    "    i = 1\n",
    "    while(i<=n):\n",
    "        print(i)\n",
    "        i+=1"
   ]
  },
  {
   "cell_type": "code",
   "execution_count": null,
   "id": "bb2cf65d",
   "metadata": {},
   "outputs": [],
   "source": [
    "num(20)"
   ]
  },
  {
   "cell_type": "code",
   "execution_count": null,
   "id": "46f8c146",
   "metadata": {},
   "outputs": [],
   "source": [
    "BMI(50,146)"
   ]
  },
  {
   "cell_type": "code",
   "execution_count": null,
   "id": "1c2685c1",
   "metadata": {},
   "outputs": [],
   "source": [
    "def pr(n):\n",
    "    for i in range(1,n+1):\n",
    "        return pr(n)\n",
    "pr(20)"
   ]
  },
  {
   "cell_type": "markdown",
   "id": "e97323ab",
   "metadata": {},
   "source": [
    "# Lambda Expressions"
   ]
  },
  {
   "cell_type": "code",
   "execution_count": null,
   "id": "c903b650",
   "metadata": {},
   "outputs": [],
   "source": [
    "Python lambda expressions allow you to define anonymous functions.\n",
    "lambda parameters: expression\n",
    "similar\n",
    "def anonymous(parameters):\n",
    "    return expression"
   ]
  },
  {
   "cell_type": "code",
   "execution_count": 360,
   "id": "baf3f1c4",
   "metadata": {},
   "outputs": [],
   "source": [
    "# square of value\n",
    "x = lambda k: k ** 2 "
   ]
  },
  {
   "cell_type": "code",
   "execution_count": 361,
   "id": "cd07e41f",
   "metadata": {
    "collapsed": true,
    "jupyter": {
     "outputs_hidden": true
    }
   },
   "outputs": [
    {
     "data": {
      "text/plain": [
       "2500"
      ]
     },
     "execution_count": 361,
     "metadata": {},
     "output_type": "execute_result"
    }
   ],
   "source": [
    "# calling lambda variable\n",
    "x(50)"
   ]
  },
  {
   "cell_type": "code",
   "execution_count": 362,
   "id": "b6616ce6",
   "metadata": {},
   "outputs": [],
   "source": [
    "area_of_trainagle = lambda b,h: 1/2 *(b*h)"
   ]
  },
  {
   "cell_type": "code",
   "execution_count": 363,
   "id": "496786db",
   "metadata": {
    "collapsed": true,
    "jupyter": {
     "outputs_hidden": true
    }
   },
   "outputs": [
    {
     "data": {
      "text/plain": [
       "1525.0"
      ]
     },
     "execution_count": 363,
     "metadata": {},
     "output_type": "execute_result"
    }
   ],
   "source": [
    "area_of_trainagle(50,61)"
   ]
  },
  {
   "cell_type": "code",
   "execution_count": 365,
   "id": "4cb114d9",
   "metadata": {},
   "outputs": [],
   "source": [
    "t = lambda y,x=100: x * y"
   ]
  },
  {
   "cell_type": "code",
   "execution_count": 367,
   "id": "5b5f8708",
   "metadata": {},
   "outputs": [
    {
     "data": {
      "text/plain": [
       "1000"
      ]
     },
     "execution_count": 367,
     "metadata": {},
     "output_type": "execute_result"
    }
   ],
   "source": [
    "t(10)"
   ]
  },
  {
   "cell_type": "code",
   "execution_count": 369,
   "id": "bf1c5d2f",
   "metadata": {},
   "outputs": [
    {
     "name": "stdout",
     "output_type": "stream",
     "text": [
      "(5, 6, 7, 8, 9)\n"
     ]
    }
   ],
   "source": [
    "s = lambda *x: x\n",
    "print(s(5,6,7,8,9))"
   ]
  },
  {
   "cell_type": "code",
   "execution_count": null,
   "id": "c431fe3c",
   "metadata": {},
   "outputs": [],
   "source": [
    "prod = lambda a, b : a * b\n",
    "print(prod(5, 7))"
   ]
  },
  {
   "cell_type": "code",
   "execution_count": null,
   "id": "7cd650ea",
   "metadata": {},
   "outputs": [],
   "source": [
    "y = lambda a, b, c : a + b + c\n",
    "print(y(5, 6, 2))"
   ]
  },
  {
   "cell_type": "code",
   "execution_count": null,
   "id": "f01e299f",
   "metadata": {},
   "outputs": [],
   "source": [
    "#the help() function\n",
    "\n",
    "help(print)"
   ]
  },
  {
   "cell_type": "code",
   "execution_count": null,
   "id": "08e6ff30",
   "metadata": {},
   "outputs": [],
   "source": [
    "help(print)"
   ]
  },
  {
   "cell_type": "code",
   "execution_count": null,
   "id": "30526a06",
   "metadata": {},
   "outputs": [],
   "source": [
    "# Using docstrings to document functions\n",
    "# The PEP 257 provides the docstring conventions.\n",
    "# Python stores the docstrings in the __doc__ property of the function.\n",
    "\n",
    "def add(a, b):\n",
    "    \"Return the sum of two arguments\"\n",
    "    return a + b\n",
    "help(add)"
   ]
  },
  {
   "cell_type": "code",
   "execution_count": null,
   "id": "4ea12074",
   "metadata": {},
   "outputs": [],
   "source": [
    "def add(a, b):\n",
    "    \"\"\" Add two arguments\n",
    "    Arguments:\n",
    "        a: an integer\n",
    "        b: an integer\n",
    "    Returns:\n",
    "        The sum of the two arguments\n",
    "    \"\"\"\n",
    "    return a + b\n",
    "add.__doc__"
   ]
  },
  {
   "cell_type": "code",
   "execution_count": null,
   "id": "5e0a6e78",
   "metadata": {},
   "outputs": [],
   "source": [
    "help(add)"
   ]
  },
  {
   "cell_type": "code",
   "execution_count": null,
   "id": "f70c6e74",
   "metadata": {},
   "outputs": [],
   "source": [
    "# Python *args\n",
    "#The following unpacks a tuple into two variables:\n",
    "    \n",
    "(x,y) = 10,20"
   ]
  },
  {
   "cell_type": "code",
   "execution_count": null,
   "id": "23a38ddc",
   "metadata": {},
   "outputs": [],
   "source": [
    "x,y"
   ]
  },
  {
   "cell_type": "code",
   "execution_count": null,
   "id": "9d61858f",
   "metadata": {},
   "outputs": [],
   "source": [
    "i,j,*k = (10,20,30,40,50)\n",
    "print(k)"
   ]
  },
  {
   "cell_type": "code",
   "execution_count": null,
   "id": "3909c8f2",
   "metadata": {},
   "outputs": [],
   "source": [
    "def add(x, *args):\n",
    "    sum = args, x\n",
    "    return sum\n",
    "\n",
    "\n",
    "add(10, 20,30)"
   ]
  },
  {
   "cell_type": "code",
   "execution_count": null,
   "id": "d362b507",
   "metadata": {},
   "outputs": [],
   "source": [
    "x, y, *z = 10, 20, 30, 40\n",
    "\n",
    "print(x)\n",
    "print(y)\n",
    "print(z)\n",
    "print(type(z))"
   ]
  },
  {
   "cell_type": "code",
   "execution_count": null,
   "id": "c4e468ce",
   "metadata": {},
   "outputs": [],
   "source": [
    "sum(10,20,30)"
   ]
  },
  {
   "cell_type": "code",
   "execution_count": null,
   "id": "d8e1beb3",
   "metadata": {},
   "outputs": [],
   "source": [
    "sum_total = 0\n",
    "value = [10,20,30,60,80,90]\n",
    "for i in value:\n",
    "    sum_total = sum_total+i\n",
    "print(sum_total)"
   ]
  },
  {
   "cell_type": "code",
   "execution_count": null,
   "id": "b5c97e0f",
   "metadata": {},
   "outputs": [],
   "source": [
    "def summation(*values):\n",
    "    total = 0\n",
    "    for arg in values:\n",
    "        total += arg\n",
    "    return total"
   ]
  },
  {
   "cell_type": "code",
   "execution_count": null,
   "id": "7eb43c92",
   "metadata": {},
   "outputs": [],
   "source": [
    "result = summation(10, 20,30,40,80,90,60,70,50,60,80,90,30,50)\n",
    "print(result)"
   ]
  },
  {
   "cell_type": "code",
   "execution_count": null,
   "id": "6ab88bb3",
   "metadata": {},
   "outputs": [],
   "source": [
    "var1 = []\n",
    "for i in range(10):\n",
    "    var = int(input())\n",
    "    var1.append(var)\n",
    "    print(var)"
   ]
  },
  {
   "cell_type": "code",
   "execution_count": null,
   "id": "3d90d0fe",
   "metadata": {},
   "outputs": [],
   "source": [
    "print(var1)"
   ]
  },
  {
   "cell_type": "code",
   "execution_count": null,
   "id": "bbb4a029",
   "metadata": {},
   "outputs": [],
   "source": [
    "# product of given values\n",
    "def product(*values):\n",
    "    '''The function gives the product of values'''\n",
    "    total = 1\n",
    "    var = list(int(input()))\n",
    "    for arg in values:\n",
    "        total *= arg\n",
    "    return total"
   ]
  },
  {
   "cell_type": "code",
   "execution_count": null,
   "id": "26f555ce",
   "metadata": {},
   "outputs": [],
   "source": [
    "product.__doc__"
   ]
  },
  {
   "cell_type": "code",
   "execution_count": null,
   "id": "24b050e8",
   "metadata": {},
   "outputs": [],
   "source": [
    "product(1,5,6,9,7)"
   ]
  },
  {
   "cell_type": "code",
   "execution_count": null,
   "id": "c443267c",
   "metadata": {},
   "outputs": [],
   "source": [
    "help(sum)"
   ]
  },
  {
   "cell_type": "code",
   "execution_count": null,
   "id": "dd3c3394",
   "metadata": {},
   "outputs": [],
   "source": [
    "def average(*values):\n",
    "    '''*values: Average function takes multiple values\n",
    "    calculates sum of values\n",
    "    calculates the length of values\n",
    "    and calculates mean of values in the float.\n",
    "    \n",
    "    Results: an float'''\n",
    "    summ = 0\n",
    "    count = 0\n",
    "    for arg in values:\n",
    "        summ += arg\n",
    "        count += 1\n",
    "    average = summ/count\n",
    "    return average"
   ]
  },
  {
   "cell_type": "code",
   "execution_count": null,
   "id": "d07a23bc",
   "metadata": {},
   "outputs": [],
   "source": [
    "average(80,90,50,70,100,150,200)"
   ]
  },
  {
   "cell_type": "code",
   "execution_count": null,
   "id": "b8904fcb",
   "metadata": {},
   "outputs": [],
   "source": [
    "help(average)"
   ]
  },
  {
   "cell_type": "code",
   "execution_count": null,
   "id": "b307def0",
   "metadata": {},
   "outputs": [],
   "source": [
    "average.__doc__"
   ]
  },
  {
   "cell_type": "code",
   "execution_count": null,
   "id": "eca41f89",
   "metadata": {},
   "outputs": [],
   "source": []
  },
  {
   "cell_type": "code",
   "execution_count": null,
   "id": "95447c21",
   "metadata": {},
   "outputs": [],
   "source": [
    "average()"
   ]
  },
  {
   "cell_type": "code",
   "execution_count": null,
   "id": "4d9e318a",
   "metadata": {},
   "outputs": [],
   "source": [
    "def add(*args):\n",
    "    print(args)\n",
    "\n",
    "\n",
    "add(10,20,30,40,)"
   ]
  },
  {
   "cell_type": "code",
   "execution_count": null,
   "id": "a232c7c1",
   "metadata": {},
   "outputs": [],
   "source": [
    "def add(*args):\n",
    "    total = 0\n",
    "    for arg in args:\n",
    "        total += arg\n",
    "    return total\n",
    "\n",
    "\n",
    "total = add(1, 2, 3,5,6,7)\n",
    "print(total)"
   ]
  },
  {
   "cell_type": "code",
   "execution_count": null,
   "id": "42a28820",
   "metadata": {},
   "outputs": [],
   "source": [
    "Python *args argument exhausts positional arguments"
   ]
  },
  {
   "cell_type": "code",
   "execution_count": null,
   "id": "dc734d2f",
   "metadata": {},
   "outputs": [],
   "source": [
    "# Python **kwargs parameters\n",
    "The **kwargs is called a keyword parameter."
   ]
  },
  {
   "cell_type": "code",
   "execution_count": null,
   "id": "19874af2",
   "metadata": {},
   "outputs": [],
   "source": [
    "def connect(**kwargs):\n",
    "    print(type(kwargs))\n",
    "    print(kwargs)"
   ]
  },
  {
   "cell_type": "code",
   "execution_count": null,
   "id": "3db00364",
   "metadata": {},
   "outputs": [],
   "source": [
    "type(connect())\n",
    "connect(one = 10, password = 'Sam$12')"
   ]
  },
  {
   "cell_type": "code",
   "execution_count": null,
   "id": "c657c071",
   "metadata": {},
   "outputs": [],
   "source": [
    "connect(server='localhost', port=3306, user='root', password='Akaksh@123')"
   ]
  },
  {
   "cell_type": "code",
   "execution_count": null,
   "id": "c270b98e",
   "metadata": {},
   "outputs": [],
   "source": [
    "create def keyword\n",
    "argumnets:\n",
    "    required argumnets\n",
    "    default argumnets\n",
    "    *argumnets\n",
    "    **key wrod argumnets\n",
    "    '''docstring/ documnetation of function.'''\n",
    "    return is a keyword\n",
    "    print() is function to get ouput for user."
   ]
  },
  {
   "cell_type": "code",
   "execution_count": null,
   "id": "b5940738",
   "metadata": {},
   "outputs": [],
   "source": []
  },
  {
   "cell_type": "code",
   "execution_count": 1,
   "id": "9e1ba170",
   "metadata": {},
   "outputs": [],
   "source": [
    "import os"
   ]
  },
  {
   "cell_type": "code",
   "execution_count": 2,
   "id": "ef942754",
   "metadata": {},
   "outputs": [
    {
     "data": {
      "text/plain": [
       "'C:\\\\Users\\\\excel\\\\DATA Science\\\\Python_programming'"
      ]
     },
     "execution_count": 2,
     "metadata": {},
     "output_type": "execute_result"
    }
   ],
   "source": [
    "os.getcwd() # to know the working directory"
   ]
  },
  {
   "cell_type": "code",
   "execution_count": 3,
   "id": "92c4bde1",
   "metadata": {
    "collapsed": true,
    "jupyter": {
     "outputs_hidden": true
    }
   },
   "outputs": [
    {
     "data": {
      "text/plain": [
       "['.ipynb_checkpoints',\n",
       " 'arrayfile.npz',\n",
       " 'countries.csv',\n",
       " 'country.csv',\n",
       " 'country1.csv',\n",
       " 'country3.csv',\n",
       " 'couuntry.csv',\n",
       " 'data.csv',\n",
       " 'data1.csv',\n",
       " 'data2.csv',\n",
       " 'Deep_learning',\n",
       " 'file.csv',\n",
       " 'file.npz',\n",
       " 'file.txt',\n",
       " 'file1.csv',\n",
       " 'file1.npy',\n",
       " 'file2.npz',\n",
       " 'Intermediate Numpy .ipynb',\n",
       " 'intermediate Python.ipynb',\n",
       " 'Introduction to python-Copy1.ipynb',\n",
       " 'Introduction_to_python.ipynb',\n",
       " 'losalry.npy',\n",
       " 'Marks.csv',\n",
       " 'Matplotlib and Seaborn.ipynb',\n",
       " 'newfile.txt',\n",
       " 'newfile1.txt',\n",
       " 'Python Interview Questions.docx',\n",
       " 'Python matplotlib library.ipynb',\n",
       " 'Python Numpy  library.ipynb',\n",
       " 'Python Pandas library.ipynb',\n",
       " 'Python pandas numpy .ipynb',\n",
       " 'Python_interview_questions.ipynb',\n",
       " 'results.csv',\n",
       " 'Results1.csv',\n",
       " 'salary.txt',\n",
       " 'SummaryData.py',\n",
       " 'testfile',\n",
       " 'testfile5',\n",
       " 'USERDATA.csv',\n",
       " 'users_data.csv',\n",
       " 'users_data.txt',\n",
       " '__pycache__',\n",
       " '~$thon Interview Questions.docx']"
      ]
     },
     "execution_count": 3,
     "metadata": {},
     "output_type": "execute_result"
    }
   ],
   "source": [
    "os.listdir() # list of all directories."
   ]
  },
  {
   "cell_type": "code",
   "execution_count": 4,
   "id": "ddba1076",
   "metadata": {},
   "outputs": [],
   "source": [
    "os.mkdir('Newfloder1') # creating a new directory"
   ]
  },
  {
   "cell_type": "code",
   "execution_count": 5,
   "id": "76fcbdfb",
   "metadata": {
    "collapsed": true,
    "jupyter": {
     "outputs_hidden": true
    }
   },
   "outputs": [
    {
     "data": {
      "text/plain": [
       "['.ipynb_checkpoints',\n",
       " 'arrayfile.npz',\n",
       " 'countries.csv',\n",
       " 'country.csv',\n",
       " 'country1.csv',\n",
       " 'country3.csv',\n",
       " 'couuntry.csv',\n",
       " 'data.csv',\n",
       " 'data1.csv',\n",
       " 'data2.csv',\n",
       " 'Deep_learning',\n",
       " 'file.csv',\n",
       " 'file.npz',\n",
       " 'file.txt',\n",
       " 'file1.csv',\n",
       " 'file1.npy',\n",
       " 'file2.npz',\n",
       " 'Intermediate Numpy .ipynb',\n",
       " 'intermediate Python.ipynb',\n",
       " 'Introduction to python-Copy1.ipynb',\n",
       " 'Introduction_to_python.ipynb',\n",
       " 'losalry.npy',\n",
       " 'Marks.csv',\n",
       " 'Matplotlib and Seaborn.ipynb',\n",
       " 'newfile.txt',\n",
       " 'newfile1.txt',\n",
       " 'Newfloder1',\n",
       " 'Python Interview Questions.docx',\n",
       " 'Python matplotlib library.ipynb',\n",
       " 'Python Numpy  library.ipynb',\n",
       " 'Python Pandas library.ipynb',\n",
       " 'Python pandas numpy .ipynb',\n",
       " 'Python_interview_questions.ipynb',\n",
       " 'results.csv',\n",
       " 'Results1.csv',\n",
       " 'salary.txt',\n",
       " 'SummaryData.py',\n",
       " 'testfile',\n",
       " 'testfile5',\n",
       " 'USERDATA.csv',\n",
       " 'users_data.csv',\n",
       " 'users_data.txt',\n",
       " '__pycache__',\n",
       " '~$thon Interview Questions.docx']"
      ]
     },
     "execution_count": 5,
     "metadata": {},
     "output_type": "execute_result"
    }
   ],
   "source": [
    "os.listdir()"
   ]
  },
  {
   "cell_type": "code",
   "execution_count": 8,
   "id": "63767f74",
   "metadata": {},
   "outputs": [],
   "source": [
    "os.chdir(\"C:\\\\Users\\excel\\\\DATA Science\\\\Python_programming\\\\Newfloder1\") # to change the directory"
   ]
  },
  {
   "cell_type": "code",
   "execution_count": 9,
   "id": "9b497d5f",
   "metadata": {},
   "outputs": [
    {
     "data": {
      "text/plain": [
       "'C:\\\\Users\\\\excel\\\\DATA Science\\\\Python_programming\\\\Newfloder1'"
      ]
     },
     "execution_count": 9,
     "metadata": {},
     "output_type": "execute_result"
    }
   ],
   "source": [
    "os.getcwd()"
   ]
  },
  {
   "cell_type": "code",
   "execution_count": 374,
   "id": "1bc1ad24",
   "metadata": {
    "collapsed": true,
    "jupyter": {
     "outputs_hidden": true
    }
   },
   "outputs": [
    {
     "data": {
      "text/plain": [
       "['.ipynb_checkpoints',\n",
       " 'Amisha_cv.pdf',\n",
       " 'Hierarchical Clustering.ipynb',\n",
       " 'K-Means.ipynb',\n",
       " 'Perceptron.ipynb',\n",
       " 'Python_Data_Handling.ipynb',\n",
       " 'Retail_data.xlsx',\n",
       " 'Universities.xlsx',\n",
       " 'Untitled.ipynb']"
      ]
     },
     "execution_count": 374,
     "metadata": {},
     "output_type": "execute_result"
    }
   ],
   "source": [
    "os.listdir()"
   ]
  },
  {
   "cell_type": "markdown",
   "id": "92e77c1a",
   "metadata": {},
   "source": [
    "# FILE input/output in python"
   ]
  },
  {
   "cell_type": "code",
   "execution_count": 376,
   "id": "4328fae8",
   "metadata": {},
   "outputs": [
    {
     "data": {
      "text/plain": [
       "'C:\\\\Users\\\\excel\\\\DATA Science\\\\Datasets\\\\apple.txt'"
      ]
     },
     "execution_count": 376,
     "metadata": {},
     "output_type": "execute_result"
    }
   ],
   "source": [
    "'C:\\\\Users\\\\excel\\\\DATA Science\\\\Datasets\\\\apple.txt'"
   ]
  },
  {
   "cell_type": "code",
   "execution_count": 377,
   "id": "a3ddb3b3",
   "metadata": {},
   "outputs": [
    {
     "data": {
      "text/plain": [
       "'C:\\\\Users\\\\excel\\\\DATA Science\\\\Datasets\\\\apple.txt'"
      ]
     },
     "execution_count": 377,
     "metadata": {},
     "output_type": "execute_result"
    }
   ],
   "source": [
    "r\"C:\\Users\\excel\\DATA Science\\Datasets\\apple.txt\""
   ]
  },
  {
   "cell_type": "code",
   "execution_count": null,
   "id": "74b74559",
   "metadata": {},
   "outputs": [],
   "source": [
    "Python Read Text File\n",
    "1) open() function\n",
    "\n",
    "open(path_to_file, mode)"
   ]
  },
  {
   "cell_type": "code",
   "execution_count": null,
   "id": "de4bc395",
   "metadata": {},
   "outputs": [],
   "source": [
    " f = open('','r')"
   ]
  },
  {
   "cell_type": "code",
   "execution_count": null,
   "id": "f7029f2d",
   "metadata": {},
   "outputs": [],
   "source": [
    "2) Reading text methods\n",
    "The file object provides you with three methods for reading text from a text file:\n",
    "\n",
    "read(size) – read some contents of a file based on the optional size and return the contents as a string. \n",
    "If you omit the size, the read() method reads from where it left off till the end of the file. \n",
    "If the end of a file has been reached, the read() method returns an empty string.\n",
    "\n",
    "readline() – read a single line from a text file and return the line as a string. \n",
    "If the end of a file has been reached, the readline() returns an empty string.\n",
    "\n",
    "readlines() – read all the lines of the text file into a list of strings.\n",
    "This method is useful if you have a small file and you want to manipulate the whole text of that file"
   ]
  },
  {
   "cell_type": "code",
   "execution_count": null,
   "id": "188fcbbb",
   "metadata": {},
   "outputs": [],
   "source": [
    "import os\n",
    "os.getcwd()"
   ]
  },
  {
   "cell_type": "code",
   "execution_count": null,
   "id": "a6cc83c1",
   "metadata": {},
   "outputs": [],
   "source": [
    "os.chdir('C:\\\\Users\\\\excel\\\\DATA Science\\\\NEW_FOLDER_DS')"
   ]
  },
  {
   "cell_type": "code",
   "execution_count": null,
   "id": "cce9fe21",
   "metadata": {},
   "outputs": [],
   "source": [
    "os.getcwd()"
   ]
  },
  {
   "cell_type": "code",
   "execution_count": null,
   "id": "688cc268",
   "metadata": {},
   "outputs": [],
   "source": [
    "os.listdir()"
   ]
  },
  {
   "cell_type": "code",
   "execution_count": null,
   "id": "c83af2f3",
   "metadata": {},
   "outputs": [],
   "source": [
    "\"C:\\Users\\excel\\DATA Science\\Datasets\\apple.txt\""
   ]
  },
  {
   "cell_type": "code",
   "execution_count": 380,
   "id": "493ff909",
   "metadata": {
    "collapsed": true,
    "jupyter": {
     "outputs_hidden": true
    }
   },
   "outputs": [
    {
     "data": {
      "text/plain": [
       "'\"x\"\\n\"It\\'s amazing..... battery last around 10 -12 hrs.....best laptop for students and coders\\n            \"\\n\"Finally a MacBook possession. Got it in 50k in Diwali sale. Technically good laptop.Good News.luxury product, niche technology, good battery life, reliable machine (other laptops crash and become defunct in 6-10 years), no anti-virus required, security of data and transactions much better. Terrific sense of possession & pride.Bad News. Problems will be there if you are switching from windows based system - very less space in hard disk, no CD drive, inability to transfer data from Mac to your existing external hard disc unless you format it, apps are mostly paid and re unreasonably expensive (no free apps which are available otherwise on google play store, even the angry bird costs Rs 400 !!), all printers are not compatible (e.g. the most economical MFD laser printer RICOH SP 111 can\\'t be used), huge compatibility issues with Pages (MS Word) and Keynote (powerpoint) unless you master it by working on these (still mostly the document and slides either do not open in windows environment or have distortion issues). you need to spend extra for an external CD writer and tp buy a carry bag. Mac con not be connected to most of the projectors unless you buy some connectors, which are expensive and theres no clarity which one to buy and from where. you can\\'t connect it to your TV, the ports are different and again theres no clarity - customer support, manuals or help section are silent ! Marketing strategy for Indian market, if at all has been planned, has been very bad. If these critical issues (and a few more not mentioned here) are handled properly, the Mac can sweep away other laptops in India. Presently, it doesn\\'t seem to be happening.Overall Verdict.If compatibility issues mentioned above do not bother you, go for it. Else, think hard.  If its an emotional issue to own a long cherished Mac, then its a different thing. Go ahead and gradually you would figure out most (but not all) of the above problems, like I did.\\n            \"\\n\"Best Laptop under 60k. If you don\\'t want any accounting softwares like tally or busy then go for it, better than windows in every term. I just love it\\'s battery life with sleek look ðŸ˜Now talking about MS officeIt\\'s available on app store, free for 1 monthAfter that you will have to pay.You cannot install pirated version but if you install Windows 7 or any other version then u can use Ms office for freeBut in MacBook there are other apps which are good substitute for Ms office appsNumbers for ExcelPages for wordKeynote for PowerPointAnd you can convert your numbers file to Excel file or csv fileSame for the pages & keynoteSo no need of Ms office for me.Cons1. U cannot play games, your laptop will just heat up, battery will drain* U cannot play pubg mobile on emulator if you are pubg loverðŸ˜2. Storage 128gb, it will work fine but if you want to store movies or TV shows u can\\'t, u have to buy external hard disk\\n            \"\\n\"Pros:1. Light weight and super fast response time2. Highly optimize which avoids any kind of process lag.3. Beautiful looks and feels like a prime product.4. Long battery life and awesome sound clarity5. Purchased during Amazon sale cost around 52k.Cons:1. Not enough memory2. Limited softwares available3. Operating system is not that user-friendlyProbably one of the best option for 50k+ laptops\\n            \"\\n\"I have been a Macbook pro user for last 2 years. I came across the new Macbook air and got a chance to put hands on it. So here is a brief review on my first impressions. Basically i will be comparing this with a regular laptop of similar price range and Macbook PROAir benefits compared to Non Apple laptop:# Slim and light weight for daily travel# 10-11 hours battery backup on normal usage# Apple touch pads are awesome, smooth and responsive compared to any premium laptop# Audio quality on speakers is good, but not as loud as my Macbook Pro 13# Apple front camera works the best in low light, best for low light skype calls# SSD - Apps launch very fast despite the low power processor# Metal body construction# Mag safe charger- If you are really careless this helps very much.# Ambient light sensor that adjusts brightness automatically ( Many people are not aware of this feature)# Keep your Air closed or leave somewhere idle and check back after 2 or 3 days, you will see battery has dropped less than 3 or 4 %# The best part - Mac OS, contains all that you need, a neat calendar, Todos app, notes, Quicktime, Mail app etc. Hassle free OSAir demerits compared to Non Apple laptop:# Performance is on lower side# Good for basic usage only, internet, movies, video calls, spreadsheets, mail# You will get better display(Full HD) if you buy a 999$ Ultrabook from US (In India they come at premium)Should you consider Macbook PRO? - PRO advantagesI know a lot of people might be confused whether to go with PRO for some additional bucks. So listing benefits of pro from my experience# Force touch - More comfortable touch pad, less finger pain compared to buttons on Air, Adjustable pressure# Retina display - More pixels, Better viewing angle. Air is 1440x900 while PRO is 2560x1600 pixels# Better performance - Pro CPU is actually about 50% faster than AIR, but in real world tests, apps launch at similar speed in both PRO and Air. The difference is notable only when you run CPU intensive tasks like Programming, Video encoding, Photo editing, Raw conversion etc. Those who are not into this can go with Air and save some money.# Newer CPU - Macbook air has not evolved much compared to PRO. The 2017 Air uses the same fifth generation CPU as the previous version (2015). But with a little upgrade in CPU speed. ie 1.6 GHz to 1.8 GHz. The newer PROs come with 7th generation Intel processors. The difference is mainly with the energy consumption.# HDMI port - You don\\'t need display port adaptor# New keyboard - The 2016 PRO has the same keyboard as the \\\\\"Macbook\\\\\". Keys are less deeper and more wider. This makes it little more comfortable to type. Air comes with the same old keyboard as 2015 PRO# Wider touch pad - Not a big deal. But if someone loves that, its a bonus# Color options - Yes, Air is only available in Silver, PRO comes in 3 color optionsIf you think, all the above justifies the price difference between the PRO and Air, go for the PRO. The only benefit that Air offers is battery life. PRO offers 8-9 hours only, while Air offers, 11-12 hours battery.Whom Air is for?Macbook air is not a gaming machine or for hard core users. Its for people who love to watch lot of movies, work on documents, browse and some basic programming. When i say programming, Xcode works fine on Macbook air. But Software like Android studio, Photoshop seems to struggle a little on Air. But if you are once in a while user of intensive apps, you can ignore this.I will update my review with more details after a few weeks of hands on testing and usage. If you have any queries leave a comment below. I will try to answer in a day or two.Thanks for reading! Hope this helps.Also, Get 10% Cashback by Ordering through vqr .in/24\\n            \"\\n\"I am very upset about the product as I checked my MacBook 15 days back in December, it didnâ€™t start. It was luckily in warranty . I took it to the service centre and they informed me the mother board and battery collapsed. If it was not in warranty I had to pay 47000/. I asked for replacement of the product and I was refused. They got it fixed for me. I donâ€™t know why should I pay 57000/ for Mac quality. If this is the quality and the service, then I have to go to other product. In January my product expiry was due. They have give an extension of 3 months warranty when I had asked for 1 year. Very disappointed.\\n            \"\\n\"Reason for 1 star is I ot an defective piece. The sound quality was not good . My laptop started giving issues with power button from  4 months. The screen would flicker and it would shutdown automatically after sometime. Took the mac to service centre. They replaced the motherboard free of cost as it was in warranty. Now my mac is perfectly fine :\\n            \"\\n\"Got the Apple Macbook air on amazon discount sale.1) The OS is smooth and is a breeze to work with. Ships with macOS sierra but update is available to macOS mojave2) The design and build quality, as you can expect from an apple product is top notch.3) Excellen sound quality, keyboard.Cons:1) 128GB may be low incase you want to have movies and media in your laptop.You need to carry around a hard disk that kind of nullifies the advantage of having a light weight laptop.2) Display resolution is not exactly upto the mark\\n            \"\\n\"White line coming on screen in just three months of purchase from amazon. Doubting the quality of the products sold on amazon\\n            \"\\n\"Bought this product recently on 5 April, was working perfectly fine for few days and on 16 April the Mac working charge or turn on. Apple service centre says they canâ€™t fix the product under warranty and amazon in try to come up with a solution ever since , no solid answer . I m stuck with a dead mac after using it for 10days. Request seller , Amazon or apple to take full responsibility.\\n            \"\\n\"Hi, Think thousand time before buying. One calm night i was cuddling in jaipuri blanket while enjoying youtube on this expensive machine. Cold night and little excitement created electrostatic charge which spike though spaceBar button. that\\'s how it went to deep sleep forever. Nothing can bring it back and i am in no mood in spending another fortune on this machine. Apple, of you (i)care, this is the least of security feature included in all electronic devices. And the best part, it was a week after Warranty expiration date.\\n            \"\\n\"We buy macbook\\'s expecting that it will lasts at least 3 years, not in my case they are saying it will costs 46000rs to repair.. i bought this in 58000rs.. if i don\\'t want to repair it still I\\'ve to pay 2500rs as diagnostic cost.. not recommended..\\n            \"\\n\"I use this for music production and it works awesome..however the display is not so good as it should have been in a 63k laptop\\n            \"\\n\"Never purchase any Apple products. I bought 3 and start giving problems just after 6 months. I need to visit 4 times service station which is far 12 km. Again MacBook start acting dead after 6 more months. Mean a top priced laptop giving problems in every 6 months.I have good experiences with other brands of laptops. I hope this comment can help to save somebodyâ€™s money.\\n            \"\\n\"Good purchase of mineBest for programming...Only some heating issues...but can be ignored!!\\n            \"\\n\"I bought MacBook air in 2017, it was working fine till last month. It suddenly stopped charging I took it apple care and was shocked to hear the feedback. They told me that the motherboard is dead and i have to buy a new motherboard. The cost was 50k ( i bought at 53k in 2017). We buy Apple products because they are meant to be long-lasting. I am really disappointed and would prefer other companies next time. They earn extra money from selling an extended warranty.\\n            \"\\n\"Bought it on 9th July, stopped working / not turning power on by 4th Nov. Adding to this disappointment is - Apple\\'s refusal to repair it under warranty stating that there is corrosion in Logic Board. Amazon also did not help. The seller - Appario - does not like to be bothered with it. Sometimes I wonder if buying electronics online is a good idea!\\n            \"\\n\"I bought it last year from Amazon during Sale. It worked well for on year and then suddenly stopped working. I am unable to switch it on. I took it to service centre and they told that the logic board has to be replaced. The cost is around 45000. I am helpless. I dont want to invest more into that. I used the laptop very carefully but I think Amazon sent a defected piece on sale.\\n            \"\\n\"All are Gud.. For now..\\n            \"\\n\"Apple,apple,apple, thats the first thing that must have flashed in you mind when you saw this product, so here i have a total breif review on the laptop...***Pros***4k Video Editing with Final Cut Pro X on this thing works like butter, there is heating issue that i am going to go to apple service center to get it checkedEveryday works like checking mail and is just gr8The Battery is just OVERPOWERED, works for around 11-12 hours on continuous work and 8-9 hours when editingThe graphics card scores 30 fps in cinebench which is not that badThe performance is also fine, 280 cb processor score on cinebenchSpeakers are really good with perfect bassDisplay brightness is 300 nits, which is fineThe Wi-Fi is extremely good, can get a network even from the living room while the router is in the bedroomVery thin and lightweightMacOS is good for School work if you know all the office applications for mac, for eg.Pages is WordMagSafe 2 is the best partGood Trackpad and Keyboard with backlightThe Storage is fast!, thanks to the M.2 based SSD!***Cons***Display, though the resolution is fairly good for a 13.3 inch display, the viewing angle is not appropriate for a 84k laptopGets heated up (Going to get it checked by apple support). Cooling not appropriate for this cpu, need a better thermal paste and fanRam management on MacOS Mojave is not good, 8 GBs of memory is not well distributed among all tasks running in backgroundMacOS is not made for gaming, you need to boot camp on this mac with Windows if you are really a hard-core gamerIntel HD integrated graphics at the price???, god damn it apple (Though its not bad, have seen GeForce 940MX at the same price)No Force trackpadBezels are way too thick in today\\'s standardsNo thunderbolt 3 or Usb CCan\\'t detect Android Devices until Android Device Explorer is installedThe Storage is less! (128 GB, will upgrade to 256 GB in a few years)***My Verdict***This devices is for them who want Battery and Power, and people who want to do Video Editing on Final Cut Pro X, if anyone has a heat up issue than you should Call apple Support and visit one service center immediately to get your laptop checked! Though the graphics is OK from my view, apple could have given better graphics like the radeon vega 8 graphics or Intel Iris Plus or Pro for a laptop that is so expensive! Everything else is Great! And MacOS is not that hard, i easily use both my Lenovo Gaming PC and my apple macbook air easily! Go for it if you are in the criteria I explained above! For hard-core video editing I would recommend atleast an iMac 4k or MacBook Pro Base Model because of its cooling Fan structure, Better Graphics and CPU! This Air is enough to edit 4k60fps videos but will slow down a bit in 5k60fps! While exporting the 4k60fps video the CPU and GPU went up to 104 degrees, this is the reason i am going to apple support! Thank You if you read the whole review because I spent a lot of time writing this!*Update on 8 Oct, 2019*Apple service did nothing, so I thought of doing my own service! Yes, I changed the thermal paste and dusted the fan, now, everything is running even better than ever, even the heating issua is solved! Now while exporting a 4k 60 fps video, it\\'s just around 80 degrees, hence no thermal throttling, Yay!\\n            \"\\n\"After using Windows Operating system for the past 10+ years, I switched to Mac. The switch was inspired by the awesome reviews I got from my friends. I must say that they were all real and that the device and the tech is so very impressive. Be it the design,  be it the processing speed, be it the battery life......all are way ahead than that of a Windows device. I am satisfied to get the marvel of a tech in my hands. It is saving my time every now and then as I am stricken with an idea to pen a couplet, short story or poem.....I simply open the lid, note the idea and then simply close it....no need of shutting the OS down everytime. Working perfectly.\\n            \"\\n\"MacBook Air is excellent. The build is super strong, the operating systems runs smooth. The trackpad and keyboard are great. The only thing that can be improved is its screen (the visuals). Not as good as expected. The hard disk is too small but if you carry an external hard disk you can solve that problem. Got it at the price of a Dell Windows laptop during Amazon sale. A great deal.\\n            \"\\n\"Very handy laptop, light weight and portable. Mac OS is super cool. Battery backup was good. Defective product recieved,within 2 months of use, laptop gets switched off suddenly while on battery. Requires power input to restart again.Contacted service centre, they told its motherboard problem and replaced motherboard under warranty, but problem still persisting. Laptop still at service center. Earlier i was using toshiba laptop, satellite 340,lasted 8 yrs without any problem. Paid a premium for macbook air very dissapointed with apple quality of products. And to repair it outside warranty, parts cost as much as the laptop itselfðŸ™„\\n            \"\\n\"I was apprehensive of buying Apple product from Amazon as some reviews suggested that imported items are being sold. However what I got was fresh and genuine product, I checked warranty on Apple site with serial no. All serial no - on bill, box, inner box and in macOS itself were consistent. Display is too good and it feels like butter operating the device. Only thing is that price difference between this and 256GB version is too much.\\n            \"\\n\"I brought this mac air on sep 2017. From past 1 week I am not able to turn on my mac, went to apple store and after troubleshooting they said it is having motherboard problem and need to replace which cost 50k, I was shocked and said how come in less than 2 year mac will have this issue. So kindly please beawre on this big bug mac air.\\n            \"\\n\"Don\\'t want to mention anything for apple MAC book :)Super product\\n            \"\\n\"I have my worst nightmare with the macbook air I bought. I bought it on theOctober 2018, it got into teouble in the month april 2019. It would turn was trying to restart automatically. I then reoaired it from apple care. It again got dead and woulnt turn onn. I put all the money into water. I dont know what to do with this.\\n            \"\\n\"Everything about this product seems to be fine as of now. Got an option to upgrade to higher OS and install tools required for my work. Except for not so good sound quality while watching movies through itunes stores, other aspect seems to be fine. Higher storage options (256 GB) may be required for power users who may want to app development on this system. Current configuration suits light - medium heavy user(I belong to this category)- (need xcode debugging feature for my projects ).\\n            \"\\n\"I was looking for an affordable long lasting light laptop and my search led me to this. I know Apple has launch a new Air but this is still a good performer and with the recent price cut this laptop makes so much sense. I was using MacBook Pro for last 8 years, and after it retired this replaced the Pro and is not doing a bad job at it at all.\\n            \"\\n\"This is the worst  apple product I have ever seen ...6 month After purchase of this fake book ...some of its keys of keyboard  stopped working ...So the service center  replace my keyboard with the new one ...But after some months with  the new replaced  keyboard some of its key again stopped working .All these things happen in one year and 3 month timeline which is roughly 1.5 years of original purchase date ... ...When I spoke to the service center they told me that the warranty is over you need to pay 12000 rs ...So I don\\'t have any option. The cost is too high. ..So now I m working with the external keyboard which cost me merely 200 rs ... My friend bought the same macbook from the showroom and i must say its really working good and it doesnt show any fault at all .Till now .i wish i also bought this macbook from the showroom ....\\n            \"\\n\"Amazing product..it has quality written all over it..great battery, easy to adapt if you are moving from windows..the trackpad, gestures, everything is so damm goodHad read many reviews about the display being bad...it is..if you are trying to look at atomic level details..its a fantastic screen with great audio output..Everything g screams quality and premium about the macbook..love it.\\n            \"\\n\"From the very beginning the battery life was horrible . hardly 2 hours. And after using it for just a year it just stopped working . and i cannot even charge it. Terrible product sold by Amazon\\n            \"\\n\"The rating isn\\'t for Apple\\'s performance. I exchanged my old MacBook Air 11\\' (2013) for MacBook Air 13.3\\' (2017): and I haven\\'t been disappointed. They both are fantastic machines, there isn\\'t a bit of change except the screen - it is slightly bigger and better...The rating for the seller - I would give 5 star for delivery and 4 star for packaging. However, the product came with multiple scratches. I am unable to conclude whose fault it is- Apple or the reseller (in this case - Cloudtail India Pvt Ltd).I have restored my previous backup and will observe the performance over the week. If it under performs- I will report it to the authorities. If it performs well, the scratches may have been anyone\\'s fault but can be ignored...I shall update this review in a week\\'s time...\\n            \"\\n\"I preferred this over other good spec windows laptop, just for reason mac. 128 gb ssd was only concern as it may not be sufficient however adding external hd or flash drive will do the job for u. Overall even the screen is not full hd i did not find it much of the issue, however If u r concern about good display must for consider this as option. Additionaly over 13000 discount in last sale made this perfect deal.\\n            \"\\n\"When i received, within 15 days i realised the hinges were loose. Then after less than 2 months very rare use i got a line on the display. The replacement window was only 10 days. Now i have given it for service and even apple doesn\\'t have a replacement policy. So i have to use a repaired device inspite of buying new. Very disappointing.\\n            \"\\n\"Be careful while buying electronic products through Amazon.I bought this macbook for 56k on March 2018. After 1.5 years of usage, the display stopped working for no reason. The device never had any accidental drop or shock while I was using it through these years. The service center guy told me it would cost around 41k for screen replacement. Now I\\'m left with no option.If you are buying, I suggest you to buy it along with a protection plan or any extended warranty.\\n            \"\\n\"MERITS..IT IS BEST IN ITS PERFORMANCE..SOUND QUALITY IS AMAZING..NICE PICTURE QUALITY...GREAT STABILIZATION..BEST UI(USER INTERFACE)..BEST LAPTOP FOR NORMAL HUMANSðŸ¤£ >50KDEMERITSCANNOT BE USED FOR GAMINGbut If You areNot a Productive person Then only You Play games..And...THERE\\'s nothing much bad about\\n            \"\\n\"3 years and still running! great product\\n            \"\\n\"The elegant work of apple can be seen in this product. The design, the user friendliness, the compactness can be easily seen in this laptop. Coming to the performance, the speed of this is remarkable, and you can get to know the power of Mac os when you have another apple product. You can get one of the best movie experiences on this . Overall I would it a 4.5/5.\\n            \"\\n\"I got a great deal on this laptop, which I have been using for almost a year now. I got it not only on discount but also was able to exchange my old laptop with this! Laptop works really well, it was a good purchase!\\n            \"\\n'"
      ]
     },
     "execution_count": 380,
     "metadata": {},
     "output_type": "execute_result"
    }
   ],
   "source": [
    "file = open(r\"C:\\Users\\excel\\DATA Science\\Datasets\\apple.txt\",errors='ignore')\n",
    "file.read()"
   ]
  },
  {
   "cell_type": "code",
   "execution_count": 381,
   "id": "e952bf1b",
   "metadata": {},
   "outputs": [],
   "source": [
    "file.close()"
   ]
  },
  {
   "cell_type": "code",
   "execution_count": 386,
   "id": "232541eb",
   "metadata": {},
   "outputs": [
    {
     "data": {
      "text/plain": [
       "'\"x\"\\n'"
      ]
     },
     "execution_count": 386,
     "metadata": {},
     "output_type": "execute_result"
    }
   ],
   "source": [
    "file = open(r\"C:\\Users\\excel\\DATA Science\\Datasets\\apple.txt\",errors='ignore')\n",
    "file.readline()"
   ]
  },
  {
   "cell_type": "code",
   "execution_count": 385,
   "id": "3b447df4",
   "metadata": {},
   "outputs": [],
   "source": [
    "file.close()"
   ]
  },
  {
   "cell_type": "code",
   "execution_count": 403,
   "id": "b9a86b48",
   "metadata": {
    "collapsed": true,
    "jupyter": {
     "outputs_hidden": true
    }
   },
   "outputs": [
    {
     "name": "stdout",
     "output_type": "stream",
     "text": [
      "\"I have been a Macbook pro user for last 2 years. I came across the new Macbook air and got a chance to put hands on it. So here is a brief review on my first impressions. Basically i will be comparing this with a regular laptop of similar price range and Macbook PROAir benefits compared to Non Apple laptop:# Slim and light weight for daily travel# 10-11 hours battery backup on normal usage# Apple touch pads are awesome, smooth and responsive compared to any premium laptop# Audio quality on speakers is good, but not as loud as my Macbook Pro 13# Apple front camera works the best in low light, best for low light skype calls# SSD - Apps launch very fast despite the low power processor# Metal body construction# Mag safe charger- If you are really careless this helps very much.# Ambient light sensor that adjusts brightness automatically ( Many people are not aware of this feature)# Keep your Air closed or leave somewhere idle and check back after 2 or 3 days, you will see battery has dropped less than 3 or 4 %# The best part - Mac OS, contains all that you need, a neat calendar, Todos app, notes, Quicktime, Mail app etc. Hassle free OSAir demerits compared to Non Apple laptop:# Performance is on lower side# Good for basic usage only, internet, movies, video calls, spreadsheets, mail# You will get better display(Full HD) if you buy a 999$ Ultrabook from US (In India they come at premium)Should you consider Macbook PRO? - PRO advantagesI know a lot of people might be confused whether to go with PRO for some additional bucks. So listing benefits of pro from my experience# Force touch - More comfortable touch pad, less finger pain compared to buttons on Air, Adjustable pressure# Retina display - More pixels, Better viewing angle. Air is 1440x900 while PRO is 2560x1600 pixels# Better performance - Pro CPU is actually about 50% faster than AIR, but in real world tests, apps launch at similar speed in both PRO and Air. The difference is notable only when you run CPU intensive tasks like Programming, Video encoding, Photo editing, Raw conversion etc. Those who are not into this can go with Air and save some money.# Newer CPU - Macbook air has not evolved much compared to PRO. The 2017 Air uses the same fifth generation CPU as the previous version (2015). But with a little upgrade in CPU speed. ie 1.6 GHz to 1.8 GHz. The newer PROs come with 7th generation Intel processors. The difference is mainly with the energy consumption.# HDMI port - You don't need display port adaptor# New keyboard - The 2016 PRO has the same keyboard as the \\\"Macbook\\\". Keys are less deeper and more wider. This makes it little more comfortable to type. Air comes with the same old keyboard as 2015 PRO# Wider touch pad - Not a big deal. But if someone loves that, its a bonus# Color options - Yes, Air is only available in Silver, PRO comes in 3 color optionsIf you think, all the above justifies the price difference between the PRO and Air, go for the PRO. The only benefit that Air offers is battery life. PRO offers 8-9 hours only, while Air offers, 11-12 hours battery.Whom Air is for?Macbook air is not a gaming machine or for hard core users. Its for people who love to watch lot of movies, work on documents, browse and some basic programming. When i say programming, Xcode works fine on Macbook air. But Software like Android studio, Photoshop seems to struggle a little on Air. But if you are once in a while user of intensive apps, you can ignore this.I will update my review with more details after a few weeks of hands on testing and usage. If you have any queries leave a comment below. I will try to answer in a day or two.Thanks for reading! Hope this helps.Also, Get 10% Cashback by Ordering through vqr .in/24\n",
      "\n",
      "\"Never purchase any Apple products. I bought 3 and start giving problems just after 6 months. I need to visit 4 times service station which is far 12 km. Again MacBook start acting dead after 6 more months. Mean a top priced laptop giving problems in every 6 months.I have good experiences with other brands of laptops. I hope this comment can help to save somebodyâ€™s money.\n",
      "\n",
      "\"Apple,apple,apple, thats the first thing that must have flashed in you mind when you saw this product, so here i have a total breif review on the laptop...***Pros***4k Video Editing with Final Cut Pro X on this thing works like butter, there is heating issue that i am going to go to apple service center to get it checkedEveryday works like checking mail and is just gr8The Battery is just OVERPOWERED, works for around 11-12 hours on continuous work and 8-9 hours when editingThe graphics card scores 30 fps in cinebench which is not that badThe performance is also fine, 280 cb processor score on cinebenchSpeakers are really good with perfect bassDisplay brightness is 300 nits, which is fineThe Wi-Fi is extremely good, can get a network even from the living room while the router is in the bedroomVery thin and lightweightMacOS is good for School work if you know all the office applications for mac, for eg.Pages is WordMagSafe 2 is the best partGood Trackpad and Keyboard with backlightThe Storage is fast!, thanks to the M.2 based SSD!***Cons***Display, though the resolution is fairly good for a 13.3 inch display, the viewing angle is not appropriate for a 84k laptopGets heated up (Going to get it checked by apple support). Cooling not appropriate for this cpu, need a better thermal paste and fanRam management on MacOS Mojave is not good, 8 GBs of memory is not well distributed among all tasks running in backgroundMacOS is not made for gaming, you need to boot camp on this mac with Windows if you are really a hard-core gamerIntel HD integrated graphics at the price???, god damn it apple (Though its not bad, have seen GeForce 940MX at the same price)No Force trackpadBezels are way too thick in today's standardsNo thunderbolt 3 or Usb CCan't detect Android Devices until Android Device Explorer is installedThe Storage is less! (128 GB, will upgrade to 256 GB in a few years)***My Verdict***This devices is for them who want Battery and Power, and people who want to do Video Editing on Final Cut Pro X, if anyone has a heat up issue than you should Call apple Support and visit one service center immediately to get your laptop checked! Though the graphics is OK from my view, apple could have given better graphics like the radeon vega 8 graphics or Intel Iris Plus or Pro for a laptop that is so expensive! Everything else is Great! And MacOS is not that hard, i easily use both my Lenovo Gaming PC and my apple macbook air easily! Go for it if you are in the criteria I explained above! For hard-core video editing I would recommend atleast an iMac 4k or MacBook Pro Base Model because of its cooling Fan structure, Better Graphics and CPU! This Air is enough to edit 4k60fps videos but will slow down a bit in 5k60fps! While exporting the 4k60fps video the CPU and GPU went up to 104 degrees, this is the reason i am going to apple support! Thank You if you read the whole review because I spent a lot of time writing this!*Update on 8 Oct, 2019*Apple service did nothing, so I thought of doing my own service! Yes, I changed the thermal paste and dusted the fan, now, everything is running even better than ever, even the heating issua is solved! Now while exporting a 4k 60 fps video, it's just around 80 degrees, hence no thermal throttling, Yay!\n",
      "\n",
      "\"MacBook Air is excellent. The build is super strong, the operating systems runs smooth. The trackpad and keyboard are great. The only thing that can be improved is its screen (the visuals). Not as good as expected. The hard disk is too small but if you carry an external hard disk you can solve that problem. Got it at the price of a Dell Windows laptop during Amazon sale. A great deal.\n",
      "\n",
      "\"I was apprehensive of buying Apple product from Amazon as some reviews suggested that imported items are being sold. However what I got was fresh and genuine product, I checked warranty on Apple site with serial no. All serial no - on bill, box, inner box and in macOS itself were consistent. Display is too good and it feels like butter operating the device. Only thing is that price difference between this and 256GB version is too much.\n",
      "\n",
      "\"I was looking for an affordable long lasting light laptop and my search led me to this. I know Apple has launch a new Air but this is still a good performer and with the recent price cut this laptop makes so much sense. I was using MacBook Pro for last 8 years, and after it retired this replaced the Pro and is not doing a bad job at it at all.\n",
      "\n"
     ]
    }
   ],
   "source": [
    "file = open(r\"C:\\Users\\excel\\DATA Science\\Datasets\\apple.txt\",errors='ignore')\n",
    "for i in file.readlines():\n",
    "    if 'Mackbook' in i:\n",
    "        i = i.upper()\n",
    "         print(i)"
   ]
  },
  {
   "cell_type": "code",
   "execution_count": null,
   "id": "f1a260f0",
   "metadata": {},
   "outputs": [],
   "source": [
    "file = open(r\"C:\\Users\\excel\\DATA Science\\Datasets\\apple.txt\",errors='ignore')\n",
    "for i in file.readlines():\n",
    "    if 'price' in i:\n",
    "         print(i)"
   ]
  },
  {
   "cell_type": "code",
   "execution_count": null,
   "id": "6522dae0",
   "metadata": {},
   "outputs": [],
   "source": [
    "file = open(r\"D:\\DS-Batch1\\DS material\\Introduction to Python programming.txt\",mode = 'r')\n",
    "print(file.readline())\n",
    "file.close()"
   ]
  },
  {
   "cell_type": "code",
   "execution_count": null,
   "id": "fc9e1633",
   "metadata": {},
   "outputs": [],
   "source": [
    "file = open(r\"C:\\Users\\excel\\DATA Science\\NEW_FOLDER_DS\\python_intro.txt\",mode = 'r')\n",
    "print(file.readlines())\n",
    "file.close()"
   ]
  },
  {
   "cell_type": "code",
   "execution_count": null,
   "id": "95e8befa",
   "metadata": {},
   "outputs": [],
   "source": [
    "file = open(r\"C:\\Users\\excel\\OneDrive\\Desktop\\inclass_exercise\\intro_python.txt\",mode = 'r')\n",
    "for i in file:\n",
    "    T = file.read()\n",
    "    print(T)\n",
    "file.close()"
   ]
  },
  {
   "cell_type": "code",
   "execution_count": null,
   "id": "4733ae42",
   "metadata": {},
   "outputs": [],
   "source": [
    "file = open(r\"C:\\Users\\excel\\OneDrive\\Desktop\\inclass_exercise\\intro_python.txt\",mode = 'r')\n",
    "for line in file:\n",
    "    file1 = file.readline()\n",
    "    print(file1)\n",
    "print(file.close())"
   ]
  },
  {
   "cell_type": "code",
   "execution_count": null,
   "id": "5ff6dd40",
   "metadata": {},
   "outputs": [],
   "source": [
    "To close the file automatically without calling the close() method, you use the with statement like this:\n",
    "with open(path_to_file) as f:\n",
    "    contents = f.readlines()"
   ]
  },
  {
   "cell_type": "code",
   "execution_count": 404,
   "id": "896dcbca",
   "metadata": {
    "collapsed": true,
    "jupyter": {
     "outputs_hidden": true
    }
   },
   "outputs": [
    {
     "name": "stdout",
     "output_type": "stream",
     "text": [
      "['\"x\"\\n', '\"It\\'s amazing..... battery last around 10 -12 hrs.....best laptop for students and coders\\n', '            \"\\n', '\"Finally a MacBook possession. Got it in 50k in Diwali sale. Technically good laptop.Good News.luxury product, niche technology, good battery life, reliable machine (other laptops crash and become defunct in 6-10 years), no anti-virus required, security of data and transactions much better. Terrific sense of possession & pride.Bad News. Problems will be there if you are switching from windows based system - very less space in hard disk, no CD drive, inability to transfer data from Mac to your existing external hard disc unless you format it, apps are mostly paid and re unreasonably expensive (no free apps which are available otherwise on google play store, even the angry bird costs Rs 400 !!), all printers are not compatible (e.g. the most economical MFD laser printer RICOH SP 111 can\\'t be used), huge compatibility issues with Pages (MS Word) and Keynote (powerpoint) unless you master it by working on these (still mostly the document and slides either do not open in windows environment or have distortion issues). you need to spend extra for an external CD writer and tp buy a carry bag. Mac con not be connected to most of the projectors unless you buy some connectors, which are expensive and theres no clarity which one to buy and from where. you can\\'t connect it to your TV, the ports are different and again theres no clarity - customer support, manuals or help section are silent ! Marketing strategy for Indian market, if at all has been planned, has been very bad. If these critical issues (and a few more not mentioned here) are handled properly, the Mac can sweep away other laptops in India. Presently, it doesn\\'t seem to be happening.Overall Verdict.If compatibility issues mentioned above do not bother you, go for it. Else, think hard.  If its an emotional issue to own a long cherished Mac, then its a different thing. Go ahead and gradually you would figure out most (but not all) of the above problems, like I did.\\n', '            \"\\n', '\"Best Laptop under 60k. If you don\\'t want any accounting softwares like tally or busy then go for it, better than windows in every term. I just love it\\'s battery life with sleek look ðŸ˜Now talking about MS officeIt\\'s available on app store, free for 1 monthAfter that you will have to pay.You cannot install pirated version but if you install Windows 7 or any other version then u can use Ms office for freeBut in MacBook there are other apps which are good substitute for Ms office appsNumbers for ExcelPages for wordKeynote for PowerPointAnd you can convert your numbers file to Excel file or csv fileSame for the pages & keynoteSo no need of Ms office for me.Cons1. U cannot play games, your laptop will just heat up, battery will drain* U cannot play pubg mobile on emulator if you are pubg loverðŸ˜2. Storage 128gb, it will work fine but if you want to store movies or TV shows u can\\'t, u have to buy external hard disk\\n', '            \"\\n', '\"Pros:1. Light weight and super fast response time2. Highly optimize which avoids any kind of process lag.3. Beautiful looks and feels like a prime product.4. Long battery life and awesome sound clarity5. Purchased during Amazon sale cost around 52k.Cons:1. Not enough memory2. Limited softwares available3. Operating system is not that user-friendlyProbably one of the best option for 50k+ laptops\\n', '            \"\\n', '\"I have been a Macbook pro user for last 2 years. I came across the new Macbook air and got a chance to put hands on it. So here is a brief review on my first impressions. Basically i will be comparing this with a regular laptop of similar price range and Macbook PROAir benefits compared to Non Apple laptop:# Slim and light weight for daily travel# 10-11 hours battery backup on normal usage# Apple touch pads are awesome, smooth and responsive compared to any premium laptop# Audio quality on speakers is good, but not as loud as my Macbook Pro 13# Apple front camera works the best in low light, best for low light skype calls# SSD - Apps launch very fast despite the low power processor# Metal body construction# Mag safe charger- If you are really careless this helps very much.# Ambient light sensor that adjusts brightness automatically ( Many people are not aware of this feature)# Keep your Air closed or leave somewhere idle and check back after 2 or 3 days, you will see battery has dropped less than 3 or 4 %# The best part - Mac OS, contains all that you need, a neat calendar, Todos app, notes, Quicktime, Mail app etc. Hassle free OSAir demerits compared to Non Apple laptop:# Performance is on lower side# Good for basic usage only, internet, movies, video calls, spreadsheets, mail# You will get better display(Full HD) if you buy a 999$ Ultrabook from US (In India they come at premium)Should you consider Macbook PRO? - PRO advantagesI know a lot of people might be confused whether to go with PRO for some additional bucks. So listing benefits of pro from my experience# Force touch - More comfortable touch pad, less finger pain compared to buttons on Air, Adjustable pressure# Retina display - More pixels, Better viewing angle. Air is 1440x900 while PRO is 2560x1600 pixels# Better performance - Pro CPU is actually about 50% faster than AIR, but in real world tests, apps launch at similar speed in both PRO and Air. The difference is notable only when you run CPU intensive tasks like Programming, Video encoding, Photo editing, Raw conversion etc. Those who are not into this can go with Air and save some money.# Newer CPU - Macbook air has not evolved much compared to PRO. The 2017 Air uses the same fifth generation CPU as the previous version (2015). But with a little upgrade in CPU speed. ie 1.6 GHz to 1.8 GHz. The newer PROs come with 7th generation Intel processors. The difference is mainly with the energy consumption.# HDMI port - You don\\'t need display port adaptor# New keyboard - The 2016 PRO has the same keyboard as the \\\\\"Macbook\\\\\". Keys are less deeper and more wider. This makes it little more comfortable to type. Air comes with the same old keyboard as 2015 PRO# Wider touch pad - Not a big deal. But if someone loves that, its a bonus# Color options - Yes, Air is only available in Silver, PRO comes in 3 color optionsIf you think, all the above justifies the price difference between the PRO and Air, go for the PRO. The only benefit that Air offers is battery life. PRO offers 8-9 hours only, while Air offers, 11-12 hours battery.Whom Air is for?Macbook air is not a gaming machine or for hard core users. Its for people who love to watch lot of movies, work on documents, browse and some basic programming. When i say programming, Xcode works fine on Macbook air. But Software like Android studio, Photoshop seems to struggle a little on Air. But if you are once in a while user of intensive apps, you can ignore this.I will update my review with more details after a few weeks of hands on testing and usage. If you have any queries leave a comment below. I will try to answer in a day or two.Thanks for reading! Hope this helps.Also, Get 10% Cashback by Ordering through vqr .in/24\\n', '            \"\\n', '\"I am very upset about the product as I checked my MacBook 15 days back in December, it didnâ€™t start. It was luckily in warranty . I took it to the service centre and they informed me the mother board and battery collapsed. If it was not in warranty I had to pay 47000/. I asked for replacement of the product and I was refused. They got it fixed for me. I donâ€™t know why should I pay 57000/ for Mac quality. If this is the quality and the service, then I have to go to other product. In January my product expiry was due. They have give an extension of 3 months warranty when I had asked for 1 year. Very disappointed.\\n', '            \"\\n', '\"Reason for 1 star is I ot an defective piece. The sound quality was not good . My laptop started giving issues with power button from  4 months. The screen would flicker and it would shutdown automatically after sometime. Took the mac to service centre. They replaced the motherboard free of cost as it was in warranty. Now my mac is perfectly fine :\\n', '            \"\\n', '\"Got the Apple Macbook air on amazon discount sale.1) The OS is smooth and is a breeze to work with. Ships with macOS sierra but update is available to macOS mojave2) The design and build quality, as you can expect from an apple product is top notch.3) Excellen sound quality, keyboard.Cons:1) 128GB may be low incase you want to have movies and media in your laptop.You need to carry around a hard disk that kind of nullifies the advantage of having a light weight laptop.2) Display resolution is not exactly upto the mark\\n', '            \"\\n', '\"White line coming on screen in just three months of purchase from amazon. Doubting the quality of the products sold on amazon\\n', '            \"\\n', '\"Bought this product recently on 5 April, was working perfectly fine for few days and on 16 April the Mac working charge or turn on. Apple service centre says they canâ€™t fix the product under warranty and amazon in try to come up with a solution ever since , no solid answer . I m stuck with a dead mac after using it for 10days. Request seller , Amazon or apple to take full responsibility.\\n', '            \"\\n', '\"Hi, Think thousand time before buying. One calm night i was cuddling in jaipuri blanket while enjoying youtube on this expensive machine. Cold night and little excitement created electrostatic charge which spike though spaceBar button. that\\'s how it went to deep sleep forever. Nothing can bring it back and i am in no mood in spending another fortune on this machine. Apple, of you (i)care, this is the least of security feature included in all electronic devices. And the best part, it was a week after Warranty expiration date.\\n', '            \"\\n', '\"We buy macbook\\'s expecting that it will lasts at least 3 years, not in my case they are saying it will costs 46000rs to repair.. i bought this in 58000rs.. if i don\\'t want to repair it still I\\'ve to pay 2500rs as diagnostic cost.. not recommended..\\n', '            \"\\n', '\"I use this for music production and it works awesome..however the display is not so good as it should have been in a 63k laptop\\n', '            \"\\n', '\"Never purchase any Apple products. I bought 3 and start giving problems just after 6 months. I need to visit 4 times service station which is far 12 km. Again MacBook start acting dead after 6 more months. Mean a top priced laptop giving problems in every 6 months.I have good experiences with other brands of laptops. I hope this comment can help to save somebodyâ€™s money.\\n', '            \"\\n', '\"Good purchase of mineBest for programming...Only some heating issues...but can be ignored!!\\n', '            \"\\n', '\"I bought MacBook air in 2017, it was working fine till last month. It suddenly stopped charging I took it apple care and was shocked to hear the feedback. They told me that the motherboard is dead and i have to buy a new motherboard. The cost was 50k ( i bought at 53k in 2017). We buy Apple products because they are meant to be long-lasting. I am really disappointed and would prefer other companies next time. They earn extra money from selling an extended warranty.\\n', '            \"\\n', '\"Bought it on 9th July, stopped working / not turning power on by 4th Nov. Adding to this disappointment is - Apple\\'s refusal to repair it under warranty stating that there is corrosion in Logic Board. Amazon also did not help. The seller - Appario - does not like to be bothered with it. Sometimes I wonder if buying electronics online is a good idea!\\n', '            \"\\n', '\"I bought it last year from Amazon during Sale. It worked well for on year and then suddenly stopped working. I am unable to switch it on. I took it to service centre and they told that the logic board has to be replaced. The cost is around 45000. I am helpless. I dont want to invest more into that. I used the laptop very carefully but I think Amazon sent a defected piece on sale.\\n', '            \"\\n', '\"All are Gud.. For now..\\n', '            \"\\n', '\"Apple,apple,apple, thats the first thing that must have flashed in you mind when you saw this product, so here i have a total breif review on the laptop...***Pros***4k Video Editing with Final Cut Pro X on this thing works like butter, there is heating issue that i am going to go to apple service center to get it checkedEveryday works like checking mail and is just gr8The Battery is just OVERPOWERED, works for around 11-12 hours on continuous work and 8-9 hours when editingThe graphics card scores 30 fps in cinebench which is not that badThe performance is also fine, 280 cb processor score on cinebenchSpeakers are really good with perfect bassDisplay brightness is 300 nits, which is fineThe Wi-Fi is extremely good, can get a network even from the living room while the router is in the bedroomVery thin and lightweightMacOS is good for School work if you know all the office applications for mac, for eg.Pages is WordMagSafe 2 is the best partGood Trackpad and Keyboard with backlightThe Storage is fast!, thanks to the M.2 based SSD!***Cons***Display, though the resolution is fairly good for a 13.3 inch display, the viewing angle is not appropriate for a 84k laptopGets heated up (Going to get it checked by apple support). Cooling not appropriate for this cpu, need a better thermal paste and fanRam management on MacOS Mojave is not good, 8 GBs of memory is not well distributed among all tasks running in backgroundMacOS is not made for gaming, you need to boot camp on this mac with Windows if you are really a hard-core gamerIntel HD integrated graphics at the price???, god damn it apple (Though its not bad, have seen GeForce 940MX at the same price)No Force trackpadBezels are way too thick in today\\'s standardsNo thunderbolt 3 or Usb CCan\\'t detect Android Devices until Android Device Explorer is installedThe Storage is less! (128 GB, will upgrade to 256 GB in a few years)***My Verdict***This devices is for them who want Battery and Power, and people who want to do Video Editing on Final Cut Pro X, if anyone has a heat up issue than you should Call apple Support and visit one service center immediately to get your laptop checked! Though the graphics is OK from my view, apple could have given better graphics like the radeon vega 8 graphics or Intel Iris Plus or Pro for a laptop that is so expensive! Everything else is Great! And MacOS is not that hard, i easily use both my Lenovo Gaming PC and my apple macbook air easily! Go for it if you are in the criteria I explained above! For hard-core video editing I would recommend atleast an iMac 4k or MacBook Pro Base Model because of its cooling Fan structure, Better Graphics and CPU! This Air is enough to edit 4k60fps videos but will slow down a bit in 5k60fps! While exporting the 4k60fps video the CPU and GPU went up to 104 degrees, this is the reason i am going to apple support! Thank You if you read the whole review because I spent a lot of time writing this!*Update on 8 Oct, 2019*Apple service did nothing, so I thought of doing my own service! Yes, I changed the thermal paste and dusted the fan, now, everything is running even better than ever, even the heating issua is solved! Now while exporting a 4k 60 fps video, it\\'s just around 80 degrees, hence no thermal throttling, Yay!\\n', '            \"\\n', '\"After using Windows Operating system for the past 10+ years, I switched to Mac. The switch was inspired by the awesome reviews I got from my friends. I must say that they were all real and that the device and the tech is so very impressive. Be it the design,  be it the processing speed, be it the battery life......all are way ahead than that of a Windows device. I am satisfied to get the marvel of a tech in my hands. It is saving my time every now and then as I am stricken with an idea to pen a couplet, short story or poem.....I simply open the lid, note the idea and then simply close it....no need of shutting the OS down everytime. Working perfectly.\\n', '            \"\\n', '\"MacBook Air is excellent. The build is super strong, the operating systems runs smooth. The trackpad and keyboard are great. The only thing that can be improved is its screen (the visuals). Not as good as expected. The hard disk is too small but if you carry an external hard disk you can solve that problem. Got it at the price of a Dell Windows laptop during Amazon sale. A great deal.\\n', '            \"\\n', '\"Very handy laptop, light weight and portable. Mac OS is super cool. Battery backup was good. Defective product recieved,within 2 months of use, laptop gets switched off suddenly while on battery. Requires power input to restart again.Contacted service centre, they told its motherboard problem and replaced motherboard under warranty, but problem still persisting. Laptop still at service center. Earlier i was using toshiba laptop, satellite 340,lasted 8 yrs without any problem. Paid a premium for macbook air very dissapointed with apple quality of products. And to repair it outside warranty, parts cost as much as the laptop itselfðŸ™„\\n', '            \"\\n', '\"I was apprehensive of buying Apple product from Amazon as some reviews suggested that imported items are being sold. However what I got was fresh and genuine product, I checked warranty on Apple site with serial no. All serial no - on bill, box, inner box and in macOS itself were consistent. Display is too good and it feels like butter operating the device. Only thing is that price difference between this and 256GB version is too much.\\n', '            \"\\n', '\"I brought this mac air on sep 2017. From past 1 week I am not able to turn on my mac, went to apple store and after troubleshooting they said it is having motherboard problem and need to replace which cost 50k, I was shocked and said how come in less than 2 year mac will have this issue. So kindly please beawre on this big bug mac air.\\n', '            \"\\n', '\"Don\\'t want to mention anything for apple MAC book :)Super product\\n', '            \"\\n', '\"I have my worst nightmare with the macbook air I bought. I bought it on theOctober 2018, it got into teouble in the month april 2019. It would turn was trying to restart automatically. I then reoaired it from apple care. It again got dead and woulnt turn onn. I put all the money into water. I dont know what to do with this.\\n', '            \"\\n', '\"Everything about this product seems to be fine as of now. Got an option to upgrade to higher OS and install tools required for my work. Except for not so good sound quality while watching movies through itunes stores, other aspect seems to be fine. Higher storage options (256 GB) may be required for power users who may want to app development on this system. Current configuration suits light - medium heavy user(I belong to this category)- (need xcode debugging feature for my projects ).\\n', '            \"\\n', '\"I was looking for an affordable long lasting light laptop and my search led me to this. I know Apple has launch a new Air but this is still a good performer and with the recent price cut this laptop makes so much sense. I was using MacBook Pro for last 8 years, and after it retired this replaced the Pro and is not doing a bad job at it at all.\\n', '            \"\\n', '\"This is the worst  apple product I have ever seen ...6 month After purchase of this fake book ...some of its keys of keyboard  stopped working ...So the service center  replace my keyboard with the new one ...But after some months with  the new replaced  keyboard some of its key again stopped working .All these things happen in one year and 3 month timeline which is roughly 1.5 years of original purchase date ... ...When I spoke to the service center they told me that the warranty is over you need to pay 12000 rs ...So I don\\'t have any option. The cost is too high. ..So now I m working with the external keyboard which cost me merely 200 rs ... My friend bought the same macbook from the showroom and i must say its really working good and it doesnt show any fault at all .Till now .i wish i also bought this macbook from the showroom ....\\n', '            \"\\n', '\"Amazing product..it has quality written all over it..great battery, easy to adapt if you are moving from windows..the trackpad, gestures, everything is so damm goodHad read many reviews about the display being bad...it is..if you are trying to look at atomic level details..its a fantastic screen with great audio output..Everything g screams quality and premium about the macbook..love it.\\n', '            \"\\n', '\"From the very beginning the battery life was horrible . hardly 2 hours. And after using it for just a year it just stopped working . and i cannot even charge it. Terrible product sold by Amazon\\n', '            \"\\n', '\"The rating isn\\'t for Apple\\'s performance. I exchanged my old MacBook Air 11\\' (2013) for MacBook Air 13.3\\' (2017): and I haven\\'t been disappointed. They both are fantastic machines, there isn\\'t a bit of change except the screen - it is slightly bigger and better...The rating for the seller - I would give 5 star for delivery and 4 star for packaging. However, the product came with multiple scratches. I am unable to conclude whose fault it is- Apple or the reseller (in this case - Cloudtail India Pvt Ltd).I have restored my previous backup and will observe the performance over the week. If it under performs- I will report it to the authorities. If it performs well, the scratches may have been anyone\\'s fault but can be ignored...I shall update this review in a week\\'s time...\\n', '            \"\\n', '\"I preferred this over other good spec windows laptop, just for reason mac. 128 gb ssd was only concern as it may not be sufficient however adding external hd or flash drive will do the job for u. Overall even the screen is not full hd i did not find it much of the issue, however If u r concern about good display must for consider this as option. Additionaly over 13000 discount in last sale made this perfect deal.\\n', '            \"\\n', '\"When i received, within 15 days i realised the hinges were loose. Then after less than 2 months very rare use i got a line on the display. The replacement window was only 10 days. Now i have given it for service and even apple doesn\\'t have a replacement policy. So i have to use a repaired device inspite of buying new. Very disappointing.\\n', '            \"\\n', '\"Be careful while buying electronic products through Amazon.I bought this macbook for 56k on March 2018. After 1.5 years of usage, the display stopped working for no reason. The device never had any accidental drop or shock while I was using it through these years. The service center guy told me it would cost around 41k for screen replacement. Now I\\'m left with no option.If you are buying, I suggest you to buy it along with a protection plan or any extended warranty.\\n', '            \"\\n', '\"MERITS..IT IS BEST IN ITS PERFORMANCE..SOUND QUALITY IS AMAZING..NICE PICTURE QUALITY...GREAT STABILIZATION..BEST UI(USER INTERFACE)..BEST LAPTOP FOR NORMAL HUMANSðŸ¤£ >50KDEMERITSCANNOT BE USED FOR GAMINGbut If You areNot a Productive person Then only You Play games..And...THERE\\'s nothing much bad about\\n', '            \"\\n', '\"3 years and still running! great product\\n', '            \"\\n', '\"The elegant work of apple can be seen in this product. The design, the user friendliness, the compactness can be easily seen in this laptop. Coming to the performance, the speed of this is remarkable, and you can get to know the power of Mac os when you have another apple product. You can get one of the best movie experiences on this . Overall I would it a 4.5/5.\\n', '            \"\\n', '\"I got a great deal on this laptop, which I have been using for almost a year now. I got it not only on discount but also was able to exchange my old laptop with this! Laptop works really well, it was a good purchase!\\n', '            \"\\n']\n"
     ]
    }
   ],
   "source": [
    "with open(r'C:\\Users\\excel\\DATA Science\\Datasets\\apple.txt',errors='ignore',mode = 'r') as file:\n",
    "    contents = file.readlines()\n",
    "    print(contents)"
   ]
  },
  {
   "cell_type": "code",
   "execution_count": null,
   "id": "a67d7bd9",
   "metadata": {},
   "outputs": [],
   "source": [
    "Character Meaning\n",
    "--------- ---------------------------------------------------------------\n",
    "'r'       open for reading (default)\n",
    "'w'       open for writing, truncating the file first\n",
    "'x'       create a new file and open it for writing\n",
    "'a'       open for writing, appending to the end of the file if it exists\n",
    "'b'       binary mode\n",
    "'t'       text mode (default)\n",
    "'+'       open a disk file for updating (reading and writing)"
   ]
  },
  {
   "cell_type": "code",
   "execution_count": 11,
   "id": "002e2084",
   "metadata": {},
   "outputs": [
    {
     "name": "stdout",
     "output_type": "stream",
     "text": [
      "Help on function open in module io:\n",
      "\n",
      "open(file, mode='r', buffering=-1, encoding=None, errors=None, newline=None, closefd=True, opener=None)\n",
      "    Open file and return a stream.  Raise OSError upon failure.\n",
      "    \n",
      "    file is either a text or byte string giving the name (and the path\n",
      "    if the file isn't in the current working directory) of the file to\n",
      "    be opened or an integer file descriptor of the file to be\n",
      "    wrapped. (If a file descriptor is given, it is closed when the\n",
      "    returned I/O object is closed, unless closefd is set to False.)\n",
      "    \n",
      "    mode is an optional string that specifies the mode in which the file\n",
      "    is opened. It defaults to 'r' which means open for reading in text\n",
      "    mode.  Other common values are 'w' for writing (truncating the file if\n",
      "    it already exists), 'x' for creating and writing to a new file, and\n",
      "    'a' for appending (which on some Unix systems, means that all writes\n",
      "    append to the end of the file regardless of the current seek position).\n",
      "    In text mode, if encoding is not specified the encoding used is platform\n",
      "    dependent: locale.getencoding() is called to get the current locale encoding.\n",
      "    (For reading and writing raw bytes use binary mode and leave encoding\n",
      "    unspecified.) The available modes are:\n",
      "    \n",
      "    ========= ===============================================================\n",
      "    Character Meaning\n",
      "    --------- ---------------------------------------------------------------\n",
      "    'r'       open for reading (default)\n",
      "    'w'       open for writing, truncating the file first\n",
      "    'x'       create a new file and open it for writing\n",
      "    'a'       open for writing, appending to the end of the file if it exists\n",
      "    'b'       binary mode\n",
      "    't'       text mode (default)\n",
      "    '+'       open a disk file for updating (reading and writing)\n",
      "    ========= ===============================================================\n",
      "    \n",
      "    The default mode is 'rt' (open for reading text). For binary random\n",
      "    access, the mode 'w+b' opens and truncates the file to 0 bytes, while\n",
      "    'r+b' opens the file without truncation. The 'x' mode implies 'w' and\n",
      "    raises an `FileExistsError` if the file already exists.\n",
      "    \n",
      "    Python distinguishes between files opened in binary and text modes,\n",
      "    even when the underlying operating system doesn't. Files opened in\n",
      "    binary mode (appending 'b' to the mode argument) return contents as\n",
      "    bytes objects without any decoding. In text mode (the default, or when\n",
      "    't' is appended to the mode argument), the contents of the file are\n",
      "    returned as strings, the bytes having been first decoded using a\n",
      "    platform-dependent encoding or using the specified encoding if given.\n",
      "    \n",
      "    buffering is an optional integer used to set the buffering policy.\n",
      "    Pass 0 to switch buffering off (only allowed in binary mode), 1 to select\n",
      "    line buffering (only usable in text mode), and an integer > 1 to indicate\n",
      "    the size of a fixed-size chunk buffer.  When no buffering argument is\n",
      "    given, the default buffering policy works as follows:\n",
      "    \n",
      "    * Binary files are buffered in fixed-size chunks; the size of the buffer\n",
      "      is chosen using a heuristic trying to determine the underlying device's\n",
      "      \"block size\" and falling back on `io.DEFAULT_BUFFER_SIZE`.\n",
      "      On many systems, the buffer will typically be 4096 or 8192 bytes long.\n",
      "    \n",
      "    * \"Interactive\" text files (files for which isatty() returns True)\n",
      "      use line buffering.  Other text files use the policy described above\n",
      "      for binary files.\n",
      "    \n",
      "    encoding is the name of the encoding used to decode or encode the\n",
      "    file. This should only be used in text mode. The default encoding is\n",
      "    platform dependent, but any encoding supported by Python can be\n",
      "    passed.  See the codecs module for the list of supported encodings.\n",
      "    \n",
      "    errors is an optional string that specifies how encoding errors are to\n",
      "    be handled---this argument should not be used in binary mode. Pass\n",
      "    'strict' to raise a ValueError exception if there is an encoding error\n",
      "    (the default of None has the same effect), or pass 'ignore' to ignore\n",
      "    errors. (Note that ignoring encoding errors can lead to data loss.)\n",
      "    See the documentation for codecs.register or run 'help(codecs.Codec)'\n",
      "    for a list of the permitted encoding error strings.\n",
      "    \n",
      "    newline controls how universal newlines works (it only applies to text\n",
      "    mode). It can be None, '', '\\n', '\\r', and '\\r\\n'.  It works as\n",
      "    follows:\n",
      "    \n",
      "    * On input, if newline is None, universal newlines mode is\n",
      "      enabled. Lines in the input can end in '\\n', '\\r', or '\\r\\n', and\n",
      "      these are translated into '\\n' before being returned to the\n",
      "      caller. If it is '', universal newline mode is enabled, but line\n",
      "      endings are returned to the caller untranslated. If it has any of\n",
      "      the other legal values, input lines are only terminated by the given\n",
      "      string, and the line ending is returned to the caller untranslated.\n",
      "    \n",
      "    * On output, if newline is None, any '\\n' characters written are\n",
      "      translated to the system default line separator, os.linesep. If\n",
      "      newline is '' or '\\n', no translation takes place. If newline is any\n",
      "      of the other legal values, any '\\n' characters written are translated\n",
      "      to the given string.\n",
      "    \n",
      "    If closefd is False, the underlying file descriptor will be kept open\n",
      "    when the file is closed. This does not work when a file name is given\n",
      "    and must be True in that case.\n",
      "    \n",
      "    A custom opener can be used by passing a callable as *opener*. The\n",
      "    underlying file descriptor for the file object is then obtained by\n",
      "    calling *opener* with (*file*, *flags*). *opener* must return an open\n",
      "    file descriptor (passing os.open as *opener* results in functionality\n",
      "    similar to passing None).\n",
      "    \n",
      "    open() returns a file object whose type depends on the mode, and\n",
      "    through which the standard file operations such as reading and writing\n",
      "    are performed. When open() is used to open a file in a text mode ('w',\n",
      "    'r', 'wt', 'rt', etc.), it returns a TextIOWrapper. When used to open\n",
      "    a file in a binary mode, the returned class varies: in read binary\n",
      "    mode, it returns a BufferedReader; in write binary and append binary\n",
      "    modes, it returns a BufferedWriter, and in read/write mode, it returns\n",
      "    a BufferedRandom.\n",
      "    \n",
      "    It is also possible to use a string or bytearray as a file for both\n",
      "    reading and writing. For strings StringIO can be used like a file\n",
      "    opened in a text mode, and for bytes a BytesIO can be used like a file\n",
      "    opened in a binary mode.\n",
      "\n"
     ]
    }
   ],
   "source": [
    "help(open)"
   ]
  },
  {
   "cell_type": "code",
   "execution_count": null,
   "id": "9b00cc3c",
   "metadata": {},
   "outputs": [],
   "source": []
  },
  {
   "cell_type": "code",
   "execution_count": null,
   "id": "57f29114",
   "metadata": {},
   "outputs": [],
   "source": []
  },
  {
   "cell_type": "code",
   "execution_count": null,
   "id": "5e8a9127",
   "metadata": {},
   "outputs": [],
   "source": [
    "with open(r\"C:\\Users\\excel\\DATA Science\\NEW_FOLDER_DS\\python_intro.txt\") as f:\n",
    "    while True:\n",
    "        line = f.readline()\n",
    "        if 'Python' not in line:\n",
    "            print(f'The python is present on {line} line')\n",
    "            continue\n",
    "        else:\n",
    "            break\n",
    "#         print(line.strip())"
   ]
  },
  {
   "cell_type": "code",
   "execution_count": null,
   "id": "f737dee8",
   "metadata": {},
   "outputs": [],
   "source": [
    "with open(r\"C:\\Users\\excel\\DATA Science\\NEW_FOLDER_DS\\python_intro.txt\") as f:\n",
    "    for line in f.readlines():\n",
    "        line = line.strip()\n",
    "        line = line.replace('Python','JAVA')\n",
    "        print(line)"
   ]
  },
  {
   "cell_type": "code",
   "execution_count": null,
   "id": "a18dcd92",
   "metadata": {},
   "outputs": [],
   "source": [
    "'r'       open for reading (default)\n",
    "'w'       open for writing, truncating the file first\n",
    "'x'       create a new file and open it for writing\n",
    "'a'       open for writing, appending to the end of the file if it exists\n",
    "'b'       binary mode\n",
    "'t'       text mode (default)\n",
    "'+'       open a disk file for updating (reading and writing)"
   ]
  },
  {
   "cell_type": "markdown",
   "id": "f9102024",
   "metadata": {},
   "source": [
    "# Python Write Text File"
   ]
  },
  {
   "cell_type": "code",
   "execution_count": null,
   "id": "5c7719eb",
   "metadata": {},
   "outputs": [],
   "source": [
    "f = open(file, mode)\n",
    "f.write('\\n')\n",
    "f.writelines('\\n')"
   ]
  },
  {
   "cell_type": "code",
   "execution_count": null,
   "id": "8da1de25",
   "metadata": {},
   "outputs": [],
   "source": [
    "import os\n",
    "os.getcwd()"
   ]
  },
  {
   "cell_type": "code",
   "execution_count": null,
   "id": "5921a962",
   "metadata": {},
   "outputs": [],
   "source": [
    "lines = 'Readme, How to write text files in Python, will be writing the file in the new file, on same location'\n",
    "with open('newfile.txt', mode = 'w') as f:\n",
    "    f.write(lines)  "
   ]
  },
  {
   "cell_type": "code",
   "execution_count": null,
   "id": "7ef6857e",
   "metadata": {},
   "outputs": [],
   "source": [
    "os.listdir()"
   ]
  },
  {
   "cell_type": "code",
   "execution_count": null,
   "id": "0a422fde",
   "metadata": {},
   "outputs": [],
   "source": [
    "data = ['Readme', 'How to write text files in Python', 'will be writing the file in the new file', 'on same location']\n",
    "with open('newfile.txt', 'w') as f:\n",
    "    f.writelines(data)"
   ]
  },
  {
   "cell_type": "code",
   "execution_count": null,
   "id": "bf640bc7",
   "metadata": {},
   "outputs": [],
   "source": [
    "data = ['Readme', 'How to write text files in Python', 'will be writing the file in the new file', 'on same location']\n",
    "with open('newfile1.txt', 'w') as f:\n",
    "    for i in data:\n",
    "        f.write(i)\n",
    "        f.write('\\n')"
   ]
  },
  {
   "cell_type": "code",
   "execution_count": null,
   "id": "dd79752f",
   "metadata": {},
   "outputs": [],
   "source": [
    "data = ['User ID', 'Gender', 'Age', 'EstimatedSalary', 'Purchased']\n",
    "with open('users_data.csv', 'w') as file:\n",
    "    for i in data:\n",
    "        file.write(i)\n",
    "        file.write(',')"
   ]
  },
  {
   "cell_type": "markdown",
   "id": "506380f6",
   "metadata": {},
   "source": [
    "# appending a text file"
   ]
  },
  {
   "cell_type": "code",
   "execution_count": null,
   "id": "269b7033",
   "metadata": {},
   "outputs": [],
   "source": [
    "data = ['01', 'male', '25', '50000', 'yes']\n",
    "#         ['01', 'Female', '26', '50000', 'yes'],\n",
    "#         ['01', 'male', '25', '50000', 'yes']]\n",
    "\n",
    "with open('users_data.csv', 'a') as file:\n",
    "    file.write('\\n')\n",
    "    for i in data:\n",
    "        file.write(i)\n",
    "        file.write(',')"
   ]
  },
  {
   "cell_type": "markdown",
   "id": "6c88cc97",
   "metadata": {},
   "source": [
    "# Task:  write output of grades in a file using previouse code."
   ]
  },
  {
   "cell_type": "markdown",
   "id": "355fb300",
   "metadata": {},
   "source": [
    "# Create dictionary data of students details and store in students_info.csv file, load using dictreader method. calculate the average marks and grades for data, results stored in result.txt text file.\n",
    " students_data.py have to share the python scripting file."
   ]
  },
  {
   "cell_type": "code",
   "execution_count": null,
   "id": "d7720de1",
   "metadata": {},
   "outputs": [],
   "source": [
    "import csv\n",
    "# csv header\n",
    "fieldnames = ['name', 'area', 'country_code2', 'country_code3']\n",
    "# csv data\n",
    "rows = [\n",
    "    {'name': 'Albania',\n",
    "    'area': 28748,\n",
    "    'country_code2': 'AL',\n",
    "    'country_code3': 'ALB'},\n",
    "    {'name': 'Algeria',\n",
    "    'area': 2381741,\n",
    "    'country_code2': 'DZ',\n",
    "    'country_code3': 'DZA'},\n",
    "    {'name': 'American Samoa',\n",
    "    'area': 199,\n",
    "    'country_code2': 'AS',\n",
    "    'country_code3': 'ASM'} ]\n",
    "\n",
    "with open('countries.csv', 'w', encoding='UTF8', newline='') as f:\n",
    "    writer = csv.DictWriter(f, fieldnames=fieldnames)\n",
    "    writer.writeheader()\n",
    "    writer.writerows(rows)"
   ]
  },
  {
   "cell_type": "code",
   "execution_count": null,
   "id": "76e51aaf",
   "metadata": {},
   "outputs": [],
   "source": [
    "# reading a csv file\n",
    "with open('countries.csv') as f:\n",
    "    writer = csv.reader(f)\n",
    "    for i in writer:\n",
    "        print(i[2])"
   ]
  },
  {
   "cell_type": "code",
   "execution_count": null,
   "id": "718feeb8",
   "metadata": {},
   "outputs": [],
   "source": []
  },
  {
   "cell_type": "code",
   "execution_count": null,
   "id": "b626fdb3",
   "metadata": {},
   "outputs": [],
   "source": []
  },
  {
   "cell_type": "code",
   "execution_count": null,
   "id": "f9a98ad3",
   "metadata": {},
   "outputs": [],
   "source": [
    "f = open('average_marks.txt','r')\n",
    "f.readlines()"
   ]
  },
  {
   "cell_type": "code",
   "execution_count": null,
   "id": "2fb9aae8",
   "metadata": {},
   "outputs": [],
   "source": [
    "os.listdir()"
   ]
  },
  {
   "cell_type": "code",
   "execution_count": null,
   "id": "65a39b94",
   "metadata": {},
   "outputs": [],
   "source": [
    "lines = ['Readme', 'How to write text files in Python programming']\n",
    "with open('readme.txt', 'wa+') as f:\n",
    "    f.write('\\n'.join(lines))"
   ]
  },
  {
   "cell_type": "code",
   "execution_count": null,
   "id": "59b04434",
   "metadata": {},
   "outputs": [],
   "source": [
    "f = open('readme.txt','r')\n",
    "f.readlines()"
   ]
  },
  {
   "cell_type": "code",
   "execution_count": null,
   "id": "4b1b99e8",
   "metadata": {},
   "outputs": [],
   "source": [
    "more_lines = ['', 'Append text files', 'The End']\n",
    "\n",
    "with open('readme.txt', 'a') as f:\n",
    "    f.write('\\n'.join(more_lines))"
   ]
  },
  {
   "cell_type": "code",
   "execution_count": null,
   "id": "4ac2b9be",
   "metadata": {},
   "outputs": [],
   "source": [
    "Create Text File\n",
    "\n",
    "with open('readme.txt', 'w') as f:\n",
    "    f.write('Create a new text file!')"
   ]
  },
  {
   "cell_type": "code",
   "execution_count": null,
   "id": "e56f1be2",
   "metadata": {},
   "outputs": [],
   "source": [
    "os.listdir()"
   ]
  },
  {
   "cell_type": "markdown",
   "id": "4a5f53c6",
   "metadata": {},
   "source": [
    "# Read CSV File"
   ]
  },
  {
   "cell_type": "code",
   "execution_count": null,
   "id": "0a368cce",
   "metadata": {},
   "outputs": [],
   "source": [
    "# f = open('path/to/csv_file')\n",
    "import csv\n",
    "from statistics import mean\n",
    "f = open(r\"C:\\Users\\excel\\DATA Science\\Datasets\\User_Data.csv\", encoding='UTF8')\n",
    "csv_reader = csv.reader(f)\n",
    "salary = []\n",
    "for line in csv_reader:\n",
    "    salary.append(line[3])\n",
    "int_salary = []\n",
    "for i in salary[1:]:\n",
    "    int_salary.append(int(i))\n",
    "# print(int_salary)\n",
    "print(f'The average salary of users is {round(sum(int_salary)/len(int_salary))}')\n",
    "f.close()"
   ]
  },
  {
   "cell_type": "code",
   "execution_count": null,
   "id": "58f5e9cf",
   "metadata": {},
   "outputs": [],
   "source": [
    "with open(r\"C:\\Users\\excel\\DATA Science\\Datasets\\User_Data.csv\", encoding='UTF8') as f:\n",
    "    file = csv.reader(f)\n",
    "    salary = []\n",
    "    for i in file:\n",
    "        i = i[3]\n",
    "        salary.append(i)\n",
    "    intg_salary = []\n",
    "    for j in salary[1:]:\n",
    "        intg_salary.append(int(j))\n",
    "    print(intg_salary)\n",
    "    print(f'The average salary of users is {round(sum(intg_salary)/len(intg_salary))}')   "
   ]
  },
  {
   "cell_type": "code",
   "execution_count": null,
   "id": "2cfba2c6",
   "metadata": {},
   "outputs": [],
   "source": [
    "sum(int_salary)/len(int_salary)"
   ]
  },
  {
   "cell_type": "markdown",
   "id": "0285b1fc",
   "metadata": {},
   "source": [
    "# Avg male and female salary."
   ]
  },
  {
   "cell_type": "code",
   "execution_count": null,
   "id": "471a5bd5",
   "metadata": {},
   "outputs": [],
   "source": [
    "import statistics\n",
    "f = open(r\"C:\\Users\\excel\\DATA Science\\Datasets\\User_Data.csv\", encoding='UTF8')\n",
    "csv_reader = csv.reader(f)\n",
    "\n",
    "male_salary = []\n",
    "female_salary = []\n",
    "\n",
    "for gender in csv_reader:\n",
    "    if gender[1] == 'Male':\n",
    "        male_salary.append(int(gender[3]))\n",
    "print('------------------------------------')\n",
    "    elif gender[1] == 'Female':\n",
    "         female_salary.append(int(gender[3]))\n",
    "\n",
    "print(f'Average Male salary is {round(statistics.mean(male_salary),2)}')\n",
    "print(f'Average Female slary is {round(statistics.mean(female_salary),2)}')"
   ]
  },
  {
   "cell_type": "code",
   "execution_count": null,
   "id": "be517d1c",
   "metadata": {},
   "outputs": [],
   "source": [
    "\n",
    "sale_price = []\n",
    "for line in csv_reader:\n",
    "    sale_price.append(line[4])\n",
    "# print(sale_price)\n",
    "price = sale_price[1:]\n",
    "values = []\n",
    "for i in price:\n",
    "    price = int(i)\n",
    "    values.append(price)\n",
    "print(round(statistics.mean(values),2))\n",
    "\n",
    "    \n",
    "# print(price)\n",
    "\n",
    "f.close() "
   ]
  },
  {
   "cell_type": "code",
   "execution_count": null,
   "id": "16f97ebc",
   "metadata": {},
   "outputs": [],
   "source": []
  },
  {
   "cell_type": "code",
   "execution_count": null,
   "id": "2e64f975",
   "metadata": {},
   "outputs": [],
   "source": [
    "import csv\n",
    "with open(r\"C:\\Users\\excel\\DATA Science\\Datasets\\User_Data.csv\") as f:\n",
    "    csv_reader = csv.reader(f)\n",
    "    for line in csv_reader:\n",
    "        print(line)\n"
   ]
  },
  {
   "cell_type": "markdown",
   "id": "d22d9da9",
   "metadata": {},
   "source": [
    "# writing csv file"
   ]
  },
  {
   "cell_type": "code",
   "execution_count": 1,
   "id": "89d5e194",
   "metadata": {},
   "outputs": [],
   "source": [
    "import csv\n",
    "fieldnames = ['User ID', 'Gender', 'Age', 'EstimatedSalary', 'Purchased']\n",
    "\n",
    "row = [['15624510', 'Male', '19', '19000', '0'],\n",
    "      ['15810944', 'Male', '35', '20000', '0'],\n",
    "        ['15668575', 'Female', '26', '43000', '0'],\n",
    "        ['15603246', 'Female', '27', '57000', '0'],\n",
    "        ['15804002', 'Male', '19', '76000', '0'],\n",
    "        ['15728773', 'Male', '27', '58000', '0'],\n",
    "        ['15598044', 'Female', '27', '84000', '0']]\n",
    "\n",
    "with open('USERDATA.csv', mode = 'w',newline='') as f:\n",
    "    csv_writer = csv.writer(f)\n",
    "    # write the header\n",
    "    csv_writer.writerow(fieldnames)\n",
    "    # write all the data\n",
    "    csv_writer.writerows(row)\n",
    "   \n"
   ]
  },
  {
   "cell_type": "code",
   "execution_count": null,
   "id": "ea3ce557",
   "metadata": {},
   "outputs": [],
   "source": [
    "import os\n",
    "os.getcwd()"
   ]
  },
  {
   "cell_type": "code",
   "execution_count": null,
   "id": "b9c89fde",
   "metadata": {},
   "outputs": [],
   "source": []
  },
  {
   "cell_type": "code",
   "execution_count": null,
   "id": "041bb6a4",
   "metadata": {},
   "outputs": [],
   "source": [
    "import csv\n",
    "\n",
    "header = ['name', 'area', 'country_code2', 'country_code3']\n",
    "data = ['Afghanistan', 652090, 'AF', 'AFG']\n",
    "\n",
    "\n",
    "with open('countries.csv', 'w', encoding='UTF8', newline='') as f:\n",
    "    writer = csv.writer(f)\n",
    "\n",
    "    # write the header\n",
    "    writer.writerow(header)\n",
    "\n",
    "    # write the data\n",
    "    writer.writerow(data)"
   ]
  },
  {
   "cell_type": "code",
   "execution_count": null,
   "id": "94aaf25d",
   "metadata": {},
   "outputs": [],
   "source": [
    "os.listdir()"
   ]
  },
  {
   "cell_type": "code",
   "execution_count": null,
   "id": "2bee1d2e",
   "metadata": {},
   "outputs": [],
   "source": [
    "import csv\n",
    "\n",
    "header = ['name', 'area', 'country_code2', 'country_code3']\n",
    "data = [\n",
    "    ['Albania', 28748, 'AL', 'ALB'],\n",
    "    ['Algeria', 2381741, 'DZ', 'DZA'],\n",
    "    ['American Samoa', 199, 'AS', 'ASM'],\n",
    "    ['Andorra', 468, 'AD', 'AND'],\n",
    "    ['Angola', 1246700, 'AO', 'AGO']\n",
    "]\n",
    "\n",
    "with open('countries1.csv', 'w', encoding='UTF8', newline='') as f:\n",
    "    writer = csv.writer(f)\n",
    "\n",
    "    # write the header\n",
    "    writer.writerow(header)\n",
    "\n",
    "    # write multiple rows\n",
    "    writer.writerows(data)\n"
   ]
  },
  {
   "cell_type": "code",
   "execution_count": null,
   "id": "feb271fd",
   "metadata": {},
   "outputs": [],
   "source": [
    "os.listdir()"
   ]
  },
  {
   "cell_type": "markdown",
   "id": "56aa1e5d",
   "metadata": {},
   "source": [
    "# using dictwriter"
   ]
  },
  {
   "cell_type": "code",
   "execution_count": null,
   "id": "dbe1b0ef",
   "metadata": {},
   "outputs": [],
   "source": [
    "{key:value}"
   ]
  },
  {
   "cell_type": "code",
   "execution_count": null,
   "id": "264b7d1b",
   "metadata": {},
   "outputs": [],
   "source": [
    "import csv\n",
    "file = csv."
   ]
  },
  {
   "cell_type": "code",
   "execution_count": null,
   "id": "96df0d7c",
   "metadata": {},
   "outputs": [],
   "source": [
    "os.listdir()"
   ]
  },
  {
   "cell_type": "code",
   "execution_count": null,
   "id": "fb362286",
   "metadata": {},
   "outputs": [],
   "source": [
    "columns = ['name','age','subjects','Marks']\n",
    "student_marks = [\n",
    "    {'name':'sam',\n",
    "    'age':25,\n",
    "    'subjects':['Maths','science','CS','Statistics','Phyisics','Bio'],\n",
    "    'Marks':[60,70,80,90,70,60]},\n",
    "    \n",
    "    {'name':'jack',\n",
    "    'age':26,\n",
    "    'subjects':['Maths','science','CS','Statistics','Phyisics','Bio'],\n",
    "    'Marks':[60,70,80,80,70,60]},\n",
    "                 \n",
    "    {'name':'syeda',\n",
    "    'age':27,\n",
    "    'subjects':['Maths','science','CS','Statistics','Phyisics','Bio'],\n",
    "    'Marks':[60,50,80,70,70,60]}\n",
    "                ]\n",
    "with open('Marks.csv', 'w', encoding='UTF8', newline='') as f:\n",
    "    writer = csv.DictWriter(f, fieldnames=columns)\n",
    "    writer.writeheader()\n",
    "    writer.writerows(student_marks)\n",
    "\n",
    "with open('results.csv','w') as f:\n",
    "    column = ['Students_name','Students_age','Average_marks','Grade']\n",
    "    writer = csv.DictWriter(f, fieldnames=column)\n",
    "    writer.writeheader()\n",
    "    for i in student_marks:\n",
    "        avg = sum(i['Marks'])/len(i['Marks'])\n",
    "        if avg >= 90:\n",
    "            Grade = \"A Grade\"\n",
    "        elif avg <90 and avg >= 70:\n",
    "            Grade = \"B Grade\"\n",
    "        elif avg < 70 and avg >= 50:\n",
    "            Grade = \"C Grade\"\n",
    "        elif avg <50 and avg >=30:\n",
    "            Grade = \"D Grade\"\n",
    "        else:\n",
    "            Grade = \"Fail\"\n",
    "        data = [{'Students_name':i['name'],\n",
    "                 'Students_age':i['age'],\n",
    "                 'Average_marks':avg,\n",
    "                 'Grade':Grade}]\n",
    "        writer.writerows(data)"
   ]
  },
  {
   "cell_type": "code",
   "execution_count": null,
   "id": "fd37b1d9",
   "metadata": {},
   "outputs": [],
   "source": [
    "with open('results.csv','w') as f:\n",
    "    column = ['Students_name','Students_age','Average_marks','Grade']\n",
    "    writer = csv.DictWriter(f, fieldnames=column)\n",
    "    writer.writeheader()\n",
    "    for i in student_marks:\n",
    "        avg = sum(i['Marks'])/len(i['Marks'])\n",
    "        if avg >= 90:\n",
    "            Grade = \"A Grade\"\n",
    "        elif avg <90 and avg >= 70:\n",
    "            Grade = \"B Grade\"\n",
    "        elif avg < 70 and avg >= 50:\n",
    "            Grade = \"C Grade\"\n",
    "        elif avg <50 and avg >=30:\n",
    "            Grade = \"D Grade\"\n",
    "        else:\n",
    "            Grade = \"Fail\"\n",
    "        data = [{'Students_name':i['name'],\n",
    "                 'Students_age':i['age'],\n",
    "                 'Average_marks':avg,\n",
    "                 'Grade':Grade}]\n",
    "        writer.writerows(data)          "
   ]
  },
  {
   "cell_type": "code",
   "execution_count": null,
   "id": "b6a9202c",
   "metadata": {},
   "outputs": [],
   "source": []
  },
  {
   "cell_type": "code",
   "execution_count": null,
   "id": "7a1bfb9d",
   "metadata": {},
   "outputs": [],
   "source": [
    "f = open('countries.csv')\n",
    "f.read()"
   ]
  },
  {
   "cell_type": "code",
   "execution_count": null,
   "id": "46c0281a",
   "metadata": {},
   "outputs": [],
   "source": [
    "indexError, nameerror, syntax error,"
   ]
  },
  {
   "cell_type": "markdown",
   "id": "82cdd0bd",
   "metadata": {},
   "source": [
    "# Exception handling."
   ]
  },
  {
   "cell_type": "code",
   "execution_count": null,
   "id": "25af0c9a",
   "metadata": {},
   "outputs": [],
   "source": [
    "syntax error / complex Error: can not handled\n",
    "run time error: handling"
   ]
  },
  {
   "cell_type": "code",
   "execution_count": null,
   "id": "3649e47d",
   "metadata": {},
   "outputs": [],
   "source": [
    "'10'"
   ]
  },
  {
   "cell_type": "code",
   "execution_count": null,
   "id": "e9ec8fdb",
   "metadata": {},
   "outputs": [],
   "source": [
    "Try...except\n",
    "try...... except...... finally\n",
    "try......... except.......else"
   ]
  },
  {
   "cell_type": "code",
   "execution_count": null,
   "id": "e3d10917",
   "metadata": {},
   "outputs": [],
   "source": [
    "Two types of error\n",
    "1) Syntax error\n",
    "When you write an invalid Python code, you’ll get a syntax error.\n",
    "\n",
    "2) Exceptional error\n",
    "Even though when your code has valid syntax, it may cause an error during execution.\n",
    "\n",
    "eg: TypeError, NameError,valueError\n",
    "    \n",
    "Reading a file that doesn’t exist.\n",
    "Connecting to a remote server that is offline.\n",
    "Bad user inputs."
   ]
  },
  {
   "cell_type": "code",
   "execution_count": 13,
   "id": "c6cc82f6",
   "metadata": {},
   "outputs": [
    {
     "ename": "ZeroDivisionError",
     "evalue": "division by zero",
     "output_type": "error",
     "traceback": [
      "\u001b[1;31m---------------------------------------------------------------------------\u001b[0m",
      "\u001b[1;31mZeroDivisionError\u001b[0m                         Traceback (most recent call last)",
      "Cell \u001b[1;32mIn[13], line 4\u001b[0m\n\u001b[0;32m      2\u001b[0m a\u001b[38;5;241m=\u001b[39m \u001b[38;5;241m10\u001b[39m\n\u001b[0;32m      3\u001b[0m b \u001b[38;5;241m=\u001b[39m \u001b[38;5;241m0\u001b[39m\n\u001b[1;32m----> 4\u001b[0m \u001b[38;5;28mprint\u001b[39m(a\u001b[38;5;241m/\u001b[39mb)\n\u001b[0;32m      5\u001b[0m \u001b[38;5;28mprint\u001b[39m(a\u001b[38;5;241m+\u001b[39mb)\n",
      "\u001b[1;31mZeroDivisionError\u001b[0m: division by zero"
     ]
    }
   ],
   "source": [
    "# handling for zero devision error.\n",
    "a= 10\n",
    "b = 0\n",
    "print(a/b)\n",
    "print(a+b)"
   ]
  },
  {
   "cell_type": "code",
   "execution_count": 14,
   "id": "f614df16",
   "metadata": {
    "collapsed": true,
    "jupyter": {
     "outputs_hidden": true
    }
   },
   "outputs": [
    {
     "name": "stdout",
     "output_type": "stream",
     "text": [
      "The error\n",
      "10\n"
     ]
    }
   ],
   "source": [
    "try:\n",
    "    print(a/b)\n",
    "except:\n",
    "    print('The error')\n",
    "print(a+b)"
   ]
  },
  {
   "cell_type": "code",
   "execution_count": 15,
   "id": "c1b39ff0",
   "metadata": {
    "collapsed": true,
    "jupyter": {
     "outputs_hidden": true
    }
   },
   "outputs": [
    {
     "name": "stdout",
     "output_type": "stream",
     "text": [
      "division by zero\n",
      "10\n"
     ]
    }
   ],
   "source": [
    "try:\n",
    "    print(a/b)\n",
    "except ZeroDivisionError as Z:\n",
    "    print(Z)\n",
    "print(a+b)"
   ]
  },
  {
   "cell_type": "code",
   "execution_count": null,
   "id": "2983856e",
   "metadata": {},
   "outputs": [],
   "source": [
    "# user input error"
   ]
  },
  {
   "cell_type": "code",
   "execution_count": 17,
   "id": "97be506d",
   "metadata": {
    "collapsed": true,
    "jupyter": {
     "outputs_hidden": true
    }
   },
   "outputs": [
    {
     "name": "stdout",
     "output_type": "stream",
     "text": [
      "Enter the age: \n"
     ]
    },
    {
     "ename": "ValueError",
     "evalue": "invalid literal for int() with base 10: ''",
     "output_type": "error",
     "traceback": [
      "\u001b[1;31m---------------------------------------------------------------------------\u001b[0m",
      "\u001b[1;31mValueError\u001b[0m                                Traceback (most recent call last)",
      "Cell \u001b[1;32mIn[17], line 1\u001b[0m\n\u001b[1;32m----> 1\u001b[0m age \u001b[38;5;241m=\u001b[39m \u001b[38;5;28mint\u001b[39m(\u001b[38;5;28minput\u001b[39m(\u001b[38;5;124m'\u001b[39m\u001b[38;5;124mEnter the age: \u001b[39m\u001b[38;5;124m'\u001b[39m))\n",
      "\u001b[1;31mValueError\u001b[0m: invalid literal for int() with base 10: ''"
     ]
    }
   ],
   "source": [
    "age = int(input('Enter the age: '))\n"
   ]
  },
  {
   "cell_type": "code",
   "execution_count": 25,
   "id": "51736792",
   "metadata": {
    "collapsed": true,
    "jupyter": {
     "outputs_hidden": true
    }
   },
   "outputs": [
    {
     "name": "stdout",
     "output_type": "stream",
     "text": [
      "Enter the age: 45\n"
     ]
    }
   ],
   "source": [
    "try:\n",
    "    age = int(input('Enter the age: '))\n",
    "except ValueError as v:\n",
    "    print(v)\n",
    "    print('Please enter integer only')"
   ]
  },
  {
   "cell_type": "code",
   "execution_count": 26,
   "id": "9b8db921",
   "metadata": {
    "collapsed": true,
    "jupyter": {
     "outputs_hidden": true
    }
   },
   "outputs": [
    {
     "name": "stdout",
     "output_type": "stream",
     "text": [
      "Enter the age: hh\n",
      "invalid literal for int() with base 10: 'hh'\n",
      "Please enter integer only\n"
     ]
    }
   ],
   "source": [
    "try:\n",
    "    age = int(input('Enter the age: '))\n",
    "except Exception as e:\n",
    "    print(e)\n",
    "    print('Please enter integer only')"
   ]
  },
  {
   "cell_type": "code",
   "execution_count": null,
   "id": "85c2e61f",
   "metadata": {},
   "outputs": [],
   "source": [
    "# file operation errors handling"
   ]
  },
  {
   "cell_type": "code",
   "execution_count": 27,
   "id": "a103b794",
   "metadata": {},
   "outputs": [],
   "source": [
    "import os # operating system module is used for working with system files and folders."
   ]
  },
  {
   "cell_type": "code",
   "execution_count": 28,
   "id": "6a0cd289",
   "metadata": {
    "collapsed": true,
    "jupyter": {
     "outputs_hidden": true
    }
   },
   "outputs": [
    {
     "data": {
      "text/plain": [
       "'C:\\\\Users\\\\excel\\\\DATA Science\\\\Python_programming\\\\Newfloder1'"
      ]
     },
     "execution_count": 28,
     "metadata": {},
     "output_type": "execute_result"
    }
   ],
   "source": [
    "os.getcwd() # to know the current working directory"
   ]
  },
  {
   "cell_type": "code",
   "execution_count": 29,
   "id": "eacc2b77",
   "metadata": {
    "collapsed": true,
    "jupyter": {
     "outputs_hidden": true
    }
   },
   "outputs": [
    {
     "data": {
      "text/plain": [
       "[]"
      ]
     },
     "execution_count": 29,
     "metadata": {},
     "output_type": "execute_result"
    }
   ],
   "source": [
    "os.listdir() # to get list of all directory"
   ]
  },
  {
   "cell_type": "code",
   "execution_count": 30,
   "id": "de3f2d1d",
   "metadata": {},
   "outputs": [],
   "source": [
    "os.chdir('C:\\\\Users\\\\excel\\\\DATA Science\\\\Python_programming') # to change the directory"
   ]
  },
  {
   "cell_type": "code",
   "execution_count": 31,
   "id": "28fc0241",
   "metadata": {
    "collapsed": true,
    "jupyter": {
     "outputs_hidden": true
    }
   },
   "outputs": [
    {
     "data": {
      "text/plain": [
       "'C:\\\\Users\\\\excel\\\\DATA Science\\\\Python_programming'"
      ]
     },
     "execution_count": 31,
     "metadata": {},
     "output_type": "execute_result"
    }
   ],
   "source": [
    "os.getcwd()"
   ]
  },
  {
   "cell_type": "code",
   "execution_count": 32,
   "id": "c7692bd7",
   "metadata": {
    "collapsed": true,
    "jupyter": {
     "outputs_hidden": true
    }
   },
   "outputs": [
    {
     "data": {
      "text/plain": [
       "['.ipynb_checkpoints',\n",
       " 'arrayfile.npz',\n",
       " 'countries.csv',\n",
       " 'country.csv',\n",
       " 'country1.csv',\n",
       " 'country3.csv',\n",
       " 'couuntry.csv',\n",
       " 'data.csv',\n",
       " 'data1.csv',\n",
       " 'data2.csv',\n",
       " 'Deep_learning',\n",
       " 'file.csv',\n",
       " 'file.npz',\n",
       " 'file.txt',\n",
       " 'file1.csv',\n",
       " 'file1.npy',\n",
       " 'file2.npz',\n",
       " 'Intermediate Numpy .ipynb',\n",
       " 'intermediate Python.ipynb',\n",
       " 'Introduction to python-Copy1.ipynb',\n",
       " 'Introduction_to_python.ipynb',\n",
       " 'losalry.npy',\n",
       " 'Marks.csv',\n",
       " 'Matplotlib and Seaborn.ipynb',\n",
       " 'newfile.txt',\n",
       " 'newfile1.txt',\n",
       " 'Newfloder1',\n",
       " 'Python Interview Questions.docx',\n",
       " 'Python matplotlib library.ipynb',\n",
       " 'Python Numpy  library.ipynb',\n",
       " 'Python Pandas library.ipynb',\n",
       " 'Python pandas numpy .ipynb',\n",
       " 'Python_interview_questions.ipynb',\n",
       " 'results.csv',\n",
       " 'Results1.csv',\n",
       " 'salary.txt',\n",
       " 'SummaryData.py',\n",
       " 'testfile',\n",
       " 'testfile5',\n",
       " 'USERDATA.csv',\n",
       " 'users_data.csv',\n",
       " 'users_data.txt',\n",
       " '__pycache__']"
      ]
     },
     "execution_count": 32,
     "metadata": {},
     "output_type": "execute_result"
    }
   ],
   "source": [
    "os.listdir()"
   ]
  },
  {
   "cell_type": "code",
   "execution_count": 34,
   "id": "503f040b",
   "metadata": {},
   "outputs": [
    {
     "name": "stdout",
     "output_type": "stream",
     "text": [
      "The file is not present on this location\n"
     ]
    }
   ],
   "source": [
    "try:\n",
    "    f = open('file3.txt')\n",
    "    f.read()\n",
    "except:\n",
    "    print('The file is not present on this location')"
   ]
  },
  {
   "cell_type": "code",
   "execution_count": 38,
   "id": "62c04931",
   "metadata": {},
   "outputs": [
    {
     "name": "stdout",
     "output_type": "stream",
     "text": [
      "File not readble\n",
      "The file is succefully created\n",
      "\n"
     ]
    }
   ],
   "source": [
    "try:\n",
    "    f = open('country.csv',mode = 'w')\n",
    "    f.read()\n",
    "except:\n",
    "    print('File not readble')\n",
    "finally:\n",
    "    f = open('country.csv',mode = 'w')\n",
    "    print('The file is succefully created')\n",
    "    f.close()\n",
    "file = open('country.csv')\n",
    "print(file.read())\n",
    "    "
   ]
  },
  {
   "cell_type": "code",
   "execution_count": null,
   "id": "344aed5b",
   "metadata": {},
   "outputs": [],
   "source": []
  },
  {
   "cell_type": "code",
   "execution_count": 22,
   "id": "182aae76",
   "metadata": {},
   "outputs": [],
   "source": [
    "age"
   ]
  },
  {
   "cell_type": "code",
   "execution_count": null,
   "id": "1056a7fc",
   "metadata": {},
   "outputs": [],
   "source": [
    "try:\n",
    "    c = a/b\n",
    "except:\n",
    "    print('There is an error')\n",
    "d = a + b\n",
    "print(d)"
   ]
  },
  {
   "cell_type": "code",
   "execution_count": 11,
   "id": "ae7a000d",
   "metadata": {},
   "outputs": [
    {
     "name": "stdout",
     "output_type": "stream",
     "text": [
      "Enter your age: 23\n"
     ]
    }
   ],
   "source": [
    "# erroe handling for user input.\n",
    "try:\n",
    "    age = int(input('Enter your age: '))\n",
    "except:\n",
    "    print('please enter only integer value')"
   ]
  },
  {
   "cell_type": "code",
   "execution_count": 12,
   "id": "76209fbd",
   "metadata": {},
   "outputs": [
    {
     "name": "stdout",
     "output_type": "stream",
     "text": [
      "There is an error invalid literal for int() with base 10: 'a'\n"
     ]
    }
   ],
   "source": [
    "# erroe handling for type casting.\n",
    "t = 'a'\n",
    "try:\n",
    "    c = int(t)\n",
    "except Exception as e:\n",
    "    print('There is an error',e)"
   ]
  },
  {
   "cell_type": "code",
   "execution_count": 18,
   "id": "c4f18d45",
   "metadata": {},
   "outputs": [
    {
     "name": "stdout",
     "output_type": "stream",
     "text": [
      "File is not found\n"
     ]
    }
   ],
   "source": [
    "# erroe handling for file not found error.\n",
    "try:\n",
    "    f = open('file1.txt',mode = 'r')\n",
    "    f.read()\n",
    "except FileNotFoundError:\n",
    "    print('File is not found')"
   ]
  },
  {
   "cell_type": "code",
   "execution_count": 29,
   "id": "da462d95",
   "metadata": {},
   "outputs": [],
   "source": [
    "def summation(v):\n",
    "    '''caluculates the sum of list values.\n",
    "    :param\n",
    "    v: takes the list data\n",
    "    return: sum of value in terms numerical value'''\n",
    "    try:\n",
    "        SUM = 0\n",
    "        for i in v:\n",
    "            SUM += i\n",
    "    except TypeError as e:\n",
    "        print(e)\n",
    "    return SUM"
   ]
  },
  {
   "cell_type": "code",
   "execution_count": 30,
   "id": "de16cae0",
   "metadata": {},
   "outputs": [
    {
     "name": "stdout",
     "output_type": "stream",
     "text": [
      "unsupported operand type(s) for +=: 'int' and 'str'\n"
     ]
    },
    {
     "data": {
      "text/plain": [
       "10"
      ]
     },
     "execution_count": 30,
     "metadata": {},
     "output_type": "execute_result"
    }
   ],
   "source": [
    "v = [10,'20',30,None,60,30]\n",
    "summation(v)"
   ]
  },
  {
   "cell_type": "code",
   "execution_count": null,
   "id": "979b9696",
   "metadata": {},
   "outputs": [],
   "source": [
    "import os\n",
    "os.getcwd()"
   ]
  },
  {
   "cell_type": "code",
   "execution_count": null,
   "id": "0820e603",
   "metadata": {},
   "outputs": [],
   "source": [
    "os.listdir()"
   ]
  },
  {
   "cell_type": "code",
   "execution_count": null,
   "id": "9c6f6008",
   "metadata": {},
   "outputs": [],
   "source": [
    "os.chdir()"
   ]
  },
  {
   "cell_type": "code",
   "execution_count": null,
   "id": "5012f4a7",
   "metadata": {},
   "outputs": [],
   "source": [
    "try:\n",
    "    f = open('file1.csv','r')\n",
    "    print(f.read())\n",
    "except:\n",
    "    f = open('file1.csv','w')\n",
    "    f.write('Hello')\n",
    "    print('file created succesfully')"
   ]
  },
  {
   "cell_type": "code",
   "execution_count": null,
   "id": "2e621841",
   "metadata": {},
   "outputs": [],
   "source": [
    "f = open('file.csv','r')\n",
    "f.read()"
   ]
  },
  {
   "cell_type": "code",
   "execution_count": 41,
   "id": "7e1332a5",
   "metadata": {
    "collapsed": true,
    "jupyter": {
     "outputs_hidden": true
    }
   },
   "outputs": [
    {
     "ename": "UnsupportedOperation",
     "evalue": "not writable",
     "output_type": "error",
     "traceback": [
      "\u001b[1;31m---------------------------------------------------------------------------\u001b[0m",
      "\u001b[1;31mUnsupportedOperation\u001b[0m                      Traceback (most recent call last)",
      "Cell \u001b[1;32mIn[41], line 2\u001b[0m\n\u001b[0;32m      1\u001b[0m f \u001b[38;5;241m=\u001b[39m \u001b[38;5;28mopen\u001b[39m(\u001b[38;5;124m'\u001b[39m\u001b[38;5;124mdata.csv\u001b[39m\u001b[38;5;124m'\u001b[39m,\u001b[38;5;124m'\u001b[39m\u001b[38;5;124mr\u001b[39m\u001b[38;5;124m'\u001b[39m)\n\u001b[1;32m----> 2\u001b[0m f\u001b[38;5;241m.\u001b[39mwrite(\u001b[38;5;124m'\u001b[39m\u001b[38;5;124msjhdjashdh\u001b[39m\u001b[38;5;124m'\u001b[39m)\n",
      "\u001b[1;31mUnsupportedOperation\u001b[0m: not writable"
     ]
    }
   ],
   "source": [
    "f = open('data.csv','r')\n",
    "f.write('sjhdjashdh')"
   ]
  },
  {
   "cell_type": "code",
   "execution_count": 40,
   "id": "90bfa883",
   "metadata": {},
   "outputs": [
    {
     "name": "stdout",
     "output_type": "stream",
     "text": [
      "Content written successfully\n"
     ]
    }
   ],
   "source": [
    "try:\n",
    "    f = open('data3.csv',mode = 'r')\n",
    "    f.read()\n",
    "except FileNotFoundError:\n",
    "    # This will only check for an IOError exception and then execute this print statement\n",
    "    print(\"Error: File is not found\")\n",
    "except (IOError,ValueError) as e:\n",
    "    # This will only check for an IOError exception and then execute this print statement\n",
    "    print(e)\n",
    "else: # this else block will execute if try block does not raise an exception\n",
    "    print(\"Content written successfully\")\n",
    "    f.close()"
   ]
  },
  {
   "cell_type": "code",
   "execution_count": null,
   "id": "98148d8c",
   "metadata": {},
   "outputs": [],
   "source": [
    "try:\n",
    "    f = open('countries.csv','w')\n",
    "    f.write(456)\n",
    "except (TypeError,FileNotFoundError,IOError,ValueError):\n",
    "    print(\"There is type error\")"
   ]
  },
  {
   "cell_type": "code",
   "execution_count": null,
   "id": "c4d6783f",
   "metadata": {},
   "outputs": [],
   "source": []
  },
  {
   "cell_type": "code",
   "execution_count": null,
   "id": "ef54df03",
   "metadata": {},
   "outputs": [],
   "source": []
  },
  {
   "cell_type": "code",
   "execution_count": null,
   "id": "ab3a3ab3",
   "metadata": {},
   "outputs": [],
   "source": [
    "os.listdir()"
   ]
  },
  {
   "cell_type": "code",
   "execution_count": null,
   "id": "c2769518",
   "metadata": {},
   "outputs": [],
   "source": [
    "f = open('demo_file','r')\n",
    "f.write('Test write this')\n",
    "print(\"fsfsfsfsf\")"
   ]
  },
  {
   "cell_type": "code",
   "execution_count": null,
   "id": "541e18fb",
   "metadata": {},
   "outputs": [],
   "source": [
    "try:\n",
    "    f = open('demo_file','r')\n",
    "    f.write('Test write this')\n",
    "except IOError:\n",
    "    # This will only check for an IOError exception and then execute this print statement\n",
    "   print(\"Error: Could not find file or read data\")\n",
    "else:\n",
    "   print(\"Content written successfully\")\n",
    "   f.close()"
   ]
  },
  {
   "cell_type": "code",
   "execution_count": null,
   "id": "00c2ec14",
   "metadata": {},
   "outputs": [],
   "source": [
    "import os \n",
    "os.listdir()"
   ]
  },
  {
   "cell_type": "code",
   "execution_count": null,
   "id": "92dd2dff",
   "metadata": {},
   "outputs": [],
   "source": [
    "try:\n",
    "    f = open('testfile','w')\n",
    "    f.write('Test write this')\n",
    "except Exception as e:\n",
    "    # This will check for any exception and then execute this print statement\n",
    "    print(e)\n",
    "else:\n",
    "    print(\"Content written successfully\")\n",
    "    f.close()"
   ]
  },
  {
   "cell_type": "code",
   "execution_count": null,
   "id": "f8396a68",
   "metadata": {},
   "outputs": [],
   "source": [
    "try:\n",
    "    f = open('testfile','w')\n",
    "    f.read()\n",
    "#     print(f)\n",
    "except Exception as e:\n",
    "    # This will check for any exception and then execute this print statement\n",
    "    print(e)\n",
    "else:\n",
    "    print(\"Content written successfully\")\n",
    "    f.close()"
   ]
  },
  {
   "cell_type": "markdown",
   "id": "32b2d9c7",
   "metadata": {},
   "source": [
    "finally\n",
    "The finally: Block of code will always be run regardless if there was an exception in the try code block. \n",
    "\n",
    "The syntax is:\n",
    "\n",
    "try:\n",
    "   Code block here\n",
    "   ...\n",
    "   Due to any exception, this code may be skipped!\n",
    "finally:\n",
    "   This code block would always be executed.\n",
    "For example:"
   ]
  },
  {
   "cell_type": "code",
   "execution_count": 1,
   "id": "8418c36b",
   "metadata": {},
   "outputs": [
    {
     "data": {
      "text/plain": [
       "['.ipynb_checkpoints',\n",
       " 'arrayfile.npz',\n",
       " 'countries.csv',\n",
       " 'country.csv',\n",
       " 'country1.csv',\n",
       " 'country3.csv',\n",
       " 'couuntry.csv',\n",
       " 'data.csv',\n",
       " 'data1.csv',\n",
       " 'data2.csv',\n",
       " 'Deep_learning',\n",
       " 'file.csv',\n",
       " 'file.npz',\n",
       " 'file.txt',\n",
       " 'file1.csv',\n",
       " 'file1.npy',\n",
       " 'file2.npz',\n",
       " 'Intermediate Numpy .ipynb',\n",
       " 'intermediate Python.ipynb',\n",
       " 'Introduction to python-Copy1.ipynb',\n",
       " 'Introduction_to_python.ipynb',\n",
       " 'losalry.npy',\n",
       " 'Marks.csv',\n",
       " 'Matplotlib and Seaborn.ipynb',\n",
       " 'newfile.txt',\n",
       " 'newfile1.txt',\n",
       " 'Python Interview Questions.docx',\n",
       " 'Python matplotlib library.ipynb',\n",
       " 'Python Numpy  library.ipynb',\n",
       " 'Python Pandas library.ipynb',\n",
       " 'Python pandas numpy .ipynb',\n",
       " 'Python_interview_questions.ipynb',\n",
       " 'results.csv',\n",
       " 'Results1.csv',\n",
       " 'salary.txt',\n",
       " 'SummaryData.py',\n",
       " 'testfile',\n",
       " 'testfile5',\n",
       " 'USERDATA.csv',\n",
       " 'users_data.csv',\n",
       " 'users_data.txt',\n",
       " '__pycache__']"
      ]
     },
     "execution_count": 1,
     "metadata": {},
     "output_type": "execute_result"
    }
   ],
   "source": [
    "import os\n",
    "os.listdir()"
   ]
  },
  {
   "cell_type": "code",
   "execution_count": 5,
   "id": "4020d202",
   "metadata": {},
   "outputs": [
    {
     "name": "stdout",
     "output_type": "stream",
     "text": [
      "Always execute finally code blocks\n"
     ]
    }
   ],
   "source": [
    "try:\n",
    "    f = open(\"testfile5\", \"w\")\n",
    "    f.write(\"Test write statement\")\n",
    "except:\n",
    "    print('Error')\n",
    "finally:\n",
    "    print(\"Always execute finally code blocks\")\n",
    "    f = open(\"testfile5\", \"a\")\n",
    "    f.write(\"Test write statement\")\n",
    "    f.close() "
   ]
  },
  {
   "cell_type": "code",
   "execution_count": 6,
   "id": "9a2c8653",
   "metadata": {},
   "outputs": [
    {
     "data": {
      "text/plain": [
       "'Test write statementTest write statement'"
      ]
     },
     "execution_count": 6,
     "metadata": {},
     "output_type": "execute_result"
    }
   ],
   "source": [
    "f = open(\"testfile5\")\n",
    "f.read()"
   ]
  },
  {
   "cell_type": "code",
   "execution_count": 13,
   "id": "de2fd430",
   "metadata": {},
   "outputs": [
    {
     "name": "stdout",
     "output_type": "stream",
     "text": [
      "Always execute finally code blocks\n"
     ]
    }
   ],
   "source": [
    "try:\n",
    "    f = open(\"testfile\", \"w\")\n",
    "    f.write(\"Test write statement\")\n",
    "    \n",
    "except:\n",
    "    print('Error')   \n",
    "finally:\n",
    "    print(\"Always execute finally code blocks\")"
   ]
  },
  {
   "cell_type": "code",
   "execution_count": 10,
   "id": "49d0ce88",
   "metadata": {},
   "outputs": [],
   "source": [
    "def askint():\n",
    "        try:\n",
    "            val = int(input('plase enter the value: '))\n",
    "            print(val)\n",
    "        except:\n",
    "            print(\"Looks like you did not enter an integer!\")           \n",
    "        finally:\n",
    "            try:\n",
    "                string = str(val)\n",
    "                print(string)\n",
    "            except:\n",
    "                print('error')"
   ]
  },
  {
   "cell_type": "code",
   "execution_count": 11,
   "id": "a754cd48",
   "metadata": {},
   "outputs": [
    {
     "name": "stdout",
     "output_type": "stream",
     "text": [
      "plase enter the value: ol\n",
      "Looks like you did not enter an integer!\n",
      "error\n"
     ]
    }
   ],
   "source": [
    "askint()"
   ]
  },
  {
   "cell_type": "code",
   "execution_count": null,
   "id": "daf911ee",
   "metadata": {},
   "outputs": [],
   "source": [
    "# Program to handle multiple errors with one# except statement# Python 3\n",
    "def fun(a):\n",
    "    if a < 4:\n",
    "        b = a/(a-3)               # throws ZeroDivisionError for a = 3\n",
    "        print(\"Value of b = \", b)   # throws NameError if a >= 4"
   ]
  },
  {
   "cell_type": "code",
   "execution_count": null,
   "id": "82edf64c",
   "metadata": {},
   "outputs": [],
   "source": [
    "def fun(a):\n",
    "    try:\n",
    "        if a <= 4:\n",
    "            b = a/(a-3)               # throws ZeroDivisionError for a = 3\n",
    "            print(\"Value of b = \", b)\n",
    "    except ZeroDivisionError:\n",
    "        print(\"Division error\")\n",
    "    except NameError:\n",
    "        print(\"Name Error\")\n",
    "    except TypeError:\n",
    "        print(\"TypeError\")\n",
    "   "
   ]
  },
  {
   "cell_type": "code",
   "execution_count": null,
   "id": "fdd18a79",
   "metadata": {},
   "outputs": [],
   "source": [
    "fun('p')"
   ]
  },
  {
   "cell_type": "code",
   "execution_count": null,
   "id": "77c0a6be",
   "metadata": {},
   "outputs": [],
   "source": [
    "try:\n",
    "    fun('a')\n",
    "except (ZeroDivisionError,UnboundLocalError,TypeError,NameError):\n",
    "    print('Error')"
   ]
  },
  {
   "cell_type": "code",
   "execution_count": null,
   "id": "ebc0cfb9",
   "metadata": {},
   "outputs": [],
   "source": []
  },
  {
   "cell_type": "code",
   "execution_count": null,
   "id": "d0bd70f1",
   "metadata": {},
   "outputs": [],
   "source": []
  },
  {
   "cell_type": "code",
   "execution_count": null,
   "id": "3a4bc90f",
   "metadata": {},
   "outputs": [],
   "source": [
    "try:\n",
    "    fun('a')\n",
    "except (ZeroDivisionError,UnboundLocalError,TypeError):\n",
    "    print('Error')\n"
   ]
  },
  {
   "cell_type": "code",
   "execution_count": null,
   "id": "128b633f",
   "metadata": {},
   "outputs": [],
   "source": [
    "try:\n",
    "    fun(2)\n",
    "    fun('a')\n",
    " \n",
    "#note that braces () are necessary here for\n",
    "# multiple exceptions\n",
    "except (ZeroDivisionError,NameError,UnboundLocalError,TypeError):\n",
    "    print(f\"{0 or 1 or 2 or 3} Occurred and Handled\")\n"
   ]
  },
  {
   "cell_type": "markdown",
   "id": "450035c1",
   "metadata": {},
   "source": [
    "# # Task : create a function which gives the multiplication table and handle the exception."
   ]
  },
  {
   "cell_type": "code",
   "execution_count": null,
   "id": "61182be5",
   "metadata": {},
   "outputs": [],
   "source": [
    "n = input(\"enter the value: \")\n",
    "def mul(n):\n",
    "    try:\n",
    "        for i in range(1,11):\n",
    "            print(i * int(n))\n",
    "    except ValueError:\n",
    "        print(\"enter the number only\")\n",
    "    "
   ]
  },
  {
   "cell_type": "code",
   "execution_count": null,
   "id": "3b2c206f",
   "metadata": {},
   "outputs": [],
   "source": [
    "mul(n)"
   ]
  },
  {
   "cell_type": "code",
   "execution_count": null,
   "id": "0f4cbc19",
   "metadata": {},
   "outputs": [],
   "source": [
    "\n",
    "# Python program to demonstrate finally\n",
    " \n",
    "# No exception Exception raised in try block\n",
    "try:\n",
    "    k = 5//0  # raises divide by zero exception.\n",
    "    print(k)\n",
    "# handles zerodivision exception\n",
    "except ZeroDivisionError:\n",
    "    print(\"Can't divide by zero\")\n",
    "finally:\n",
    "    # this block is always executed\n",
    "    # regardless of exception generation.\n",
    "    print('This is always executed')"
   ]
  },
  {
   "cell_type": "markdown",
   "id": "fb722f6c",
   "metadata": {},
   "source": [
    "# raising Error"
   ]
  },
  {
   "cell_type": "code",
   "execution_count": 44,
   "id": "30dc1e42",
   "metadata": {
    "collapsed": true,
    "jupyter": {
     "outputs_hidden": true
    }
   },
   "outputs": [
    {
     "name": "stdout",
     "output_type": "stream",
     "text": [
      "Give your age: -1\n",
      "-1\n"
     ]
    },
    {
     "ename": "Exception",
     "evalue": "The age must be between 0 and 50",
     "output_type": "error",
     "traceback": [
      "\u001b[1;31m---------------------------------------------------------------------------\u001b[0m",
      "\u001b[1;31mException\u001b[0m                                 Traceback (most recent call last)",
      "Cell \u001b[1;32mIn[44], line 5\u001b[0m\n\u001b[0;32m      3\u001b[0m \u001b[38;5;28;01mif\u001b[39;00m age \u001b[38;5;241m>\u001b[39m \u001b[38;5;241m50\u001b[39m \u001b[38;5;129;01mor\u001b[39;00m age \u001b[38;5;241m<\u001b[39m\u001b[38;5;241m0\u001b[39m:\n\u001b[0;32m      4\u001b[0m     \u001b[38;5;28mprint\u001b[39m(age)\n\u001b[1;32m----> 5\u001b[0m     \u001b[38;5;28;01mraise\u001b[39;00m \u001b[38;5;167;01mException\u001b[39;00m(\u001b[38;5;124m\"\u001b[39m\u001b[38;5;124mThe age must be between 0 and 50\u001b[39m\u001b[38;5;124m\"\u001b[39m)\n",
      "\u001b[1;31mException\u001b[0m: The age must be between 0 and 50"
     ]
    }
   ],
   "source": [
    "age = int(input('Give your age: '))\n",
    "\n",
    "if age > 50 or age <0:\n",
    "    print(age)\n",
    "    raise Exception(\"The age must be between 0 and 50\")"
   ]
  },
  {
   "cell_type": "code",
   "execution_count": 45,
   "id": "d41e0187",
   "metadata": {
    "collapsed": true,
    "jupyter": {
     "outputs_hidden": true
    }
   },
   "outputs": [
    {
     "name": "stdout",
     "output_type": "stream",
     "text": [
      "Give your age: 102\n",
      "102\n"
     ]
    },
    {
     "ename": "NameError",
     "evalue": "The age must be between 0 and 99",
     "output_type": "error",
     "traceback": [
      "\u001b[1;31m---------------------------------------------------------------------------\u001b[0m",
      "\u001b[1;31mNameError\u001b[0m                                 Traceback (most recent call last)",
      "Cell \u001b[1;32mIn[45], line 4\u001b[0m\n\u001b[0;32m      2\u001b[0m \u001b[38;5;28;01mif\u001b[39;00m age \u001b[38;5;241m>\u001b[39m \u001b[38;5;241m100\u001b[39m \u001b[38;5;129;01mor\u001b[39;00m age \u001b[38;5;241m<\u001b[39m\u001b[38;5;241m0\u001b[39m:\n\u001b[0;32m      3\u001b[0m     \u001b[38;5;28mprint\u001b[39m(age)\n\u001b[1;32m----> 4\u001b[0m     \u001b[38;5;28;01mraise\u001b[39;00m \u001b[38;5;167;01mNameError\u001b[39;00m(\u001b[38;5;124m\"\u001b[39m\u001b[38;5;124mThe age must be between 0 and 99\u001b[39m\u001b[38;5;124m\"\u001b[39m)\n",
      "\u001b[1;31mNameError\u001b[0m: The age must be between 0 and 99"
     ]
    }
   ],
   "source": [
    "age = int(input('Give your age: '))\n",
    "if age > 100 or age <0:\n",
    "    print(age)\n",
    "    raise NameError(\"The age is not defined\")"
   ]
  },
  {
   "cell_type": "code",
   "execution_count": 52,
   "id": "c8b55d0e",
   "metadata": {
    "collapsed": true,
    "jupyter": {
     "outputs_hidden": true
    }
   },
   "outputs": [
    {
     "name": "stdout",
     "output_type": "stream",
     "text": [
      "10\n",
      "The values must be intger\n",
      "30\n",
      "50\n"
     ]
    }
   ],
   "source": [
    "data = [10,'20',30,50]\n",
    "for i in data:\n",
    "    try:       \n",
    "        if type(i) ==  str:\n",
    "             raise TypeError('The values must be intger')\n",
    "        print(i)\n",
    "    except TypeError as t:\n",
    "        print(t)"
   ]
  },
  {
   "cell_type": "code",
   "execution_count": 54,
   "id": "88d3c129",
   "metadata": {},
   "outputs": [
    {
     "name": "stdout",
     "output_type": "stream",
     "text": [
      "90\n"
     ]
    }
   ],
   "source": [
    "data = [10,'20',30,50]\n",
    "SUM = 0\n",
    "for i in data:\n",
    "    try:       \n",
    "        if type(i) ==  str:\n",
    "             raise TypeError('The values must be intger')\n",
    "#         print(i)\n",
    "        SUM += i\n",
    "    except TypeError as t:\n",
    "        pass\n",
    "print(SUM)"
   ]
  },
  {
   "cell_type": "code",
   "execution_count": null,
   "id": "07812476",
   "metadata": {},
   "outputs": [],
   "source": []
  },
  {
   "cell_type": "code",
   "execution_count": 31,
   "id": "9aab9df3",
   "metadata": {
    "collapsed": true,
    "jupyter": {
     "outputs_hidden": true
    }
   },
   "outputs": [
    {
     "name": "stdout",
     "output_type": "stream",
     "text": [
      "Enter the value: 23\n"
     ]
    },
    {
     "ename": "TypeError",
     "evalue": "Only integers are allowed",
     "output_type": "error",
     "traceback": [
      "\u001b[1;31m---------------------------------------------------------------------------\u001b[0m",
      "\u001b[1;31mTypeError\u001b[0m                                 Traceback (most recent call last)",
      "Cell \u001b[1;32mIn[31], line 3\u001b[0m\n\u001b[0;32m      1\u001b[0m x \u001b[38;5;241m=\u001b[39m \u001b[38;5;28minput\u001b[39m(\u001b[38;5;124m\"\u001b[39m\u001b[38;5;124mEnter the value: \u001b[39m\u001b[38;5;124m\"\u001b[39m)\n\u001b[0;32m      2\u001b[0m \u001b[38;5;28;01mif\u001b[39;00m \u001b[38;5;129;01mnot\u001b[39;00m \u001b[38;5;28mtype\u001b[39m(x) \u001b[38;5;129;01mis\u001b[39;00m \u001b[38;5;28mint\u001b[39m:\n\u001b[1;32m----> 3\u001b[0m     \u001b[38;5;28;01mraise\u001b[39;00m \u001b[38;5;167;01mTypeError\u001b[39;00m(\u001b[38;5;124m\"\u001b[39m\u001b[38;5;124mOnly integers are allowed\u001b[39m\u001b[38;5;124m\"\u001b[39m)\n",
      "\u001b[1;31mTypeError\u001b[0m: Only integers are allowed"
     ]
    }
   ],
   "source": [
    "x = input(\"Enter the value: \")\n",
    "if not type(x) is int:\n",
    "    raise TypeError(\"Only integers are allowed\")"
   ]
  },
  {
   "cell_type": "code",
   "execution_count": 28,
   "id": "78fe3390",
   "metadata": {},
   "outputs": [
    {
     "name": "stdout",
     "output_type": "stream",
     "text": [
      "An exception\n"
     ]
    }
   ],
   "source": [
    "# Program to depict Raising Exception\n",
    "try:\n",
    "    raise NameError(\"Hi there\")  # Raise Error\n",
    "except NameError:\n",
    "    print (\"An exception\")\n",
    "#     raise  # To determine whether the exception was raised or not"
   ]
  },
  {
   "cell_type": "code",
   "execution_count": null,
   "id": "f10f21f4",
   "metadata": {},
   "outputs": [],
   "source": [
    "#Catching specific exceptions\n",
    "try:\n",
    "    # get input net sales\n",
    "    print('Enter the net sales for')\n",
    "\n",
    "    previous = float(input('- Prior period:'))\n",
    "    current = float(input('- Current period:'))\n",
    "\n",
    "    # calculate the change in percentage\n",
    "    change = (current - previous) * 100 / previous\n",
    "\n",
    "    # show the result\n",
    "    if change > 0:\n",
    "        result = f'Sales increase {abs(change)}%'\n",
    "    else:\n",
    "        result = f'Sales decrease {abs(change)}%' \n",
    "        print(result)\n",
    "except (ValueError, TypeError,ZeroDivisionError):\n",
    "     print('Error! Please enter a number for net sales.')\n",
    "finally:\n",
    "    if previous < 0 and current < previous:\n",
    "        raise ValueError(\"Value should be less then current\")\n"
   ]
  },
  {
   "cell_type": "markdown",
   "id": "99d40e08",
   "metadata": {},
   "source": [
    "# Handling multiple exceptions"
   ]
  },
  {
   "cell_type": "code",
   "execution_count": null,
   "id": "dee24dba",
   "metadata": {},
   "outputs": [],
   "source": [
    "try:\n",
    "    # code that may cause an exception\n",
    "except Exception1 as e1:\n",
    "    # handle exception\n",
    "except Exception2 as e2:\n",
    "    # handle exception\n",
    "except Exception3 as e3:\n",
    "    # handle exception "
   ]
  },
  {
   "cell_type": "code",
   "execution_count": null,
   "id": "f3ef8efa",
   "metadata": {},
   "outputs": [],
   "source": [
    "try:\n",
    "    # get input net sales\n",
    "    print('Enter the net sales for')\n",
    "\n",
    "    previous = float(input('- Prior period:'))\n",
    "    current = float(input('- Current period:'))\n",
    "\n",
    "    # calculate the change in percentage\n",
    "    change = (current - previous) * 100 / previous\n",
    "\n",
    "    # show the result\n",
    "    if change > 0:\n",
    "        result = f'Sales increase {abs(change)}%'\n",
    "    else:\n",
    "        result = f'Sales decrease {abs(change)}%'\n",
    "\n",
    "    print(result)\n",
    "except ValueError:\n",
    "    print('Error! Please enter a number for net sales.')\n",
    "except ZeroDivisionError:\n",
    "    print('Error! The prior net sales cannot be zero.')\n"
   ]
  },
  {
   "cell_type": "code",
   "execution_count": null,
   "id": "2f682564",
   "metadata": {},
   "outputs": [],
   "source": [
    "try:\n",
    "    # get input net sales\n",
    "    print('Enter the net sales for')\n",
    "\n",
    "    previous = float(input('- Prior period:'))\n",
    "    current = float(input('- Current period:'))\n",
    "\n",
    "    # calculate the change in percentage\n",
    "    change = (current - previous) * 100 / previous\n",
    "\n",
    "    # show the result\n",
    "    if change > 0:\n",
    "        result = f'Sales increase {abs(change)}%'\n",
    "    else:\n",
    "        result = f'Sales decrease {abs(change)}%'\n",
    "\n",
    "    print(result)\n",
    "except ValueError:\n",
    "    print('Error! Please enter a number for net sales.')\n",
    "except ZeroDivisionError:\n",
    "    print('Error! The prior net sales cannot be zero.')\n",
    "except Exception as error:\n",
    "    print(error)"
   ]
  },
  {
   "cell_type": "code",
   "execution_count": null,
   "id": "bf8aac4e",
   "metadata": {},
   "outputs": [],
   "source": [
    "a = input(\"Enter the value: \")\n",
    "for i in range(1,11):\n",
    "    print(f\"multiplication table of {a} = {int(a) * i}\")"
   ]
  },
  {
   "cell_type": "code",
   "execution_count": null,
   "id": "f80f813e",
   "metadata": {},
   "outputs": [],
   "source": [
    "a = input(\"Enter the value: \")\n",
    "try:\n",
    "    for i in range(1,11):\n",
    "        print(f\"multiplication table of {a} = {int(a) * i}\")\n",
    "except Exception as e:\n",
    "    print(e)\n",
    "\n",
    "print(\"execute this line\")\n",
    "print(\"execute this line also\")"
   ]
  },
  {
   "cell_type": "code",
   "execution_count": null,
   "id": "5ae326d5",
   "metadata": {},
   "outputs": [],
   "source": []
  },
  {
   "cell_type": "code",
   "execution_count": null,
   "id": "43533138",
   "metadata": {},
   "outputs": [],
   "source": []
  },
  {
   "cell_type": "code",
   "execution_count": null,
   "id": "23ae4e8a",
   "metadata": {},
   "outputs": [],
   "source": [
    "#libraries for data science  and statistics."
   ]
  },
  {
   "cell_type": "code",
   "execution_count": null,
   "id": "d7026515",
   "metadata": {},
   "outputs": [],
   "source": [
    "Data manipulation: pandas, numpy, matplotlib, seaborn.\n",
    "Machine learnining and Deep learning: statsmodels, scikit-learn, tensorflow, keras.\n",
    "NLP: nltk, Spacy\n",
    "Timeseries: statsmodels, scipy"
   ]
  },
  {
   "cell_type": "code",
   "execution_count": null,
   "id": "f44d9079",
   "metadata": {},
   "outputs": [],
   "source": [
    "!pip install pandas numpy matplotlib seaborn"
   ]
  },
  {
   "cell_type": "code",
   "execution_count": 32,
   "id": "35fc0c27",
   "metadata": {
    "collapsed": true,
    "jupyter": {
     "outputs_hidden": true
    }
   },
   "outputs": [
    {
     "name": "stdout",
     "output_type": "stream",
     "text": [
      "Package                       Version\n",
      "----------------------------- ---------------\n",
      "absl-py                       2.0.0\n",
      "aiobotocore                   2.5.0\n",
      "aiofiles                      22.1.0\n",
      "aiohttp                       3.8.5\n",
      "aioitertools                  0.7.1\n",
      "aiosignal                     1.2.0\n",
      "aiosqlite                     0.18.0\n",
      "alabaster                     0.7.12\n",
      "altair                        5.1.2\n",
      "anaconda-anon-usage           0.4.2\n",
      "anaconda-catalogs             0.2.0\n",
      "anaconda-client               1.12.1\n",
      "anaconda-cloud-auth           0.1.3\n",
      "anaconda-navigator            2.5.0\n",
      "anaconda-project              0.11.1\n",
      "anyio                         3.5.0\n",
      "appdirs                       1.4.4\n",
      "argon2-cffi                   21.3.0\n",
      "argon2-cffi-bindings          21.2.0\n",
      "arrow                         1.2.3\n",
      "astroid                       2.14.2\n",
      "astropy                       5.1\n",
      "asttokens                     2.0.5\n",
      "astunparse                    1.6.3\n",
      "async-timeout                 4.0.2\n",
      "atomicwrites                  1.4.0\n",
      "attrs                         22.1.0\n",
      "autocommand                   2.2.2\n",
      "Automat                       20.2.0\n",
      "autopep8                      1.6.0\n",
      "Babel                         2.11.0\n",
      "backcall                      0.2.0\n",
      "backports.csv                 1.0.7\n",
      "backports.functools-lru-cache 1.6.4\n",
      "backports.tempfile            1.0\n",
      "backports.weakref             1.0.post1\n",
      "bcrypt                        3.2.0\n",
      "beautifulsoup4                4.12.2\n",
      "binaryornot                   0.4.4\n",
      "black                         0.0\n",
      "bleach                        4.1.0\n",
      "blinker                       1.6.2\n",
      "blis                          0.7.11\n",
      "bokeh                         3.2.1\n",
      "boltons                       23.0.0\n",
      "botocore                      1.29.76\n",
      "Bottleneck                    1.3.5\n",
      "brotlipy                      0.7.0\n",
      "cachetools                    5.3.1\n",
      "catalogue                     2.0.10\n",
      "catboost                      1.2.2\n",
      "category-encoders             2.6.2\n",
      "certifi                       2023.11.17\n",
      "cffi                          1.15.1\n",
      "chardet                       4.0.0\n",
      "charset-normalizer            2.0.4\n",
      "cheroot                       10.0.0\n",
      "CherryPy                      18.9.0\n",
      "click                         8.0.4\n",
      "cloudpathlib                  0.16.0\n",
      "cloudpickle                   2.2.1\n",
      "clyent                        1.2.2\n",
      "colorama                      0.4.6\n",
      "colorcet                      3.0.1\n",
      "comm                          0.1.2\n",
      "conda                         23.7.4\n",
      "conda-build                   3.26.1\n",
      "conda-content-trust           0.2.0\n",
      "conda_index                   0.3.0\n",
      "conda-libmamba-solver         23.7.0\n",
      "conda-pack                    0.6.0\n",
      "conda-package-handling        2.2.0\n",
      "conda_package_streaming       0.9.0\n",
      "conda-repo-cli                1.0.75\n",
      "conda-token                   0.4.0\n",
      "conda-verify                  3.4.2\n",
      "confection                    0.1.3\n",
      "constantly                    15.1.0\n",
      "contourpy                     1.0.5\n",
      "cookiecutter                  1.7.3\n",
      "cryptography                  41.0.3\n",
      "cssselect                     1.1.0\n",
      "cycler                        0.11.0\n",
      "cymem                         2.0.8\n",
      "cytoolz                       0.12.0\n",
      "daal4py                       2023.1.1\n",
      "dask                          2023.6.0\n",
      "datasets                      2.12.0\n",
      "datashader                    0.15.2\n",
      "datashape                     0.5.4\n",
      "debugpy                       1.6.7\n",
      "decorator                     5.1.1\n",
      "defusedxml                    0.7.1\n",
      "diff-match-patch              20200713\n",
      "dill                          0.3.6\n",
      "distributed                   2023.6.0\n",
      "docstring-to-markdown         0.11\n",
      "docutils                      0.18.1\n",
      "ecos                          2.0.12\n",
      "en-core-web-sm                3.7.1\n",
      "entrypoints                   0.4\n",
      "et-xmlfile                    1.1.0\n",
      "executing                     0.8.3\n",
      "fastjsonschema                2.16.2\n",
      "feedparser                    6.0.11\n",
      "filelock                      3.9.0\n",
      "flake8                        6.0.0\n",
      "Flask                         2.2.2\n",
      "flatbuffers                   23.5.26\n",
      "fonttools                     4.25.0\n",
      "frozenlist                    1.3.3\n",
      "fsspec                        2023.4.0\n",
      "fst-pso                       1.8.1\n",
      "future                        0.18.3\n",
      "FuzzyTM                       2.0.5\n",
      "gast                          0.5.4\n",
      "gensim                        4.3.0\n",
      "gitdb                         4.0.10\n",
      "GitPython                     3.1.37\n",
      "glob2                         0.7\n",
      "google-auth                   2.23.4\n",
      "google-auth-oauthlib          1.0.0\n",
      "google-pasta                  0.2.0\n",
      "graphviz                      0.20.1\n",
      "greenlet                      2.0.1\n",
      "grpcio                        1.59.2\n",
      "h5py                          3.9.0\n",
      "HeapDict                      1.0.1\n",
      "holoviews                     1.17.1\n",
      "htmlmin                       0.1.12\n",
      "huggingface-hub               0.15.1\n",
      "hvplot                        0.8.4\n",
      "hyperlink                     21.0.0\n",
      "idna                          3.4\n",
      "imagecodecs                   2023.1.23\n",
      "ImageHash                     4.3.1\n",
      "imageio                       2.26.0\n",
      "imagesize                     1.4.1\n",
      "imbalanced-learn              0.10.1\n",
      "importlib-metadata            6.0.0\n",
      "incremental                   21.3.0\n",
      "inflect                       7.0.0\n",
      "inflection                    0.5.1\n",
      "iniconfig                     1.1.1\n",
      "intake                        0.6.8\n",
      "intervaltree                  3.1.0\n",
      "ipykernel                     6.25.0\n",
      "ipython                       8.15.0\n",
      "ipython-genutils              0.2.0\n",
      "ipywidgets                    8.0.4\n",
      "isort                         5.9.3\n",
      "itemadapter                   0.3.0\n",
      "itemloaders                   1.0.4\n",
      "itsdangerous                  2.0.1\n",
      "jaraco.classes                3.2.1\n",
      "jaraco.collections            5.0.0\n",
      "jaraco.context                4.3.0\n",
      "jaraco.functools              4.0.0\n",
      "jaraco.text                   3.12.0\n",
      "jedi                          0.18.1\n",
      "jellyfish                     1.0.1\n",
      "Jinja2                        3.1.2\n",
      "jinja2-time                   0.2.0\n",
      "jmespath                      0.10.0\n",
      "joblib                        1.2.0\n",
      "json5                         0.9.6\n",
      "jsonpatch                     1.32\n",
      "jsonpointer                   2.1\n",
      "jsonschema                    4.17.3\n",
      "jupyter                       1.0.0\n",
      "jupyter_client                7.4.9\n",
      "jupyter-console               6.6.3\n",
      "jupyter_core                  5.3.0\n",
      "jupyter-events                0.6.3\n",
      "jupyter-server                1.23.4\n",
      "jupyter_server_fileid         0.9.0\n",
      "jupyter_server_ydoc           0.8.0\n",
      "jupyter-ydoc                  0.2.4\n",
      "jupyterlab                    3.6.3\n",
      "jupyterlab-pygments           0.1.2\n",
      "jupyterlab_server             2.22.0\n",
      "jupyterlab-widgets            3.0.5\n",
      "kaleido                       0.2.1\n",
      "keras                         3.2.1\n",
      "keras-tuner                   1.4.7\n",
      "keyring                       23.13.1\n",
      "kiwisolver                    1.4.4\n",
      "kt-legacy                     1.0.5\n",
      "langcodes                     3.3.0\n",
      "lazy_loader                   0.2\n",
      "lazy-object-proxy             1.6.0\n",
      "libarchive-c                  2.9\n",
      "libclang                      16.0.6\n",
      "libmambapy                    1.5.1\n",
      "lightgbm                      4.1.0\n",
      "linkify-it-py                 2.0.0\n",
      "llvmlite                      0.40.0\n",
      "lmdb                          1.4.1\n",
      "locket                        1.0.0\n",
      "lxml                          4.9.3\n",
      "lz4                           4.3.2\n",
      "Markdown                      3.4.1\n",
      "markdown-it-py                2.2.0\n",
      "MarkupSafe                    2.1.1\n",
      "matplotlib                    3.7.2\n",
      "matplotlib-inline             0.1.6\n",
      "mccabe                        0.7.0\n",
      "mdit-py-plugins               0.3.0\n",
      "mdurl                         0.1.0\n",
      "menuinst                      1.4.19\n",
      "miniful                       0.0.6\n",
      "missingno                     0.5.2\n",
      "mistune                       0.8.4\n",
      "mkl-fft                       1.3.8\n",
      "mkl-random                    1.2.4\n",
      "mkl-service                   2.4.0\n",
      "ml-dtypes                     0.2.0\n",
      "mlxtend                       0.23.1\n",
      "more-itertools                8.12.0\n",
      "mpmath                        1.3.0\n",
      "msgpack                       1.0.3\n",
      "multidict                     6.0.2\n",
      "multimethod                   1.10\n",
      "multipledispatch              0.6.0\n",
      "multiprocess                  0.70.14\n",
      "munkres                       1.1.4\n",
      "murmurhash                    1.0.10\n",
      "mypy-extensions               1.0.0\n",
      "mysqlclient                   2.2.1\n",
      "namex                         0.0.8\n",
      "navigator-updater             0.4.0\n",
      "nbclassic                     0.5.5\n",
      "nbclient                      0.5.13\n",
      "nbconvert                     6.5.4\n",
      "nbformat                      5.9.2\n",
      "nest-asyncio                  1.5.6\n",
      "networkx                      3.1\n",
      "nltk                          3.8.1\n",
      "notebook                      6.4.4\n",
      "notebook_shim                 0.2.2\n",
      "numba                         0.57.1\n",
      "numexpr                       2.8.4\n",
      "numpy                         1.24.3\n",
      "numpydoc                      1.5.0\n",
      "oauthlib                      3.2.2\n",
      "openpyxl                      3.0.10\n",
      "opt-einsum                    3.3.0\n",
      "optree                        0.11.0\n",
      "osqp                          0.6.3\n",
      "packaging                     23.1\n",
      "pandas                        2.0.3\n",
      "pandas-profiling              3.2.0\n",
      "pandocfilters                 1.5.0\n",
      "panel                         1.2.3\n",
      "param                         1.13.0\n",
      "paramiko                      2.8.1\n",
      "parsel                        1.6.0\n",
      "parso                         0.8.3\n",
      "partd                         1.4.0\n",
      "pathlib                       1.0.1\n",
      "pathspec                      0.10.3\n",
      "patsy                         0.5.3\n",
      "Pattern                       3.6\n",
      "pdfminer.six                  20231228\n",
      "pep8                          1.7.1\n",
      "pexpect                       4.8.0\n",
      "phik                          0.12.3\n",
      "pickleshare                   0.7.5\n",
      "Pillow                        9.4.0\n",
      "pip                           23.2.1\n",
      "pkce                          1.0.3\n",
      "pkginfo                       1.9.6\n",
      "platformdirs                  3.10.0\n",
      "plotly                        5.9.0\n",
      "pluggy                        1.0.0\n",
      "ply                           3.11\n",
      "portend                       3.2.0\n",
      "poyo                          0.5.0\n",
      "preshed                       3.0.9\n",
      "prometheus-client             0.14.1\n",
      "prompt-toolkit                3.0.36\n",
      "Protego                       0.1.16\n",
      "protobuf                      4.24.4\n",
      "psutil                        5.9.0\n",
      "ptyprocess                    0.7.0\n",
      "pure-eval                     0.2.2\n",
      "py-cpuinfo                    8.0.0\n",
      "pyarrow                       11.0.0\n",
      "pyasn1                        0.4.8\n",
      "pyasn1-modules                0.2.8\n",
      "pycodestyle                   2.10.0\n",
      "pycosat                       0.6.4\n",
      "pycparser                     2.21\n",
      "pyct                          0.5.0\n",
      "pycurl                        7.45.2\n",
      "pydantic                      1.10.8\n",
      "pydeck                        0.8.1b0\n",
      "PyDispatcher                  2.0.5\n",
      "pydocstyle                    6.3.0\n",
      "pydotplus                     2.0.2\n",
      "pyerfa                        2.0.0\n",
      "pyflakes                      3.0.1\n",
      "pyFUME                        0.2.25\n",
      "Pygments                      2.15.1\n",
      "PyJWT                         2.4.0\n",
      "pylint                        2.16.2\n",
      "pylint-venv                   2.3.0\n",
      "pyls-spyder                   0.4.0\n",
      "PyNaCl                        1.5.0\n",
      "pyodbc                        4.0.34\n",
      "pyOpenSSL                     23.2.0\n",
      "pyparsing                     3.0.9\n",
      "PyQt5                         5.15.7\n",
      "PyQt5-sip                     12.11.0\n",
      "PyQtWebEngine                 5.15.4\n",
      "pyrsistent                    0.18.0\n",
      "PySocks                       1.7.1\n",
      "pytest                        7.4.0\n",
      "python-dateutil               2.8.2\n",
      "python-docx                   1.1.0\n",
      "python-dotenv                 0.21.0\n",
      "python-json-logger            2.0.7\n",
      "python-lsp-black              1.2.1\n",
      "python-lsp-jsonrpc            1.0.0\n",
      "python-lsp-server             1.7.2\n",
      "python-slugify                5.0.2\n",
      "python-snappy                 0.6.1\n",
      "pytoolconfig                  1.2.5\n",
      "pytz                          2023.3.post1\n",
      "pyviz-comms                   2.3.0\n",
      "PyWavelets                    1.4.1\n",
      "pywin32                       305.1\n",
      "pywin32-ctypes                0.2.0\n",
      "pywinpty                      2.0.10\n",
      "PyYAML                        6.0\n",
      "pyzmq                         23.2.0\n",
      "QDarkStyle                    3.0.2\n",
      "qdldl                         0.1.7.post0\n",
      "qstylizer                     0.2.2\n",
      "QtAwesome                     1.2.2\n",
      "qtconsole                     5.4.2\n",
      "QtPy                          2.2.0\n",
      "queuelib                      1.5.0\n",
      "regex                         2022.7.9\n",
      "requests                      2.31.0\n",
      "requests-file                 1.5.1\n",
      "requests-oauthlib             1.3.1\n",
      "requests-toolbelt             1.0.0\n",
      "responses                     0.13.3\n",
      "rfc3339-validator             0.1.4\n",
      "rfc3986-validator             0.1.1\n",
      "rich                          13.6.0\n",
      "rope                          1.7.0\n",
      "rsa                           4.9\n",
      "Rtree                         1.0.1\n",
      "ruamel.yaml                   0.17.21\n",
      "ruamel-yaml-conda             0.17.21\n",
      "s3fs                          2023.4.0\n",
      "safetensors                   0.3.2\n",
      "scikeras                      0.13.0\n",
      "scikit-image                  0.20.0\n",
      "scikit-learn                  1.4.2\n",
      "scikit-learn-intelex          20230426.121932\n",
      "scikit-survival               0.22.2\n",
      "scipy                         1.11.1\n",
      "Scrapy                        2.8.0\n",
      "seaborn                       0.12.2\n",
      "Send2Trash                    1.8.0\n",
      "service-identity              18.1.0\n",
      "setuptools                    68.0.0\n",
      "sgmllib3k                     1.0.0\n",
      "simpful                       2.11.0\n",
      "sip                           6.6.2\n",
      "six                           1.16.0\n",
      "sklearn                       0.0.post9\n",
      "smart-open                    5.2.1\n",
      "smmap                         5.0.1\n",
      "sniffio                       1.2.0\n",
      "snowballstemmer               2.2.0\n",
      "sortedcontainers              2.4.0\n",
      "soupsieve                     2.4\n",
      "spacy                         3.7.2\n",
      "spacy-legacy                  3.0.12\n",
      "spacy-loggers                 1.0.5\n",
      "Sphinx                        5.0.2\n",
      "sphinxcontrib-applehelp       1.0.2\n",
      "sphinxcontrib-devhelp         1.0.2\n",
      "sphinxcontrib-htmlhelp        2.0.0\n",
      "sphinxcontrib-jsmath          1.0.1\n",
      "sphinxcontrib-qthelp          1.0.3\n",
      "sphinxcontrib-serializinghtml 1.1.5\n",
      "spyder                        5.4.3\n",
      "spyder-kernels                2.4.4\n",
      "SQLAlchemy                    1.4.39\n",
      "srsly                         2.4.8\n",
      "stack-data                    0.2.0\n",
      "statsmodels                   0.14.0\n",
      "streamlit                     1.33.0\n",
      "sympy                         1.11.1\n",
      "tables                        3.8.0\n",
      "tabulate                      0.8.10\n",
      "tangled-up-in-unicode         0.2.0\n",
      "TBB                           0.2\n",
      "tblib                         1.7.0\n",
      "tempora                       5.5.0\n",
      "tenacity                      8.2.2\n",
      "tensorboard                   2.14.1\n",
      "tensorboard-data-server       0.7.2\n",
      "tensorflow                    2.14.0\n",
      "tensorflow-estimator          2.14.0\n",
      "tensorflow-intel              2.14.0\n",
      "tensorflow-io-gcs-filesystem  0.31.0\n",
      "termcolor                     2.3.0\n",
      "terminado                     0.17.1\n",
      "text-unidecode                1.3\n",
      "textblob                      0.17.1\n",
      "textdistance                  4.2.1\n",
      "thinc                         8.2.1\n",
      "threadpoolctl                 2.2.0\n",
      "three-merge                   0.1.1\n",
      "tifffile                      2023.4.12\n",
      "tinycss2                      1.2.1\n",
      "tldextract                    3.2.0\n",
      "tokenizers                    0.13.2\n",
      "toml                          0.10.2\n",
      "tomlkit                       0.11.1\n",
      "toolz                         0.12.0\n",
      "tornado                       6.3.2\n",
      "tqdm                          4.65.0\n",
      "traitlets                     5.7.1\n",
      "transformers                  4.32.1\n",
      "Twisted                       22.10.0\n",
      "twisted-iocpsupport           1.0.2\n",
      "typer                         0.9.0\n",
      "typing_extensions             4.7.1\n",
      "tzdata                        2023.3\n",
      "tzlocal                       5.1\n",
      "uc-micro-py                   1.0.1\n",
      "ucimlrepo                     0.0.2\n",
      "ujson                         5.4.0\n",
      "Unidecode                     1.2.0\n",
      "urllib3                       1.26.16\n",
      "vaderSentiment                3.3.2\n",
      "validators                    0.22.0\n",
      "w3lib                         1.21.0\n",
      "wasabi                        1.1.2\n",
      "watchdog                      2.1.6\n",
      "wcwidth                       0.2.5\n",
      "weasel                        0.3.4\n",
      "webencodings                  0.5.1\n",
      "websocket-client              0.58.0\n",
      "Werkzeug                      2.2.3\n",
      "whatthepatch                  1.0.2\n",
      "wheel                         0.38.4\n",
      "widgetsnbextension            4.0.5\n",
      "win-inet-pton                 1.1.0\n",
      "wordcloud                     1.9.2\n",
      "wrapt                         1.14.1\n",
      "xarray                        2023.6.0\n",
      "xgboost                       2.0.0\n",
      "xlrd                          2.0.1\n",
      "xlwings                       0.29.1\n",
      "xxhash                        2.0.2\n",
      "xyzservices                   2022.9.0\n",
      "y-py                          0.5.9\n",
      "yapf                          0.31.0\n",
      "yarl                          1.8.1\n",
      "ypy-websocket                 0.8.2\n",
      "zc.lockfile                   3.0.post1\n",
      "zict                          2.2.0\n",
      "zipp                          3.11.0\n",
      "zope.interface                5.4.0\n",
      "zstandard                     0.19.0\n"
     ]
    }
   ],
   "source": [
    "!pip list # list of all library and packages."
   ]
  },
  {
   "cell_type": "code",
   "execution_count": 55,
   "id": "fe30b69c",
   "metadata": {},
   "outputs": [],
   "source": [
    "import pandas\n",
    "import numpy \n",
    "import matplotlib\n",
    "import seaborn\n",
    "import scipy"
   ]
  },
  {
   "cell_type": "code",
   "execution_count": null,
   "id": "ecf80e69",
   "metadata": {},
   "outputs": [],
   "source": [
    "!pip install statsmodels scikit-learn tensorflow keras"
   ]
  },
  {
   "cell_type": "code",
   "execution_count": 61,
   "id": "49d5bc5f",
   "metadata": {},
   "outputs": [],
   "source": [
    "import statsmodels\n",
    "import sklearn\n",
    "import tensorflow\n",
    "import keras"
   ]
  },
  {
   "cell_type": "code",
   "execution_count": null,
   "id": "ee8de525",
   "metadata": {},
   "outputs": [],
   "source": [
    "!pip install nltk spacy"
   ]
  },
  {
   "cell_type": "code",
   "execution_count": 62,
   "id": "18690d9c",
   "metadata": {},
   "outputs": [],
   "source": [
    "import nltk\n",
    "import spacy"
   ]
  },
  {
   "cell_type": "code",
   "execution_count": 56,
   "id": "0bfb753c",
   "metadata": {},
   "outputs": [
    {
     "data": {
      "text/plain": [
       "'2.0.3'"
      ]
     },
     "execution_count": 56,
     "metadata": {},
     "output_type": "execute_result"
    }
   ],
   "source": [
    "pandas.__version__"
   ]
  },
  {
   "cell_type": "code",
   "execution_count": 57,
   "id": "4522f89f",
   "metadata": {},
   "outputs": [
    {
     "data": {
      "text/plain": [
       "'1.24.3'"
      ]
     },
     "execution_count": 57,
     "metadata": {},
     "output_type": "execute_result"
    }
   ],
   "source": [
    "numpy.__version__"
   ]
  },
  {
   "cell_type": "code",
   "execution_count": 58,
   "id": "463b51d0",
   "metadata": {},
   "outputs": [
    {
     "data": {
      "text/plain": [
       "'3.7.2'"
      ]
     },
     "execution_count": 58,
     "metadata": {},
     "output_type": "execute_result"
    }
   ],
   "source": [
    "matplotlib.__version__"
   ]
  },
  {
   "cell_type": "code",
   "execution_count": 59,
   "id": "af60c8ea",
   "metadata": {},
   "outputs": [
    {
     "data": {
      "text/plain": [
       "'0.12.2'"
      ]
     },
     "execution_count": 59,
     "metadata": {},
     "output_type": "execute_result"
    }
   ],
   "source": [
    "seaborn.__version__"
   ]
  },
  {
   "cell_type": "code",
   "execution_count": 63,
   "id": "0edbe757",
   "metadata": {},
   "outputs": [
    {
     "data": {
      "text/plain": [
       "'0.14.0'"
      ]
     },
     "execution_count": 63,
     "metadata": {},
     "output_type": "execute_result"
    }
   ],
   "source": [
    "statsmodels.__version__"
   ]
  },
  {
   "cell_type": "code",
   "execution_count": 64,
   "id": "b80edbc5",
   "metadata": {},
   "outputs": [
    {
     "data": {
      "text/plain": [
       "'1.4.2'"
      ]
     },
     "execution_count": 64,
     "metadata": {},
     "output_type": "execute_result"
    }
   ],
   "source": [
    "sklearn.__version__"
   ]
  },
  {
   "cell_type": "code",
   "execution_count": 66,
   "id": "a9d7223f",
   "metadata": {},
   "outputs": [
    {
     "data": {
      "text/plain": [
       "'2.14.0'"
      ]
     },
     "execution_count": 66,
     "metadata": {},
     "output_type": "execute_result"
    }
   ],
   "source": [
    "tensorflow.__version__"
   ]
  },
  {
   "cell_type": "code",
   "execution_count": 67,
   "id": "a754b1c8",
   "metadata": {},
   "outputs": [
    {
     "data": {
      "text/plain": [
       "'3.2.1'"
      ]
     },
     "execution_count": 67,
     "metadata": {},
     "output_type": "execute_result"
    }
   ],
   "source": [
    "keras.__version__"
   ]
  },
  {
   "cell_type": "code",
   "execution_count": 45,
   "id": "a5d879e4",
   "metadata": {},
   "outputs": [
    {
     "data": {
      "text/plain": [
       "'3.8.1'"
      ]
     },
     "execution_count": 45,
     "metadata": {},
     "output_type": "execute_result"
    }
   ],
   "source": [
    "nltk.__version__"
   ]
  },
  {
   "cell_type": "code",
   "execution_count": 46,
   "id": "b24ee4b2",
   "metadata": {},
   "outputs": [
    {
     "data": {
      "text/plain": [
       "'3.7.2'"
      ]
     },
     "execution_count": 46,
     "metadata": {},
     "output_type": "execute_result"
    }
   ],
   "source": [
    "spacy.__version__"
   ]
  },
  {
   "cell_type": "code",
   "execution_count": null,
   "id": "c4e4f44f",
   "metadata": {},
   "outputs": [],
   "source": []
  }
 ],
 "metadata": {
  "kernelspec": {
   "display_name": "Python 3 (ipykernel)",
   "language": "python",
   "name": "python3"
  },
  "language_info": {
   "codemirror_mode": {
    "name": "ipython",
    "version": 3
   },
   "file_extension": ".py",
   "mimetype": "text/x-python",
   "name": "python",
   "nbconvert_exporter": "python",
   "pygments_lexer": "ipython3",
   "version": "3.11.5"
  },
  "widgets": {
   "application/vnd.jupyter.widget-state+json": {
    "state": {},
    "version_major": 2,
    "version_minor": 0
   }
  }
 },
 "nbformat": 4,
 "nbformat_minor": 5
}
